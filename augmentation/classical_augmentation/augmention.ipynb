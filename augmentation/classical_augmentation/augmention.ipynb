{
 "cells": [
  {
   "cell_type": "code",
   "execution_count": null,
   "metadata": {},
   "outputs": [],
   "source": [
    "import os\n",
    "from tensorflow.keras.preprocessing.image import ImageDataGenerator, array_to_img, img_to_array, load_img\n",
    "import cv2"
   ]
  },
  {
   "cell_type": "code",
   "execution_count": null,
   "metadata": {},
   "outputs": [],
   "source": [
    "rotation_range = float(input(\"Rotation Range: \"))\n",
    "width_shift_range = float(input(\"Width Shift Range: \"))\n",
    "height_shift_range = float(input(\"Height Shift Range: \"))\n",
    "shear_range = float(input(\"Shear Range: \"))\n",
    "zoom_range = float(input(\"Zoom Range: \"))\n",
    "\n",
    "datagen = ImageDataGenerator(\n",
    "        rescale=1./ 255,\n",
    "        rotation_range = rotation_range,\n",
    "        width_shift_range = width_shift_range,\n",
    "        height_shift_range = height_shift_range,\n",
    "        shear_range=0.2,\n",
    "        zoom_range=0.2,\n",
    "        horizontal_flip=True,\n",
    "        fill_mode='nearest')"
   ]
  },
  {
   "cell_type": "markdown",
   "metadata": {},
   "source": [
    "# Visualize Augmentation"
   ]
  },
  {
   "cell_type": "code",
   "execution_count": null,
   "metadata": {},
   "outputs": [],
   "source": [
    "vaug = str(input(\"Visualize Augmentation? \"))"
   ]
  },
  {
   "cell_type": "code",
   "execution_count": null,
   "metadata": {},
   "outputs": [],
   "source": [
    "if vaug.upper() == 'Y':\n",
    "    img = cv2.imread('Leukocyte1.jpg')  # this is a Numpy array with shape (m, n, c)\n",
    "    x = x.reshape((1,) + x.shape)  # this is a Numpy array with shape (1, m, n, c)\n",
    "\n",
    "    # the .flow() command below generates batches of randomly transformed images\n",
    "    # and saves the results to the `preview/` directory\n",
    "    \n",
    "    i = 0\n",
    "    for batch in datagen.flow(x, batch_size = 1, \n",
    "                      save_to_dir ='/media/rajarshi/Datasets/Health/Leukomia/splitted_aug/leukocyte/augmented',  \n",
    "                      save_prefix ='aug', save_format ='jpg'):\n",
    "        i += 1\n",
    "        if i >= 20:\n",
    "            break  # otherwise the generator would loop indefinitely\n",
    "else:\n",
    "    pass"
   ]
  },
  {
   "cell_type": "code",
   "execution_count": null,
   "metadata": {},
   "outputs": [],
   "source": [
    "aug_dir = str(input(\"Folder to be augmented: \"))"
   ]
  },
  {
   "cell_type": "code",
   "execution_count": null,
   "metadata": {},
   "outputs": [],
   "source": [
    "for filename in os.listdir(aug_dir):\n",
    "    file = os.path.join(aug_dir, filename)\n",
    "    img = cv2.imread(file)  \n",
    "    x = x.reshape((1,) + x.shape)\n",
    "\n",
    "    i = 0\n",
    "    for batch in datagen.flow(x, batch_size = 1, \n",
    "                      save_to_dir = aug_dir,  \n",
    "                      save_prefix ='aug', save_format ='jpg'):\n",
    "        i += 1\n",
    "        if i >= 5:\n",
    "            break "
   ]
  },
  {
   "cell_type": "code",
   "execution_count": null,
   "metadata": {},
   "outputs": [],
   "source": []
  }
 ],
 "metadata": {
  "kernelspec": {
   "display_name": "Python 3",
   "language": "python",
   "name": "python3"
  },
  "language_info": {
   "codemirror_mode": {
    "name": "ipython",
    "version": 3
   },
   "file_extension": ".py",
   "mimetype": "text/x-python",
   "name": "python",
   "nbconvert_exporter": "python",
   "pygments_lexer": "ipython3",
   "version": "3.8.5"
  }
 },
 "nbformat": 4,
 "nbformat_minor": 4
}
