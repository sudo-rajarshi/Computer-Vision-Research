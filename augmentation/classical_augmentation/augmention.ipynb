{
 "cells": [
  {
   "cell_type": "code",
   "execution_count": 1,
   "metadata": {},
   "outputs": [
    {
     "name": "stderr",
     "output_type": "stream",
     "text": [
      "2022-01-13 15:54:40.205640: I tensorflow/stream_executor/platform/default/dso_loader.cc:49] Successfully opened dynamic library libcudart.so.11.0\n"
     ]
    }
   ],
   "source": [
    "import os\n",
    "from tensorflow.keras.preprocessing.image import ImageDataGenerator, array_to_img, img_to_array, load_img\n",
    "import cv2"
   ]
  },
  {
   "cell_type": "code",
   "execution_count": 2,
   "metadata": {},
   "outputs": [],
   "source": [
    "rotation_range = 20\n",
    "width_shift_range = 0 # float\n",
    "height_shift_range = 0 # float\n",
    "shear_range = 0 # float\n",
    "zoom_range = 0 # float\n",
    "\n",
    "datagen = ImageDataGenerator(\n",
    "        rescale=1./ 255,\n",
    "        rotation_range = rotation_range,\n",
    "        width_shift_range = width_shift_range,\n",
    "        height_shift_range = height_shift_range,\n",
    "        shear_range=shear_range,\n",
    "        zoom_range=zoom_range,\n",
    "        horizontal_flip=True,\n",
    "        fill_mode='nearest')"
   ]
  },
  {
   "cell_type": "markdown",
   "metadata": {},
   "source": [
    "# Visualize Augmentation"
   ]
  },
  {
   "cell_type": "code",
   "execution_count": 3,
   "metadata": {},
   "outputs": [
    {
     "name": "stdout",
     "output_type": "stream",
     "text": [
      "Visualize Augmentation? y\n"
     ]
    }
   ],
   "source": [
    "vaug = str(input(\"Visualize Augmentation? \"))"
   ]
  },
  {
   "cell_type": "code",
   "execution_count": 4,
   "metadata": {},
   "outputs": [],
   "source": [
    "if vaug.upper() == 'Y':\n",
    "    img = cv2.imread('/mnt/87433d53-66f3-438e-a7f4-fc990fe61283/PROJECTS/airmodelcrafts/Syrma-Quality-Inspection/Pic_2021_12_09_143434_2.png')  # this is a Numpy array with shape (m, n, c)\n",
    "    x = img.reshape((1,) + img.shape)  # this is a Numpy array with shape (1, m, n, c)\n",
    "\n",
    "    # the .flow() command below generates batches of randomly transformed images\n",
    "    # and saves the results to the `preview/` directory\n",
    "    \n",
    "    i = 0\n",
    "    for batch in datagen.flow(x, batch_size = 1, \n",
    "                      save_to_dir ='/mnt/87433d53-66f3-438e-a7f4-fc990fe61283/PROJECTS/airmodelcrafts/Syrma-Quality-Inspection/augmented',  \n",
    "                      save_prefix ='aug', save_format ='jpg'):\n",
    "        i += 1\n",
    "        if i >= 5:\n",
    "            break  # otherwise the generator would loop indefinitely\n",
    "else:\n",
    "    pass"
   ]
  },
  {
   "cell_type": "code",
   "execution_count": 5,
   "metadata": {},
   "outputs": [
    {
     "name": "stdout",
     "output_type": "stream",
     "text": [
      "Folder to be augmented: /mnt/87433d53-66f3-438e-a7f4-fc990fe61283/PROJECTS/airmodelcrafts/Syrma-Quality-Inspection/augmented\n"
     ]
    }
   ],
   "source": [
    "aug_dir = str(input(\"Folder to be augmented: \"))"
   ]
  },
  {
   "cell_type": "code",
   "execution_count": 6,
   "metadata": {},
   "outputs": [],
   "source": [
    "for filename in os.listdir(aug_dir):\n",
    "    file = os.path.join(aug_dir, filename)\n",
    "    img = cv2.imread(file)  \n",
    "    x = img.reshape((1,) + img.shape)\n",
    "\n",
    "    i = 0\n",
    "    for batch in datagen.flow(x, batch_size = 1, \n",
    "                      save_to_dir = aug_dir,  \n",
    "                      save_prefix ='aug', save_format ='jpg'):\n",
    "        i += 1\n",
    "        if i >= 5:\n",
    "            break "
   ]
  },
  {
   "cell_type": "code",
   "execution_count": null,
   "metadata": {},
   "outputs": [],
   "source": []
  }
 ],
 "metadata": {
  "kernelspec": {
   "display_name": "Python 3 (ipykernel)",
   "language": "python",
   "name": "python3"
  },
  "language_info": {
   "codemirror_mode": {
    "name": "ipython",
    "version": 3
   },
   "file_extension": ".py",
   "mimetype": "text/x-python",
   "name": "python",
   "nbconvert_exporter": "python",
   "pygments_lexer": "ipython3",
   "version": "3.8.5"
  }
 },
 "nbformat": 4,
 "nbformat_minor": 4
}
