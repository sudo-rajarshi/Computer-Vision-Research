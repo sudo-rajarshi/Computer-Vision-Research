{
 "cells": [
  {
   "cell_type": "code",
   "execution_count": null,
   "id": "cc0aeb09",
   "metadata": {},
   "outputs": [],
   "source": [
    "def unet(dim, output_neurons, output_activation):\n",
    "    \n",
    "    def conv_block(input, n_filters, d_strides=1):\n",
    "        x = DepthwiseConv2D(kernel_size = (3,3), strides = d_strides, padding = 'same')(input)\n",
    "        x = BatchNormalization()(x)\n",
    "        x = LeakyReLU()(x)\n",
    "        x = Conv2D(filters = n_filters, kernel_size = (1,1))(x)\n",
    "        x = BatchNormalization()(x)\n",
    "        x = LeakyReLU()(x)\n",
    "\n",
    "        return x\n",
    "\n",
    "    def encoder_block(input, n_filters):\n",
    "        x = conv_block(input, n_filters)\n",
    "        x = conv_block(x, n_filters)\n",
    "        p = MaxPooling2D(pool_size = (2,2), strides = 2, padding = 'same')(x)\n",
    "        return x,p\n",
    "\n",
    "    def decoder_block(input, concat_layer, n_filters):\n",
    "        x = Conv2DTranspose(n_filters, kernel_size = (2,2), strides=2, padding = 'same')(input)\n",
    "        x = Concatenate()([x, concat_layer])\n",
    "        x = conv_block(x, n_filters)\n",
    "        x = conv_block(x, n_filters)\n",
    "        return x\n",
    "\n",
    "    inputs = Input(shape = dim)\n",
    "    \n",
    "    k = 16\n",
    "    \n",
    "    s1, p1 = encoder_block(inputs, k)\n",
    "    s2, p2 = encoder_block(p1, 2*k)\n",
    "    s3, p3 = encoder_block(p2, 4*k)\n",
    "    s4, p4 = encoder_block(p3, 8*k)\n",
    "\n",
    "    b1 = conv_block(p4, 16*k)\n",
    "\n",
    "    d1 = decoder_block(b1, s4, 8*k)\n",
    "    d2 = decoder_block(d1, s3, 4*k)\n",
    "    d3 = decoder_block(d2, s2, 2*k)\n",
    "    d4 = decoder_block(d3, s1, k)\n",
    "\n",
    "    outputs = Conv2D(1, kernel_size = (1,1), padding='same', activation = output_activation)(d4)\n",
    "\n",
    "    model = Model(inputs = inputs, outputs = outputs, name='Modified-U-Net')\n",
    "\n",
    "    return model"
   ]
  },
  {
   "cell_type": "code",
   "execution_count": 1,
   "id": "6a2e5a97",
   "metadata": {},
   "outputs": [],
   "source": [
    "import cv2\n",
    "import numpy as np"
   ]
  },
  {
   "cell_type": "code",
   "execution_count": 7,
   "id": "6d0ae0f1",
   "metadata": {},
   "outputs": [],
   "source": [
    "img_path = '/home/rajarshi/tensorflow_datasets/downloads/extracted/TAR_GZ.robots.ox.ac.uk_vgg_pets_annotationsUkJftt5cQklCt2JrQoZW_L15jblwqTffYXUMDx01jpE.tar.gz/annotations/trimaps/Abyssinian_1.png'\n",
    "img = cv2.imread(img_path,0)"
   ]
  },
  {
   "cell_type": "code",
   "execution_count": 23,
   "id": "48a3f4ed",
   "metadata": {},
   "outputs": [
    {
     "name": "stdout",
     "output_type": "stream",
     "text": [
      "1\n",
      "2\n",
      "3\n"
     ]
    }
   ],
   "source": [
    "for i in range(np.max(img)+1):\n",
    "    if np.where(img == i)[0].size > 0:\n",
    "        print(i)"
   ]
  },
  {
   "cell_type": "code",
   "execution_count": 30,
   "id": "9cf19e35",
   "metadata": {},
   "outputs": [
    {
     "data": {
      "text/plain": [
       "array([ 66,  66,  66, ..., 342, 342, 342])"
      ]
     },
     "execution_count": 30,
     "metadata": {},
     "output_type": "execute_result"
    }
   ],
   "source": [
    "np.where(img == 3)[0]"
   ]
  },
  {
   "cell_type": "code",
   "execution_count": 8,
   "id": "130b517d",
   "metadata": {},
   "outputs": [
    {
     "data": {
      "text/plain": [
       "<matplotlib.image.AxesImage at 0x7fca7a49cbb0>"
      ]
     },
     "execution_count": 8,
     "metadata": {},
     "output_type": "execute_result"
    },
    {
     "data": {
      "image/png": "[encoded data removed]",
      "text/plain": [
       "<Figure size 432x288 with 1 Axes>"
      ]
     },
     "metadata": {
      "needs_background": "light"
     },
     "output_type": "display_data"
    }
   ],
   "source": [
    "import matplotlib.pyplot as plt\n",
    "plt.imshow(img)"
   ]
  },
  {
   "cell_type": "code",
   "execution_count": null,
   "id": "69612ae4",
   "metadata": {},
   "outputs": [],
   "source": []
  }
 ],
 "metadata": {
  "kernelspec": {
   "display_name": "Python 3 (ipykernel)",
   "language": "python",
   "name": "python3"
  },
  "language_info": {
   "codemirror_mode": {
    "name": "ipython",
    "version": 3
   },
   "file_extension": ".py",
   "mimetype": "text/x-python",
   "name": "python",
   "nbconvert_exporter": "python",
   "pygments_lexer": "ipython3",
   "version": "3.8.5"
  }
 },
 "nbformat": 4,
 "nbformat_minor": 5
}
