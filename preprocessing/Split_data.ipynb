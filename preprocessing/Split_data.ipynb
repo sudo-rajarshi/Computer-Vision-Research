{
 "cells": [
  {
   "cell_type": "code",
   "execution_count": null,
   "metadata": {},
   "outputs": [],
   "source": [
    "import os\n",
    "import operator\n",
    "import cv2\n",
    "import shutil\n",
    "import random\n",
    "import os\n",
    "from shutil import copyfile"
   ]
  },
  {
   "cell_type": "code",
   "execution_count": null,
   "metadata": {},
   "outputs": [],
   "source": [
    "source_address = str(input(\"Enter the address of the source folder: \"))"
   ]
  },
  {
   "cell_type": "code",
   "execution_count": null,
   "metadata": {},
   "outputs": [],
   "source": [
    "source_folder_dir = os.path.join(source_address, 'train')"
   ]
  },
  {
   "cell_type": "code",
   "execution_count": null,
   "metadata": {},
   "outputs": [],
   "source": [
    "source_folder_dir_class = []\n",
    "\n",
    "for class_name in os.listdir(source_folder_dir):\n",
    "    source_folder_dir_class.append(os.path.join(source_folder_dir, class_name))"
   ]
  },
  {
   "cell_type": "code",
   "execution_count": null,
   "metadata": {},
   "outputs": [],
   "source": [
    "directory = os.path.join(root_dir, 'classify train')\n",
    "\n",
    "train_directory = os.path.join(directory, 'training')\n",
    "validation_directory = os.path.join(directory, 'validation')\n",
    "test_directory = os.path.join(directory, 'testing')\n",
    "\n",
    "if not os.path.exists(directory):\n",
    "    os.mkdir(directory)\n",
    "else:\n",
    "    shutil.rmtree(directory)\n",
    "    os.mkdir(directory)\n",
    "\n",
    "os.mkdir(train_directory)\n",
    "os.mkdir(validation_directory)\n",
    "os.mkdir(test_directory)"
   ]
  },
  {
   "cell_type": "code",
   "execution_count": null,
   "metadata": {},
   "outputs": [],
   "source": [
    "def split_data(SOURCE, TRAINING, VALIDATION, TESTING, VALIDATION_SPLIT_SIZE, TEST_SPLIT_SIZE):\n",
    "    \n",
    "    '''\n",
    "    SOURCE = path where the original data is stored and seperated into classes;\n",
    "    TRAINING = path where the data for training is to be stored;\n",
    "    VALIDATION = path where the data for validation is to be stored;\n",
    "    TESTING = path where the data for testing is to be stored;\n",
    "    VALIDATION_SPLIT_SIZE =  % of total data to be used for validation (in float)\n",
    "    TEST_SPLIT_SIZE =  % of total data to be used for blind testing (in float)\n",
    "    '''\n",
    "    \n",
    "    files = []\n",
    "    for filename in os.listdir(SOURCE):\n",
    "        file = os.path.join(SOURCE, filename)\n",
    "        if os.path.getsize(file) > 0:\n",
    "            files.append(filename)\n",
    "        else:\n",
    "            print(filename + \" is zero length, so ignoring!\")\n",
    "\n",
    "    validation_length = int(len(files) * VALIDATION_SPLIT_SIZE)\n",
    "    testing_length = int(len(files) * TEST_SPLIT_SIZE)\n",
    "    training_length = len(files) - (validation_length + testing_length)\n",
    "    \n",
    "    shuffled_set = random.sample(files, len(files))\n",
    "    \n",
    "    training_set = shuffled_set[0:training_length]\n",
    "    validation_set = shuffled_set[(training_length):(training_length+validation_length)]\n",
    "    testing_set = shuffled_set[(training_length+validation_length):(training_length+validation_length+testing_length)]\n",
    "\n",
    "    for filename in training_set:\n",
    "        this_file = os.path.join(SOURCE, filename)\n",
    "        destination = os.path.join(TRAINING ,filename)\n",
    "        shutil.copyfile(this_file, destination)\n",
    "        \n",
    "    for filename in validation_set:\n",
    "        this_file = os.path.join(SOURCE, filename)\n",
    "        destination = os.path.join(VALIDATION, filename)\n",
    "        shutil.copyfile(this_file, destination)\n",
    "\n",
    "    for filename in testing_set:\n",
    "        this_file = os.path.join(SOURCE, filename)\n",
    "        destination = os.path.join(TESTING, filename)\n",
    "        shutil.copyfile(this_file, destination)\n"
   ]
  },
  {
   "cell_type": "code",
   "execution_count": null,
   "metadata": {},
   "outputs": [],
   "source": [
    "source_data = sum([len(files) for r, d, files in os.walk(source_folder_dir)])\n",
    "print(\"Total no. of files: {}\".format(source_data))\n",
    "\n",
    "VALIDATION_SPLIT_SIZE = int(input(\"Using how much data(%) you want to validate? \"))\n",
    "VALIDATION_SPLIT_SIZE = VALIDATION_SPLIT_SIZE/100\n",
    "\n",
    "TEST_SPLIT_SIZE = int(input(\"Using how much data(%) you want to test? \"))\n",
    "TEST_SPLIT_SIZE = TEST_SPLIT_SIZE/100\n",
    "\n",
    "train_class = []\n",
    "validation_class = []\n",
    "test_class = []\n",
    "\n",
    "for class_name in os.listdir(source_folder_dir):\n",
    "    train_class.append(os.path.join(train_directory, class_name))\n",
    "    validation_class.append(os.path.join(validation_directory, class_name))\n",
    "    test_class.append(os.path.join(test_directory, class_name))\n",
    "    \n",
    "for source_dir, train_dir, val_dir, test_dir in zip(source_folder_dir_class,\n",
    "                                                    train_class, \n",
    "                                                    validation_class, \n",
    "                                                    test_class):\n",
    "    os.mkdir(train_dir)\n",
    "    os.mkdir(val_dir)\n",
    "    os.mkdir(test_dir)\n",
    "    \n",
    "    split_data(source_dir, train_dir, val_dir, test_dir, VALIDATION_SPLIT_SIZE, TEST_SPLIT_SIZE)\n",
    "\n",
    "    print(\"\\nSplitted the RAW data from \" + str(source_dir) + \" & storing it into 3 folders at:\\n\" + str(train_dir) + '\\n' + str(val_dir) + '\\n' + str(test_dir))"
   ]
  },
  {
   "cell_type": "code",
   "execution_count": null,
   "metadata": {},
   "outputs": [],
   "source": []
  }
 ],
 "metadata": {
  "kernelspec": {
   "display_name": "Python 3",
   "language": "python",
   "name": "python3"
  },
  "language_info": {
   "codemirror_mode": {
    "name": "ipython",
    "version": 3
   },
   "file_extension": ".py",
   "mimetype": "text/x-python",
   "name": "python",
   "nbconvert_exporter": "python",
   "pygments_lexer": "ipython3",
   "version": "3.8.5"
  }
 },
 "nbformat": 4,
 "nbformat_minor": 4
}
