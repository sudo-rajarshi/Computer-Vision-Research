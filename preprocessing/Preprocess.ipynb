{
 "cells": [
  {
   "cell_type": "code",
   "execution_count": null,
   "metadata": {},
   "outputs": [],
   "source": [
    "import os\n",
    "import matplotlib.pyplot as plt\n",
    "import cv2\n",
    "import numpy as np\n",
    "from tqdm import tqdm "
   ]
  },
  {
   "cell_type": "code",
   "execution_count": null,
   "metadata": {},
   "outputs": [],
   "source": [
    "root_dir = str(input(\"Path where 'classify train' directory belongs: \"))\n",
    "classify_train = os.path.join(root_dir, 'classify train')"
   ]
  },
  {
   "cell_type": "markdown",
   "metadata": {},
   "source": [
    "# Get Size"
   ]
  },
  {
   "cell_type": "code",
   "execution_count": null,
   "metadata": {},
   "outputs": [],
   "source": [
    "height_lis = []\n",
    "width_lis = []\n",
    "\n",
    "total = sum([len(files) for r, d, files in os.walk(classify_train)])\n",
    "\n",
    "with tqdm(total=total) as pbar:\n",
    "    for split_name in os.listdir(classify_train):\n",
    "        split_dir = os.path.join(classify_train, split_name)\n",
    "        for class_name in os.listdir(split_dir):\n",
    "            class_dir = os.path.join(split_dir, class_name)\n",
    "            for file_name in os.listdir(class_dir):\n",
    "                file_path = os.path.join(class_dir, file_name)\n",
    "                img = cv2.imread(file_path)\n",
    "                height_lis.append(img.shape[0])\n",
    "                width_lis.append(img.shape[1])\n",
    "                \n",
    "                pbar.set_description(\"Progress\")\n",
    "                pbar.update()"
   ]
  },
  {
   "cell_type": "code",
   "execution_count": null,
   "metadata": {},
   "outputs": [],
   "source": [
    "avg_height = int(np.mean(height_lis))\n",
    "avg_width = int(np.mean(width_lis))\n",
    "std_d_height = np.std(height_lis)\n",
    "std_d_width = np.std(width_lis)\n",
    "\n",
    "smallest_height = int(min(height_lis))\n",
    "smallest_width = int(min(width_lis))\n",
    "\n",
    "print(f'Average height: {avg_height} +-{std_d_height} & Average width: {avg_width} +-{std_d_width} respectively')\n",
    "print(f'Smallest height: {smallest_height} & Smallest width: {smallest_width}')"
   ]
  },
  {
   "cell_type": "markdown",
   "metadata": {},
   "source": [
    "# Visualize Preprocess ?"
   ]
  },
  {
   "cell_type": "code",
   "execution_count": null,
   "metadata": {},
   "outputs": [],
   "source": [
    "vp = str(input(\"Visualize Preprocessings? \"))\n",
    "\n",
    "if vp.upper() == 'Y':\n",
    "    img_path = str(input(\"Enter image path: \"))\n",
    "    img_org = cv2.imread(img_path)\n",
    "    \n",
    "    img = cv2.imread(img_path)\n",
    "    \n",
    "    gray = cv2.cvtColor(img, cv2.COLOR_BGR2GRAY)\n",
    "    \n",
    "    ret, thresh_gray = cv2.threshold(gray, 220, 255, cv2.THRESH_BINARY)\n",
    "    gray[thresh_gray == 255] = 0\n",
    "    \n",
    "    bbox = cv2.boundingRect(gray)\n",
    "    x, y, w, h = bbox\n",
    "    foreground = img[y:y+h, x:x+w]\n",
    "    \n",
    "    ret, thresh_foreground = cv2.threshold(foreground, 220, 255, cv2.THRESH_BINARY)\n",
    "    foreground[thresh_foreground == 255] = 0\n",
    "    \n",
    "    res = cv2.resize(foreground, (128, 128))\n",
    "    \n",
    "    print(res.shape)\n",
    "    \n",
    "    cv2.imshow('Original', img_org)\n",
    "    cv2.imshow('Processed', res)\n",
    "    cv2.waitKey(0) \n",
    "    cv2.destroyAllWindows() \n",
    "else:\n",
    "    pass"
   ]
  },
  {
   "cell_type": "code",
   "execution_count": null,
   "metadata": {},
   "outputs": [],
   "source": [
    "def preprocess(folder):\n",
    "    total = sum([len(files) for r, d, files in os.walk(folder)])\n",
    "    with tqdm(total=total) as pbar:\n",
    "        for folder_name_1 in os.listdir(folder):\n",
    "            folder_1 = os.path.join(folder, folder_name_1)\n",
    "            for folder_name_2 in os.listdir(folder_1):\n",
    "                folder_2 = os.path.join(folder_1, folder_name_2)\n",
    "                for classes_name in os.listdir(folder_2):\n",
    "                    file = os.path.join(folder_2, classes_name)\n",
    "                    img = cv2.imread(file)\n",
    "\n",
    "                    gray = cv2.cvtColor(img, cv2.COLOR_BGR2GRAY)\n",
    "\n",
    "                    ret, thresh_gray = cv2.threshold(gray, 220, 255, cv2.THRESH_BINARY)\n",
    "                    gray[thresh_gray == 255] = 0\n",
    "\n",
    "                    bbox = cv2.boundingRect(gray)\n",
    "                    x, y, w, h = bbox\n",
    "                    foreground = img[y:y+h, x:x+w]\n",
    "\n",
    "                    ret, thresh_foreground = cv2.threshold(foreground, 220, 255, cv2.THRESH_BINARY)\n",
    "                    foreground[thresh_foreground == 255] = 0\n",
    "\n",
    "                    res = cv2.resize(foreground, (128, 128))\n",
    "\n",
    "                    cv2.imwrite(file, res)\n",
    "                    \n",
    "                    pbar.set_description(\"Progress\")\n",
    "                    pbar.update()"
   ]
  },
  {
   "cell_type": "code",
   "execution_count": null,
   "metadata": {},
   "outputs": [],
   "source": [
    "def resize(folder):\n",
    "    total = sum([len(files) for r, d, files in os.walk(folder)])\n",
    "    with tqdm(total=total) as pbar:\n",
    "        for folder_name_1 in os.listdir(folder):\n",
    "            folder_1 = os.path.join(folder, folder_name_1)\n",
    "            for folder_name_2 in os.listdir(folder_1):\n",
    "                folder_2 = os.path.join(folder_1, folder_name_2)\n",
    "                for classes_name in os.listdir(folder_2):\n",
    "                    file = os.path.join(folder_2, classes_name)\n",
    "                    \n",
    "                    img = cv2.imread(file)\n",
    "                    res = cv2.resize(img, (128, 128))\n",
    "                    \n",
    "                    cv2.imwrite(file, res)\n",
    "                    \n",
    "                    pbar.set_description(\"Progress\")\n",
    "                    pbar.update()"
   ]
  },
  {
   "cell_type": "code",
   "execution_count": null,
   "metadata": {},
   "outputs": [],
   "source": [
    "wht_to_do = int(input(\"Press 1 for only resizing,\\nPress 2 for preprocessing\\n\"))\n",
    "\n",
    "if wht_to_do == 1:\n",
    "    resize(classify_train)\n",
    "elif wht_to_do == 2:\n",
    "    preprocess(classify_train)\n",
    "else:\n",
    "    print(\"Wrong input ! Try again !!\")"
   ]
  },
  {
   "cell_type": "code",
   "execution_count": null,
   "metadata": {},
   "outputs": [],
   "source": []
  }
 ],
 "metadata": {
  "kernelspec": {
   "display_name": "Python 3",
   "language": "python",
   "name": "python3"
  },
  "language_info": {
   "codemirror_mode": {
    "name": "ipython",
    "version": 3
   },
   "file_extension": ".py",
   "mimetype": "text/x-python",
   "name": "python",
   "nbconvert_exporter": "python",
   "pygments_lexer": "ipython3",
   "version": "3.8.10"
  }
 },
 "nbformat": 4,
 "nbformat_minor": 4
}
