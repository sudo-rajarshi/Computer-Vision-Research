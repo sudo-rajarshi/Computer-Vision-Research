{
 "cells": [
  {
   "cell_type": "code",
   "execution_count": 1,
   "metadata": {},
   "outputs": [],
   "source": [
    "import os\n",
    "import matplotlib.pyplot as plt\n",
    "import cv2\n",
    "from PIL import Image"
   ]
  },
  {
   "cell_type": "markdown",
   "metadata": {},
   "source": [
    "## Preprocess Visualization"
   ]
  },
  {
   "cell_type": "code",
   "execution_count": 2,
   "metadata": {},
   "outputs": [
    {
     "name": "stdout",
     "output_type": "stream",
     "text": [
      "Visualize Preprocessings? n\n"
     ]
    }
   ],
   "source": [
    "vp = str(input(\"Visualize Preprocessings? \"))\n",
    "\n",
    "if vp.upper() == 'Y':\n",
    "    leukocyte = '/mnt/d4f6e37f-b51e-4cce-9bf9-bf48e0de6271/Health/Leukomia/splitted_aug/leukocyte/gan/0/0000.png'        \n",
    "\n",
    "    leukocyte_img = cv2.imread(leukocyte)\n",
    "    \n",
    "    gray = cv2.cvtColor(leukocyte_img, cv2.COLOR_BGR2GRAY)\n",
    "    \n",
    "    ret, thresh_gray = cv2.threshold(gray, 220, 255, cv2.THRESH_BINARY)\n",
    "    gray[thresh_gray == 255] = 0\n",
    "    \n",
    "    bbox = cv2.boundingRect(gray)\n",
    "    x, y, w, h = bbox\n",
    "    foreground = leukocyte_img[y:y+h, x:x+w]\n",
    "    \n",
    "    ret, thresh_foreground = cv2.threshold(foreground, 220, 255, cv2.THRESH_BINARY)\n",
    "    foreground[thresh_foreground == 255] = 0\n",
    "    \n",
    "    res = cv2.resize(foreground, (64, 64))\n",
    "    \n",
    "    plt.imshow(res)\n",
    "    print(res.shape)\n",
    "else:\n",
    "    pass"
   ]
  },
  {
   "cell_type": "markdown",
   "metadata": {},
   "source": [
    "## Preprocess All"
   ]
  },
  {
   "cell_type": "code",
   "execution_count": 3,
   "metadata": {},
   "outputs": [
    {
     "name": "stdout",
     "output_type": "stream",
     "text": [
      "classify train dir: /mnt/d4f6e37f-b51e-4cce-9bf9-bf48e0de6271/Health/Leukomia/splitted_aug/leukocyte\n"
     ]
    }
   ],
   "source": [
    "processed = str(input(\"classify train dir: \"))\n",
    "processed = os.path.join(processed, 'classify train')"
   ]
  },
  {
   "cell_type": "code",
   "execution_count": 4,
   "metadata": {},
   "outputs": [
    {
     "name": "stdout",
     "output_type": "stream",
     "text": [
      "Required Size: 64\n",
      "Save using opencv ? n\n"
     ]
    },
    {
     "data": {
      "image/png": "[encoded data removed]",
      "text/plain": [
       "<Figure size 432x288 with 1 Axes>"
      ]
     },
     "metadata": {
      "needs_background": "light"
     },
     "output_type": "display_data"
    }
   ],
   "source": [
    "h = int(input(\"Required Size: \"))\n",
    "w = h\n",
    "save = str(input(\"Save using opencv ? \"))\n",
    "\n",
    "for folder_name in os.listdir(processed):\n",
    "    folder = os.path.join(processed,folder_name)\n",
    "    for classes_name in os.listdir(folder):\n",
    "        classes = os.path.join(folder, classes_name)\n",
    "        for file_name in os.listdir(classes):\n",
    "            file = os.path.join(classes, file_name)\n",
    "            img = cv2.imread(file)\n",
    "            if img.shape[0] < h or img.shape[1] < w:\n",
    "                os.remove(file)\n",
    "            else:\n",
    "                res = cv2.resize(img, (h, w))\n",
    "                gray = cv2.cvtColor(res, cv2.COLOR_BGR2GRAY)\n",
    "                if save.upper() == 'Y':\n",
    "                    cv2.imwrite(file, gray)\n",
    "                elif save.upper() == 'N':\n",
    "                    plt.axis('off')\n",
    "                    plt.tight_layout()\n",
    "                    plt.margins(0,0)\n",
    "                    plt.imshow(gray, cmap = 'gray')\n",
    "                    plt.savefig(file, bbox_inches = 'tight', pad_inches = 0)\n",
    "plt.show()"
   ]
  },
  {
   "cell_type": "code",
   "execution_count": 5,
   "metadata": {},
   "outputs": [
    {
     "name": "stdout",
     "output_type": "stream",
     "text": [
      "Do you want to resize? y\n",
      "Required Size: 64\n"
     ]
    }
   ],
   "source": [
    "resize = str(input(\"Do you want to resize? \"))\n",
    "h = int(input(\"Required Size: \"))\n",
    "w = h\n",
    "\n",
    "if resize.upper() == 'Y':\n",
    "    for folder_name in os.listdir(processed):\n",
    "        folder = os.path.join(processed,folder_name)\n",
    "        for classes_name in os.listdir(folder):\n",
    "            classes = os.path.join(folder, classes_name)\n",
    "            for file_name in os.listdir(classes):\n",
    "                file = os.path.join(classes, file_name)\n",
    "                img = cv2.imread(file,0)\n",
    "                res = cv2.resize(img, (h, w))\n",
    "                cv2.imwrite(file, res)\n",
    "else:\n",
    "    pass"
   ]
  },
  {
   "cell_type": "code",
   "execution_count": null,
   "metadata": {},
   "outputs": [],
   "source": []
  }
 ],
 "metadata": {
  "kernelspec": {
   "display_name": "Python 3",
   "language": "python",
   "name": "python3"
  },
  "language_info": {
   "codemirror_mode": {
    "name": "ipython",
    "version": 3
   },
   "file_extension": ".py",
   "mimetype": "text/x-python",
   "name": "python",
   "nbconvert_exporter": "python",
   "pygments_lexer": "ipython3",
   "version": "3.8.5"
  }
 },
 "nbformat": 4,
 "nbformat_minor": 4
}
