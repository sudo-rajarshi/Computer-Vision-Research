{
 "cells": [
  {
   "cell_type": "code",
   "execution_count": 1,
   "metadata": {},
   "outputs": [],
   "source": [
    "import os\n",
    "import cv2\n",
    "import random\n",
    "import shutil\n",
    "import time\n",
    "import matplotlib\n",
    "import glob\n",
    "import operator\n",
    "import psutil\n",
    "import numpy as np\n",
    "import math\n",
    "import matplotlib.pyplot as plt\n",
    "import tensorflow as tf\n",
    "from tensorflow import keras\n",
    "from tensorflow.keras.preprocessing.image import ImageDataGenerator\n",
    "from tensorflow.keras.preprocessing import image\n",
    "from tensorflow.keras.models import Sequential, Model, load_model\n",
    "from tensorflow.keras.layers import Dense, Activation, Dropout, GlobalAveragePooling2D, GlobalMaxPooling2D, BatchNormalization, Conv2D, MaxPooling2D, Flatten, LeakyReLU\n",
    "from shutil import copyfile\n",
    "import pandas as pd\n",
    "import PIL\n",
    "from mlxtend.plotting import plot_confusion_matrix"
   ]
  },
  {
   "cell_type": "code",
   "execution_count": 2,
   "metadata": {},
   "outputs": [
    {
     "data": {
      "text/plain": [
       "[PhysicalDevice(name='/physical_device:CPU:0', device_type='CPU'),\n",
       " PhysicalDevice(name='/physical_device:GPU:0', device_type='GPU')]"
      ]
     },
     "execution_count": 2,
     "metadata": {},
     "output_type": "execute_result"
    }
   ],
   "source": [
    "tf.config.experimental.list_physical_devices()"
   ]
  },
  {
   "cell_type": "code",
   "execution_count": 3,
   "metadata": {},
   "outputs": [],
   "source": [
    "physical_devices = tf.config.experimental.list_physical_devices('GPU')\n",
    "for i in physical_devices:\n",
    "    tf.config.experimental.set_memory_growth(i, True)"
   ]
  },
  {
   "cell_type": "code",
   "execution_count": 4,
   "metadata": {},
   "outputs": [
    {
     "name": "stdout",
     "output_type": "stream",
     "text": [
      "Classify Train Dir: /mnt/335fff25-d210-4fe2-8249-4ba8b4a17ce4/DATASETS/Health/cov-cxr/2-class/DATASET\n",
      "/mnt/335fff25-d210-4fe2-8249-4ba8b4a17ce4/DATASETS/Health/cov-cxr/2-class/DATASET/classify train/training\n",
      "/mnt/335fff25-d210-4fe2-8249-4ba8b4a17ce4/DATASETS/Health/cov-cxr/2-class/DATASET/classify train/testing\n",
      "/mnt/335fff25-d210-4fe2-8249-4ba8b4a17ce4/DATASETS/Health/cov-cxr/2-class/DATASET/classify train/validation\n"
     ]
    }
   ],
   "source": [
    "classify_train_dir = str(input(\"Classify Train Dir: \"))\n",
    "classify_train = os.path.join(classify_train_dir, 'classify train')\n",
    "classify_train_lis = []\n",
    "for file in os.listdir(classify_train):\n",
    "    print(os.path.join(classify_train, file))\n",
    "    classify_train_lis.append(os.path.join(classify_train, file))"
   ]
  },
  {
   "cell_type": "code",
   "execution_count": 5,
   "metadata": {},
   "outputs": [],
   "source": [
    "classify_train_lis.sort()"
   ]
  },
  {
   "cell_type": "code",
   "execution_count": 6,
   "metadata": {},
   "outputs": [
    {
     "data": {
      "text/plain": [
       "['/mnt/335fff25-d210-4fe2-8249-4ba8b4a17ce4/DATASETS/Health/cov-cxr/2-class/DATASET/classify train/testing',\n",
       " '/mnt/335fff25-d210-4fe2-8249-4ba8b4a17ce4/DATASETS/Health/cov-cxr/2-class/DATASET/classify train/training',\n",
       " '/mnt/335fff25-d210-4fe2-8249-4ba8b4a17ce4/DATASETS/Health/cov-cxr/2-class/DATASET/classify train/validation']"
      ]
     },
     "execution_count": 6,
     "metadata": {},
     "output_type": "execute_result"
    }
   ],
   "source": [
    "classify_train_lis"
   ]
  },
  {
   "cell_type": "code",
   "execution_count": 7,
   "metadata": {},
   "outputs": [],
   "source": [
    "TESTING_DIR = classify_train_lis[0]\n",
    "TRAINING_DIR = classify_train_lis[1]\n",
    "VALIDATION_DIR = classify_train_lis[2]"
   ]
  },
  {
   "cell_type": "code",
   "execution_count": 8,
   "metadata": {},
   "outputs": [
    {
     "data": {
      "text/plain": [
       "('/mnt/335fff25-d210-4fe2-8249-4ba8b4a17ce4/DATASETS/Health/cov-cxr/2-class/DATASET/classify train/training',\n",
       " '/mnt/335fff25-d210-4fe2-8249-4ba8b4a17ce4/DATASETS/Health/cov-cxr/2-class/DATASET/classify train/validation',\n",
       " '/mnt/335fff25-d210-4fe2-8249-4ba8b4a17ce4/DATASETS/Health/cov-cxr/2-class/DATASET/classify train/testing')"
      ]
     },
     "execution_count": 8,
     "metadata": {},
     "output_type": "execute_result"
    }
   ],
   "source": [
    "TRAINING_DIR, VALIDATION_DIR, TESTING_DIR"
   ]
  },
  {
   "cell_type": "code",
   "execution_count": 9,
   "metadata": {},
   "outputs": [
    {
     "name": "stdout",
     "output_type": "stream",
     "text": [
      "Augmenting data will make the model robust but it'll take more time to train. \n",
      "Do you want to augment the data?(Y/N) n\n"
     ]
    }
   ],
   "source": [
    "augmentation = []\n",
    "augment = input(str(\"Augmenting data will make the model robust but it'll take more time to train. \\nDo you want to augment the data?(Y/N) \"))\n",
    "\n",
    "if augment.upper() == 'Y':\n",
    "    datagen = ImageDataGenerator(\n",
    "        rescale=1. / 255,\n",
    "#         rotation_range=20,\n",
    "        width_shift_range=0.1,\n",
    "        height_shift_range=0.1,\n",
    "#         shear_range=0.2,\n",
    "        zoom_range=0.2,\n",
    "        horizontal_flip=True,\n",
    "        fill_mode='nearest')\n",
    "    augmentation.append('Data is Augmented')\n",
    "\n",
    "elif augment.upper() == 'N':\n",
    "    datagen = ImageDataGenerator(\n",
    "        rescale=1/ 255)\n",
    "    augmentation.append('Data is not Augmented')\n",
    "\n"
   ]
  },
  {
   "cell_type": "code",
   "execution_count": 10,
   "metadata": {},
   "outputs": [
    {
     "name": "stdout",
     "output_type": "stream",
     "text": [
      "Enter the initial learning rate: 0.0001\n",
      "Enter the maximum number of epochs: 100\n",
      "Enter batch size: 8\n"
     ]
    }
   ],
   "source": [
    "learning_rate = float(input(\"Enter the initial learning rate: \"))\n",
    "epoch = int(input(\"Enter the maximum number of epochs: \"))\n",
    "batch_size = int(input(\"Enter batch size: \"))"
   ]
  },
  {
   "cell_type": "code",
   "execution_count": 11,
   "metadata": {},
   "outputs": [
    {
     "name": "stdout",
     "output_type": "stream",
     "text": [
      "Enter name of sub-folder: 128x128\n",
      "Folder already exists ! Do you want to replace it ?(Y/N) y\n",
      "Enter name of the characteristics folder: 1\n"
     ]
    }
   ],
   "source": [
    "char_subfolder_name = str(input(\"Enter name of sub-folder: \"))\n",
    "char_subfolder = os.path.join(classify_train_dir, char_subfolder_name)\n",
    "\n",
    "if not os.path.exists(char_subfolder):\n",
    "    os.mkdir(char_subfolder)\n",
    "else:\n",
    "    replace = str(input(\"Folder already exists ! Do you want to replace it ?(Y/N) \"))\n",
    "    if replace.upper() == 'Y':      \n",
    "        shutil.rmtree(char_subfolder)\n",
    "        os.mkdir(char_subfolder)\n",
    "    else:\n",
    "        pass\n",
    "\n",
    "char_name = str(input(\"Enter name of the characteristics folder: \"))\n",
    "\n",
    "char = os.path.join(classify_train_dir, char_subfolder, char_name)\n",
    "\n",
    "if not os.path.exists(char):\n",
    "    os.mkdir(char)\n",
    "else:\n",
    "    replace = str(input(\"Folder already exists ! Do you want to replace it ?(Y/N) \"))\n",
    "    if replace.upper() == 'Y':      \n",
    "        shutil.rmtree(char)\n",
    "        os.mkdir(char)\n",
    "    elif replace.upper() == 'N':\n",
    "        char_name = str(input(\"Enter name of the characteristics folder: \"))\n",
    "        char = os.path.join(classify_train_dir, char_subfolder, char_name)\n",
    "        os.mkdir(char)"
   ]
  },
  {
   "cell_type": "code",
   "execution_count": 12,
   "metadata": {},
   "outputs": [],
   "source": [
    "def lr_schedule(epoch):\n",
    "    return learning_rate * (0.1 ** int(epoch / 10))\n",
    "    \n",
    "best_model_address = os.path.join(char, 'best_model.h5')"
   ]
  },
  {
   "cell_type": "code",
   "execution_count": 13,
   "metadata": {},
   "outputs": [
    {
     "name": "stdout",
     "output_type": "stream",
     "text": [
      "Press 1 to monitor Validation Accuracy\n",
      "Press 2 to monitor Validation Loss\n",
      "Press 3 to monitor Training Accuracy\n",
      "Press 4 to monitor Training Loss\n",
      "4\n",
      "Enter number of epochs that will produce monitored quantity with no improvement after which training will be stopped: 20\n",
      "\n",
      "MONITORING TRAINING LOSS..........\n",
      "\n",
      "WARNING:tensorflow:`period` argument is deprecated. Please use `save_freq` to specify the frequency in number of batches seen.\n",
      "\n",
      "Training will stop if Validation Accuracy doesn't show any improvements for 20 epcohs\n",
      "\n"
     ]
    }
   ],
   "source": [
    "monitor = int(input(\"Press 1 to monitor Validation Accuracy\\nPress 2 to monitor Validation Loss\\nPress 3 to monitor Training Accuracy\\nPress 4 to monitor Training Loss\\n\"))\n",
    "patience = int(input('Enter number of epochs that will produce monitored quantity with no improvement after which training will be stopped: '))\n",
    "\n",
    "\n",
    "if monitor == 1:\n",
    "    metric = 'val_accuracy'\n",
    "    mode = 'max'\n",
    "    print(\"\\nMONITORING VALIDATION ACCURACY..........\\n\")\n",
    "\n",
    "elif monitor == 2:\n",
    "    metric = 'val_loss'\n",
    "    mode = 'min'\n",
    "    print(\"\\nMONITORING VALIDATION LOSS..........\\n\")\n",
    "\n",
    "elif monitor == 3:\n",
    "    metric = 'accuracy'\n",
    "    mode = 'max'\n",
    "    print(\"\\nMONITORING TRAINING ACCURACY..........\\n\")\n",
    "\n",
    "elif monitor == 4:\n",
    "    metric = 'loss'\n",
    "    mode = 'min'\n",
    "    print(\"\\nMONITORING TRAINING LOSS..........\\n\")\n",
    "\n",
    "callback = [keras.callbacks.LearningRateScheduler(lr_schedule, verbose = 1),\n",
    "            keras.callbacks.EarlyStopping(monitor = metric, min_delta = 0.001, patience = patience, verbose=1, mode = mode, restore_best_weights = True),\n",
    "            keras.callbacks.ModelCheckpoint(best_model_address, monitor = metric, verbose=1, save_best_only=True, save_weights_only=False, mode = mode , period=1)]\n",
    "\n",
    "print(\"\\nTraining will stop if Validation Accuracy doesn't show any improvements for \" + str(patience) + \" epcohs\\n\")"
   ]
  },
  {
   "cell_type": "code",
   "execution_count": 14,
   "metadata": {},
   "outputs": [],
   "source": [
    "def Custom_Model_1():\n",
    "    print(\"\\nTRAINING ON A COMPLEX CUSTOM MODEL:-\")\n",
    "\n",
    "    model = keras.models.Sequential()\n",
    "    for l in range(layer):\n",
    "        l += 1\n",
    "        m = (2**l)//2\n",
    "        for c in range(conv_layer):\n",
    "            model.add(Conv2D(conv*m, (conv_size, conv_size), padding = 'same', input_shape = dim, activation = activation))\n",
    "        model.add(MaxPooling2D(pool_size = (2, 2)))\n",
    "        model.add(Dropout(dropout))\n",
    "    model.add(Flatten())\n",
    "    model.add(Dense(dense, activation=activation))\n",
    "    model.add(Dropout(dropout))\n",
    "    model.add(Dense(output_layer, activation=output_activation))\n",
    "    return model"
   ]
  },
  {
   "cell_type": "code",
   "execution_count": 15,
   "metadata": {},
   "outputs": [],
   "source": [
    "def Custom_Model_2():\n",
    "    print(\"\\nTRAINING ON A COMPLEX CUSTOM MODEL:-\")\n",
    "\n",
    "    model = keras.models.Sequential()\n",
    "    for l in range(layer):\n",
    "        l += 1\n",
    "        m = (2**l)//2\n",
    "        for c in range(conv_layer):\n",
    "            model.add(Conv2D(conv*m, (conv_size, conv_size), padding = 'same', input_shape = dim, activation = activation))\n",
    "        model.add(BatchNormalization())\n",
    "        model.add(MaxPooling2D(pool_size = (2, 2)))\n",
    "    model.add(Flatten())\n",
    "    model.add(Dense(dense, activation=activation))\n",
    "    model.add(BatchNormalization())\n",
    "    model.add(Dense(output_layer, activation=output_activation))\n",
    "    return model"
   ]
  },
  {
   "cell_type": "code",
   "execution_count": 16,
   "metadata": {},
   "outputs": [],
   "source": [
    "def Custom_Model_3():\n",
    "    print(\"\\nTRAINING ON A COMPLEX CUSTOM MODEL:-\")\n",
    "\n",
    "    model = keras.models.Sequential()\n",
    "    for l in range(layer):\n",
    "        l += 1\n",
    "        m = (2**l)//2\n",
    "        for c in range(conv_layer):\n",
    "            model.add(Conv2D(conv*m, (conv_size, conv_size), padding = 'same', input_shape = dim))\n",
    "            model.add(LeakyReLU())\n",
    "        model.add(MaxPooling2D(pool_size = (2, 2)))\n",
    "        model.add(Dropout(dropout))\n",
    "    model.add(Flatten())\n",
    "    model.add(Dense(dense))\n",
    "    model.add(LeakyReLU())\n",
    "    model.add(Dropout(dropout))\n",
    "    model.add(Dense(output_layer, activation=output_activation))\n",
    "    return model"
   ]
  },
  {
   "cell_type": "code",
   "execution_count": 17,
   "metadata": {},
   "outputs": [],
   "source": [
    "def Custom_Model_4():\n",
    "    print(\"\\nTRAINING ON A COMPLEX CUSTOM MODEL:-\")\n",
    "\n",
    "    model = keras.models.Sequential()\n",
    "    for l in range(layer):\n",
    "        l += 1\n",
    "        m = (2**l)//2\n",
    "        for c in range(conv_layer):\n",
    "            model.add(Conv2D(conv*m, (conv_size, conv_size), padding = 'same', input_shape = dim))\n",
    "            model.add(LeakyReLU())\n",
    "        model.add(BatchNormalization())\n",
    "        model.add(MaxPooling2D(pool_size = (2, 2)))\n",
    "    model.add(Flatten())\n",
    "    model.add(Dense(dense))\n",
    "    model.add(LeakyReLU())\n",
    "    model.add(BatchNormalization())\n",
    "    model.add(Dense(output_layer, activation=output_activation))\n",
    "    return model"
   ]
  },
  {
   "cell_type": "code",
   "execution_count": 18,
   "metadata": {},
   "outputs": [
    {
     "name": "stdout",
     "output_type": "stream",
     "text": [
      "This is a 2-Class Classification\n"
     ]
    }
   ],
   "source": [
    "class_no = len(os.listdir(TRAINING_DIR))\n",
    "\n",
    "print(\"This is a \" + str(class_no) + \"-Class Classification\")\n",
    "\n",
    "output_activation = 'softmax'\n",
    "losses = 'categorical_crossentropy'\n",
    "class_mode = 'categorical'\n",
    "output_layer = class_no"
   ]
  },
  {
   "cell_type": "code",
   "execution_count": 19,
   "metadata": {},
   "outputs": [],
   "source": [
    "def optimizer_selection():\n",
    "    print(\"\\nSelect a optimizer which will reduce the loss of the model.\\n\")\n",
    "\n",
    "    optimizer_select = int(input(\"Press 1 to select Stochastic Gradient Descent\\nPress 2 to select RMSprop\\nPress 3 to select Adagrad\\nPress 4 to select Adadelta\\nPress 5 to select Adam\\nPress 6 to select Adamax\\nPress 7 to select Nadam\\n\"))\n",
    "\n",
    "    if optimizer_select == 1:\n",
    "        optimizer = keras.optimizers.SGD(lr = learning_rate, decay = 1e-6, momentum = 0.9, nesterov = True)\n",
    "\n",
    "    elif optimizer_select == 2:\n",
    "        optimizer = keras.optimizers.RMSprop(learning_rate, rho = 0.9)\n",
    "\n",
    "    elif optimizer_select == 3:\n",
    "        optimizer = keras.optimizers.Adagrad(learning_rate)\n",
    "\n",
    "    elif optimizer_select == 4:\n",
    "        optimizer = keras.optimizers.Adadelta(learning_rate, rho = 0.95)\n",
    "\n",
    "    elif optimizer_select == 5:\n",
    "        optimizer = keras.optimizers.Adam(learning_rate = learning_rate, beta_1 = 0.9, beta_2 = 0.999, amsgrad = False)\n",
    "\n",
    "    elif optimizer_select == 6:\n",
    "        optimizer = keras.optimizers.Adamax(learning_rate = learning_rate, beta_1 = 0.9, beta_2 = 0.999)\n",
    "\n",
    "    elif optimizer_select == 7:\n",
    "        optimizer = keras.optimizers.Nadam(learning_rate = learning_rate, beta_1 = 0.9, beta_2 = 0.999)\n",
    "   \n",
    "    return optimizer"
   ]
  },
  {
   "cell_type": "code",
   "execution_count": 20,
   "metadata": {},
   "outputs": [
    {
     "name": "stdout",
     "output_type": "stream",
     "text": [
      "Image Dimension(H or W): 128\n",
      "Press 1 for RGB \n",
      "Press 2 for Grayscale1\n"
     ]
    }
   ],
   "source": [
    "h = int(input(\"Image Dimension(H or W): \"))\n",
    "w = h\n",
    "color = int(input(\"Press 1 for RGB \\nPress 2 for Grayscale\"))\n",
    "if color == 1:\n",
    "    color_mode = 'rgb'\n",
    "    dim = [h,w,3]\n",
    "elif color == 2:\n",
    "    color_mode = 'grayscale'\n",
    "    dim = [h,w,1]"
   ]
  },
  {
   "cell_type": "code",
   "execution_count": 21,
   "metadata": {},
   "outputs": [
    {
     "name": "stdout",
     "output_type": "stream",
     "text": [
      "Found 2128 images belonging to 2 classes.\n",
      "Found 266 images belonging to 2 classes.\n",
      "Found 266 images belonging to 2 classes.\n"
     ]
    }
   ],
   "source": [
    "train_datagen = datagen\n",
    "train_generator = train_datagen.flow_from_directory(TRAINING_DIR,\n",
    "                                                    batch_size = batch_size,\n",
    "                                                    class_mode = class_mode,\n",
    "                                                    color_mode = color_mode,\n",
    "                                                    target_size = (h,w),\n",
    "                                                    shuffle=True)\n",
    "\n",
    "validation_datagen = ImageDataGenerator(rescale=1.0/255.)\n",
    "validation_generator = validation_datagen.flow_from_directory(VALIDATION_DIR,\n",
    "                                                              batch_size = batch_size,\n",
    "                                                              class_mode = class_mode,\n",
    "                                                              color_mode = color_mode,\n",
    "                                                              target_size = (h,w),\n",
    "                                                              shuffle=True)\n",
    "\n",
    "test_datagen = ImageDataGenerator(rescale=1.0/255.)\n",
    "test_generator = test_datagen.flow_from_directory(TESTING_DIR,\n",
    "                                                  batch_size = batch_size,\n",
    "                                                  class_mode = class_mode,\n",
    "                                                  color_mode = color_mode,\n",
    "                                                  target_size = (h,w),\n",
    "                                                  shuffle=True)"
   ]
  },
  {
   "cell_type": "code",
   "execution_count": 22,
   "metadata": {},
   "outputs": [
    {
     "name": "stdout",
     "output_type": "stream",
     "text": [
      "Enter the no. of neurons in dense layer: 128\n",
      "Enter the activation function: relu\n",
      "Enter the dropout percentage: 40\n",
      "\n",
      "Select a optimizer which will reduce the loss of the model.\n",
      "\n",
      "Press 1 to select Stochastic Gradient Descent\n",
      "Press 2 to select RMSprop\n",
      "Press 3 to select Adagrad\n",
      "Press 4 to select Adadelta\n",
      "Press 5 to select Adam\n",
      "Press 6 to select Adamax\n",
      "Press 7 to select Nadam\n",
      "5\n"
     ]
    }
   ],
   "source": [
    "dense = int(input(\"Enter the no. of neurons in dense layer: \"))\n",
    "activation = str(input(\"Enter the activation function: \"))\n",
    "dropout = float(input(\"Enter the dropout percentage: \"))\n",
    "dropout = dropout/100\n",
    "\n",
    "optimizer = optimizer_selection()"
   ]
  },
  {
   "cell_type": "code",
   "execution_count": 23,
   "metadata": {},
   "outputs": [
    {
     "name": "stdout",
     "output_type": "stream",
     "text": [
      "Enter number of layers you want to apply: 5\n",
      "Enter number of convolution layers you want to apply: 1\n",
      "Enter the no. of filters in the 1st convolution layer: 16\n",
      "Enter the size of filters: 3\n"
     ]
    }
   ],
   "source": [
    "layer = int(input(\"Enter number of layers you want to apply: \"))\n",
    "conv_layer = int(input(\"Enter number of convolution layers you want to apply: \"))\n",
    "conv = int(input(\"Enter the no. of filters in the 1st convolution layer: \"))\n",
    "conv_size = int(input(\"Enter the size of filters: \"))"
   ]
  },
  {
   "cell_type": "code",
   "execution_count": 24,
   "metadata": {},
   "outputs": [
    {
     "name": "stdout",
     "output_type": "stream",
     "text": [
      "\n",
      "TRAINING ON A COMPLEX CUSTOM MODEL:-\n",
      "Model: \"sequential\"\n",
      "_________________________________________________________________\n",
      "Layer (type)                 Output Shape              Param #   \n",
      "=================================================================\n",
      "conv2d (Conv2D)              (None, 128, 128, 16)      448       \n",
      "_________________________________________________________________\n",
      "leaky_re_lu (LeakyReLU)      (None, 128, 128, 16)      0         \n",
      "_________________________________________________________________\n",
      "max_pooling2d (MaxPooling2D) (None, 64, 64, 16)        0         \n",
      "_________________________________________________________________\n",
      "dropout (Dropout)            (None, 64, 64, 16)        0         \n",
      "_________________________________________________________________\n",
      "conv2d_1 (Conv2D)            (None, 64, 64, 32)        4640      \n",
      "_________________________________________________________________\n",
      "leaky_re_lu_1 (LeakyReLU)    (None, 64, 64, 32)        0         \n",
      "_________________________________________________________________\n",
      "max_pooling2d_1 (MaxPooling2 (None, 32, 32, 32)        0         \n",
      "_________________________________________________________________\n",
      "dropout_1 (Dropout)          (None, 32, 32, 32)        0         \n",
      "_________________________________________________________________\n",
      "conv2d_2 (Conv2D)            (None, 32, 32, 64)        18496     \n",
      "_________________________________________________________________\n",
      "leaky_re_lu_2 (LeakyReLU)    (None, 32, 32, 64)        0         \n",
      "_________________________________________________________________\n",
      "max_pooling2d_2 (MaxPooling2 (None, 16, 16, 64)        0         \n",
      "_________________________________________________________________\n",
      "dropout_2 (Dropout)          (None, 16, 16, 64)        0         \n",
      "_________________________________________________________________\n",
      "conv2d_3 (Conv2D)            (None, 16, 16, 128)       73856     \n",
      "_________________________________________________________________\n",
      "leaky_re_lu_3 (LeakyReLU)    (None, 16, 16, 128)       0         \n",
      "_________________________________________________________________\n",
      "max_pooling2d_3 (MaxPooling2 (None, 8, 8, 128)         0         \n",
      "_________________________________________________________________\n",
      "dropout_3 (Dropout)          (None, 8, 8, 128)         0         \n",
      "_________________________________________________________________\n",
      "conv2d_4 (Conv2D)            (None, 8, 8, 256)         295168    \n",
      "_________________________________________________________________\n",
      "leaky_re_lu_4 (LeakyReLU)    (None, 8, 8, 256)         0         \n",
      "_________________________________________________________________\n",
      "max_pooling2d_4 (MaxPooling2 (None, 4, 4, 256)         0         \n",
      "_________________________________________________________________\n",
      "dropout_4 (Dropout)          (None, 4, 4, 256)         0         \n",
      "_________________________________________________________________\n",
      "flatten (Flatten)            (None, 4096)              0         \n",
      "_________________________________________________________________\n",
      "dense (Dense)                (None, 128)               524416    \n",
      "_________________________________________________________________\n",
      "leaky_re_lu_5 (LeakyReLU)    (None, 128)               0         \n",
      "_________________________________________________________________\n",
      "dropout_5 (Dropout)          (None, 128)               0         \n",
      "_________________________________________________________________\n",
      "dense_1 (Dense)              (None, 2)                 258       \n",
      "=================================================================\n",
      "Total params: 917,282\n",
      "Trainable params: 917,282\n",
      "Non-trainable params: 0\n",
      "_________________________________________________________________\n"
     ]
    }
   ],
   "source": [
    "model = Custom_Model_3()\n",
    "model.compile(optimizer = optimizer, loss = losses, metrics = ['accuracy', \n",
    "                                                               tf.keras.metrics.Precision(), \n",
    "                                                               tf.keras.metrics.Recall(), \n",
    "                                                               tf.keras.metrics.TruePositives(), \n",
    "                                                               tf.keras.metrics.TrueNegatives(), \n",
    "                                                               tf.keras.metrics.FalsePositives(),\n",
    "                                                               tf.keras.metrics.FalseNegatives()])\n",
    "\n",
    "\n",
    "model.summary()"
   ]
  },
  {
   "cell_type": "code",
   "execution_count": 25,
   "metadata": {},
   "outputs": [
    {
     "name": "stdout",
     "output_type": "stream",
     "text": [
      "Epoch 1/100\n",
      "\n",
      "Epoch 00001: LearningRateScheduler reducing learning rate to 0.0001.\n",
      "266/266 [==============================] - 13s 13ms/step - loss: 0.6772 - accuracy: 0.5732 - precision: 0.5732 - recall: 0.5732 - true_positives: 654.3895 - true_negatives: 654.3895 - false_positives: 417.5805 - false_negatives: 417.5805 - val_loss: 0.5758 - val_accuracy: 0.7820 - val_precision: 0.7820 - val_recall: 0.7820 - val_true_positives: 208.0000 - val_true_negatives: 208.0000 - val_false_positives: 58.0000 - val_false_negatives: 58.0000\n",
      "\n",
      "Epoch 00001: loss improved from inf to 0.57812, saving model to /mnt/335fff25-d210-4fe2-8249-4ba8b4a17ce4/DATASETS/Health/cov-cxr/2-class/DATASET/128x128/1/best_model.h5\n",
      "Epoch 2/100\n",
      "\n",
      "Epoch 00002: LearningRateScheduler reducing learning rate to 0.0001.\n",
      "266/266 [==============================] - 3s 9ms/step - loss: 0.3186 - accuracy: 0.8780 - precision: 0.8780 - recall: 0.8780 - true_positives: 943.5993 - true_negatives: 943.5993 - false_positives: 128.3708 - false_negatives: 128.3708 - val_loss: 0.4581 - val_accuracy: 0.9323 - val_precision: 0.9323 - val_recall: 0.9323 - val_true_positives: 248.0000 - val_true_negatives: 248.0000 - val_false_positives: 18.0000 - val_false_negatives: 18.0000\n",
      "\n",
      "Epoch 00002: loss improved from 0.57812 to 0.30357, saving model to /mnt/335fff25-d210-4fe2-8249-4ba8b4a17ce4/DATASETS/Health/cov-cxr/2-class/DATASET/128x128/1/best_model.h5\n",
      "Epoch 3/100\n",
      "\n",
      "Epoch 00003: LearningRateScheduler reducing learning rate to 0.0001.\n",
      "266/266 [==============================] - 3s 11ms/step - loss: 0.2236 - accuracy: 0.9213 - precision: 0.9213 - recall: 0.9213 - true_positives: 989.5356 - true_negatives: 989.5356 - false_positives: 82.4345 - false_negatives: 82.4345 - val_loss: 0.3770 - val_accuracy: 0.8722 - val_precision: 0.8722 - val_recall: 0.8722 - val_true_positives: 232.0000 - val_true_negatives: 232.0000 - val_false_positives: 34.0000 - val_false_negatives: 34.0000\n",
      "\n",
      "Epoch 00003: loss improved from 0.30357 to 0.21240, saving model to /mnt/335fff25-d210-4fe2-8249-4ba8b4a17ce4/DATASETS/Health/cov-cxr/2-class/DATASET/128x128/1/best_model.h5\n",
      "Epoch 4/100\n",
      "\n",
      "Epoch 00004: LearningRateScheduler reducing learning rate to 0.0001.\n",
      "266/266 [==============================] - 3s 9ms/step - loss: 0.1806 - accuracy: 0.9411 - precision: 0.9411 - recall: 0.9411 - true_positives: 1014.2210 - true_negatives: 1014.2210 - false_positives: 57.7491 - false_negatives: 57.7491 - val_loss: 0.3141 - val_accuracy: 0.8872 - val_precision: 0.8872 - val_recall: 0.8872 - val_true_positives: 236.0000 - val_true_negatives: 236.0000 - val_false_positives: 30.0000 - val_false_negatives: 30.0000\n",
      "\n",
      "Epoch 00004: loss improved from 0.21240 to 0.16138, saving model to /mnt/335fff25-d210-4fe2-8249-4ba8b4a17ce4/DATASETS/Health/cov-cxr/2-class/DATASET/128x128/1/best_model.h5\n",
      "Epoch 5/100\n",
      "\n",
      "Epoch 00005: LearningRateScheduler reducing learning rate to 0.0001.\n",
      "266/266 [==============================] - 3s 10ms/step - loss: 0.1311 - accuracy: 0.9555 - precision: 0.9555 - recall: 0.9555 - true_positives: 1027.5955 - true_negatives: 1027.5955 - false_positives: 44.3745 - false_negatives: 44.3745 - val_loss: 0.2337 - val_accuracy: 0.9737 - val_precision: 0.9737 - val_recall: 0.9737 - val_true_positives: 259.0000 - val_true_negatives: 259.0000 - val_false_positives: 7.0000 - val_false_negatives: 7.0000\n",
      "\n",
      "Epoch 00005: loss improved from 0.16138 to 0.12754, saving model to /mnt/335fff25-d210-4fe2-8249-4ba8b4a17ce4/DATASETS/Health/cov-cxr/2-class/DATASET/128x128/1/best_model.h5\n",
      "Epoch 6/100\n",
      "\n",
      "Epoch 00006: LearningRateScheduler reducing learning rate to 0.0001.\n",
      "266/266 [==============================] - 3s 10ms/step - loss: 0.1041 - accuracy: 0.9680 - precision: 0.9680 - recall: 0.9680 - true_positives: 1039.3783 - true_negatives: 1039.3783 - false_positives: 32.5918 - false_negatives: 32.5918 - val_loss: 0.1361 - val_accuracy: 0.9774 - val_precision: 0.9774 - val_recall: 0.9774 - val_true_positives: 260.0000 - val_true_negatives: 260.0000 - val_false_positives: 6.0000 - val_false_negatives: 6.0000\n",
      "\n",
      "Epoch 00006: loss improved from 0.12754 to 0.09161, saving model to /mnt/335fff25-d210-4fe2-8249-4ba8b4a17ce4/DATASETS/Health/cov-cxr/2-class/DATASET/128x128/1/best_model.h5\n",
      "Epoch 7/100\n",
      "\n",
      "Epoch 00007: LearningRateScheduler reducing learning rate to 0.0001.\n",
      "266/266 [==============================] - 2s 9ms/step - loss: 0.0696 - accuracy: 0.9752 - precision: 0.9752 - recall: 0.9752 - true_positives: 1043.1873 - true_negatives: 1043.1873 - false_positives: 28.7828 - false_negatives: 28.7828 - val_loss: 0.1404 - val_accuracy: 0.9774 - val_precision: 0.9774 - val_recall: 0.9774 - val_true_positives: 260.0000 - val_true_negatives: 260.0000 - val_false_positives: 6.0000 - val_false_negatives: 6.0000\n",
      "\n",
      "Epoch 00007: loss improved from 0.09161 to 0.08149, saving model to /mnt/335fff25-d210-4fe2-8249-4ba8b4a17ce4/DATASETS/Health/cov-cxr/2-class/DATASET/128x128/1/best_model.h5\n",
      "Epoch 8/100\n",
      "\n",
      "Epoch 00008: LearningRateScheduler reducing learning rate to 0.0001.\n",
      "266/266 [==============================] - 3s 10ms/step - loss: 0.0719 - accuracy: 0.9774 - precision: 0.9774 - recall: 0.9774 - true_positives: 1047.0824 - true_negatives: 1047.0824 - false_positives: 24.8876 - false_negatives: 24.8876 - val_loss: 0.1008 - val_accuracy: 0.9812 - val_precision: 0.9812 - val_recall: 0.9812 - val_true_positives: 261.0000 - val_true_negatives: 261.0000 - val_false_positives: 5.0000 - val_false_negatives: 5.0000\n",
      "\n",
      "Epoch 00008: loss improved from 0.08149 to 0.06944, saving model to /mnt/335fff25-d210-4fe2-8249-4ba8b4a17ce4/DATASETS/Health/cov-cxr/2-class/DATASET/128x128/1/best_model.h5\n",
      "Epoch 9/100\n",
      "\n",
      "Epoch 00009: LearningRateScheduler reducing learning rate to 0.0001.\n",
      "266/266 [==============================] - 2s 9ms/step - loss: 0.0646 - accuracy: 0.9780 - precision: 0.9780 - recall: 0.9780 - true_positives: 1048.7041 - true_negatives: 1048.7041 - false_positives: 23.2659 - false_negatives: 23.2659 - val_loss: 0.0972 - val_accuracy: 0.9850 - val_precision: 0.9850 - val_recall: 0.9850 - val_true_positives: 262.0000 - val_true_negatives: 262.0000 - val_false_positives: 4.0000 - val_false_negatives: 4.0000\n",
      "\n",
      "Epoch 00009: loss did not improve from 0.06944\n",
      "Epoch 10/100\n",
      "\n",
      "Epoch 00010: LearningRateScheduler reducing learning rate to 0.0001.\n",
      "266/266 [==============================] - 2s 9ms/step - loss: 0.0639 - accuracy: 0.9803 - precision: 0.9803 - recall: 0.9803 - true_positives: 1051.5393 - true_negatives: 1051.5393 - false_positives: 20.4307 - false_negatives: 20.4307 - val_loss: 0.0668 - val_accuracy: 0.9850 - val_precision: 0.9850 - val_recall: 0.9850 - val_true_positives: 262.0000 - val_true_negatives: 262.0000 - val_false_positives: 4.0000 - val_false_negatives: 4.0000\n",
      "\n",
      "Epoch 00010: loss improved from 0.06944 to 0.05779, saving model to /mnt/335fff25-d210-4fe2-8249-4ba8b4a17ce4/DATASETS/Health/cov-cxr/2-class/DATASET/128x128/1/best_model.h5\n",
      "Epoch 11/100\n",
      "\n",
      "Epoch 00011: LearningRateScheduler reducing learning rate to 1e-05.\n",
      "266/266 [==============================] - 3s 10ms/step - loss: 0.0476 - accuracy: 0.9820 - precision: 0.9820 - recall: 0.9820 - true_positives: 1055.0225 - true_negatives: 1055.0225 - false_positives: 16.9476 - false_negatives: 16.9476 - val_loss: 0.0683 - val_accuracy: 0.9850 - val_precision: 0.9850 - val_recall: 0.9850 - val_true_positives: 262.0000 - val_true_negatives: 262.0000 - val_false_positives: 4.0000 - val_false_negatives: 4.0000\n",
      "\n",
      "Epoch 00011: loss improved from 0.05779 to 0.05536, saving model to /mnt/335fff25-d210-4fe2-8249-4ba8b4a17ce4/DATASETS/Health/cov-cxr/2-class/DATASET/128x128/1/best_model.h5\n",
      "Epoch 12/100\n",
      "\n",
      "Epoch 00012: LearningRateScheduler reducing learning rate to 1e-05.\n",
      "266/266 [==============================] - 3s 10ms/step - loss: 0.0413 - accuracy: 0.9884 - precision: 0.9884 - recall: 0.9884 - true_positives: 1057.9850 - true_negatives: 1057.9850 - false_positives: 13.9850 - false_negatives: 13.9850 - val_loss: 0.0675 - val_accuracy: 0.9850 - val_precision: 0.9850 - val_recall: 0.9850 - val_true_positives: 262.0000 - val_true_negatives: 262.0000 - val_false_positives: 4.0000 - val_false_negatives: 4.0000\n",
      "\n",
      "Epoch 00012: loss improved from 0.05536 to 0.04897, saving model to /mnt/335fff25-d210-4fe2-8249-4ba8b4a17ce4/DATASETS/Health/cov-cxr/2-class/DATASET/128x128/1/best_model.h5\n",
      "Epoch 13/100\n",
      "\n",
      "Epoch 00013: LearningRateScheduler reducing learning rate to 1e-05.\n"
     ]
    },
    {
     "name": "stdout",
     "output_type": "stream",
     "text": [
      "266/266 [==============================] - 3s 10ms/step - loss: 0.0682 - accuracy: 0.9793 - precision: 0.9793 - recall: 0.9793 - true_positives: 1053.5805 - true_negatives: 1053.5805 - false_positives: 18.3895 - false_negatives: 18.3895 - val_loss: 0.0673 - val_accuracy: 0.9887 - val_precision: 0.9887 - val_recall: 0.9887 - val_true_positives: 263.0000 - val_true_negatives: 263.0000 - val_false_positives: 3.0000 - val_false_negatives: 3.0000\n",
      "\n",
      "Epoch 00013: loss did not improve from 0.04897\n",
      "Epoch 14/100\n",
      "\n",
      "Epoch 00014: LearningRateScheduler reducing learning rate to 1e-05.\n",
      "266/266 [==============================] - 2s 9ms/step - loss: 0.0459 - accuracy: 0.9878 - precision: 0.9878 - recall: 0.9878 - true_positives: 1056.3483 - true_negatives: 1056.3483 - false_positives: 15.6217 - false_negatives: 15.6217 - val_loss: 0.0663 - val_accuracy: 0.9887 - val_precision: 0.9887 - val_recall: 0.9887 - val_true_positives: 263.0000 - val_true_negatives: 263.0000 - val_false_positives: 3.0000 - val_false_negatives: 3.0000\n",
      "\n",
      "Epoch 00014: loss improved from 0.04897 to 0.04591, saving model to /mnt/335fff25-d210-4fe2-8249-4ba8b4a17ce4/DATASETS/Health/cov-cxr/2-class/DATASET/128x128/1/best_model.h5\n",
      "Epoch 15/100\n",
      "\n",
      "Epoch 00015: LearningRateScheduler reducing learning rate to 1e-05.\n",
      "266/266 [==============================] - 2s 9ms/step - loss: 0.0491 - accuracy: 0.9822 - precision: 0.9822 - recall: 0.9822 - true_positives: 1054.3558 - true_negatives: 1054.3558 - false_positives: 17.6142 - false_negatives: 17.6142 - val_loss: 0.0661 - val_accuracy: 0.9887 - val_precision: 0.9887 - val_recall: 0.9887 - val_true_positives: 263.0000 - val_true_negatives: 263.0000 - val_false_positives: 3.0000 - val_false_negatives: 3.0000\n",
      "\n",
      "Epoch 00015: loss did not improve from 0.04591\n",
      "Epoch 16/100\n",
      "\n",
      "Epoch 00016: LearningRateScheduler reducing learning rate to 1e-05.\n",
      "266/266 [==============================] - 2s 9ms/step - loss: 0.0440 - accuracy: 0.9861 - precision: 0.9861 - recall: 0.9861 - true_positives: 1056.1086 - true_negatives: 1056.1086 - false_positives: 15.8614 - false_negatives: 15.8614 - val_loss: 0.0664 - val_accuracy: 0.9887 - val_precision: 0.9887 - val_recall: 0.9887 - val_true_positives: 263.0000 - val_true_negatives: 263.0000 - val_false_positives: 3.0000 - val_false_negatives: 3.0000\n",
      "\n",
      "Epoch 00016: loss did not improve from 0.04591\n",
      "Epoch 17/100\n",
      "\n",
      "Epoch 00017: LearningRateScheduler reducing learning rate to 1e-05.\n",
      "266/266 [==============================] - 3s 9ms/step - loss: 0.0578 - accuracy: 0.9855 - precision: 0.9855 - recall: 0.9855 - true_positives: 1056.4270 - true_negatives: 1056.4270 - false_positives: 15.5431 - false_negatives: 15.5431 - val_loss: 0.0666 - val_accuracy: 0.9887 - val_precision: 0.9887 - val_recall: 0.9887 - val_true_positives: 263.0000 - val_true_negatives: 263.0000 - val_false_positives: 3.0000 - val_false_negatives: 3.0000\n",
      "\n",
      "Epoch 00017: loss did not improve from 0.04591\n",
      "Epoch 18/100\n",
      "\n",
      "Epoch 00018: LearningRateScheduler reducing learning rate to 1e-05.\n",
      "266/266 [==============================] - 2s 9ms/step - loss: 0.0538 - accuracy: 0.9891 - precision: 0.9891 - recall: 0.9891 - true_positives: 1059.0000 - true_negatives: 1059.0000 - false_positives: 12.9700 - false_negatives: 12.9700 - val_loss: 0.0646 - val_accuracy: 0.9887 - val_precision: 0.9887 - val_recall: 0.9887 - val_true_positives: 263.0000 - val_true_negatives: 263.0000 - val_false_positives: 3.0000 - val_false_negatives: 3.0000\n",
      "\n",
      "Epoch 00018: loss did not improve from 0.04591\n",
      "Epoch 19/100\n",
      "\n",
      "Epoch 00019: LearningRateScheduler reducing learning rate to 1e-05.\n",
      "266/266 [==============================] - 2s 9ms/step - loss: 0.0582 - accuracy: 0.9884 - precision: 0.9884 - recall: 0.9884 - true_positives: 1060.9551 - true_negatives: 1060.9551 - false_positives: 11.0150 - false_negatives: 11.0150 - val_loss: 0.0638 - val_accuracy: 0.9887 - val_precision: 0.9887 - val_recall: 0.9887 - val_true_positives: 263.0000 - val_true_negatives: 263.0000 - val_false_positives: 3.0000 - val_false_negatives: 3.0000\n",
      "\n",
      "Epoch 00019: loss improved from 0.04591 to 0.04380, saving model to /mnt/335fff25-d210-4fe2-8249-4ba8b4a17ce4/DATASETS/Health/cov-cxr/2-class/DATASET/128x128/1/best_model.h5\n",
      "Epoch 20/100\n",
      "\n",
      "Epoch 00020: LearningRateScheduler reducing learning rate to 1e-05.\n",
      "266/266 [==============================] - 3s 9ms/step - loss: 0.0462 - accuracy: 0.9885 - precision: 0.9885 - recall: 0.9885 - true_positives: 1060.5131 - true_negatives: 1060.5131 - false_positives: 11.4569 - false_negatives: 11.4569 - val_loss: 0.0621 - val_accuracy: 0.9887 - val_precision: 0.9887 - val_recall: 0.9887 - val_true_positives: 263.0000 - val_true_negatives: 263.0000 - val_false_positives: 3.0000 - val_false_negatives: 3.0000\n",
      "\n",
      "Epoch 00020: loss improved from 0.04380 to 0.04072, saving model to /mnt/335fff25-d210-4fe2-8249-4ba8b4a17ce4/DATASETS/Health/cov-cxr/2-class/DATASET/128x128/1/best_model.h5\n",
      "Epoch 21/100\n",
      "\n",
      "Epoch 00021: LearningRateScheduler reducing learning rate to 1.0000000000000002e-06.\n",
      "266/266 [==============================] - 2s 9ms/step - loss: 0.0362 - accuracy: 0.9876 - precision: 0.9876 - recall: 0.9876 - true_positives: 1058.1685 - true_negatives: 1058.1685 - false_positives: 13.8015 - false_negatives: 13.8015 - val_loss: 0.0618 - val_accuracy: 0.9887 - val_precision: 0.9887 - val_recall: 0.9887 - val_true_positives: 263.0000 - val_true_negatives: 263.0000 - val_false_positives: 3.0000 - val_false_negatives: 3.0000\n",
      "\n",
      "Epoch 00021: loss did not improve from 0.04072\n",
      "Epoch 22/100\n",
      "\n",
      "Epoch 00022: LearningRateScheduler reducing learning rate to 1.0000000000000002e-06.\n",
      "266/266 [==============================] - 3s 9ms/step - loss: 0.0395 - accuracy: 0.9833 - precision: 0.9833 - recall: 0.9833 - true_positives: 1056.7154 - true_negatives: 1056.7154 - false_positives: 15.2547 - false_negatives: 15.2547 - val_loss: 0.0614 - val_accuracy: 0.9887 - val_precision: 0.9887 - val_recall: 0.9887 - val_true_positives: 263.0000 - val_true_negatives: 263.0000 - val_false_positives: 3.0000 - val_false_negatives: 3.0000\n",
      "\n",
      "Epoch 00022: loss did not improve from 0.04072\n",
      "Epoch 23/100\n",
      "\n",
      "Epoch 00023: LearningRateScheduler reducing learning rate to 1.0000000000000002e-06.\n",
      "266/266 [==============================] - 2s 9ms/step - loss: 0.0461 - accuracy: 0.9886 - precision: 0.9886 - recall: 0.9886 - true_positives: 1060.2509 - true_negatives: 1060.2509 - false_positives: 11.7191 - false_negatives: 11.7191 - val_loss: 0.0615 - val_accuracy: 0.9887 - val_precision: 0.9887 - val_recall: 0.9887 - val_true_positives: 263.0000 - val_true_negatives: 263.0000 - val_false_positives: 3.0000 - val_false_negatives: 3.0000\n",
      "\n",
      "Epoch 00023: loss did not improve from 0.04072\n",
      "Epoch 24/100\n",
      "\n",
      "Epoch 00024: LearningRateScheduler reducing learning rate to 1.0000000000000002e-06.\n",
      "266/266 [==============================] - 3s 9ms/step - loss: 0.0524 - accuracy: 0.9855 - precision: 0.9855 - recall: 0.9855 - true_positives: 1056.6929 - true_negatives: 1056.6929 - false_positives: 15.2772 - false_negatives: 15.2772 - val_loss: 0.0612 - val_accuracy: 0.9887 - val_precision: 0.9887 - val_recall: 0.9887 - val_true_positives: 263.0000 - val_true_negatives: 263.0000 - val_false_positives: 3.0000 - val_false_negatives: 3.0000\n",
      "\n",
      "Epoch 00024: loss did not improve from 0.04072\n",
      "Epoch 25/100\n",
      "\n",
      "Epoch 00025: LearningRateScheduler reducing learning rate to 1.0000000000000002e-06.\n",
      "266/266 [==============================] - 3s 10ms/step - loss: 0.0453 - accuracy: 0.9894 - precision: 0.9894 - recall: 0.9894 - true_positives: 1059.6292 - true_negatives: 1059.6292 - false_positives: 12.3408 - false_negatives: 12.3408 - val_loss: 0.0611 - val_accuracy: 0.9887 - val_precision: 0.9887 - val_recall: 0.9887 - val_true_positives: 263.0000 - val_true_negatives: 263.0000 - val_false_positives: 3.0000 - val_false_negatives: 3.0000\n",
      "\n",
      "Epoch 00025: loss did not improve from 0.04072\n",
      "Epoch 26/100\n",
      "\n",
      "Epoch 00026: LearningRateScheduler reducing learning rate to 1.0000000000000002e-06.\n",
      "266/266 [==============================] - 3s 12ms/step - loss: 0.0415 - accuracy: 0.9886 - precision: 0.9886 - recall: 0.9886 - true_positives: 1059.5019 - true_negatives: 1059.5019 - false_positives: 12.4682 - false_negatives: 12.4682 - val_loss: 0.0610 - val_accuracy: 0.9887 - val_precision: 0.9887 - val_recall: 0.9887 - val_true_positives: 263.0000 - val_true_negatives: 263.0000 - val_false_positives: 3.0000 - val_false_negatives: 3.0000\n"
     ]
    },
    {
     "name": "stdout",
     "output_type": "stream",
     "text": [
      "\n",
      "Epoch 00026: loss did not improve from 0.04072\n",
      "Epoch 27/100\n",
      "\n",
      "Epoch 00027: LearningRateScheduler reducing learning rate to 1.0000000000000002e-06.\n",
      "266/266 [==============================] - 3s 12ms/step - loss: 0.0408 - accuracy: 0.9907 - precision: 0.9907 - recall: 0.9907 - true_positives: 1060.9213 - true_negatives: 1060.9213 - false_positives: 11.0487 - false_negatives: 11.0487 - val_loss: 0.0609 - val_accuracy: 0.9887 - val_precision: 0.9887 - val_recall: 0.9887 - val_true_positives: 263.0000 - val_true_negatives: 263.0000 - val_false_positives: 3.0000 - val_false_negatives: 3.0000\n",
      "\n",
      "Epoch 00027: loss did not improve from 0.04072\n",
      "Epoch 28/100\n",
      "\n",
      "Epoch 00028: LearningRateScheduler reducing learning rate to 1.0000000000000002e-06.\n",
      "266/266 [==============================] - 3s 11ms/step - loss: 0.0367 - accuracy: 0.9872 - precision: 0.9872 - recall: 0.9872 - true_positives: 1059.0449 - true_negatives: 1059.0449 - false_positives: 12.9251 - false_negatives: 12.9251 - val_loss: 0.0607 - val_accuracy: 0.9887 - val_precision: 0.9887 - val_recall: 0.9887 - val_true_positives: 263.0000 - val_true_negatives: 263.0000 - val_false_positives: 3.0000 - val_false_negatives: 3.0000\n",
      "\n",
      "Epoch 00028: loss did not improve from 0.04072\n",
      "Epoch 29/100\n",
      "\n",
      "Epoch 00029: LearningRateScheduler reducing learning rate to 1.0000000000000002e-06.\n",
      "266/266 [==============================] - 3s 12ms/step - loss: 0.0522 - accuracy: 0.9812 - precision: 0.9812 - recall: 0.9812 - true_positives: 1056.3258 - true_negatives: 1056.3258 - false_positives: 15.6442 - false_negatives: 15.6442 - val_loss: 0.0608 - val_accuracy: 0.9887 - val_precision: 0.9887 - val_recall: 0.9887 - val_true_positives: 263.0000 - val_true_negatives: 263.0000 - val_false_positives: 3.0000 - val_false_negatives: 3.0000\n",
      "\n",
      "Epoch 00029: loss did not improve from 0.04072\n",
      "Epoch 30/100\n",
      "\n",
      "Epoch 00030: LearningRateScheduler reducing learning rate to 1.0000000000000002e-06.\n",
      "266/266 [==============================] - 3s 11ms/step - loss: 0.0379 - accuracy: 0.9880 - precision: 0.9880 - recall: 0.9880 - true_positives: 1060.2659 - true_negatives: 1060.2659 - false_positives: 11.7041 - false_negatives: 11.7041 - val_loss: 0.0607 - val_accuracy: 0.9887 - val_precision: 0.9887 - val_recall: 0.9887 - val_true_positives: 263.0000 - val_true_negatives: 263.0000 - val_false_positives: 3.0000 - val_false_negatives: 3.0000\n",
      "\n",
      "Epoch 00030: loss did not improve from 0.04072\n",
      "Epoch 31/100\n",
      "\n",
      "Epoch 00031: LearningRateScheduler reducing learning rate to 1.0000000000000002e-07.\n",
      "266/266 [==============================] - 3s 12ms/step - loss: 0.0491 - accuracy: 0.9848 - precision: 0.9848 - recall: 0.9848 - true_positives: 1056.1873 - true_negatives: 1056.1873 - false_positives: 15.7828 - false_negatives: 15.7828 - val_loss: 0.0607 - val_accuracy: 0.9887 - val_precision: 0.9887 - val_recall: 0.9887 - val_true_positives: 263.0000 - val_true_negatives: 263.0000 - val_false_positives: 3.0000 - val_false_negatives: 3.0000\n",
      "\n",
      "Epoch 00031: loss did not improve from 0.04072\n",
      "Epoch 32/100\n",
      "\n",
      "Epoch 00032: LearningRateScheduler reducing learning rate to 1.0000000000000002e-07.\n",
      "266/266 [==============================] - 3s 11ms/step - loss: 0.0347 - accuracy: 0.9904 - precision: 0.9904 - recall: 0.9904 - true_positives: 1060.6255 - true_negatives: 1060.6255 - false_positives: 11.3446 - false_negatives: 11.3446 - val_loss: 0.0607 - val_accuracy: 0.9887 - val_precision: 0.9887 - val_recall: 0.9887 - val_true_positives: 263.0000 - val_true_negatives: 263.0000 - val_false_positives: 3.0000 - val_false_negatives: 3.0000\n",
      "\n",
      "Epoch 00032: loss improved from 0.04072 to 0.03780, saving model to /mnt/335fff25-d210-4fe2-8249-4ba8b4a17ce4/DATASETS/Health/cov-cxr/2-class/DATASET/128x128/1/best_model.h5\n",
      "Epoch 33/100\n",
      "\n",
      "Epoch 00033: LearningRateScheduler reducing learning rate to 1.0000000000000002e-07.\n",
      "266/266 [==============================] - 3s 11ms/step - loss: 0.0476 - accuracy: 0.9833 - precision: 0.9833 - recall: 0.9833 - true_positives: 1054.5843 - true_negatives: 1054.5843 - false_positives: 17.3858 - false_negatives: 17.3858 - val_loss: 0.0607 - val_accuracy: 0.9887 - val_precision: 0.9887 - val_recall: 0.9887 - val_true_positives: 263.0000 - val_true_negatives: 263.0000 - val_false_positives: 3.0000 - val_false_negatives: 3.0000\n",
      "\n",
      "Epoch 00033: loss did not improve from 0.03780\n",
      "Epoch 34/100\n",
      "\n",
      "Epoch 00034: LearningRateScheduler reducing learning rate to 1.0000000000000002e-07.\n",
      "266/266 [==============================] - 3s 11ms/step - loss: 0.0355 - accuracy: 0.9918 - precision: 0.9918 - recall: 0.9918 - true_positives: 1061.9438 - true_negatives: 1061.9438 - false_positives: 10.0262 - false_negatives: 10.0262 - val_loss: 0.0607 - val_accuracy: 0.9887 - val_precision: 0.9887 - val_recall: 0.9887 - val_true_positives: 263.0000 - val_true_negatives: 263.0000 - val_false_positives: 3.0000 - val_false_negatives: 3.0000\n",
      "\n",
      "Epoch 00034: loss did not improve from 0.03780\n",
      "Epoch 35/100\n",
      "\n",
      "Epoch 00035: LearningRateScheduler reducing learning rate to 1.0000000000000002e-07.\n",
      "266/266 [==============================] - 3s 11ms/step - loss: 0.0345 - accuracy: 0.9885 - precision: 0.9885 - recall: 0.9885 - true_positives: 1058.9738 - true_negatives: 1058.9738 - false_positives: 12.9963 - false_negatives: 12.9963 - val_loss: 0.0607 - val_accuracy: 0.9887 - val_precision: 0.9887 - val_recall: 0.9887 - val_true_positives: 263.0000 - val_true_negatives: 263.0000 - val_false_positives: 3.0000 - val_false_negatives: 3.0000\n",
      "\n",
      "Epoch 00035: loss did not improve from 0.03780\n",
      "Epoch 36/100\n",
      "\n",
      "Epoch 00036: LearningRateScheduler reducing learning rate to 1.0000000000000002e-07.\n",
      "266/266 [==============================] - 3s 11ms/step - loss: 0.0442 - accuracy: 0.9872 - precision: 0.9872 - recall: 0.9872 - true_positives: 1057.8727 - true_negatives: 1057.8727 - false_positives: 14.0974 - false_negatives: 14.0974 - val_loss: 0.0607 - val_accuracy: 0.9887 - val_precision: 0.9887 - val_recall: 0.9887 - val_true_positives: 263.0000 - val_true_negatives: 263.0000 - val_false_positives: 3.0000 - val_false_negatives: 3.0000\n",
      "\n",
      "Epoch 00036: loss did not improve from 0.03780\n",
      "Epoch 37/100\n",
      "\n",
      "Epoch 00037: LearningRateScheduler reducing learning rate to 1.0000000000000002e-07.\n",
      "266/266 [==============================] - 3s 11ms/step - loss: 0.0418 - accuracy: 0.9878 - precision: 0.9878 - recall: 0.9878 - true_positives: 1058.5506 - true_negatives: 1058.5506 - false_positives: 13.4195 - false_negatives: 13.4195 - val_loss: 0.0607 - val_accuracy: 0.9887 - val_precision: 0.9887 - val_recall: 0.9887 - val_true_positives: 263.0000 - val_true_negatives: 263.0000 - val_false_positives: 3.0000 - val_false_negatives: 3.0000\n",
      "\n",
      "Epoch 00037: loss did not improve from 0.03780\n",
      "Epoch 38/100\n",
      "\n",
      "Epoch 00038: LearningRateScheduler reducing learning rate to 1.0000000000000002e-07.\n",
      "266/266 [==============================] - 3s 11ms/step - loss: 0.0505 - accuracy: 0.9875 - precision: 0.9875 - recall: 0.9875 - true_positives: 1058.9588 - true_negatives: 1058.9588 - false_positives: 13.0112 - false_negatives: 13.0112 - val_loss: 0.0607 - val_accuracy: 0.9887 - val_precision: 0.9887 - val_recall: 0.9887 - val_true_positives: 263.0000 - val_true_negatives: 263.0000 - val_false_positives: 3.0000 - val_false_negatives: 3.0000\n",
      "\n",
      "Epoch 00038: loss did not improve from 0.03780\n",
      "Epoch 39/100\n",
      "\n",
      "Epoch 00039: LearningRateScheduler reducing learning rate to 1.0000000000000002e-07.\n",
      "266/266 [==============================] - 3s 11ms/step - loss: 0.0407 - accuracy: 0.9864 - precision: 0.9864 - recall: 0.9864 - true_positives: 1056.4569 - true_negatives: 1056.4569 - false_positives: 15.5131 - false_negatives: 15.5131 - val_loss: 0.0607 - val_accuracy: 0.9887 - val_precision: 0.9887 - val_recall: 0.9887 - val_true_positives: 263.0000 - val_true_negatives: 263.0000 - val_false_positives: 3.0000 - val_false_negatives: 3.0000\n",
      "\n",
      "Epoch 00039: loss did not improve from 0.03780\n",
      "Epoch 40/100\n",
      "\n",
      "Epoch 00040: LearningRateScheduler reducing learning rate to 1.0000000000000002e-07.\n",
      "266/266 [==============================] - 3s 11ms/step - loss: 0.0621 - accuracy: 0.9838 - precision: 0.9838 - recall: 0.9838 - true_positives: 1056.5618 - true_negatives: 1056.5618 - false_positives: 15.4082 - false_negatives: 15.4082 - val_loss: 0.0607 - val_accuracy: 0.9887 - val_precision: 0.9887 - val_recall: 0.9887 - val_true_positives: 263.0000 - val_true_negatives: 263.0000 - val_false_positives: 3.0000 - val_false_negatives: 3.0000\n",
      "\n",
      "Epoch 00040: loss did not improve from 0.03780\n",
      "Epoch 41/100\n",
      "\n",
      "Epoch 00041: LearningRateScheduler reducing learning rate to 1.0000000000000002e-08.\n",
      "266/266 [==============================] - 3s 11ms/step - loss: 0.0602 - accuracy: 0.9819 - precision: 0.9819 - recall: 0.9819 - true_positives: 1054.4457 - true_negatives: 1054.4457 - false_positives: 17.5243 - false_negatives: 17.5243 - val_loss: 0.0607 - val_accuracy: 0.9887 - val_precision: 0.9887 - val_recall: 0.9887 - val_true_positives: 263.0000 - val_true_negatives: 263.0000 - val_false_positives: 3.0000 - val_false_negatives: 3.0000\n",
      "\n",
      "Epoch 00041: loss did not improve from 0.03780\n",
      "Epoch 42/100\n",
      "\n",
      "Epoch 00042: LearningRateScheduler reducing learning rate to 1.0000000000000002e-08.\n",
      "266/266 [==============================] - 3s 11ms/step - loss: 0.0358 - accuracy: 0.9868 - precision: 0.9868 - recall: 0.9868 - true_positives: 1058.1311 - true_negatives: 1058.1311 - false_positives: 13.8390 - false_negatives: 13.8390 - val_loss: 0.0607 - val_accuracy: 0.9887 - val_precision: 0.9887 - val_recall: 0.9887 - val_true_positives: 263.0000 - val_true_negatives: 263.0000 - val_false_positives: 3.0000 - val_false_negatives: 3.0000\n",
      "\n",
      "Epoch 00042: loss did not improve from 0.03780\n",
      "Epoch 43/100\n",
      "\n",
      "Epoch 00043: LearningRateScheduler reducing learning rate to 1.0000000000000002e-08.\n",
      "266/266 [==============================] - 3s 11ms/step - loss: 0.0421 - accuracy: 0.9876 - precision: 0.9876 - recall: 0.9876 - true_positives: 1059.4157 - true_negatives: 1059.4157 - false_positives: 12.5543 - false_negatives: 12.5543 - val_loss: 0.0607 - val_accuracy: 0.9887 - val_precision: 0.9887 - val_recall: 0.9887 - val_true_positives: 263.0000 - val_true_negatives: 263.0000 - val_false_positives: 3.0000 - val_false_negatives: 3.0000\n",
      "\n",
      "Epoch 00043: loss did not improve from 0.03780\n",
      "Epoch 44/100\n",
      "\n",
      "Epoch 00044: LearningRateScheduler reducing learning rate to 1.0000000000000002e-08.\n",
      "266/266 [==============================] - 3s 11ms/step - loss: 0.0438 - accuracy: 0.9841 - precision: 0.9841 - recall: 0.9841 - true_positives: 1057.0487 - true_negatives: 1057.0487 - false_positives: 14.9213 - false_negatives: 14.9213 - val_loss: 0.0607 - val_accuracy: 0.9887 - val_precision: 0.9887 - val_recall: 0.9887 - val_true_positives: 263.0000 - val_true_negatives: 263.0000 - val_false_positives: 3.0000 - val_false_negatives: 3.0000\n",
      "\n",
      "Epoch 00044: loss did not improve from 0.03780\n",
      "Epoch 45/100\n",
      "\n",
      "Epoch 00045: LearningRateScheduler reducing learning rate to 1.0000000000000002e-08.\n",
      "266/266 [==============================] - 3s 11ms/step - loss: 0.0492 - accuracy: 0.9845 - precision: 0.9845 - recall: 0.9845 - true_positives: 1056.2884 - true_negatives: 1056.2884 - false_positives: 15.6816 - false_negatives: 15.6816 - val_loss: 0.0607 - val_accuracy: 0.9887 - val_precision: 0.9887 - val_recall: 0.9887 - val_true_positives: 263.0000 - val_true_negatives: 263.0000 - val_false_positives: 3.0000 - val_false_negatives: 3.0000\n",
      "\n",
      "Epoch 00045: loss did not improve from 0.03780\n",
      "Epoch 46/100\n",
      "\n",
      "Epoch 00046: LearningRateScheduler reducing learning rate to 1.0000000000000002e-08.\n",
      "266/266 [==============================] - 3s 11ms/step - loss: 0.0458 - accuracy: 0.9841 - precision: 0.9841 - recall: 0.9841 - true_positives: 1055.6554 - true_negatives: 1055.6554 - false_positives: 16.3146 - false_negatives: 16.3146 - val_loss: 0.0607 - val_accuracy: 0.9887 - val_precision: 0.9887 - val_recall: 0.9887 - val_true_positives: 263.0000 - val_true_negatives: 263.0000 - val_false_positives: 3.0000 - val_false_negatives: 3.0000\n",
      "\n",
      "Epoch 00046: loss did not improve from 0.03780\n",
      "Epoch 47/100\n",
      "\n",
      "Epoch 00047: LearningRateScheduler reducing learning rate to 1.0000000000000002e-08.\n",
      "266/266 [==============================] - 3s 11ms/step - loss: 0.0400 - accuracy: 0.9905 - precision: 0.9905 - recall: 0.9905 - true_positives: 1060.7228 - true_negatives: 1060.7228 - false_positives: 11.2472 - false_negatives: 11.2472 - val_loss: 0.0607 - val_accuracy: 0.9887 - val_precision: 0.9887 - val_recall: 0.9887 - val_true_positives: 263.0000 - val_true_negatives: 263.0000 - val_false_positives: 3.0000 - val_false_negatives: 3.0000\n",
      "\n",
      "Epoch 00047: loss did not improve from 0.03780\n",
      "Epoch 48/100\n",
      "\n",
      "Epoch 00048: LearningRateScheduler reducing learning rate to 1.0000000000000002e-08.\n",
      "266/266 [==============================] - 3s 11ms/step - loss: 0.0358 - accuracy: 0.9904 - precision: 0.9904 - recall: 0.9904 - true_positives: 1060.6142 - true_negatives: 1060.6142 - false_positives: 11.3558 - false_negatives: 11.3558 - val_loss: 0.0607 - val_accuracy: 0.9887 - val_precision: 0.9887 - val_recall: 0.9887 - val_true_positives: 263.0000 - val_true_negatives: 263.0000 - val_false_positives: 3.0000 - val_false_negatives: 3.0000\n",
      "\n",
      "Epoch 00048: loss did not improve from 0.03780\n",
      "Epoch 49/100\n",
      "\n",
      "Epoch 00049: LearningRateScheduler reducing learning rate to 1.0000000000000002e-08.\n",
      "266/266 [==============================] - 3s 11ms/step - loss: 0.0458 - accuracy: 0.9852 - precision: 0.9852 - recall: 0.9852 - true_positives: 1057.3071 - true_negatives: 1057.3071 - false_positives: 14.6629 - false_negatives: 14.6629 - val_loss: 0.0607 - val_accuracy: 0.9887 - val_precision: 0.9887 - val_recall: 0.9887 - val_true_positives: 263.0000 - val_true_negatives: 263.0000 - val_false_positives: 3.0000 - val_false_negatives: 3.0000\n",
      "\n",
      "Epoch 00049: loss did not improve from 0.03780\n",
      "Epoch 50/100\n",
      "\n",
      "Epoch 00050: LearningRateScheduler reducing learning rate to 1.0000000000000002e-08.\n",
      "266/266 [==============================] - 3s 11ms/step - loss: 0.0540 - accuracy: 0.9829 - precision: 0.9829 - recall: 0.9829 - true_positives: 1052.9064 - true_negatives: 1052.9064 - false_positives: 19.0637 - false_negatives: 19.0637 - val_loss: 0.0607 - val_accuracy: 0.9887 - val_precision: 0.9887 - val_recall: 0.9887 - val_true_positives: 263.0000 - val_true_negatives: 263.0000 - val_false_positives: 3.0000 - val_false_negatives: 3.0000\n",
      "\n",
      "Epoch 00050: loss did not improve from 0.03780\n",
      "Epoch 51/100\n",
      "\n",
      "Epoch 00051: LearningRateScheduler reducing learning rate to 1.0000000000000003e-09.\n",
      "266/266 [==============================] - 3s 11ms/step - loss: 0.0348 - accuracy: 0.9901 - precision: 0.9901 - recall: 0.9901 - true_positives: 1058.9064 - true_negatives: 1058.9064 - false_positives: 13.0637 - false_negatives: 13.0637 - val_loss: 0.0607 - val_accuracy: 0.9887 - val_precision: 0.9887 - val_recall: 0.9887 - val_true_positives: 263.0000 - val_true_negatives: 263.0000 - val_false_positives: 3.0000 - val_false_negatives: 3.0000\n",
      "\n",
      "Epoch 00051: loss did not improve from 0.03780\n",
      "Epoch 52/100\n",
      "\n",
      "Epoch 00052: LearningRateScheduler reducing learning rate to 1.0000000000000003e-09.\n",
      "266/266 [==============================] - 3s 11ms/step - loss: 0.0517 - accuracy: 0.9842 - precision: 0.9842 - recall: 0.9842 - true_positives: 1054.1161 - true_negatives: 1054.1161 - false_positives: 17.8539 - false_negatives: 17.8539 - val_loss: 0.0607 - val_accuracy: 0.9887 - val_precision: 0.9887 - val_recall: 0.9887 - val_true_positives: 263.0000 - val_true_negatives: 263.0000 - val_false_positives: 3.0000 - val_false_negatives: 3.0000\n",
      "Restoring model weights from the end of the best epoch.\n",
      "\n",
      "Epoch 00052: loss did not improve from 0.03780\n",
      "Epoch 00052: early stopping\n",
      "266/266 [==============================] - 2s 8ms/step - loss: 0.0702 - accuracy: 0.9864 - precision: 0.9864 - recall: 0.9864 - true_positives: 2099.0000 - true_negatives: 2099.0000 - false_positives: 29.0000 - false_negatives: 29.0000\n",
      "34/34 [==============================] - 0s 8ms/step - loss: 0.0607 - accuracy: 0.9887 - precision: 0.9887 - recall: 0.9887 - true_positives: 263.0000 - true_negatives: 263.0000 - false_positives: 3.0000 - false_negatives: 3.0000\n"
     ]
    },
    {
     "name": "stdout",
     "output_type": "stream",
     "text": [
      "34/34 [==============================] - 0s 8ms/step - loss: 0.1206 - accuracy: 0.9699 - precision: 0.9699 - recall: 0.9699 - true_positives: 258.0000 - true_negatives: 258.0000 - false_positives: 8.0000 - false_negatives: 8.0000\n"
     ]
    }
   ],
   "source": [
    "with tf.device('/GPU:0'):\n",
    "    start = time.time()\n",
    "    history = model.fit(train_generator,\n",
    "                        epochs = epoch,\n",
    "                        verbose = 1,\n",
    "                        callbacks = callback,\n",
    "                        validation_data = validation_generator,\n",
    "                        shuffle=True)\n",
    "\n",
    "    end = time.time()\n",
    "    duration = end-start\n",
    "\n",
    "train_score = model.evaluate(train_generator)\n",
    "val_score = model.evaluate(validation_generator)\n",
    "test_score = model.evaluate(test_generator)"
   ]
  },
  {
   "cell_type": "code",
   "execution_count": 26,
   "metadata": {},
   "outputs": [
    {
     "name": "stdout",
     "output_type": "stream",
     "text": [
      "Execution Time: 158.0467414855957 seconds\n"
     ]
    }
   ],
   "source": [
    "print(\"Execution Time: {} seconds\".format(duration))"
   ]
  },
  {
   "cell_type": "code",
   "execution_count": 27,
   "metadata": {},
   "outputs": [],
   "source": [
    "acc=history.history['accuracy']\n",
    "val_acc=history.history['val_accuracy']\n",
    "loss=history.history['loss']\n",
    "val_loss=history.history['val_loss']\n",
    "epochs=range(len(acc))"
   ]
  },
  {
   "cell_type": "code",
   "execution_count": 28,
   "metadata": {},
   "outputs": [],
   "source": [
    "xodd = []\n",
    "xeven = []\n",
    "i = 0\n",
    "for i in epochs:\n",
    "    if i%2 != 0:\n",
    "        xodd.append(i)\n",
    "    elif i%2 == 0:\n",
    "        xeven.append(i)"
   ]
  },
  {
   "cell_type": "code",
   "execution_count": 29,
   "metadata": {},
   "outputs": [
    {
     "name": "stderr",
     "output_type": "stream",
     "text": [
      "The PostScript backend does not support transparency; partially transparent artists will be rendered opaque.\n",
      "The PostScript backend does not support transparency; partially transparent artists will be rendered opaque.\n"
     ]
    },
    {
     "data": {
      "image/png": "[encoded data removed]",
      "text/plain": [
       "<Figure size 432x288 with 1 Axes>"
      ]
     },
     "metadata": {
      "needs_background": "light"
     },
     "output_type": "display_data"
    },
    {
     "name": "stderr",
     "output_type": "stream",
     "text": [
      "The PostScript backend does not support transparency; partially transparent artists will be rendered opaque.\n",
      "The PostScript backend does not support transparency; partially transparent artists will be rendered opaque.\n"
     ]
    },
    {
     "data": {
      "image/png": "[encoded data removed]",
      "text/plain": [
       "<Figure size 432x288 with 1 Axes>"
      ]
     },
     "metadata": {
      "needs_background": "light"
     },
     "output_type": "display_data"
    }
   ],
   "source": [
    "plt.plot(epochs, acc, 'r', label='Training Accuracy')\n",
    "plt.plot(epochs, val_acc, 'b', label='Validation Accuracy')\n",
    "plt.xlabel(\"Epochs\")\n",
    "plt.xticks(xeven)\n",
    "plt.ylabel(\"Accuracy\")\n",
    "plt.title('Training and validation accuracy vs Epochs')\n",
    "plt.legend()\n",
    "\n",
    "accuracy_fig_name_eps = \"accuracy.eps\"\n",
    "accuracy_fig_name_jpg = \"accuracy.jpg\"\n",
    "\n",
    "plt.savefig(os.path.join(char, accuracy_fig_name_eps))\n",
    "plt.savefig(os.path.join(char, accuracy_fig_name_jpg))\n",
    "\n",
    "plt.show()\n",
    "\n",
    "\n",
    "plt.plot(epochs, loss, 'r', label=\"Training Loss\")\n",
    "plt.plot(epochs, val_loss, 'b', label=\"Validation Loss\")\n",
    "plt.xlabel(\"Epochs\")\n",
    "plt.xticks(xeven)\n",
    "plt.ylabel(\"Loss\")\n",
    "plt.title('Training and validation loss vs Epochs')\n",
    "plt.legend()\n",
    "\n",
    "loss_fig_name_eps = \"loss.eps\"\n",
    "loss_fig_name_jpg = \"loss.jpg\"\n",
    "\n",
    "plt.savefig(os.path.join(char, loss_fig_name_eps))\n",
    "plt.savefig(os.path.join(char, loss_fig_name_jpg))\n",
    "\n",
    "plt.show()"
   ]
  },
  {
   "cell_type": "code",
   "execution_count": 30,
   "metadata": {},
   "outputs": [
    {
     "name": "stdout",
     "output_type": "stream",
     "text": [
      "The training accuracy is: 98.6372172832489 %\n",
      "The validation accuracy is: 98.87217879295349 %\n",
      "The test accuracy is: 96.9924807548523 %\n"
     ]
    }
   ],
   "source": [
    "training_accuracy = train_score[1]*100\n",
    "validation_accuracy = val_score[1]*100\n",
    "test_accuracy = test_score[1]*100\n",
    "\n",
    "print(\"The training accuracy is: \" + str(training_accuracy) + ' %')\n",
    "print(\"The validation accuracy is: \" + str(validation_accuracy) + ' %')\n",
    "print(\"The test accuracy is: \" + str(test_accuracy) + ' %')"
   ]
  },
  {
   "cell_type": "code",
   "execution_count": 31,
   "metadata": {},
   "outputs": [],
   "source": [
    "test_accuracy = test_score[1]*100\n",
    "test_precision = test_score[2]*100\n",
    "test_recall = test_score[3]*100\n",
    "tp = int(test_score[4])\n",
    "tn = int(test_score[5])\n",
    "fp = int(test_score[6])\n",
    "fn = int(test_score[7])\n",
    "\n",
    "f1 = 2*((test_precision*test_recall)/(test_precision+test_recall))\n",
    "sensitivity = (tp/(tp+fn))*100\n",
    "specificity = (tn/(tn+fp))*100"
   ]
  },
  {
   "cell_type": "code",
   "execution_count": 32,
   "metadata": {},
   "outputs": [
    {
     "name": "stdout",
     "output_type": "stream",
     "text": [
      "Test Accuracy: 96.9924807548523\n",
      "Test Precision: 96.9924807548523\n",
      "Test Recall: 96.9924807548523\n",
      "True Positive: 258\n",
      "Test Negetive: 258\n",
      "False Positive: 8\n",
      "False Negetive: 8\n",
      "Sensitivity: 96.99248120300751\n",
      "Specificity: 96.99248120300751\n"
     ]
    }
   ],
   "source": [
    "print(\"Test Accuracy: {}\".format(test_accuracy))\n",
    "print(\"Test Precision: {}\".format(test_precision))\n",
    "print(\"Test Recall: {}\".format(test_recall))\n",
    "print(\"True Positive: {}\".format(tp))\n",
    "print(\"Test Negetive: {}\".format(tn))\n",
    "print(\"False Positive: {}\".format(fp))\n",
    "print(\"False Negetive: {}\".format(fn))\n",
    "print(\"Sensitivity: {}\".format(sensitivity))\n",
    "print(\"Specificity: {}\".format(specificity))"
   ]
  },
  {
   "cell_type": "code",
   "execution_count": 33,
   "metadata": {},
   "outputs": [],
   "source": [
    "test_class_list = []\n",
    "for test_name in os.listdir(TESTING_DIR):\n",
    "    test = os.path.join(TESTING_DIR, test_name)\n",
    "    test_class_list.append(test)\n",
    "test_class_list.sort()"
   ]
  },
  {
   "cell_type": "code",
   "execution_count": 44,
   "metadata": {},
   "outputs": [],
   "source": [
    "def max_pred(pred):\n",
    "    pred_categorical = keras.utils.to_categorical(pred)\n",
    "    if class_no >= 2:\n",
    "        pred_max = np.argmax(pred)\n",
    "    else:\n",
    "        pred_max = np.argmax(pred_categorical)\n",
    "    return pred_max"
   ]
  },
  {
   "cell_type": "code",
   "execution_count": 45,
   "metadata": {},
   "outputs": [],
   "source": [
    "y_true = test_generator.classes\n",
    "labels = test_generator.class_indices"
   ]
  },
  {
   "cell_type": "code",
   "execution_count": 46,
   "metadata": {},
   "outputs": [],
   "source": [
    "from sklearn.metrics import classification_report\n",
    "from sklearn.metrics import confusion_matrix\n",
    "\n",
    "\n",
    "y_pred = []\n",
    "for i in range(class_no):\n",
    "    for filename in os.listdir(test_class_list[i]):\n",
    "        file = os.path.join(test_class_list[i], filename)\n",
    "        img = image.load_img(file, target_size=(h,w))\n",
    "        x = image.img_to_array(img)\n",
    "        x = np.expand_dims(x, axis=0)\n",
    "\n",
    "        images = np.vstack([x])\n",
    "\n",
    "        pred = model.predict(images, batch_size = batch_size)\n",
    "        pred_max = max_pred(pred)\n",
    "        \n",
    "        y_pred.append(pred_max)"
   ]
  },
  {
   "cell_type": "code",
   "execution_count": 47,
   "metadata": {},
   "outputs": [
    {
     "data": {
      "text/plain": [
       "{'covid': 0, 'normal': 1}"
      ]
     },
     "execution_count": 47,
     "metadata": {},
     "output_type": "execute_result"
    }
   ],
   "source": [
    "labels"
   ]
  },
  {
   "cell_type": "code",
   "execution_count": 48,
   "metadata": {},
   "outputs": [
    {
     "name": "stdout",
     "output_type": "stream",
     "text": [
      "Calculating CLASSIFICATION REPORT: \n",
      "              precision    recall  f1-score   support\n",
      "\n",
      "       covid       0.98      0.90      0.94       133\n",
      "      normal       0.91      0.98      0.94       133\n",
      "\n",
      "    accuracy                           0.94       266\n",
      "   macro avg       0.94      0.94      0.94       266\n",
      "weighted avg       0.94      0.94      0.94       266\n",
      "\n",
      "\n",
      "Calculating SENSITIVITY & SPECIFICITY..........:\n",
      "sensitivity = 0.9023\n",
      "specificity = 0.9774\n"
     ]
    }
   ],
   "source": [
    "print(\"Calculating CLASSIFICATION REPORT: \")\n",
    "classification_report = classification_report(y_true, y_pred, target_names=labels)\n",
    "print(classification_report)\n",
    "\n",
    "print(\"\\nCalculating SENSITIVITY & SPECIFICITY..........:\")\n",
    "cm = confusion_matrix(y_true, y_pred)\n",
    "total = sum(sum(cm))\n",
    "sensitivity = cm[0, 0] / (cm[0, 0] + cm[0, 1])\n",
    "specificity = cm[1, 1] / (cm[1, 0] + cm[1, 1])\n",
    "\n",
    "print(\"sensitivity = {:.4f}\".format(sensitivity))\n",
    "print(\"specificity = {:.4f}\".format(specificity))"
   ]
  },
  {
   "cell_type": "code",
   "execution_count": 49,
   "metadata": {},
   "outputs": [
    {
     "data": {
      "image/png": "[encoded data removed]",
      "text/plain": [
       "<Figure size 432x288 with 2 Axes>"
      ]
     },
     "metadata": {
      "needs_background": "light"
     },
     "output_type": "display_data"
    }
   ],
   "source": [
    "fig, ax = plot_confusion_matrix(conf_mat=cm,\n",
    "                                colorbar=True,\n",
    "                                show_absolute=True,\n",
    "                                class_names=labels,\n",
    "                                show_normed=True)\n",
    "\n",
    "plt.savefig(os.path.join(char, 'cm.eps'))\n",
    "plt.savefig(os.path.join(char, 'cm.jpg'))\n",
    "\n",
    "plt.show()"
   ]
  },
  {
   "cell_type": "code",
   "execution_count": 50,
   "metadata": {},
   "outputs": [
    {
     "data": {
      "text/plain": [
       "{'covid': 0, 'normal': 1}"
      ]
     },
     "execution_count": 50,
     "metadata": {},
     "output_type": "execute_result"
    }
   ],
   "source": [
    "labels"
   ]
  },
  {
   "cell_type": "code",
   "execution_count": 51,
   "metadata": {},
   "outputs": [
    {
     "name": "stdout",
     "output_type": "stream",
     "text": [
      "COVID-19 (518).jpg [[1. 0.]]\n",
      "NORMAL2-IM-1294-0001-0002.jpeg [[0. 1.]]\n"
     ]
    }
   ],
   "source": [
    "for i in range(class_no):\n",
    "    for filename in os.listdir(test_class_list[i]):\n",
    "        file = os.path.join(test_class_list[i], filename)\n",
    "        img = image.load_img(file, target_size=(h,w))\n",
    "        x = image.img_to_array(img)\n",
    "        x = np.expand_dims(x, axis=0)\n",
    "\n",
    "        images = np.vstack([x])\n",
    "\n",
    "        pred = model.predict(images, batch_size = batch_size)\n",
    "        pred_max = max_pred(pred)\n",
    "        \n",
    "        print(filename, pred)\n",
    "        break"
   ]
  },
  {
   "cell_type": "code",
   "execution_count": 52,
   "metadata": {},
   "outputs": [
    {
     "name": "stdout",
     "output_type": "stream",
     "text": [
      "Please read the text file named readme.txt for detailed information of the model.\n"
     ]
    }
   ],
   "source": [
    "from contextlib import redirect_stdout\n",
    "\n",
    "readme_name_text = \"readme.txt\"\n",
    "print(\"Please read the text file named \" + readme_name_text + \" for detailed information of the model.\")\n",
    "\n",
    "completeName_txt = os.path.join(char, readme_name_text) \n",
    "\n",
    "readme = open(completeName_txt, \"w\")\n",
    "\n",
    "if len(os.listdir(TRAINING_DIR)) > 2:\n",
    "    readme.write(\"This is a {}-class CLASSIFICATION\".format(len(os.listdir(TRAINING_DIR))))\n",
    "else:\n",
    "    readme.write(\"This is a BINARY CLASSIFICATION\")\n",
    "\n",
    "\n",
    "readme.write(\"\\n\\n--HYPERPARAMETERS--\\n\")\n",
    "readme.write(\"\\nInitial Learning Rate = \" + str(learning_rate))\n",
    "readme.write(\"\\nNo. of epochs = \" + str(len(acc)))\n",
    "readme.write(\"\\nBatch Size = \" + str(batch_size))\n",
    "\n",
    "\n",
    "readme.write(\"\\n\\n--MODEL-PARAMETERS--\")\n",
    "readme.write(\"\\nActivation Function = relu\")\n",
    "readme.write(\"\\nDropout = \" + str(int(dropout*100)) + \"%\")\n",
    "readme.write(\"\\nActivation function of the output layer = \" + str(output_activation))\n",
    "readme.write(\"\\nCost function of the model = \" + str(losses))\n",
    "readme.write(\"\\nOptimizer = \" + str(optimizer) + \"\\n\\n\")\n",
    "\n",
    "\n",
    "readme.write(\"Trained on a Custom Prebuilt Model\\n\")\n",
    "readme.write(\"Number of Conv layer = \" + str(conv_layer))\n",
    "readme.write(\"\\nFilter size = \" + str(conv_size)+ \"*\" + str(conv_size) + \"\\n\\n\")\n",
    "with redirect_stdout(readme):\n",
    "    model.summary()\n",
    "        \n",
    "    \n",
    "readme.write(\"\\n\\n--MODEL-PERFORMANCE--\")\n",
    "readme.write(\"\\nTest Accuracy = \" + str(test_accuracy) + \" %\")\n",
    "readme.write(\"\\nTest Precision = \" + str(test_precision) + \" %\")\n",
    "readme.write(\"\\nTest Recall = \" + str(test_recall) + \" %\")\n",
    "readme.write(\"\\nTrue Positive = \" + str(tp))\n",
    "readme.write(\"\\nTrue Negetive = \" + str(tn))\n",
    "readme.write(\"\\nFalse Positive = \" + str(fp))\n",
    "readme.write(\"\\nFalse Negetive = \" + str(fn))\n",
    "readme.write(\"\\nSensitivity = \" + str(sensitivity))\n",
    "readme.write(\"\\nSpecificity = \" + str(specificity) + \" \\n\\n\\n\")\n",
    "\n",
    "\n",
    "readme.write(\"\\n\\n--MODEL-CHARACTERISTICS--\")\n",
    "readme.write(\"\\nacc = \" + str(acc))\n",
    "readme.write(\"\\n\\nval_acc = \" + str(val_acc))\n",
    "readme.write(\"\\n\\nloss = \" + str(loss))\n",
    "readme.write(\"\\n\\nval_loss = \" + str(val_loss))\n",
    "\n",
    "\n",
    "readme.write(\"\\n\\n--Classification Report--\\n\")\n",
    "readme.write(classification_report)\n",
    "\n",
    "readme.write(\"\\nSensitivity = \" + str(int(sensitivity*100)) + \" %\")\n",
    "readme.write(\"\\nSpecificity = \" + str(int(specificity*100)) + \" %\")\n",
    "\n",
    "\n",
    "readme.write(\"\\nExecution Time: {} seconds\".format(duration))\n",
    "\n",
    "readme.write(\"\\n\\nCreated using Self-Regulated Image Classifier using Convolution Neural Network\")\n",
    "\n",
    "readme.close()"
   ]
  },
  {
   "cell_type": "code",
   "execution_count": null,
   "metadata": {},
   "outputs": [],
   "source": []
  }
 ],
 "metadata": {
  "kernelspec": {
   "display_name": "Python 3",
   "language": "python",
   "name": "python3"
  },
  "language_info": {
   "codemirror_mode": {
    "name": "ipython",
    "version": 3
   },
   "file_extension": ".py",
   "mimetype": "text/x-python",
   "name": "python",
   "nbconvert_exporter": "python",
   "pygments_lexer": "ipython3",
   "version": "3.8.5"
  }
 },
 "nbformat": 4,
 "nbformat_minor": 4
}
