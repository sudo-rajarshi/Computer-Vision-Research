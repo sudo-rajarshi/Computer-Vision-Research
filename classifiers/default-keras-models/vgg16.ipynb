{
 "cells": [
  {
   "cell_type": "code",
   "execution_count": 1,
   "metadata": {},
   "outputs": [],
   "source": [
    "import os\n",
    "os.environ['TF_CPP_MIN_LOG_LEVEL'] = '3' \n",
    "\n",
    "import cv2\n",
    "import random\n",
    "import shutil\n",
    "import time\n",
    "import matplotlib\n",
    "import glob\n",
    "import operator\n",
    "import psutil\n",
    "import numpy as np\n",
    "import math\n",
    "import matplotlib.pyplot as plt\n",
    "\n",
    "import tensorflow as tf\n",
    "from tensorflow import keras\n",
    "from tensorflow.keras.preprocessing import image\n",
    "from tensorflow.keras.preprocessing.image import ImageDataGenerator\n",
    "from tensorflow.keras.optimizers import *\n",
    "from tensorflow.keras.models import *\n",
    "from tensorflow.keras.layers import *\n",
    "from tensorflow.keras.regularizers import l2\n",
    "\n",
    "from shutil import copyfile\n",
    "import pandas as pd\n",
    "import PIL\n",
    "from mlxtend.plotting import plot_confusion_matrix\n",
    "from tqdm import tqdm "
   ]
  },
  {
   "cell_type": "code",
   "execution_count": 2,
   "metadata": {},
   "outputs": [
    {
     "name": "stdout",
     "output_type": "stream",
     "text": [
      "Using GPU\n"
     ]
    }
   ],
   "source": [
    "physical_devices = tf.config.experimental.list_physical_devices('GPU')\n",
    "\n",
    "if physical_devices != []:\n",
    "    print(\"Using GPU\")\n",
    "    for i in physical_devices:\n",
    "        tf.config.experimental.set_memory_growth(i, True)\n",
    "else:\n",
    "    print(\"Using CPU\")\n",
    "    pass"
   ]
  },
  {
   "cell_type": "code",
   "execution_count": 3,
   "metadata": {},
   "outputs": [
    {
     "name": "stdout",
     "output_type": "stream",
     "text": [
      "Path where 'classify train' directory belongs: /mnt/87433d53-66f3-438e-a7f4-fc990fe61283/PROJECTS/JRF/sound-classification/specs\n"
     ]
    }
   ],
   "source": [
    "root_dir = str(input(\"Path where 'classify train' directory belongs: \"))\n",
    "classify_train = os.path.join(root_dir, 'classify train')\n",
    "\n",
    "train_directory = os.path.join(classify_train, 'training')\n",
    "validation_directory = os.path.join(classify_train, 'validation')\n",
    "test_directory = os.path.join(classify_train, 'testing')"
   ]
  },
  {
   "cell_type": "code",
   "execution_count": 4,
   "metadata": {},
   "outputs": [
    {
     "data": {
      "text/plain": [
       "('/mnt/87433d53-66f3-438e-a7f4-fc990fe61283/PROJECTS/JRF/sound-classification/specs/classify train/training',\n",
       " '/mnt/87433d53-66f3-438e-a7f4-fc990fe61283/PROJECTS/JRF/sound-classification/specs/classify train/validation',\n",
       " '/mnt/87433d53-66f3-438e-a7f4-fc990fe61283/PROJECTS/JRF/sound-classification/specs/classify train/testing')"
      ]
     },
     "execution_count": 4,
     "metadata": {},
     "output_type": "execute_result"
    }
   ],
   "source": [
    "train_directory, validation_directory, test_directory"
   ]
  },
  {
   "cell_type": "code",
   "execution_count": 5,
   "metadata": {},
   "outputs": [
    {
     "name": "stdout",
     "output_type": "stream",
     "text": [
      "Enter the initial learning rate: 0.001\n",
      "Enter the maximum number of epochs: 100\n",
      "Enter batch size: 8\n"
     ]
    }
   ],
   "source": [
    "learning_rate = float(input(\"Enter the initial learning rate: \"))\n",
    "epoch = int(input(\"Enter the maximum number of epochs: \"))\n",
    "batch_size = int(input(\"Enter batch size: \"))"
   ]
  },
  {
   "cell_type": "code",
   "execution_count": 6,
   "metadata": {},
   "outputs": [
    {
     "name": "stdout",
     "output_type": "stream",
     "text": [
      "Enter name of the characteristics folder: vgg16\n",
      "Folder already exists ! Do you want to replace it ?(Y/N) y\n"
     ]
    }
   ],
   "source": [
    "char_name = str(input(\"Enter name of the characteristics folder: \"))\n",
    "\n",
    "char = os.path.join(root_dir, char_name)\n",
    "\n",
    "if not os.path.exists(char):\n",
    "    os.mkdir(char)\n",
    "else:\n",
    "    replace = str(input(\"Folder already exists ! Do you want to replace it ?(Y/N) \"))\n",
    "    if replace.upper() == 'Y':      \n",
    "        shutil.rmtree(char)\n",
    "        os.mkdir(char)\n",
    "    elif replace.upper() == 'N':\n",
    "        print('\\nThe following folders already exist:')\n",
    "        for i in os.listdir(root_dir): \n",
    "            print(i)\n",
    "        char_name = str(input(\"\\nEnter a new name of the characteristics folder: \"))\n",
    "        char = os.path.join(root_dir, char_name)\n",
    "        if not os.path.exists(char):\n",
    "            os.mkdir(char)\n",
    "        else:\n",
    "            print(f\"{char_name} replaced\")\n",
    "            shutil.rmtree(char)\n",
    "            os.mkdir(char)"
   ]
  },
  {
   "cell_type": "code",
   "execution_count": 7,
   "metadata": {},
   "outputs": [],
   "source": [
    "steps = 10 # change steps to 1 to apply exponential decay\n",
    "\n",
    "def lr_schedule(epoch):\n",
    "    return learning_rate * (0.1 ** int(epoch / steps))\n",
    "    \n",
    "best_model_address = os.path.join(char, 'best_model.h5')"
   ]
  },
  {
   "cell_type": "code",
   "execution_count": 8,
   "metadata": {},
   "outputs": [
    {
     "name": "stdout",
     "output_type": "stream",
     "text": [
      "Press 1 to monitor Validation Accuracy\n",
      "Press 2 to monitor Validation Loss\n",
      "Press 3 to monitor Training Accuracy\n",
      "Press 4 to monitor Training Loss\n",
      "4\n",
      "Enter number of epochs that will produce monitored quantity with no improvement after which training will be stopped: 10\n",
      "\n",
      "MONITORING TRAINING LOSS..........\n",
      "\n",
      "\n",
      "Training will stop if loss doesn't show any improvements for 10 epcohs\n",
      "\n"
     ]
    }
   ],
   "source": [
    "monitor = int(input(\"Press 1 to monitor Validation Accuracy\\nPress 2 to monitor Validation Loss\\nPress 3 to monitor Training Accuracy\\nPress 4 to monitor Training Loss\\n\"))\n",
    "patience = int(input('Enter number of epochs that will produce monitored quantity with no improvement after which training will be stopped: '))\n",
    "\n",
    "\n",
    "if monitor == 1:\n",
    "    metric = 'val_accuracy'\n",
    "    mode = 'max'\n",
    "    print(\"\\nMONITORING VALIDATION ACCURACY..........\\n\")\n",
    "\n",
    "elif monitor == 2:\n",
    "    metric = 'val_loss'\n",
    "    mode = 'min'\n",
    "    print(\"\\nMONITORING VALIDATION LOSS..........\\n\")\n",
    "\n",
    "elif monitor == 3:\n",
    "    metric = 'accuracy'\n",
    "    mode = 'max'\n",
    "    print(\"\\nMONITORING TRAINING ACCURACY..........\\n\")\n",
    "\n",
    "elif monitor == 4:\n",
    "    metric = 'loss'\n",
    "    mode = 'min'\n",
    "    print(\"\\nMONITORING TRAINING LOSS..........\\n\")\n",
    "\n",
    "callback = [keras.callbacks.LearningRateScheduler(lr_schedule, verbose = 1),\n",
    "            keras.callbacks.EarlyStopping(monitor = metric, min_delta = 0.001, patience = patience, verbose=1, mode = mode, restore_best_weights = True),\n",
    "            keras.callbacks.ModelCheckpoint(best_model_address, monitor = metric, verbose=1, save_best_only=True, save_weights_only=False, mode = mode)]\n",
    "\n",
    "print(f\"\\nTraining will stop if {metric} doesn't show any improvements for {patience} epcohs\\n\")"
   ]
  },
  {
   "cell_type": "code",
   "execution_count": 9,
   "metadata": {},
   "outputs": [],
   "source": [
    "def VGG16():\n",
    "    print(\"\\nTRAINING ON VGG16 MODEL:-\")\n",
    "\n",
    "    base_model = tf.keras.applications.VGG16(input_shape = dim, weights = 'imagenet', include_top = False)\n",
    "\n",
    "    x = base_model.output\n",
    "    \n",
    "    x = Flatten()(x)\n",
    "    \n",
    "    x = Dense(256)(x)\n",
    "    \n",
    "    predictions = Dense(output_neurons, activation = output_activation)(x)  \n",
    "\n",
    "    model = Model(inputs = base_model.input, outputs=predictions)\n",
    "\n",
    "    train_base_model = str(input(\"Do you want to extract features using VGG16?(Y/N) \"))\n",
    "    if train_base_model.upper() == 'Y':\n",
    "        for layer in base_model.layers:\n",
    "            layer.trainable = True\n",
    "    elif train_base_model.upper() == 'N':\n",
    "        for layer in base_model.layers:\n",
    "            layer.trainable = False\n",
    "\n",
    "    return model"
   ]
  },
  {
   "cell_type": "code",
   "execution_count": 10,
   "metadata": {},
   "outputs": [
    {
     "name": "stdout",
     "output_type": "stream",
     "text": [
      "This is a 3-Class Classification\n"
     ]
    }
   ],
   "source": [
    "class_no = len(os.listdir(train_directory))\n",
    "\n",
    "print(\"This is a \" + str(class_no) + \"-Class Classification\")\n",
    "\n",
    "if class_no <= 2:\n",
    "    class_mode = 'binary'\n",
    "    output_activation = 'sigmoid'\n",
    "    output_neurons = 1\n",
    "    losses = 'binary_crossentropy'\n",
    "\n",
    "else:\n",
    "    class_mode = 'categorical'\n",
    "    output_activation = 'softmax'\n",
    "    output_neurons = class_no\n",
    "    losses = 'categorical_crossentropy'"
   ]
  },
  {
   "cell_type": "code",
   "execution_count": 11,
   "metadata": {},
   "outputs": [],
   "source": [
    "def optimizer_selection():\n",
    "    print(\"\\nSelect a optimizer which will reduce the loss of the model.\\n\")\n",
    "\n",
    "    optimizer_select = int(input(\"Press 1 to select Stochastic Gradient Descent\\nPress 2 to select RMSprop\\nPress 3 to select Adagrad\\nPress 4 to select Adadelta\\nPress 5 to select Adam\\nPress 6 to select Adamax\\nPress 7 to select Nadam\\n\"))\n",
    "\n",
    "    if optimizer_select == 1:\n",
    "        optimizer = SGD(lr = learning_rate, decay = 1e-6, momentum = 0.9, nesterov = True)\n",
    "\n",
    "    elif optimizer_select == 2:\n",
    "        optimizer = RMSprop(learning_rate, rho = 0.9)\n",
    "\n",
    "    elif optimizer_select == 3:\n",
    "        optimizer = Adagrad(learning_rate)\n",
    "\n",
    "    elif optimizer_select == 4:\n",
    "        optimizer = Adadelta(learning_rate, rho = 0.95)\n",
    "\n",
    "    elif optimizer_select == 5:\n",
    "        optimizer = Adam(learning_rate = learning_rate, beta_1 = 0.9, beta_2 = 0.999, amsgrad = False)\n",
    "\n",
    "    elif optimizer_select == 6:\n",
    "        optimizer = Adamax(learning_rate = learning_rate, beta_1 = 0.9, beta_2 = 0.999)\n",
    "\n",
    "    elif optimizer_select == 7:\n",
    "        optimizer = Nadam(learning_rate = learning_rate, beta_1 = 0.9, beta_2 = 0.999)\n",
    "   \n",
    "    return optimizer"
   ]
  },
  {
   "cell_type": "code",
   "execution_count": 12,
   "metadata": {},
   "outputs": [
    {
     "name": "stdout",
     "output_type": "stream",
     "text": [
      "Image Dimension(H or W): 128\n",
      "Press 1 for RGB \n",
      "Press 2 for Grayscale 1\n"
     ]
    }
   ],
   "source": [
    "h = int(input(\"Image Dimension(H or W): \"))\n",
    "w = h\n",
    "color = int(input(\"Press 1 for RGB \\nPress 2 for Grayscale \"))\n",
    "if color == 1:\n",
    "    color_mode = 'rgb'\n",
    "    dim = (h,w,3)\n",
    "elif color == 2:\n",
    "    color_mode = 'grayscale'\n",
    "    dim = (h,w,1)"
   ]
  },
  {
   "cell_type": "code",
   "execution_count": 13,
   "metadata": {},
   "outputs": [
    {
     "name": "stdout",
     "output_type": "stream",
     "text": [
      "Found 848 images belonging to 3 classes.\n",
      "Found 104 images belonging to 3 classes.\n",
      "Found 104 images belonging to 3 classes.\n"
     ]
    }
   ],
   "source": [
    "train_datagen = ImageDataGenerator(rescale=1.0/255.)\n",
    "train_generator = train_datagen.flow_from_directory(train_directory,\n",
    "                                                    batch_size = batch_size,\n",
    "                                                    class_mode = class_mode,\n",
    "                                                    color_mode = color_mode,\n",
    "                                                    target_size = (h,w),\n",
    "                                                    shuffle=True)\n",
    "\n",
    "validation_datagen = ImageDataGenerator(rescale=1.0/255.)\n",
    "validation_generator = validation_datagen.flow_from_directory(validation_directory,\n",
    "                                                              batch_size = batch_size,\n",
    "                                                              class_mode = class_mode,\n",
    "                                                              color_mode = color_mode,\n",
    "                                                              target_size = (h,w),\n",
    "                                                              shuffle=True)\n",
    "\n",
    "test_datagen = ImageDataGenerator(rescale=1.0/255.)\n",
    "test_generator = test_datagen.flow_from_directory(test_directory,\n",
    "                                                  batch_size = batch_size,\n",
    "                                                  class_mode = class_mode,\n",
    "                                                  color_mode = color_mode,\n",
    "                                                  target_size = (h,w),\n",
    "                                                  shuffle=True)"
   ]
  },
  {
   "cell_type": "code",
   "execution_count": 14,
   "metadata": {},
   "outputs": [
    {
     "name": "stdout",
     "output_type": "stream",
     "text": [
      "\n",
      "Select a optimizer which will reduce the loss of the model.\n",
      "\n",
      "Press 1 to select Stochastic Gradient Descent\n",
      "Press 2 to select RMSprop\n",
      "Press 3 to select Adagrad\n",
      "Press 4 to select Adadelta\n",
      "Press 5 to select Adam\n",
      "Press 6 to select Adamax\n",
      "Press 7 to select Nadam\n",
      "5\n"
     ]
    }
   ],
   "source": [
    "optimizer = optimizer_selection()"
   ]
  },
  {
   "cell_type": "code",
   "execution_count": 15,
   "metadata": {
    "scrolled": true
   },
   "outputs": [
    {
     "name": "stdout",
     "output_type": "stream",
     "text": [
      "\n",
      "TRAINING ON VGG16 MODEL:-\n",
      "Do you want to extract features using VGG16?(Y/N) n\n",
      "Model: \"model\"\n",
      "_________________________________________________________________\n",
      "Layer (type)                 Output Shape              Param #   \n",
      "=================================================================\n",
      "input_1 (InputLayer)         [(None, 128, 128, 3)]     0         \n",
      "_________________________________________________________________\n",
      "block1_conv1 (Conv2D)        (None, 128, 128, 64)      1792      \n",
      "_________________________________________________________________\n",
      "block1_conv2 (Conv2D)        (None, 128, 128, 64)      36928     \n",
      "_________________________________________________________________\n",
      "block1_pool (MaxPooling2D)   (None, 64, 64, 64)        0         \n",
      "_________________________________________________________________\n",
      "block2_conv1 (Conv2D)        (None, 64, 64, 128)       73856     \n",
      "_________________________________________________________________\n",
      "block2_conv2 (Conv2D)        (None, 64, 64, 128)       147584    \n",
      "_________________________________________________________________\n",
      "block2_pool (MaxPooling2D)   (None, 32, 32, 128)       0         \n",
      "_________________________________________________________________\n",
      "block3_conv1 (Conv2D)        (None, 32, 32, 256)       295168    \n",
      "_________________________________________________________________\n",
      "block3_conv2 (Conv2D)        (None, 32, 32, 256)       590080    \n",
      "_________________________________________________________________\n",
      "block3_conv3 (Conv2D)        (None, 32, 32, 256)       590080    \n",
      "_________________________________________________________________\n",
      "block3_pool (MaxPooling2D)   (None, 16, 16, 256)       0         \n",
      "_________________________________________________________________\n",
      "block4_conv1 (Conv2D)        (None, 16, 16, 512)       1180160   \n",
      "_________________________________________________________________\n",
      "block4_conv2 (Conv2D)        (None, 16, 16, 512)       2359808   \n",
      "_________________________________________________________________\n",
      "block4_conv3 (Conv2D)        (None, 16, 16, 512)       2359808   \n",
      "_________________________________________________________________\n",
      "block4_pool (MaxPooling2D)   (None, 8, 8, 512)         0         \n",
      "_________________________________________________________________\n",
      "block5_conv1 (Conv2D)        (None, 8, 8, 512)         2359808   \n",
      "_________________________________________________________________\n",
      "block5_conv2 (Conv2D)        (None, 8, 8, 512)         2359808   \n",
      "_________________________________________________________________\n",
      "block5_conv3 (Conv2D)        (None, 8, 8, 512)         2359808   \n",
      "_________________________________________________________________\n",
      "block5_pool (MaxPooling2D)   (None, 4, 4, 512)         0         \n",
      "_________________________________________________________________\n",
      "flatten (Flatten)            (None, 8192)              0         \n",
      "_________________________________________________________________\n",
      "dense (Dense)                (None, 256)               2097408   \n",
      "_________________________________________________________________\n",
      "dense_1 (Dense)              (None, 3)                 771       \n",
      "=================================================================\n",
      "Total params: 16,812,867\n",
      "Trainable params: 2,098,179\n",
      "Non-trainable params: 14,714,688\n",
      "_________________________________________________________________\n"
     ]
    }
   ],
   "source": [
    "model = VGG16()\n",
    "model.compile(optimizer = optimizer, loss = losses, metrics = ['accuracy', \n",
    "                                                               tf.keras.metrics.Precision(), \n",
    "                                                               tf.keras.metrics.Recall(), \n",
    "                                                               tf.keras.metrics.TruePositives(), \n",
    "                                                               tf.keras.metrics.TrueNegatives(), \n",
    "                                                               tf.keras.metrics.FalsePositives(),\n",
    "                                                               tf.keras.metrics.FalseNegatives()])\n",
    "\n",
    "\n",
    "model.summary()"
   ]
  },
  {
   "cell_type": "code",
   "execution_count": 16,
   "metadata": {},
   "outputs": [
    {
     "name": "stdout",
     "output_type": "stream",
     "text": [
      "Epoch 1/100\n",
      "\n",
      "Epoch 00001: LearningRateScheduler reducing learning rate to 0.001.\n",
      "106/106 [==============================] - 7s 27ms/step - loss: 4.3567 - accuracy: 0.3753 - precision: 0.3820 - recall: 0.3683 - true_positives: 171.3458 - true_negatives: 617.9252 - false_positives: 245.9252 - false_negatives: 260.5794 - val_loss: 0.9842 - val_accuracy: 0.5865 - val_precision: 0.5979 - val_recall: 0.5577 - val_true_positives: 58.0000 - val_true_negatives: 169.0000 - val_false_positives: 39.0000 - val_false_negatives: 46.0000\n",
      "\n",
      "Epoch 00001: loss improved from inf to 2.79218, saving model to /mnt/87433d53-66f3-438e-a7f4-fc990fe61283/PROJECTS/JRF/sound-classification/specs/vgg16/best_model.h5\n",
      "Epoch 2/100\n",
      "\n",
      "Epoch 00002: LearningRateScheduler reducing learning rate to 0.001.\n",
      "106/106 [==============================] - 2s 20ms/step - loss: 0.6835 - accuracy: 0.7368 - precision: 0.7520 - recall: 0.6996 - true_positives: 306.9626 - true_negatives: 769.0935 - false_positives: 94.7570 - false_negatives: 124.9626 - val_loss: 0.7720 - val_accuracy: 0.7019 - val_precision: 0.6970 - val_recall: 0.6635 - val_true_positives: 69.0000 - val_true_negatives: 178.0000 - val_false_positives: 30.0000 - val_false_negatives: 35.0000\n",
      "\n",
      "Epoch 00002: loss improved from 2.79218 to 0.62894, saving model to /mnt/87433d53-66f3-438e-a7f4-fc990fe61283/PROJECTS/JRF/sound-classification/specs/vgg16/best_model.h5\n",
      "Epoch 3/100\n",
      "\n",
      "Epoch 00003: LearningRateScheduler reducing learning rate to 0.001.\n",
      "106/106 [==============================] - 2s 20ms/step - loss: 0.5248 - accuracy: 0.7980 - precision: 0.8084 - recall: 0.7814 - true_positives: 336.7290 - true_negatives: 784.4486 - false_positives: 79.4019 - false_negatives: 95.1963 - val_loss: 0.5731 - val_accuracy: 0.7596 - val_precision: 0.8085 - val_recall: 0.7308 - val_true_positives: 76.0000 - val_true_negatives: 190.0000 - val_false_positives: 18.0000 - val_false_negatives: 28.0000\n",
      "\n",
      "Epoch 00003: loss improved from 0.62894 to 0.53127, saving model to /mnt/87433d53-66f3-438e-a7f4-fc990fe61283/PROJECTS/JRF/sound-classification/specs/vgg16/best_model.h5\n",
      "Epoch 4/100\n",
      "\n",
      "Epoch 00004: LearningRateScheduler reducing learning rate to 0.001.\n",
      "106/106 [==============================] - 2s 21ms/step - loss: 0.2674 - accuracy: 0.9159 - precision: 0.9229 - recall: 0.8952 - true_positives: 389.8131 - true_negatives: 833.8972 - false_positives: 29.9533 - false_negatives: 42.1121 - val_loss: 0.3834 - val_accuracy: 0.8654 - val_precision: 0.8788 - val_recall: 0.8365 - val_true_positives: 87.0000 - val_true_negatives: 196.0000 - val_false_positives: 12.0000 - val_false_negatives: 17.0000\n",
      "\n",
      "Epoch 00004: loss improved from 0.53127 to 0.24124, saving model to /mnt/87433d53-66f3-438e-a7f4-fc990fe61283/PROJECTS/JRF/sound-classification/specs/vgg16/best_model.h5\n",
      "Epoch 5/100\n",
      "\n",
      "Epoch 00005: LearningRateScheduler reducing learning rate to 0.001.\n",
      "106/106 [==============================] - 2s 21ms/step - loss: 0.1589 - accuracy: 0.9503 - precision: 0.9543 - recall: 0.9490 - true_positives: 405.5421 - true_negatives: 840.9907 - false_positives: 22.8598 - false_negatives: 26.3832 - val_loss: 0.9519 - val_accuracy: 0.6442 - val_precision: 0.6500 - val_recall: 0.6250 - val_true_positives: 65.0000 - val_true_negatives: 173.0000 - val_false_positives: 35.0000 - val_false_negatives: 39.0000\n",
      "\n",
      "Epoch 00005: loss improved from 0.24124 to 0.20256, saving model to /mnt/87433d53-66f3-438e-a7f4-fc990fe61283/PROJECTS/JRF/sound-classification/specs/vgg16/best_model.h5\n",
      "Epoch 6/100\n",
      "\n",
      "Epoch 00006: LearningRateScheduler reducing learning rate to 0.001.\n",
      "106/106 [==============================] - 2s 21ms/step - loss: 0.2312 - accuracy: 0.9105 - precision: 0.9291 - recall: 0.9072 - true_positives: 394.8037 - true_negatives: 834.9065 - false_positives: 28.9439 - false_negatives: 37.1215 - val_loss: 0.3988 - val_accuracy: 0.8462 - val_precision: 0.8614 - val_recall: 0.8365 - val_true_positives: 87.0000 - val_true_negatives: 194.0000 - val_false_positives: 14.0000 - val_false_negatives: 17.0000\n",
      "\n",
      "Epoch 00006: loss did not improve from 0.20256\n",
      "Epoch 7/100\n",
      "\n",
      "Epoch 00007: LearningRateScheduler reducing learning rate to 0.001.\n",
      "106/106 [==============================] - 2s 20ms/step - loss: 0.1446 - accuracy: 0.9377 - precision: 0.9435 - recall: 0.9331 - true_positives: 401.7664 - true_negatives: 838.3458 - false_positives: 25.5047 - false_negatives: 30.1589 - val_loss: 0.4202 - val_accuracy: 0.8173 - val_precision: 0.8252 - val_recall: 0.8173 - val_true_positives: 85.0000 - val_true_negatives: 190.0000 - val_false_positives: 18.0000 - val_false_negatives: 19.0000\n",
      "\n",
      "Epoch 00007: loss improved from 0.20256 to 0.14956, saving model to /mnt/87433d53-66f3-438e-a7f4-fc990fe61283/PROJECTS/JRF/sound-classification/specs/vgg16/best_model.h5\n",
      "Epoch 8/100\n",
      "\n",
      "Epoch 00008: LearningRateScheduler reducing learning rate to 0.001.\n",
      "106/106 [==============================] - 2s 23ms/step - loss: 0.1700 - accuracy: 0.9352 - precision: 0.9456 - recall: 0.9293 - true_positives: 397.8037 - true_negatives: 837.0187 - false_positives: 26.8318 - false_negatives: 34.1215 - val_loss: 0.3565 - val_accuracy: 0.8558 - val_precision: 0.8673 - val_recall: 0.8173 - val_true_positives: 85.0000 - val_true_negatives: 195.0000 - val_false_positives: 13.0000 - val_false_negatives: 19.0000\n",
      "\n",
      "Epoch 00008: loss did not improve from 0.14956\n",
      "Epoch 9/100\n",
      "\n",
      "Epoch 00009: LearningRateScheduler reducing learning rate to 0.001.\n",
      "106/106 [==============================] - 2s 21ms/step - loss: 0.0599 - accuracy: 0.9859 - precision: 0.9858 - recall: 0.9828 - true_positives: 423.7850 - true_negatives: 857.2430 - false_positives: 6.6075 - false_negatives: 8.1402 - val_loss: 0.3829 - val_accuracy: 0.8462 - val_precision: 0.8529 - val_recall: 0.8365 - val_true_positives: 87.0000 - val_true_negatives: 193.0000 - val_false_positives: 15.0000 - val_false_negatives: 17.0000\n",
      "\n",
      "Epoch 00009: loss improved from 0.14956 to 0.08233, saving model to /mnt/87433d53-66f3-438e-a7f4-fc990fe61283/PROJECTS/JRF/sound-classification/specs/vgg16/best_model.h5\n",
      "Epoch 10/100\n",
      "\n",
      "Epoch 00010: LearningRateScheduler reducing learning rate to 0.001.\n",
      "106/106 [==============================] - 2s 21ms/step - loss: 0.2090 - accuracy: 0.9337 - precision: 0.9374 - recall: 0.9214 - true_positives: 399.9720 - true_negatives: 837.4766 - false_positives: 26.3738 - false_negatives: 31.9533 - val_loss: 1.5999 - val_accuracy: 0.5769 - val_precision: 0.5825 - val_recall: 0.5769 - val_true_positives: 60.0000 - val_true_negatives: 165.0000 - val_false_positives: 43.0000 - val_false_negatives: 44.0000\n",
      "\n",
      "Epoch 00010: loss did not improve from 0.08233\n",
      "Epoch 11/100\n",
      "\n",
      "Epoch 00011: LearningRateScheduler reducing learning rate to 0.0001.\n",
      "106/106 [==============================] - 2s 21ms/step - loss: 0.2103 - accuracy: 0.9324 - precision: 0.9351 - recall: 0.9324 - true_positives: 414.3551 - true_negatives: 847.2056 - false_positives: 16.6449 - false_negatives: 17.5701 - val_loss: 0.2225 - val_accuracy: 0.9038 - val_precision: 0.9126 - val_recall: 0.9038 - val_true_positives: 94.0000 - val_true_negatives: 199.0000 - val_false_positives: 9.0000 - val_false_negatives: 10.0000\n",
      "\n",
      "Epoch 00011: loss improved from 0.08233 to 0.08212, saving model to /mnt/87433d53-66f3-438e-a7f4-fc990fe61283/PROJECTS/JRF/sound-classification/specs/vgg16/best_model.h5\n",
      "Epoch 12/100\n",
      "\n",
      "Epoch 00012: LearningRateScheduler reducing learning rate to 0.0001.\n",
      "106/106 [==============================] - 2s 20ms/step - loss: 0.0219 - accuracy: 0.9998 - precision: 0.9998 - recall: 0.9998 - true_positives: 431.7757 - true_negatives: 863.7009 - false_positives: 0.1495 - false_negatives: 0.1495 - val_loss: 0.2124 - val_accuracy: 0.9327 - val_precision: 0.9320 - val_recall: 0.9231 - val_true_positives: 96.0000 - val_true_negatives: 201.0000 - val_false_positives: 7.0000 - val_false_negatives: 8.0000\n",
      "\n",
      "Epoch 00012: loss improved from 0.08212 to 0.02221, saving model to /mnt/87433d53-66f3-438e-a7f4-fc990fe61283/PROJECTS/JRF/sound-classification/specs/vgg16/best_model.h5\n",
      "Epoch 13/100\n",
      "\n",
      "Epoch 00013: LearningRateScheduler reducing learning rate to 0.0001.\n"
     ]
    },
    {
     "name": "stdout",
     "output_type": "stream",
     "text": [
      "106/106 [==============================] - 2s 21ms/step - loss: 0.0191 - accuracy: 1.0000 - precision: 1.0000 - recall: 1.0000 - true_positives: 431.9252 - true_negatives: 863.8505 - false_positives: 0.0000e+00 - false_negatives: 0.0000e+00 - val_loss: 0.2068 - val_accuracy: 0.9231 - val_precision: 0.9223 - val_recall: 0.9135 - val_true_positives: 95.0000 - val_true_negatives: 200.0000 - val_false_positives: 8.0000 - val_false_negatives: 9.0000\n",
      "\n",
      "Epoch 00013: loss improved from 0.02221 to 0.01877, saving model to /mnt/87433d53-66f3-438e-a7f4-fc990fe61283/PROJECTS/JRF/sound-classification/specs/vgg16/best_model.h5\n",
      "Epoch 14/100\n",
      "\n",
      "Epoch 00014: LearningRateScheduler reducing learning rate to 0.0001.\n",
      "106/106 [==============================] - 2s 20ms/step - loss: 0.0165 - accuracy: 1.0000 - precision: 1.0000 - recall: 1.0000 - true_positives: 431.9252 - true_negatives: 863.8505 - false_positives: 0.0000e+00 - false_negatives: 0.0000e+00 - val_loss: 0.2071 - val_accuracy: 0.9327 - val_precision: 0.9417 - val_recall: 0.9327 - val_true_positives: 97.0000 - val_true_negatives: 202.0000 - val_false_positives: 6.0000 - val_false_negatives: 7.0000\n",
      "\n",
      "Epoch 00014: loss improved from 0.01877 to 0.01678, saving model to /mnt/87433d53-66f3-438e-a7f4-fc990fe61283/PROJECTS/JRF/sound-classification/specs/vgg16/best_model.h5\n",
      "Epoch 15/100\n",
      "\n",
      "Epoch 00015: LearningRateScheduler reducing learning rate to 0.0001.\n",
      "106/106 [==============================] - 2s 20ms/step - loss: 0.0168 - accuracy: 1.0000 - precision: 1.0000 - recall: 1.0000 - true_positives: 431.9252 - true_negatives: 863.8505 - false_positives: 0.0000e+00 - false_negatives: 0.0000e+00 - val_loss: 0.2013 - val_accuracy: 0.9231 - val_precision: 0.9320 - val_recall: 0.9231 - val_true_positives: 96.0000 - val_true_negatives: 201.0000 - val_false_positives: 7.0000 - val_false_negatives: 8.0000\n",
      "\n",
      "Epoch 00015: loss improved from 0.01678 to 0.01523, saving model to /mnt/87433d53-66f3-438e-a7f4-fc990fe61283/PROJECTS/JRF/sound-classification/specs/vgg16/best_model.h5\n",
      "Epoch 16/100\n",
      "\n",
      "Epoch 00016: LearningRateScheduler reducing learning rate to 0.0001.\n",
      "106/106 [==============================] - 2s 20ms/step - loss: 0.0141 - accuracy: 1.0000 - precision: 1.0000 - recall: 1.0000 - true_positives: 431.9252 - true_negatives: 863.8505 - false_positives: 0.0000e+00 - false_negatives: 0.0000e+00 - val_loss: 0.2153 - val_accuracy: 0.9135 - val_precision: 0.9223 - val_recall: 0.9135 - val_true_positives: 95.0000 - val_true_negatives: 200.0000 - val_false_positives: 8.0000 - val_false_negatives: 9.0000\n",
      "\n",
      "Epoch 00016: loss improved from 0.01523 to 0.01424, saving model to /mnt/87433d53-66f3-438e-a7f4-fc990fe61283/PROJECTS/JRF/sound-classification/specs/vgg16/best_model.h5\n",
      "Epoch 17/100\n",
      "\n",
      "Epoch 00017: LearningRateScheduler reducing learning rate to 0.0001.\n",
      "106/106 [==============================] - 2s 20ms/step - loss: 0.0136 - accuracy: 1.0000 - precision: 1.0000 - recall: 1.0000 - true_positives: 431.9252 - true_negatives: 863.8505 - false_positives: 0.0000e+00 - false_negatives: 0.0000e+00 - val_loss: 0.1972 - val_accuracy: 0.9231 - val_precision: 0.9300 - val_recall: 0.8942 - val_true_positives: 93.0000 - val_true_negatives: 201.0000 - val_false_positives: 7.0000 - val_false_negatives: 11.0000\n",
      "\n",
      "Epoch 00017: loss improved from 0.01424 to 0.01370, saving model to /mnt/87433d53-66f3-438e-a7f4-fc990fe61283/PROJECTS/JRF/sound-classification/specs/vgg16/best_model.h5\n",
      "Epoch 18/100\n",
      "\n",
      "Epoch 00018: LearningRateScheduler reducing learning rate to 0.0001.\n",
      "106/106 [==============================] - 2s 20ms/step - loss: 0.0132 - accuracy: 1.0000 - precision: 1.0000 - recall: 1.0000 - true_positives: 431.9252 - true_negatives: 863.8505 - false_positives: 0.0000e+00 - false_negatives: 0.0000e+00 - val_loss: 0.1910 - val_accuracy: 0.9038 - val_precision: 0.9126 - val_recall: 0.9038 - val_true_positives: 94.0000 - val_true_negatives: 199.0000 - val_false_positives: 9.0000 - val_false_negatives: 10.0000\n",
      "\n",
      "Epoch 00018: loss improved from 0.01370 to 0.01304, saving model to /mnt/87433d53-66f3-438e-a7f4-fc990fe61283/PROJECTS/JRF/sound-classification/specs/vgg16/best_model.h5\n",
      "Epoch 19/100\n",
      "\n",
      "Epoch 00019: LearningRateScheduler reducing learning rate to 0.0001.\n",
      "106/106 [==============================] - 2s 20ms/step - loss: 0.0105 - accuracy: 1.0000 - precision: 1.0000 - recall: 1.0000 - true_positives: 431.9252 - true_negatives: 863.8505 - false_positives: 0.0000e+00 - false_negatives: 0.0000e+00 - val_loss: 0.1895 - val_accuracy: 0.9327 - val_precision: 0.9320 - val_recall: 0.9231 - val_true_positives: 96.0000 - val_true_negatives: 201.0000 - val_false_positives: 7.0000 - val_false_negatives: 8.0000\n",
      "\n",
      "Epoch 00019: loss improved from 0.01304 to 0.01168, saving model to /mnt/87433d53-66f3-438e-a7f4-fc990fe61283/PROJECTS/JRF/sound-classification/specs/vgg16/best_model.h5\n",
      "Epoch 20/100\n",
      "\n",
      "Epoch 00020: LearningRateScheduler reducing learning rate to 0.0001.\n",
      "106/106 [==============================] - 2s 20ms/step - loss: 0.0110 - accuracy: 1.0000 - precision: 1.0000 - recall: 1.0000 - true_positives: 431.9252 - true_negatives: 863.8505 - false_positives: 0.0000e+00 - false_negatives: 0.0000e+00 - val_loss: 0.1912 - val_accuracy: 0.9135 - val_precision: 0.9314 - val_recall: 0.9135 - val_true_positives: 95.0000 - val_true_negatives: 201.0000 - val_false_positives: 7.0000 - val_false_negatives: 9.0000\n",
      "\n",
      "Epoch 00020: loss improved from 0.01168 to 0.01150, saving model to /mnt/87433d53-66f3-438e-a7f4-fc990fe61283/PROJECTS/JRF/sound-classification/specs/vgg16/best_model.h5\n",
      "Epoch 21/100\n",
      "\n",
      "Epoch 00021: LearningRateScheduler reducing learning rate to 1.0000000000000003e-05.\n",
      "106/106 [==============================] - 2s 20ms/step - loss: 0.0102 - accuracy: 1.0000 - precision: 1.0000 - recall: 1.0000 - true_positives: 431.9252 - true_negatives: 863.8505 - false_positives: 0.0000e+00 - false_negatives: 0.0000e+00 - val_loss: 0.1894 - val_accuracy: 0.9135 - val_precision: 0.9223 - val_recall: 0.9135 - val_true_positives: 95.0000 - val_true_negatives: 200.0000 - val_false_positives: 8.0000 - val_false_negatives: 9.0000\n",
      "\n",
      "Epoch 00021: loss improved from 0.01150 to 0.01052, saving model to /mnt/87433d53-66f3-438e-a7f4-fc990fe61283/PROJECTS/JRF/sound-classification/specs/vgg16/best_model.h5\n",
      "Epoch 22/100\n",
      "\n",
      "Epoch 00022: LearningRateScheduler reducing learning rate to 1.0000000000000003e-05.\n",
      "106/106 [==============================] - 2s 20ms/step - loss: 0.0110 - accuracy: 1.0000 - precision: 1.0000 - recall: 1.0000 - true_positives: 431.9252 - true_negatives: 863.8505 - false_positives: 0.0000e+00 - false_negatives: 0.0000e+00 - val_loss: 0.1905 - val_accuracy: 0.9135 - val_precision: 0.9135 - val_recall: 0.9135 - val_true_positives: 95.0000 - val_true_negatives: 199.0000 - val_false_positives: 9.0000 - val_false_negatives: 9.0000\n",
      "\n",
      "Epoch 00022: loss improved from 0.01052 to 0.01033, saving model to /mnt/87433d53-66f3-438e-a7f4-fc990fe61283/PROJECTS/JRF/sound-classification/specs/vgg16/best_model.h5\n",
      "Epoch 23/100\n",
      "\n",
      "Epoch 00023: LearningRateScheduler reducing learning rate to 1.0000000000000003e-05.\n",
      "106/106 [==============================] - 2s 20ms/step - loss: 0.0096 - accuracy: 1.0000 - precision: 1.0000 - recall: 1.0000 - true_positives: 431.9252 - true_negatives: 863.8505 - false_positives: 0.0000e+00 - false_negatives: 0.0000e+00 - val_loss: 0.1891 - val_accuracy: 0.9135 - val_precision: 0.9135 - val_recall: 0.9135 - val_true_positives: 95.0000 - val_true_negatives: 199.0000 - val_false_positives: 9.0000 - val_false_negatives: 9.0000\n",
      "\n",
      "Epoch 00023: loss improved from 0.01033 to 0.01026, saving model to /mnt/87433d53-66f3-438e-a7f4-fc990fe61283/PROJECTS/JRF/sound-classification/specs/vgg16/best_model.h5\n",
      "Epoch 24/100\n",
      "\n",
      "Epoch 00024: LearningRateScheduler reducing learning rate to 1.0000000000000003e-05.\n",
      "106/106 [==============================] - 2s 20ms/step - loss: 0.0100 - accuracy: 1.0000 - precision: 1.0000 - recall: 1.0000 - true_positives: 431.9252 - true_negatives: 863.8505 - false_positives: 0.0000e+00 - false_negatives: 0.0000e+00 - val_loss: 0.1878 - val_accuracy: 0.9135 - val_precision: 0.9223 - val_recall: 0.9135 - val_true_positives: 95.0000 - val_true_negatives: 200.0000 - val_false_positives: 8.0000 - val_false_negatives: 9.0000\n"
     ]
    },
    {
     "name": "stdout",
     "output_type": "stream",
     "text": [
      "\n",
      "Epoch 00024: loss improved from 0.01026 to 0.01022, saving model to /mnt/87433d53-66f3-438e-a7f4-fc990fe61283/PROJECTS/JRF/sound-classification/specs/vgg16/best_model.h5\n",
      "Epoch 25/100\n",
      "\n",
      "Epoch 00025: LearningRateScheduler reducing learning rate to 1.0000000000000003e-05.\n",
      "106/106 [==============================] - 2s 20ms/step - loss: 0.0098 - accuracy: 1.0000 - precision: 1.0000 - recall: 1.0000 - true_positives: 431.9252 - true_negatives: 863.8505 - false_positives: 0.0000e+00 - false_negatives: 0.0000e+00 - val_loss: 0.1878 - val_accuracy: 0.9135 - val_precision: 0.9223 - val_recall: 0.9135 - val_true_positives: 95.0000 - val_true_negatives: 200.0000 - val_false_positives: 8.0000 - val_false_negatives: 9.0000\n",
      "\n",
      "Epoch 00025: loss improved from 0.01022 to 0.01015, saving model to /mnt/87433d53-66f3-438e-a7f4-fc990fe61283/PROJECTS/JRF/sound-classification/specs/vgg16/best_model.h5\n",
      "Epoch 26/100\n",
      "\n",
      "Epoch 00026: LearningRateScheduler reducing learning rate to 1.0000000000000003e-05.\n",
      "106/106 [==============================] - 2s 20ms/step - loss: 0.0104 - accuracy: 1.0000 - precision: 1.0000 - recall: 1.0000 - true_positives: 431.9252 - true_negatives: 863.8505 - false_positives: 0.0000e+00 - false_negatives: 0.0000e+00 - val_loss: 0.1879 - val_accuracy: 0.9135 - val_precision: 0.9223 - val_recall: 0.9135 - val_true_positives: 95.0000 - val_true_negatives: 200.0000 - val_false_positives: 8.0000 - val_false_negatives: 9.0000\n",
      "\n",
      "Epoch 00026: loss improved from 0.01015 to 0.01012, saving model to /mnt/87433d53-66f3-438e-a7f4-fc990fe61283/PROJECTS/JRF/sound-classification/specs/vgg16/best_model.h5\n",
      "Epoch 27/100\n",
      "\n",
      "Epoch 00027: LearningRateScheduler reducing learning rate to 1.0000000000000003e-05.\n",
      "106/106 [==============================] - 2s 20ms/step - loss: 0.0105 - accuracy: 1.0000 - precision: 1.0000 - recall: 1.0000 - true_positives: 431.9252 - true_negatives: 863.8505 - false_positives: 0.0000e+00 - false_negatives: 0.0000e+00 - val_loss: 0.1866 - val_accuracy: 0.9135 - val_precision: 0.9223 - val_recall: 0.9135 - val_true_positives: 95.0000 - val_true_negatives: 200.0000 - val_false_positives: 8.0000 - val_false_negatives: 9.0000\n",
      "\n",
      "Epoch 00027: loss improved from 0.01012 to 0.01005, saving model to /mnt/87433d53-66f3-438e-a7f4-fc990fe61283/PROJECTS/JRF/sound-classification/specs/vgg16/best_model.h5\n",
      "Epoch 28/100\n",
      "\n",
      "Epoch 00028: LearningRateScheduler reducing learning rate to 1.0000000000000003e-05.\n",
      "106/106 [==============================] - 2s 19ms/step - loss: 0.0107 - accuracy: 1.0000 - precision: 1.0000 - recall: 1.0000 - true_positives: 431.9252 - true_negatives: 863.8505 - false_positives: 0.0000e+00 - false_negatives: 0.0000e+00 - val_loss: 0.1879 - val_accuracy: 0.9135 - val_precision: 0.9223 - val_recall: 0.9135 - val_true_positives: 95.0000 - val_true_negatives: 200.0000 - val_false_positives: 8.0000 - val_false_negatives: 9.0000\n",
      "\n",
      "Epoch 00028: loss improved from 0.01005 to 0.00997, saving model to /mnt/87433d53-66f3-438e-a7f4-fc990fe61283/PROJECTS/JRF/sound-classification/specs/vgg16/best_model.h5\n",
      "Epoch 29/100\n",
      "\n",
      "Epoch 00029: LearningRateScheduler reducing learning rate to 1.0000000000000003e-05.\n",
      "106/106 [==============================] - 2s 19ms/step - loss: 0.0092 - accuracy: 1.0000 - precision: 1.0000 - recall: 1.0000 - true_positives: 431.9252 - true_negatives: 863.8505 - false_positives: 0.0000e+00 - false_negatives: 0.0000e+00 - val_loss: 0.1884 - val_accuracy: 0.9135 - val_precision: 0.9135 - val_recall: 0.9135 - val_true_positives: 95.0000 - val_true_negatives: 199.0000 - val_false_positives: 9.0000 - val_false_negatives: 9.0000\n",
      "\n",
      "Epoch 00029: loss improved from 0.00997 to 0.00990, saving model to /mnt/87433d53-66f3-438e-a7f4-fc990fe61283/PROJECTS/JRF/sound-classification/specs/vgg16/best_model.h5\n",
      "Epoch 30/100\n",
      "\n",
      "Epoch 00030: LearningRateScheduler reducing learning rate to 1.0000000000000003e-05.\n",
      "106/106 [==============================] - 2s 19ms/step - loss: 0.0106 - accuracy: 1.0000 - precision: 1.0000 - recall: 1.0000 - true_positives: 431.9252 - true_negatives: 863.8505 - false_positives: 0.0000e+00 - false_negatives: 0.0000e+00 - val_loss: 0.1878 - val_accuracy: 0.9135 - val_precision: 0.9223 - val_recall: 0.9135 - val_true_positives: 95.0000 - val_true_negatives: 200.0000 - val_false_positives: 8.0000 - val_false_negatives: 9.0000\n",
      "\n",
      "Epoch 00030: loss improved from 0.00990 to 0.00983, saving model to /mnt/87433d53-66f3-438e-a7f4-fc990fe61283/PROJECTS/JRF/sound-classification/specs/vgg16/best_model.h5\n",
      "Epoch 31/100\n",
      "\n",
      "Epoch 00031: LearningRateScheduler reducing learning rate to 1.0000000000000002e-06.\n",
      "106/106 [==============================] - 2s 19ms/step - loss: 0.0115 - accuracy: 1.0000 - precision: 1.0000 - recall: 1.0000 - true_positives: 431.9252 - true_negatives: 863.8505 - false_positives: 0.0000e+00 - false_negatives: 0.0000e+00 - val_loss: 0.1877 - val_accuracy: 0.9135 - val_precision: 0.9223 - val_recall: 0.9135 - val_true_positives: 95.0000 - val_true_negatives: 200.0000 - val_false_positives: 8.0000 - val_false_negatives: 9.0000\n",
      "Restoring model weights from the end of the best epoch.\n",
      "\n",
      "Epoch 00031: loss improved from 0.00983 to 0.00972, saving model to /mnt/87433d53-66f3-438e-a7f4-fc990fe61283/PROJECTS/JRF/sound-classification/specs/vgg16/best_model.h5\n",
      "Epoch 00031: early stopping\n",
      "106/106 [==============================] - 2s 17ms/step - loss: 0.0103 - accuracy: 1.0000 - precision: 1.0000 - recall: 1.0000 - true_positives: 848.0000 - true_negatives: 1696.0000 - false_positives: 0.0000e+00 - false_negatives: 0.0000e+00\n",
      "13/13 [==============================] - 0s 17ms/step - loss: 0.1894 - accuracy: 0.9135 - precision: 0.9223 - recall: 0.9135 - true_positives: 95.0000 - true_negatives: 200.0000 - false_positives: 8.0000 - false_negatives: 9.0000\n",
      "13/13 [==============================] - 0s 17ms/step - loss: 0.4604 - accuracy: 0.8654 - precision: 0.8738 - recall: 0.8654 - true_positives: 90.0000 - true_negatives: 195.0000 - false_positives: 13.0000 - false_negatives: 14.0000\n"
     ]
    }
   ],
   "source": [
    "with tf.device('/GPU:0'):\n",
    "    start = time.time()\n",
    "    history = model.fit(train_generator,\n",
    "                        epochs = epoch,\n",
    "                        verbose = 1,\n",
    "                        callbacks = callback,\n",
    "                        validation_data = validation_generator,\n",
    "                        shuffle=True)\n",
    "\n",
    "    end = time.time()\n",
    "    duration = end-start\n",
    "\n",
    "train_score = model.evaluate(train_generator)\n",
    "val_score = model.evaluate(validation_generator)\n",
    "test_score = model.evaluate(test_generator)"
   ]
  },
  {
   "cell_type": "code",
   "execution_count": 17,
   "metadata": {},
   "outputs": [
    {
     "name": "stdout",
     "output_type": "stream",
     "text": [
      "Execution Time: 90.09604859352112 seconds\n"
     ]
    }
   ],
   "source": [
    "print(\"Execution Time: {} seconds\".format(duration))"
   ]
  },
  {
   "cell_type": "code",
   "execution_count": 18,
   "metadata": {},
   "outputs": [
    {
     "name": "stderr",
     "output_type": "stream",
     "text": [
      "The PostScript backend does not support transparency; partially transparent artists will be rendered opaque.\n",
      "The PostScript backend does not support transparency; partially transparent artists will be rendered opaque.\n"
     ]
    },
    {
     "data": {
      "image/png": "[encoded data removed]",
      "text/plain": [
       "<Figure size 432x288 with 1 Axes>"
      ]
     },
     "metadata": {
      "needs_background": "light"
     },
     "output_type": "display_data"
    },
    {
     "name": "stderr",
     "output_type": "stream",
     "text": [
      "The PostScript backend does not support transparency; partially transparent artists will be rendered opaque.\n",
      "The PostScript backend does not support transparency; partially transparent artists will be rendered opaque.\n"
     ]
    },
    {
     "data": {
      "image/png": "[encoded data removed]",
      "text/plain": [
       "<Figure size 432x288 with 1 Axes>"
      ]
     },
     "metadata": {
      "needs_background": "light"
     },
     "output_type": "display_data"
    },
    {
     "name": "stderr",
     "output_type": "stream",
     "text": [
      "The PostScript backend does not support transparency; partially transparent artists will be rendered opaque.\n",
      "The PostScript backend does not support transparency; partially transparent artists will be rendered opaque.\n"
     ]
    },
    {
     "data": {
      "image/png": "[encoded data removed]",
      "text/plain": [
       "<Figure size 432x288 with 1 Axes>"
      ]
     },
     "metadata": {
      "needs_background": "light"
     },
     "output_type": "display_data"
    }
   ],
   "source": [
    "acc=history.history['accuracy']\n",
    "val_acc=history.history['val_accuracy']\n",
    "loss=history.history['loss']\n",
    "val_loss=history.history['val_loss']\n",
    "epochs=range(len(acc))\n",
    "\n",
    "plt.plot(epochs, acc, 'r', label='Training Accuracy')\n",
    "plt.plot(epochs, val_acc, 'b', label='Validation Accuracy')\n",
    "plt.xlabel(\"Epochs\")\n",
    "plt.ylabel(\"Accuracy\")\n",
    "plt.title('Training and validation accuracy vs Epochs')\n",
    "plt.legend()\n",
    "fig_name_eps = \"accuracy.eps\"\n",
    "plt.savefig(os.path.join(char, fig_name_eps))\n",
    "plt.show()\n",
    "\n",
    "\n",
    "plt.plot(epochs, loss, 'r', label=\"Training Loss\")\n",
    "plt.plot(epochs, val_loss, 'b', label=\"Validation Loss\")\n",
    "plt.xlabel(\"Epochs\")\n",
    "plt.ylabel(\"Loss\")\n",
    "plt.title('Training and validation loss vs Epochs')\n",
    "plt.legend()\n",
    "fig_name_eps = \"loss.eps\"\n",
    "plt.savefig(os.path.join(char, fig_name_eps))\n",
    "plt.show()\n",
    "\n",
    "plt.plot(epochs, acc, 'r', label='Training Accuracy')\n",
    "plt.plot(epochs, val_acc, 'b', label='Validation Accuracy')\n",
    "plt.plot(epochs, loss, 'r', label=\"Training Loss\")\n",
    "plt.plot(epochs, val_loss, 'b', label=\"Validation Loss\")\n",
    "plt.xlabel(\"Epochs\")\n",
    "plt.ylabel(\"Loss\")\n",
    "plt.title('Training and validation loss vs Epochs')\n",
    "plt.legend()\n",
    "fig_name_eps = \"char.eps\"\n",
    "plt.savefig(os.path.join(char, fig_name_eps))"
   ]
  },
  {
   "cell_type": "code",
   "execution_count": 19,
   "metadata": {},
   "outputs": [
    {
     "name": "stdout",
     "output_type": "stream",
     "text": [
      "The training accuracy is: 100.0 %\n",
      "The validation accuracy is: 91.34615659713745 %\n",
      "The test accuracy is: 86.53846383094788 %\n"
     ]
    }
   ],
   "source": [
    "training_accuracy = train_score[1]*100\n",
    "validation_accuracy = val_score[1]*100\n",
    "test_accuracy = test_score[1]*100\n",
    "\n",
    "print(\"The training accuracy is: \" + str(training_accuracy) + ' %')\n",
    "print(\"The validation accuracy is: \" + str(validation_accuracy) + ' %')\n",
    "print(\"The test accuracy is: \" + str(test_accuracy) + ' %')"
   ]
  },
  {
   "cell_type": "code",
   "execution_count": 20,
   "metadata": {},
   "outputs": [],
   "source": [
    "test_accuracy = test_score[1]*100\n",
    "test_precision = test_score[2]*100\n",
    "test_recall = test_score[3]*100\n",
    "tp = int(test_score[4])\n",
    "tn = int(test_score[5])\n",
    "fp = int(test_score[6])\n",
    "fn = int(test_score[7])\n",
    "\n",
    "f1 = 2*((test_precision*test_recall)/(test_precision+test_recall))\n",
    "sensitivity = (tp/(tp+fn))*100\n",
    "specificity = (tn/(tn+fp))*100"
   ]
  },
  {
   "cell_type": "code",
   "execution_count": 21,
   "metadata": {},
   "outputs": [
    {
     "name": "stdout",
     "output_type": "stream",
     "text": [
      "Test Accuracy: 86.53846383094788\n",
      "Test Precision: 87.37863898277283\n",
      "Test Recall: 86.53846383094788\n",
      "True Positive: 90\n",
      "Test Negetive: 195\n",
      "False Positive: 13\n",
      "False Negetive: 14\n",
      "Sensitivity: 86.53846153846155\n",
      "Specificity: 93.75\n"
     ]
    }
   ],
   "source": [
    "print(\"Test Accuracy: {}\".format(test_accuracy))\n",
    "print(\"Test Precision: {}\".format(test_precision))\n",
    "print(\"Test Recall: {}\".format(test_recall))\n",
    "print(\"True Positive: {}\".format(tp))\n",
    "print(\"Test Negetive: {}\".format(tn))\n",
    "print(\"False Positive: {}\".format(fp))\n",
    "print(\"False Negetive: {}\".format(fn))\n",
    "print(\"Sensitivity: {}\".format(sensitivity))\n",
    "print(\"Specificity: {}\".format(specificity))"
   ]
  },
  {
   "cell_type": "code",
   "execution_count": 22,
   "metadata": {},
   "outputs": [
    {
     "name": "stdout",
     "output_type": "stream",
     "text": [
      "Please read the text file named readme.txt for detailed information of the model.\n"
     ]
    },
    {
     "ename": "NameError",
     "evalue": "name 'd_dropout' is not defined",
     "output_type": "error",
     "traceback": [
      "\u001b[0;31m---------------------------------------------------------------------------\u001b[0m",
      "\u001b[0;31mNameError\u001b[0m                                 Traceback (most recent call last)",
      "Input \u001b[0;32mIn [22]\u001b[0m, in \u001b[0;36m<cell line: 23>\u001b[0;34m()\u001b[0m\n\u001b[1;32m     19\u001b[0m readme\u001b[38;5;241m.\u001b[39mwrite(\u001b[38;5;124mf\u001b[39m\u001b[38;5;124m\"\u001b[39m\u001b[38;5;130;01m\\n\u001b[39;00m\u001b[38;5;124mBatch Size = \u001b[39m\u001b[38;5;132;01m{\u001b[39;00mbatch_size\u001b[38;5;132;01m}\u001b[39;00m\u001b[38;5;124m\"\u001b[39m)\n\u001b[1;32m     22\u001b[0m readme\u001b[38;5;241m.\u001b[39mwrite(\u001b[38;5;124m\"\u001b[39m\u001b[38;5;130;01m\\n\u001b[39;00m\u001b[38;5;130;01m\\n\u001b[39;00m\u001b[38;5;124m--MODEL-PARAMETERS--\u001b[39m\u001b[38;5;124m\"\u001b[39m)\n\u001b[0;32m---> 23\u001b[0m readme\u001b[38;5;241m.\u001b[39mwrite(\u001b[38;5;124mf\u001b[39m\u001b[38;5;124m\"\u001b[39m\u001b[38;5;130;01m\\n\u001b[39;00m\u001b[38;5;124mDropout for dense layer = \u001b[39m\u001b[38;5;132;01m{\u001b[39;00m(\u001b[38;5;28mint\u001b[39m(d_dropout\u001b[38;5;241m*\u001b[39m\u001b[38;5;241m100\u001b[39m))\u001b[38;5;132;01m}\u001b[39;00m\u001b[38;5;124m %\u001b[39m\u001b[38;5;124m\"\u001b[39m)\n\u001b[1;32m     24\u001b[0m readme\u001b[38;5;241m.\u001b[39mwrite(\u001b[38;5;124mf\u001b[39m\u001b[38;5;124m\"\u001b[39m\u001b[38;5;130;01m\\n\u001b[39;00m\u001b[38;5;124mOptimizer = \u001b[39m\u001b[38;5;132;01m{\u001b[39;00moptimizer\u001b[38;5;132;01m}\u001b[39;00m\u001b[38;5;130;01m\\n\u001b[39;00m\u001b[38;5;130;01m\\n\u001b[39;00m\u001b[38;5;124m\"\u001b[39m)\n\u001b[1;32m     27\u001b[0m readme\u001b[38;5;241m.\u001b[39mwrite(\u001b[38;5;124m\"\u001b[39m\u001b[38;5;124mTrained on a VGG16\u001b[39m\u001b[38;5;130;01m\\n\u001b[39;00m\u001b[38;5;124m\"\u001b[39m)\n",
      "\u001b[0;31mNameError\u001b[0m: name 'd_dropout' is not defined"
     ]
    }
   ],
   "source": [
    "from contextlib import redirect_stdout\n",
    "\n",
    "readme_name_text = \"readme.txt\"\n",
    "print(f\"Please read the text file named {readme_name_text} for detailed information of the model.\")\n",
    "\n",
    "completeName_txt = os.path.join(char, readme_name_text) \n",
    "\n",
    "readme = open(completeName_txt, \"w\")\n",
    "\n",
    "if len(os.listdir(train_directory)) > 2:\n",
    "    readme.write(f\"This is a {len(os.listdir(train_directory))}-class CLASSIFICATION\")\n",
    "else:\n",
    "    readme.write(\"This is a BINARY CLASSIFICATION\")\n",
    "\n",
    "\n",
    "readme.write(\"\\n\\n--HYPERPARAMETERS--\\n\")\n",
    "readme.write(f\"\\nInitial Learning Rate = {learning_rate}\")\n",
    "readme.write(f\"\\nNo. of epochs = {len(acc)}\")\n",
    "readme.write(f\"\\nBatch Size = {batch_size}\")\n",
    "\n",
    "\n",
    "readme.write(\"\\n\\n--MODEL-PARAMETERS--\")\n",
    "readme.write(f\"\\nDropout for dense layer = {(int(d_dropout*100))} %\")\n",
    "readme.write(f\"\\nOptimizer = {optimizer}\\n\\n\")\n",
    "\n",
    "\n",
    "readme.write(\"Trained on a VGG16\\n\")\n",
    "with redirect_stdout(readme):\n",
    "    model.summary()\n",
    "        \n",
    "    \n",
    "readme.write(\"\\n\\n--MODEL-PERFORMANCE--\")\n",
    "readme.write(f\"\\nTest Accuracy = {test_accuracy} %\")\n",
    "readme.write(f\"\\nTest Precision = {test_precision} %\")\n",
    "readme.write(f\"\\nTest Recall = {test_recall} %\")\n",
    "readme.write(f\"\\nTrue Positive = {tp}\")\n",
    "readme.write(f\"\\nTrue Negetive = {tn}\")\n",
    "readme.write(f\"\\nFalse Positive = {fp}\")\n",
    "readme.write(f\"\\nFalse Negetive = {fn}\")\n",
    "readme.write(f\"\\nSensitivity = {sensitivity}\")\n",
    "readme.write(f\"\\nSpecificity = {specificity}\\n\\n\\n\")\n",
    "\n",
    "\n",
    "readme.write(\"\\n\\n--MODEL-CHARACTERISTICS--\")\n",
    "readme.write(f\"\\nacc = {acc}\")\n",
    "readme.write(f\"\\n\\nval_acc = {val_acc}\")\n",
    "readme.write(f\"\\n\\nloss = {loss}\")\n",
    "readme.write(f\"\\n\\nval_loss = {val_loss}\")\n",
    "\n",
    "\n",
    "readme.write(f\"\\n\\nExecution Time: {duration} seconds\")\n",
    "\n",
    "readme.write(\"\\n\\nCreated using Self-Regulated Image Classifier using Convolution Neural Network\")\n",
    "\n",
    "readme.close()"
   ]
  },
  {
   "cell_type": "code",
   "execution_count": null,
   "metadata": {},
   "outputs": [],
   "source": []
  }
 ],
 "metadata": {
  "kernelspec": {
   "display_name": "Python 3 (ipykernel)",
   "language": "python",
   "name": "python3"
  },
  "language_info": {
   "codemirror_mode": {
    "name": "ipython",
    "version": 3
   },
   "file_extension": ".py",
   "mimetype": "text/x-python",
   "name": "python",
   "nbconvert_exporter": "python",
   "pygments_lexer": "ipython3",
   "version": "3.8.5"
  }
 },
 "nbformat": 4,
 "nbformat_minor": 4
}
