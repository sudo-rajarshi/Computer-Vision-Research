{
 "cells": [
  {
   "cell_type": "code",
   "execution_count": 1,
   "metadata": {},
   "outputs": [
    {
     "name": "stderr",
     "output_type": "stream",
     "text": [
      "2021-07-20 00:16:44.228405: I tensorflow/stream_executor/platform/default/dso_loader.cc:49] Successfully opened dynamic library libcudart.so.11.0\n"
     ]
    }
   ],
   "source": [
    "import os\n",
    "os.environ['TF_CPP_MIN_LOG_LEVEL'] = '3' \n",
    "\n",
    "import cv2\n",
    "import random\n",
    "import shutil\n",
    "import time\n",
    "import matplotlib\n",
    "import glob\n",
    "import operator\n",
    "import psutil\n",
    "import numpy as np\n",
    "import math\n",
    "import matplotlib.pyplot as plt\n",
    "\n",
    "import tensorflow as tf\n",
    "from tensorflow import keras\n",
    "from tensorflow.keras.preprocessing import image\n",
    "from tensorflow.keras.preprocessing.image import ImageDataGenerator\n",
    "from tensorflow.keras.optimizers import *\n",
    "from tensorflow.keras.models import *\n",
    "from tensorflow.keras.layers import *\n",
    "from tensorflow.keras.regularizers import l2\n",
    "\n",
    "from shutil import copyfile\n",
    "import pandas as pd\n",
    "import PIL\n",
    "from mlxtend.plotting import plot_confusion_matrix\n",
    "from tqdm import tqdm "
   ]
  },
  {
   "cell_type": "code",
   "execution_count": 2,
   "metadata": {},
   "outputs": [
    {
     "name": "stdout",
     "output_type": "stream",
     "text": [
      "Using GPU\n"
     ]
    },
    {
     "name": "stderr",
     "output_type": "stream",
     "text": [
      "2021-07-20 00:16:45.578889: I tensorflow/compiler/jit/xla_cpu_device.cc:41] Not creating XLA devices, tf_xla_enable_xla_devices not set\n",
      "2021-07-20 00:16:45.579548: I tensorflow/stream_executor/platform/default/dso_loader.cc:49] Successfully opened dynamic library libcuda.so.1\n",
      "2021-07-20 00:16:45.608054: I tensorflow/stream_executor/cuda/cuda_gpu_executor.cc:941] successful NUMA node read from SysFS had negative value (-1), but there must be at least one NUMA node, so returning NUMA node zero\n",
      "2021-07-20 00:16:45.608600: I tensorflow/core/common_runtime/gpu/gpu_device.cc:1720] Found device 0 with properties: \n",
      "pciBusID: 0000:10:00.0 name: GeForce RTX 2060 computeCapability: 7.5\n",
      "coreClock: 1.68GHz coreCount: 30 deviceMemorySize: 5.79GiB deviceMemoryBandwidth: 312.97GiB/s\n",
      "2021-07-20 00:16:45.608643: I tensorflow/stream_executor/platform/default/dso_loader.cc:49] Successfully opened dynamic library libcudart.so.11.0\n",
      "2021-07-20 00:16:45.610849: I tensorflow/stream_executor/platform/default/dso_loader.cc:49] Successfully opened dynamic library libcublas.so.11\n",
      "2021-07-20 00:16:45.610985: I tensorflow/stream_executor/platform/default/dso_loader.cc:49] Successfully opened dynamic library libcublasLt.so.11\n",
      "2021-07-20 00:16:45.611893: I tensorflow/stream_executor/platform/default/dso_loader.cc:49] Successfully opened dynamic library libcufft.so.10\n",
      "2021-07-20 00:16:45.612303: I tensorflow/stream_executor/platform/default/dso_loader.cc:49] Successfully opened dynamic library libcurand.so.10\n",
      "2021-07-20 00:16:45.615077: I tensorflow/stream_executor/platform/default/dso_loader.cc:49] Successfully opened dynamic library libcusolver.so.10\n",
      "2021-07-20 00:16:45.615804: I tensorflow/stream_executor/platform/default/dso_loader.cc:49] Successfully opened dynamic library libcusparse.so.11\n",
      "2021-07-20 00:16:45.615956: I tensorflow/stream_executor/platform/default/dso_loader.cc:49] Successfully opened dynamic library libcudnn.so.8\n",
      "2021-07-20 00:16:45.616112: I tensorflow/stream_executor/cuda/cuda_gpu_executor.cc:941] successful NUMA node read from SysFS had negative value (-1), but there must be at least one NUMA node, so returning NUMA node zero\n",
      "2021-07-20 00:16:45.617501: I tensorflow/stream_executor/cuda/cuda_gpu_executor.cc:941] successful NUMA node read from SysFS had negative value (-1), but there must be at least one NUMA node, so returning NUMA node zero\n",
      "2021-07-20 00:16:45.618048: I tensorflow/core/common_runtime/gpu/gpu_device.cc:1862] Adding visible gpu devices: 0\n"
     ]
    }
   ],
   "source": [
    "physical_devices = tf.config.experimental.list_physical_devices('GPU')\n",
    "\n",
    "if physical_devices != []:\n",
    "    print(\"Using GPU\")\n",
    "    for i in physical_devices:\n",
    "        tf.config.experimental.set_memory_growth(i, True)\n",
    "else:\n",
    "    print(\"Using CPU\")\n",
    "    pass"
   ]
  },
  {
   "cell_type": "code",
   "execution_count": 3,
   "metadata": {},
   "outputs": [
    {
     "name": "stdout",
     "output_type": "stream",
     "text": [
      "Path where 'classify train' directory belongs: /mnt/036b1314-13ad-429f-b9f9-07467946c5d7/Datasets/Health/OCT2017\n"
     ]
    }
   ],
   "source": [
    "root_dir = str(input(\"Path where 'classify train' directory belongs: \"))\n",
    "classify_train = os.path.join(root_dir, 'classify train')\n",
    "\n",
    "train_directory = os.path.join(classify_train, 'training')\n",
    "validation_directory = os.path.join(classify_train, 'validation')\n",
    "test_directory = os.path.join(classify_train, 'testing')"
   ]
  },
  {
   "cell_type": "code",
   "execution_count": 4,
   "metadata": {},
   "outputs": [
    {
     "data": {
      "text/plain": [
       "('/mnt/036b1314-13ad-429f-b9f9-07467946c5d7/Datasets/Health/OCT2017/classify train/training',\n",
       " '/mnt/036b1314-13ad-429f-b9f9-07467946c5d7/Datasets/Health/OCT2017/classify train/validation',\n",
       " '/mnt/036b1314-13ad-429f-b9f9-07467946c5d7/Datasets/Health/OCT2017/classify train/testing')"
      ]
     },
     "execution_count": 4,
     "metadata": {},
     "output_type": "execute_result"
    }
   ],
   "source": [
    "train_directory, validation_directory, test_directory"
   ]
  },
  {
   "cell_type": "code",
   "execution_count": 5,
   "metadata": {},
   "outputs": [
    {
     "name": "stdout",
     "output_type": "stream",
     "text": [
      "Enter the initial learning rate: 0.001\n",
      "Enter the maximum number of epochs: 100\n",
      "Enter batch size: 8\n"
     ]
    }
   ],
   "source": [
    "learning_rate = float(input(\"Enter the initial learning rate: \"))\n",
    "epoch = int(input(\"Enter the maximum number of epochs: \"))\n",
    "batch_size = int(input(\"Enter batch size: \"))"
   ]
  },
  {
   "cell_type": "code",
   "execution_count": 6,
   "metadata": {},
   "outputs": [
    {
     "name": "stdout",
     "output_type": "stream",
     "text": [
      "Enter name of the characteristics folder: mobilenet\n"
     ]
    }
   ],
   "source": [
    "char_name = str(input(\"Enter name of the characteristics folder: \"))\n",
    "\n",
    "char = os.path.join(root_dir, char_name)\n",
    "\n",
    "if not os.path.exists(char):\n",
    "    os.mkdir(char)\n",
    "else:\n",
    "    replace = str(input(\"Folder already exists ! Do you want to replace it ?(Y/N) \"))\n",
    "    if replace.upper() == 'Y':      \n",
    "        shutil.rmtree(char)\n",
    "        os.mkdir(char)\n",
    "    elif replace.upper() == 'N':\n",
    "        print('\\nThe following folders already exist:')\n",
    "        for i in os.listdir(root_dir): \n",
    "            print(i)\n",
    "        char_name = str(input(\"\\nEnter a new name of the characteristics folder: \"))\n",
    "        char = os.path.join(root_dir, char_name)\n",
    "        if not os.path.exists(char):\n",
    "            os.mkdir(char)\n",
    "        else:\n",
    "            print(f\"{char_name} replaced\")\n",
    "            shutil.rmtree(char)\n",
    "            os.mkdir(char)"
   ]
  },
  {
   "cell_type": "code",
   "execution_count": 7,
   "metadata": {},
   "outputs": [],
   "source": [
    "steps = 10 # change steps to 1 to apply exponential decay\n",
    "\n",
    "def lr_schedule(epoch):\n",
    "    return learning_rate * (0.1 ** int(epoch / steps))\n",
    "    \n",
    "best_model_address = os.path.join(char, 'best_model.h5')"
   ]
  },
  {
   "cell_type": "code",
   "execution_count": 8,
   "metadata": {},
   "outputs": [
    {
     "name": "stdout",
     "output_type": "stream",
     "text": [
      "Press 1 to monitor Validation Accuracy\n",
      "Press 2 to monitor Validation Loss\n",
      "Press 3 to monitor Training Accuracy\n",
      "Press 4 to monitor Training Loss\n",
      "4\n",
      "Enter number of epochs that will produce monitored quantity with no improvement after which training will be stopped: 10\n",
      "\n",
      "MONITORING TRAINING LOSS..........\n",
      "\n",
      "\n",
      "Training will stop if loss doesn't show any improvements for 10 epcohs\n",
      "\n"
     ]
    }
   ],
   "source": [
    "monitor = int(input(\"Press 1 to monitor Validation Accuracy\\nPress 2 to monitor Validation Loss\\nPress 3 to monitor Training Accuracy\\nPress 4 to monitor Training Loss\\n\"))\n",
    "patience = int(input('Enter number of epochs that will produce monitored quantity with no improvement after which training will be stopped: '))\n",
    "\n",
    "\n",
    "if monitor == 1:\n",
    "    metric = 'val_accuracy'\n",
    "    mode = 'max'\n",
    "    print(\"\\nMONITORING VALIDATION ACCURACY..........\\n\")\n",
    "\n",
    "elif monitor == 2:\n",
    "    metric = 'val_loss'\n",
    "    mode = 'min'\n",
    "    print(\"\\nMONITORING VALIDATION LOSS..........\\n\")\n",
    "\n",
    "elif monitor == 3:\n",
    "    metric = 'accuracy'\n",
    "    mode = 'max'\n",
    "    print(\"\\nMONITORING TRAINING ACCURACY..........\\n\")\n",
    "\n",
    "elif monitor == 4:\n",
    "    metric = 'loss'\n",
    "    mode = 'min'\n",
    "    print(\"\\nMONITORING TRAINING LOSS..........\\n\")\n",
    "\n",
    "callback = [keras.callbacks.LearningRateScheduler(lr_schedule, verbose = 1),\n",
    "            keras.callbacks.EarlyStopping(monitor = metric, min_delta = 0.001, patience = patience, verbose=1, mode = mode, restore_best_weights = True),\n",
    "            keras.callbacks.ModelCheckpoint(best_model_address, monitor = metric, verbose=1, save_best_only=True, save_weights_only=False, mode = mode)]\n",
    "\n",
    "print(f\"\\nTraining will stop if {metric} doesn't show any improvements for {patience} epcohs\\n\")"
   ]
  },
  {
   "cell_type": "code",
   "execution_count": 9,
   "metadata": {},
   "outputs": [],
   "source": [
    "def MobileNet():\n",
    "    print(\"\\nTRAINING ON MobileNet MODEL:-\")\n",
    "    \n",
    "    base_model = tf.keras.applications.MobileNet(input_shape = dim, weights = 'imagenet', include_top = False)\n",
    "\n",
    "    x = base_model.output\n",
    "    \n",
    "    x = GlobalAveragePooling2D()(x)\n",
    "    x = Reshape((1,1,1024))(x)\n",
    "    x = Dropout(0.001)(x)\n",
    "    x = Conv2D(1000, (1,1), padding = 'same')(x)\n",
    "    x = Reshape((1000,))(x)\n",
    "    \n",
    "    predictions = Dense(output_neurons, activation = output_activation)(x)  \n",
    "\n",
    "    model = Model(inputs = base_model.input, outputs=predictions)\n",
    "\n",
    "    train_base_model = str(input(\"Do you want to extract features using MobileNet?(Y/N) \"))\n",
    "    if train_base_model.upper() == 'Y':\n",
    "        for layer in base_model.layers:\n",
    "            layer.trainable = True\n",
    "    elif train_base_model.upper() == 'N':\n",
    "        for layer in base_model.layers:\n",
    "            layer.trainable = False\n",
    "\n",
    "    return model"
   ]
  },
  {
   "cell_type": "code",
   "execution_count": 10,
   "metadata": {},
   "outputs": [
    {
     "name": "stdout",
     "output_type": "stream",
     "text": [
      "This is a 4-Class Classification\n"
     ]
    }
   ],
   "source": [
    "class_no = len(os.listdir(train_directory))\n",
    "\n",
    "print(\"This is a \" + str(class_no) + \"-Class Classification\")\n",
    "\n",
    "if class_no <= 2:\n",
    "    class_mode = 'binary'\n",
    "    output_activation = 'sigmoid'\n",
    "    output_neurons = 1\n",
    "    losses = 'binary_crossentropy'\n",
    "\n",
    "else:\n",
    "    class_mode = 'categorical'\n",
    "    output_activation = 'softmax'\n",
    "    output_neurons = class_no\n",
    "    losses = 'categorical_crossentropy'"
   ]
  },
  {
   "cell_type": "code",
   "execution_count": 11,
   "metadata": {},
   "outputs": [],
   "source": [
    "def optimizer_selection():\n",
    "    print(\"\\nSelect a optimizer which will reduce the loss of the model.\\n\")\n",
    "\n",
    "    optimizer_select = int(input(\"Press 1 to select Stochastic Gradient Descent\\nPress 2 to select RMSprop\\nPress 3 to select Adagrad\\nPress 4 to select Adadelta\\nPress 5 to select Adam\\nPress 6 to select Adamax\\nPress 7 to select Nadam\\n\"))\n",
    "\n",
    "    if optimizer_select == 1:\n",
    "        optimizer = SGD(lr = learning_rate, decay = 1e-6, momentum = 0.9, nesterov = True)\n",
    "\n",
    "    elif optimizer_select == 2:\n",
    "        optimizer = RMSprop(learning_rate, rho = 0.9)\n",
    "\n",
    "    elif optimizer_select == 3:\n",
    "        optimizer = Adagrad(learning_rate)\n",
    "\n",
    "    elif optimizer_select == 4:\n",
    "        optimizer = Adadelta(learning_rate, rho = 0.95)\n",
    "\n",
    "    elif optimizer_select == 5:\n",
    "        optimizer = Adam(learning_rate = learning_rate, beta_1 = 0.9, beta_2 = 0.999, amsgrad = False)\n",
    "\n",
    "    elif optimizer_select == 6:\n",
    "        optimizer = Adamax(learning_rate = learning_rate, beta_1 = 0.9, beta_2 = 0.999)\n",
    "\n",
    "    elif optimizer_select == 7:\n",
    "        optimizer = Nadam(learning_rate = learning_rate, beta_1 = 0.9, beta_2 = 0.999)\n",
    "   \n",
    "    return optimizer"
   ]
  },
  {
   "cell_type": "code",
   "execution_count": 12,
   "metadata": {},
   "outputs": [
    {
     "name": "stdout",
     "output_type": "stream",
     "text": [
      "Image Dimension(H or W): 128\n",
      "Press 1 for RGB \n",
      "Press 2 for Grayscale 1\n"
     ]
    }
   ],
   "source": [
    "h = int(input(\"Image Dimension(H or W): \"))\n",
    "w = h\n",
    "color = int(input(\"Press 1 for RGB \\nPress 2 for Grayscale \"))\n",
    "if color == 1:\n",
    "    color_mode = 'rgb'\n",
    "    dim = (h,w,3)\n",
    "elif color == 2:\n",
    "    color_mode = 'grayscale'\n",
    "    dim = (h,w,1)"
   ]
  },
  {
   "cell_type": "code",
   "execution_count": 13,
   "metadata": {},
   "outputs": [
    {
     "name": "stdout",
     "output_type": "stream",
     "text": [
      "Found 59120 images belonging to 4 classes.\n",
      "Found 12666 images belonging to 4 classes.\n",
      "Found 12666 images belonging to 4 classes.\n"
     ]
    }
   ],
   "source": [
    "train_datagen = ImageDataGenerator(rescale=1.0/255.)\n",
    "train_generator = train_datagen.flow_from_directory(train_directory,\n",
    "                                                    batch_size = batch_size,\n",
    "                                                    class_mode = class_mode,\n",
    "                                                    color_mode = color_mode,\n",
    "                                                    target_size = (h,w),\n",
    "                                                    shuffle=True)\n",
    "\n",
    "validation_datagen = ImageDataGenerator(rescale=1.0/255.)\n",
    "validation_generator = validation_datagen.flow_from_directory(validation_directory,\n",
    "                                                              batch_size = batch_size,\n",
    "                                                              class_mode = class_mode,\n",
    "                                                              color_mode = color_mode,\n",
    "                                                              target_size = (h,w),\n",
    "                                                              shuffle=True)\n",
    "\n",
    "test_datagen = ImageDataGenerator(rescale=1.0/255.)\n",
    "test_generator = test_datagen.flow_from_directory(test_directory,\n",
    "                                                  batch_size = batch_size,\n",
    "                                                  class_mode = class_mode,\n",
    "                                                  color_mode = color_mode,\n",
    "                                                  target_size = (h,w),\n",
    "                                                  shuffle=True)"
   ]
  },
  {
   "cell_type": "code",
   "execution_count": 14,
   "metadata": {},
   "outputs": [
    {
     "name": "stdout",
     "output_type": "stream",
     "text": [
      "\n",
      "Select a optimizer which will reduce the loss of the model.\n",
      "\n",
      "Press 1 to select Stochastic Gradient Descent\n",
      "Press 2 to select RMSprop\n",
      "Press 3 to select Adagrad\n",
      "Press 4 to select Adadelta\n",
      "Press 5 to select Adam\n",
      "Press 6 to select Adamax\n",
      "Press 7 to select Nadam\n",
      "5\n"
     ]
    }
   ],
   "source": [
    "optimizer = optimizer_selection()"
   ]
  },
  {
   "cell_type": "code",
   "execution_count": 15,
   "metadata": {},
   "outputs": [
    {
     "name": "stdout",
     "output_type": "stream",
     "text": [
      "\n",
      "TRAINING ON MobileNet MODEL:-\n"
     ]
    },
    {
     "name": "stderr",
     "output_type": "stream",
     "text": [
      "2021-07-20 00:17:38.869741: I tensorflow/compiler/jit/xla_gpu_device.cc:99] Not creating XLA devices, tf_xla_enable_xla_devices not set\n",
      "2021-07-20 00:17:38.870027: I tensorflow/stream_executor/cuda/cuda_gpu_executor.cc:941] successful NUMA node read from SysFS had negative value (-1), but there must be at least one NUMA node, so returning NUMA node zero\n",
      "2021-07-20 00:17:38.870717: I tensorflow/core/common_runtime/gpu/gpu_device.cc:1720] Found device 0 with properties: \n",
      "pciBusID: 0000:10:00.0 name: GeForce RTX 2060 computeCapability: 7.5\n",
      "coreClock: 1.68GHz coreCount: 30 deviceMemorySize: 5.79GiB deviceMemoryBandwidth: 312.97GiB/s\n",
      "2021-07-20 00:17:38.870807: I tensorflow/stream_executor/platform/default/dso_loader.cc:49] Successfully opened dynamic library libcudart.so.11.0\n",
      "2021-07-20 00:17:38.870875: I tensorflow/stream_executor/platform/default/dso_loader.cc:49] Successfully opened dynamic library libcublas.so.11\n",
      "2021-07-20 00:17:38.870908: I tensorflow/stream_executor/platform/default/dso_loader.cc:49] Successfully opened dynamic library libcublasLt.so.11\n",
      "2021-07-20 00:17:38.870930: I tensorflow/stream_executor/platform/default/dso_loader.cc:49] Successfully opened dynamic library libcufft.so.10\n",
      "2021-07-20 00:17:38.870952: I tensorflow/stream_executor/platform/default/dso_loader.cc:49] Successfully opened dynamic library libcurand.so.10\n",
      "2021-07-20 00:17:38.870974: I tensorflow/stream_executor/platform/default/dso_loader.cc:49] Successfully opened dynamic library libcusolver.so.10\n",
      "2021-07-20 00:17:38.870994: I tensorflow/stream_executor/platform/default/dso_loader.cc:49] Successfully opened dynamic library libcusparse.so.11\n",
      "2021-07-20 00:17:38.871015: I tensorflow/stream_executor/platform/default/dso_loader.cc:49] Successfully opened dynamic library libcudnn.so.8\n",
      "2021-07-20 00:17:38.871185: I tensorflow/stream_executor/cuda/cuda_gpu_executor.cc:941] successful NUMA node read from SysFS had negative value (-1), but there must be at least one NUMA node, so returning NUMA node zero\n",
      "2021-07-20 00:17:38.872035: I tensorflow/stream_executor/cuda/cuda_gpu_executor.cc:941] successful NUMA node read from SysFS had negative value (-1), but there must be at least one NUMA node, so returning NUMA node zero\n",
      "2021-07-20 00:17:38.872694: I tensorflow/core/common_runtime/gpu/gpu_device.cc:1862] Adding visible gpu devices: 0\n",
      "2021-07-20 00:17:38.872784: I tensorflow/stream_executor/platform/default/dso_loader.cc:49] Successfully opened dynamic library libcudart.so.11.0\n",
      "2021-07-20 00:17:39.346110: I tensorflow/core/common_runtime/gpu/gpu_device.cc:1261] Device interconnect StreamExecutor with strength 1 edge matrix:\n",
      "2021-07-20 00:17:39.346143: I tensorflow/core/common_runtime/gpu/gpu_device.cc:1267]      0 \n",
      "2021-07-20 00:17:39.346150: I tensorflow/core/common_runtime/gpu/gpu_device.cc:1280] 0:   N \n",
      "2021-07-20 00:17:39.346404: I tensorflow/stream_executor/cuda/cuda_gpu_executor.cc:941] successful NUMA node read from SysFS had negative value (-1), but there must be at least one NUMA node, so returning NUMA node zero\n",
      "2021-07-20 00:17:39.346842: I tensorflow/stream_executor/cuda/cuda_gpu_executor.cc:941] successful NUMA node read from SysFS had negative value (-1), but there must be at least one NUMA node, so returning NUMA node zero\n",
      "2021-07-20 00:17:39.347250: I tensorflow/stream_executor/cuda/cuda_gpu_executor.cc:941] successful NUMA node read from SysFS had negative value (-1), but there must be at least one NUMA node, so returning NUMA node zero\n",
      "2021-07-20 00:17:39.347611: I tensorflow/core/common_runtime/gpu/gpu_device.cc:1406] Created TensorFlow device (/job:localhost/replica:0/task:0/device:GPU:0 with 4962 MB memory) -> physical GPU (device: 0, name: GeForce RTX 2060, pci bus id: 0000:10:00.0, compute capability: 7.5)\n"
     ]
    },
    {
     "name": "stdout",
     "output_type": "stream",
     "text": [
      "Do you want to extract features using MobileNet?(Y/N) Y\n",
      "Model: \"model\"\n",
      "_________________________________________________________________\n",
      "Layer (type)                 Output Shape              Param #   \n",
      "=================================================================\n",
      "input_1 (InputLayer)         [(None, 128, 128, 3)]     0         \n",
      "_________________________________________________________________\n",
      "conv1 (Conv2D)               (None, 64, 64, 32)        864       \n",
      "_________________________________________________________________\n",
      "conv1_bn (BatchNormalization (None, 64, 64, 32)        128       \n",
      "_________________________________________________________________\n",
      "conv1_relu (ReLU)            (None, 64, 64, 32)        0         \n",
      "_________________________________________________________________\n",
      "conv_dw_1 (DepthwiseConv2D)  (None, 64, 64, 32)        288       \n",
      "_________________________________________________________________\n",
      "conv_dw_1_bn (BatchNormaliza (None, 64, 64, 32)        128       \n",
      "_________________________________________________________________\n",
      "conv_dw_1_relu (ReLU)        (None, 64, 64, 32)        0         \n",
      "_________________________________________________________________\n",
      "conv_pw_1 (Conv2D)           (None, 64, 64, 64)        2048      \n",
      "_________________________________________________________________\n",
      "conv_pw_1_bn (BatchNormaliza (None, 64, 64, 64)        256       \n",
      "_________________________________________________________________\n",
      "conv_pw_1_relu (ReLU)        (None, 64, 64, 64)        0         \n",
      "_________________________________________________________________\n",
      "conv_pad_2 (ZeroPadding2D)   (None, 65, 65, 64)        0         \n",
      "_________________________________________________________________\n",
      "conv_dw_2 (DepthwiseConv2D)  (None, 32, 32, 64)        576       \n",
      "_________________________________________________________________\n",
      "conv_dw_2_bn (BatchNormaliza (None, 32, 32, 64)        256       \n",
      "_________________________________________________________________\n",
      "conv_dw_2_relu (ReLU)        (None, 32, 32, 64)        0         \n",
      "_________________________________________________________________\n",
      "conv_pw_2 (Conv2D)           (None, 32, 32, 128)       8192      \n",
      "_________________________________________________________________\n",
      "conv_pw_2_bn (BatchNormaliza (None, 32, 32, 128)       512       \n",
      "_________________________________________________________________\n",
      "conv_pw_2_relu (ReLU)        (None, 32, 32, 128)       0         \n",
      "_________________________________________________________________\n",
      "conv_dw_3 (DepthwiseConv2D)  (None, 32, 32, 128)       1152      \n",
      "_________________________________________________________________\n",
      "conv_dw_3_bn (BatchNormaliza (None, 32, 32, 128)       512       \n",
      "_________________________________________________________________\n",
      "conv_dw_3_relu (ReLU)        (None, 32, 32, 128)       0         \n",
      "_________________________________________________________________\n",
      "conv_pw_3 (Conv2D)           (None, 32, 32, 128)       16384     \n",
      "_________________________________________________________________\n",
      "conv_pw_3_bn (BatchNormaliza (None, 32, 32, 128)       512       \n",
      "_________________________________________________________________\n",
      "conv_pw_3_relu (ReLU)        (None, 32, 32, 128)       0         \n",
      "_________________________________________________________________\n",
      "conv_pad_4 (ZeroPadding2D)   (None, 33, 33, 128)       0         \n",
      "_________________________________________________________________\n",
      "conv_dw_4 (DepthwiseConv2D)  (None, 16, 16, 128)       1152      \n",
      "_________________________________________________________________\n",
      "conv_dw_4_bn (BatchNormaliza (None, 16, 16, 128)       512       \n",
      "_________________________________________________________________\n",
      "conv_dw_4_relu (ReLU)        (None, 16, 16, 128)       0         \n",
      "_________________________________________________________________\n",
      "conv_pw_4 (Conv2D)           (None, 16, 16, 256)       32768     \n",
      "_________________________________________________________________\n",
      "conv_pw_4_bn (BatchNormaliza (None, 16, 16, 256)       1024      \n",
      "_________________________________________________________________\n",
      "conv_pw_4_relu (ReLU)        (None, 16, 16, 256)       0         \n",
      "_________________________________________________________________\n",
      "conv_dw_5 (DepthwiseConv2D)  (None, 16, 16, 256)       2304      \n",
      "_________________________________________________________________\n",
      "conv_dw_5_bn (BatchNormaliza (None, 16, 16, 256)       1024      \n",
      "_________________________________________________________________\n",
      "conv_dw_5_relu (ReLU)        (None, 16, 16, 256)       0         \n",
      "_________________________________________________________________\n",
      "conv_pw_5 (Conv2D)           (None, 16, 16, 256)       65536     \n",
      "_________________________________________________________________\n",
      "conv_pw_5_bn (BatchNormaliza (None, 16, 16, 256)       1024      \n",
      "_________________________________________________________________\n",
      "conv_pw_5_relu (ReLU)        (None, 16, 16, 256)       0         \n",
      "_________________________________________________________________\n",
      "conv_pad_6 (ZeroPadding2D)   (None, 17, 17, 256)       0         \n",
      "_________________________________________________________________\n",
      "conv_dw_6 (DepthwiseConv2D)  (None, 8, 8, 256)         2304      \n",
      "_________________________________________________________________\n",
      "conv_dw_6_bn (BatchNormaliza (None, 8, 8, 256)         1024      \n",
      "_________________________________________________________________\n",
      "conv_dw_6_relu (ReLU)        (None, 8, 8, 256)         0         \n",
      "_________________________________________________________________\n",
      "conv_pw_6 (Conv2D)           (None, 8, 8, 512)         131072    \n",
      "_________________________________________________________________\n",
      "conv_pw_6_bn (BatchNormaliza (None, 8, 8, 512)         2048      \n",
      "_________________________________________________________________\n",
      "conv_pw_6_relu (ReLU)        (None, 8, 8, 512)         0         \n",
      "_________________________________________________________________\n",
      "conv_dw_7 (DepthwiseConv2D)  (None, 8, 8, 512)         4608      \n",
      "_________________________________________________________________\n",
      "conv_dw_7_bn (BatchNormaliza (None, 8, 8, 512)         2048      \n",
      "_________________________________________________________________\n",
      "conv_dw_7_relu (ReLU)        (None, 8, 8, 512)         0         \n",
      "_________________________________________________________________\n",
      "conv_pw_7 (Conv2D)           (None, 8, 8, 512)         262144    \n",
      "_________________________________________________________________\n",
      "conv_pw_7_bn (BatchNormaliza (None, 8, 8, 512)         2048      \n",
      "_________________________________________________________________\n",
      "conv_pw_7_relu (ReLU)        (None, 8, 8, 512)         0         \n",
      "_________________________________________________________________\n",
      "conv_dw_8 (DepthwiseConv2D)  (None, 8, 8, 512)         4608      \n",
      "_________________________________________________________________\n",
      "conv_dw_8_bn (BatchNormaliza (None, 8, 8, 512)         2048      \n",
      "_________________________________________________________________\n",
      "conv_dw_8_relu (ReLU)        (None, 8, 8, 512)         0         \n",
      "_________________________________________________________________\n",
      "conv_pw_8 (Conv2D)           (None, 8, 8, 512)         262144    \n",
      "_________________________________________________________________\n",
      "conv_pw_8_bn (BatchNormaliza (None, 8, 8, 512)         2048      \n",
      "_________________________________________________________________\n",
      "conv_pw_8_relu (ReLU)        (None, 8, 8, 512)         0         \n",
      "_________________________________________________________________\n",
      "conv_dw_9 (DepthwiseConv2D)  (None, 8, 8, 512)         4608      \n",
      "_________________________________________________________________\n",
      "conv_dw_9_bn (BatchNormaliza (None, 8, 8, 512)         2048      \n",
      "_________________________________________________________________\n",
      "conv_dw_9_relu (ReLU)        (None, 8, 8, 512)         0         \n",
      "_________________________________________________________________\n",
      "conv_pw_9 (Conv2D)           (None, 8, 8, 512)         262144    \n",
      "_________________________________________________________________\n",
      "conv_pw_9_bn (BatchNormaliza (None, 8, 8, 512)         2048      \n",
      "_________________________________________________________________\n",
      "conv_pw_9_relu (ReLU)        (None, 8, 8, 512)         0         \n",
      "_________________________________________________________________\n",
      "conv_dw_10 (DepthwiseConv2D) (None, 8, 8, 512)         4608      \n",
      "_________________________________________________________________\n",
      "conv_dw_10_bn (BatchNormaliz (None, 8, 8, 512)         2048      \n",
      "_________________________________________________________________\n",
      "conv_dw_10_relu (ReLU)       (None, 8, 8, 512)         0         \n",
      "_________________________________________________________________\n",
      "conv_pw_10 (Conv2D)          (None, 8, 8, 512)         262144    \n",
      "_________________________________________________________________\n",
      "conv_pw_10_bn (BatchNormaliz (None, 8, 8, 512)         2048      \n",
      "_________________________________________________________________\n",
      "conv_pw_10_relu (ReLU)       (None, 8, 8, 512)         0         \n",
      "_________________________________________________________________\n",
      "conv_dw_11 (DepthwiseConv2D) (None, 8, 8, 512)         4608      \n",
      "_________________________________________________________________\n",
      "conv_dw_11_bn (BatchNormaliz (None, 8, 8, 512)         2048      \n",
      "_________________________________________________________________\n",
      "conv_dw_11_relu (ReLU)       (None, 8, 8, 512)         0         \n",
      "_________________________________________________________________\n",
      "conv_pw_11 (Conv2D)          (None, 8, 8, 512)         262144    \n",
      "_________________________________________________________________\n",
      "conv_pw_11_bn (BatchNormaliz (None, 8, 8, 512)         2048      \n",
      "_________________________________________________________________\n",
      "conv_pw_11_relu (ReLU)       (None, 8, 8, 512)         0         \n",
      "_________________________________________________________________\n",
      "conv_pad_12 (ZeroPadding2D)  (None, 9, 9, 512)         0         \n",
      "_________________________________________________________________\n",
      "conv_dw_12 (DepthwiseConv2D) (None, 4, 4, 512)         4608      \n",
      "_________________________________________________________________\n",
      "conv_dw_12_bn (BatchNormaliz (None, 4, 4, 512)         2048      \n",
      "_________________________________________________________________\n",
      "conv_dw_12_relu (ReLU)       (None, 4, 4, 512)         0         \n",
      "_________________________________________________________________\n",
      "conv_pw_12 (Conv2D)          (None, 4, 4, 1024)        524288    \n",
      "_________________________________________________________________\n",
      "conv_pw_12_bn (BatchNormaliz (None, 4, 4, 1024)        4096      \n",
      "_________________________________________________________________\n",
      "conv_pw_12_relu (ReLU)       (None, 4, 4, 1024)        0         \n",
      "_________________________________________________________________\n",
      "conv_dw_13 (DepthwiseConv2D) (None, 4, 4, 1024)        9216      \n",
      "_________________________________________________________________\n",
      "conv_dw_13_bn (BatchNormaliz (None, 4, 4, 1024)        4096      \n",
      "_________________________________________________________________\n",
      "conv_dw_13_relu (ReLU)       (None, 4, 4, 1024)        0         \n",
      "_________________________________________________________________\n",
      "conv_pw_13 (Conv2D)          (None, 4, 4, 1024)        1048576   \n",
      "_________________________________________________________________\n",
      "conv_pw_13_bn (BatchNormaliz (None, 4, 4, 1024)        4096      \n",
      "_________________________________________________________________\n",
      "conv_pw_13_relu (ReLU)       (None, 4, 4, 1024)        0         \n",
      "_________________________________________________________________\n",
      "global_average_pooling2d (Gl (None, 1024)              0         \n",
      "_________________________________________________________________\n",
      "reshape (Reshape)            (None, 1, 1, 1024)        0         \n",
      "_________________________________________________________________\n",
      "dropout (Dropout)            (None, 1, 1, 1024)        0         \n",
      "_________________________________________________________________\n",
      "conv2d (Conv2D)              (None, 1, 1, 1000)        1025000   \n",
      "_________________________________________________________________\n",
      "reshape_1 (Reshape)          (None, 1000)              0         \n",
      "_________________________________________________________________\n",
      "dense (Dense)                (None, 4)                 4004      \n",
      "=================================================================\n",
      "Total params: 4,257,868\n",
      "Trainable params: 4,235,980\n",
      "Non-trainable params: 21,888\n",
      "_________________________________________________________________\n"
     ]
    }
   ],
   "source": [
    "model = MobileNet()\n",
    "model.compile(optimizer = optimizer, loss = losses, metrics = ['accuracy', \n",
    "                                                               tf.keras.metrics.Precision(), \n",
    "                                                               tf.keras.metrics.Recall(), \n",
    "                                                               tf.keras.metrics.TruePositives(), \n",
    "                                                               tf.keras.metrics.TrueNegatives(), \n",
    "                                                               tf.keras.metrics.FalsePositives(),\n",
    "                                                               tf.keras.metrics.FalseNegatives()])\n",
    "\n",
    "\n",
    "model.summary()"
   ]
  },
  {
   "cell_type": "code",
   "execution_count": 16,
   "metadata": {},
   "outputs": [
    {
     "name": "stdout",
     "output_type": "stream",
     "text": [
      "Epoch 1/100\n",
      "\n",
      "Epoch 00001: LearningRateScheduler reducing learning rate to 0.001.\n"
     ]
    },
    {
     "name": "stderr",
     "output_type": "stream",
     "text": [
      "2021-07-20 00:17:43.537069: I tensorflow/compiler/mlir/mlir_graph_optimization_pass.cc:116] None of the MLIR optimization passes are enabled (registered 2)\n",
      "2021-07-20 00:17:43.538100: I tensorflow/core/platform/profile_utils/cpu_utils.cc:112] CPU Frequency: 3599950000 Hz\n",
      "2021-07-20 00:17:46.455673: I tensorflow/stream_executor/platform/default/dso_loader.cc:49] Successfully opened dynamic library libcublas.so.11\n",
      "2021-07-20 00:17:46.838010: I tensorflow/stream_executor/platform/default/dso_loader.cc:49] Successfully opened dynamic library libcublasLt.so.11\n",
      "2021-07-20 00:17:46.847726: I tensorflow/stream_executor/platform/default/dso_loader.cc:49] Successfully opened dynamic library libcudnn.so.8\n",
      "2021-07-20 00:17:48.494199: W tensorflow/core/common_runtime/bfc_allocator.cc:314] Garbage collection: deallocate free memory regions (i.e., allocations) so that we can re-allocate a larger region to avoid OOM due to memory fragmentation. If you see this message frequently, you are running near the threshold of the available device memory and re-allocation may incur great performance overhead. You may try smaller batch sizes to observe the performance impact. Set TF_ENABLE_GPU_GARBAGE_COLLECTION=false if you'd like to disable this feature.\n"
     ]
    },
    {
     "name": "stdout",
     "output_type": "stream",
     "text": [
      "7390/7390 [==============================] - 203s 27ms/step - loss: 0.6357 - accuracy: 0.8455 - precision: 0.8640 - recall: 0.8255 - true_positives: 25126.0093 - true_negatives: 85454.0783 - false_positives: 3249.9184 - false_negatives: 4441.9896 - val_loss: 0.2824 - val_accuracy: 0.9075 - val_precision: 0.9129 - val_recall: 0.9007 - val_true_positives: 11408.0000 - val_true_negatives: 36909.0000 - val_false_positives: 1089.0000 - val_false_negatives: 1258.0000\n",
      "\n",
      "Epoch 00001: loss improved from inf to 0.39541, saving model to /mnt/036b1314-13ad-429f-b9f9-07467946c5d7/Datasets/Health/OCT2017/mobilenet/best_model.h5\n",
      "Epoch 2/100\n",
      "\n",
      "Epoch 00002: LearningRateScheduler reducing learning rate to 0.001.\n",
      "7390/7390 [==============================] - 199s 27ms/step - loss: 0.2584 - accuracy: 0.9198 - precision: 0.9275 - recall: 0.9109 - true_positives: 26985.8965 - true_negatives: 86629.8378 - false_positives: 2074.1590 - false_negatives: 2582.1024 - val_loss: 0.2367 - val_accuracy: 0.9301 - val_precision: 0.9352 - val_recall: 0.9262 - val_true_positives: 11731.0000 - val_true_negatives: 37185.0000 - val_false_positives: 813.0000 - val_false_negatives: 935.0000\n",
      "\n",
      "Epoch 00002: loss improved from 0.39541 to 0.24564, saving model to /mnt/036b1314-13ad-429f-b9f9-07467946c5d7/Datasets/Health/OCT2017/mobilenet/best_model.h5\n",
      "Epoch 3/100\n",
      "\n",
      "Epoch 00003: LearningRateScheduler reducing learning rate to 0.001.\n",
      "7390/7390 [==============================] - 204s 28ms/step - loss: 0.2023 - accuracy: 0.9355 - precision: 0.9410 - recall: 0.9311 - true_positives: 27524.9168 - true_negatives: 86975.5150 - false_positives: 1728.4818 - false_negatives: 2043.0821 - val_loss: 0.1949 - val_accuracy: 0.9345 - val_precision: 0.9401 - val_recall: 0.9297 - val_true_positives: 11776.0000 - val_true_negatives: 37248.0000 - val_false_positives: 750.0000 - val_false_negatives: 890.0000\n",
      "\n",
      "Epoch 00003: loss improved from 0.24564 to 0.20021, saving model to /mnt/036b1314-13ad-429f-b9f9-07467946c5d7/Datasets/Health/OCT2017/mobilenet/best_model.h5\n",
      "Epoch 4/100\n",
      "\n",
      "Epoch 00004: LearningRateScheduler reducing learning rate to 0.001.\n",
      "7390/7390 [==============================] - 203s 28ms/step - loss: 0.1632 - accuracy: 0.9483 - precision: 0.9517 - recall: 0.9445 - true_positives: 27899.9813 - true_negatives: 87271.2564 - false_positives: 1432.7404 - false_negatives: 1668.0176 - val_loss: 0.1693 - val_accuracy: 0.9429 - val_precision: 0.9480 - val_recall: 0.9391 - val_true_positives: 11895.0000 - val_true_negatives: 37345.0000 - val_false_positives: 653.0000 - val_false_negatives: 771.0000\n",
      "\n",
      "Epoch 00004: loss improved from 0.20021 to 0.16663, saving model to /mnt/036b1314-13ad-429f-b9f9-07467946c5d7/Datasets/Health/OCT2017/mobilenet/best_model.h5\n",
      "Epoch 5/100\n",
      "\n",
      "Epoch 00005: LearningRateScheduler reducing learning rate to 0.001.\n",
      "7390/7390 [==============================] - 203s 27ms/step - loss: 0.1388 - accuracy: 0.9550 - precision: 0.9575 - recall: 0.9524 - true_positives: 28124.3728 - true_negatives: 87435.9899 - false_positives: 1268.0069 - false_negatives: 1443.6262 - val_loss: 0.1623 - val_accuracy: 0.9484 - val_precision: 0.9517 - val_recall: 0.9443 - val_true_positives: 11960.0000 - val_true_negatives: 37391.0000 - val_false_positives: 607.0000 - val_false_negatives: 706.0000\n",
      "\n",
      "Epoch 00005: loss improved from 0.16663 to 0.14158, saving model to /mnt/036b1314-13ad-429f-b9f9-07467946c5d7/Datasets/Health/OCT2017/mobilenet/best_model.h5\n",
      "Epoch 6/100\n",
      "\n",
      "Epoch 00006: LearningRateScheduler reducing learning rate to 0.001.\n",
      "7390/7390 [==============================] - 212s 29ms/step - loss: 0.1192 - accuracy: 0.9609 - precision: 0.9632 - recall: 0.9588 - true_positives: 28350.6006 - true_negatives: 87619.3104 - false_positives: 1084.6864 - false_negatives: 1217.3983 - val_loss: 0.1780 - val_accuracy: 0.9451 - val_precision: 0.9468 - val_recall: 0.9427 - val_true_positives: 11940.0000 - val_true_negatives: 37327.0000 - val_false_positives: 671.0000 - val_false_negatives: 726.0000\n",
      "\n",
      "Epoch 00006: loss improved from 0.14158 to 0.12281, saving model to /mnt/036b1314-13ad-429f-b9f9-07467946c5d7/Datasets/Health/OCT2017/mobilenet/best_model.h5\n",
      "Epoch 7/100\n",
      "\n",
      "Epoch 00007: LearningRateScheduler reducing learning rate to 0.001.\n",
      "7390/7390 [==============================] - 324s 44ms/step - loss: 0.1025 - accuracy: 0.9666 - precision: 0.9687 - recall: 0.9651 - true_positives: 28519.5068 - true_negatives: 87764.4240 - false_positives: 939.5727 - false_negatives: 1048.4921 - val_loss: 0.1779 - val_accuracy: 0.9492 - val_precision: 0.9506 - val_recall: 0.9473 - val_true_positives: 11998.0000 - val_true_negatives: 37374.0000 - val_false_positives: 624.0000 - val_false_negatives: 668.0000\n",
      "\n",
      "Epoch 00007: loss improved from 0.12281 to 0.10736, saving model to /mnt/036b1314-13ad-429f-b9f9-07467946c5d7/Datasets/Health/OCT2017/mobilenet/best_model.h5\n",
      "Epoch 8/100\n",
      "\n",
      "Epoch 00008: LearningRateScheduler reducing learning rate to 0.001.\n",
      "7390/7390 [==============================] - 200s 27ms/step - loss: 0.0869 - accuracy: 0.9724 - precision: 0.9736 - recall: 0.9709 - true_positives: 28672.4120 - true_negatives: 87899.1084 - false_positives: 804.8884 - false_negatives: 895.5869 - val_loss: 0.1855 - val_accuracy: 0.9435 - val_precision: 0.9458 - val_recall: 0.9411 - val_true_positives: 11920.0000 - val_true_negatives: 37315.0000 - val_false_positives: 683.0000 - val_false_negatives: 746.0000\n",
      "\n",
      "Epoch 00008: loss improved from 0.10736 to 0.09557, saving model to /mnt/036b1314-13ad-429f-b9f9-07467946c5d7/Datasets/Health/OCT2017/mobilenet/best_model.h5\n",
      "Epoch 9/100\n",
      "\n",
      "Epoch 00009: LearningRateScheduler reducing learning rate to 0.001.\n",
      "7390/7390 [==============================] - 202s 27ms/step - loss: 0.0794 - accuracy: 0.9747 - precision: 0.9763 - recall: 0.9734 - true_positives: 28752.0559 - true_negatives: 87970.5511 - false_positives: 733.4457 - false_negatives: 815.9430 - val_loss: 0.1641 - val_accuracy: 0.9486 - val_precision: 0.9514 - val_recall: 0.9469 - val_true_positives: 11994.0000 - val_true_negatives: 37385.0000 - val_false_positives: 613.0000 - val_false_negatives: 672.0000\n",
      "\n",
      "Epoch 00009: loss improved from 0.09557 to 0.08522, saving model to /mnt/036b1314-13ad-429f-b9f9-07467946c5d7/Datasets/Health/OCT2017/mobilenet/best_model.h5\n",
      "Epoch 10/100\n",
      "\n",
      "Epoch 00010: LearningRateScheduler reducing learning rate to 0.001.\n",
      "7390/7390 [==============================] - 204s 28ms/step - loss: 0.0697 - accuracy: 0.9770 - precision: 0.9780 - recall: 0.9760 - true_positives: 28850.2260 - true_negatives: 88044.2563 - false_positives: 659.7405 - false_negatives: 717.7730 - val_loss: 0.1682 - val_accuracy: 0.9491 - val_precision: 0.9512 - val_recall: 0.9475 - val_true_positives: 12001.0000 - val_true_negatives: 37382.0000 - val_false_positives: 616.0000 - val_false_negatives: 665.0000\n",
      "\n",
      "Epoch 00010: loss improved from 0.08522 to 0.07677, saving model to /mnt/036b1314-13ad-429f-b9f9-07467946c5d7/Datasets/Health/OCT2017/mobilenet/best_model.h5\n",
      "Epoch 11/100\n",
      "\n",
      "Epoch 00011: LearningRateScheduler reducing learning rate to 0.0001.\n",
      "7390/7390 [==============================] - 195s 26ms/step - loss: 0.0380 - accuracy: 0.9872 - precision: 0.9874 - recall: 0.9867 - true_positives: 29206.3703 - true_negatives: 88361.9636 - false_positives: 342.0331 - false_negatives: 361.6286 - val_loss: 0.1771 - val_accuracy: 0.9551 - val_precision: 0.9560 - val_recall: 0.9547 - val_true_positives: 12092.0000 - val_true_negatives: 37442.0000 - val_false_positives: 556.0000 - val_false_negatives: 574.0000\n",
      "\n",
      "Epoch 00011: loss improved from 0.07677 to 0.03374, saving model to /mnt/036b1314-13ad-429f-b9f9-07467946c5d7/Datasets/Health/OCT2017/mobilenet/best_model.h5\n",
      "Epoch 12/100\n",
      "\n",
      "Epoch 00012: LearningRateScheduler reducing learning rate to 0.0001.\n",
      "7390/7390 [==============================] - 202s 27ms/step - loss: 0.0192 - accuracy: 0.9938 - precision: 0.9939 - recall: 0.9937 - true_positives: 29376.5869 - true_negatives: 88519.0866 - false_positives: 184.9102 - false_negatives: 191.4120 - val_loss: 0.1988 - val_accuracy: 0.9550 - val_precision: 0.9555 - val_recall: 0.9548 - val_true_positives: 12093.0000 - val_true_negatives: 37435.0000 - val_false_positives: 563.0000 - val_false_negatives: 573.0000\n"
     ]
    },
    {
     "name": "stdout",
     "output_type": "stream",
     "text": [
      "\n",
      "Epoch 00012: loss improved from 0.03374 to 0.02011, saving model to /mnt/036b1314-13ad-429f-b9f9-07467946c5d7/Datasets/Health/OCT2017/mobilenet/best_model.h5\n",
      "Epoch 13/100\n",
      "\n",
      "Epoch 00013: LearningRateScheduler reducing learning rate to 0.0001.\n",
      "7390/7390 [==============================] - 201s 27ms/step - loss: 0.0142 - accuracy: 0.9951 - precision: 0.9953 - recall: 0.9950 - true_positives: 29419.0810 - true_negatives: 88561.4411 - false_positives: 142.5557 - false_negatives: 148.9179 - val_loss: 0.2387 - val_accuracy: 0.9544 - val_precision: 0.9545 - val_recall: 0.9543 - val_true_positives: 12087.0000 - val_true_negatives: 37422.0000 - val_false_positives: 576.0000 - val_false_negatives: 579.0000\n",
      "\n",
      "Epoch 00013: loss improved from 0.02011 to 0.01393, saving model to /mnt/036b1314-13ad-429f-b9f9-07467946c5d7/Datasets/Health/OCT2017/mobilenet/best_model.h5\n",
      "Epoch 14/100\n",
      "\n",
      "Epoch 00014: LearningRateScheduler reducing learning rate to 0.0001.\n",
      "7390/7390 [==============================] - 205s 28ms/step - loss: 0.0091 - accuracy: 0.9967 - precision: 0.9967 - recall: 0.9967 - true_positives: 29464.4722 - true_negatives: 88602.3300 - false_positives: 101.6668 - false_negatives: 103.5267 - val_loss: 0.2445 - val_accuracy: 0.9565 - val_precision: 0.9568 - val_recall: 0.9563 - val_true_positives: 12112.0000 - val_true_negatives: 37451.0000 - val_false_positives: 547.0000 - val_false_negatives: 554.0000\n",
      "\n",
      "Epoch 00014: loss improved from 0.01393 to 0.01065, saving model to /mnt/036b1314-13ad-429f-b9f9-07467946c5d7/Datasets/Health/OCT2017/mobilenet/best_model.h5\n",
      "Epoch 15/100\n",
      "\n",
      "Epoch 00015: LearningRateScheduler reducing learning rate to 0.0001.\n",
      "7390/7390 [==============================] - 201s 27ms/step - loss: 0.0090 - accuracy: 0.9966 - precision: 0.9967 - recall: 0.9966 - true_positives: 29467.5239 - true_negatives: 88605.3043 - false_positives: 98.6925 - false_negatives: 100.4750 - val_loss: 0.2308 - val_accuracy: 0.9532 - val_precision: 0.9537 - val_recall: 0.9526 - val_true_positives: 12065.0000 - val_true_negatives: 37412.0000 - val_false_positives: 586.0000 - val_false_negatives: 601.0000\n",
      "\n",
      "Epoch 00015: loss improved from 0.01065 to 0.01024, saving model to /mnt/036b1314-13ad-429f-b9f9-07467946c5d7/Datasets/Health/OCT2017/mobilenet/best_model.h5\n",
      "Epoch 16/100\n",
      "\n",
      "Epoch 00016: LearningRateScheduler reducing learning rate to 0.0001.\n",
      "7390/7390 [==============================] - 203s 27ms/step - loss: 0.0077 - accuracy: 0.9972 - precision: 0.9972 - recall: 0.9972 - true_positives: 29479.4431 - true_negatives: 88616.5114 - false_positives: 87.4853 - false_negatives: 88.5558 - val_loss: 0.2805 - val_accuracy: 0.9547 - val_precision: 0.9549 - val_recall: 0.9545 - val_true_positives: 12090.0000 - val_true_negatives: 37427.0000 - val_false_positives: 571.0000 - val_false_negatives: 576.0000\n",
      "\n",
      "Epoch 00016: loss improved from 0.01024 to 0.00841, saving model to /mnt/036b1314-13ad-429f-b9f9-07467946c5d7/Datasets/Health/OCT2017/mobilenet/best_model.h5\n",
      "Epoch 17/100\n",
      "\n",
      "Epoch 00017: LearningRateScheduler reducing learning rate to 0.0001.\n",
      "7390/7390 [==============================] - 199s 27ms/step - loss: 0.0070 - accuracy: 0.9970 - precision: 0.9971 - recall: 0.9970 - true_positives: 29480.9938 - true_negatives: 88618.1689 - false_positives: 85.8279 - false_negatives: 87.0051 - val_loss: 0.2667 - val_accuracy: 0.9548 - val_precision: 0.9554 - val_recall: 0.9546 - val_true_positives: 12091.0000 - val_true_negatives: 37434.0000 - val_false_positives: 564.0000 - val_false_negatives: 575.0000\n",
      "\n",
      "Epoch 00017: loss improved from 0.00841 to 0.00806, saving model to /mnt/036b1314-13ad-429f-b9f9-07467946c5d7/Datasets/Health/OCT2017/mobilenet/best_model.h5\n",
      "Epoch 18/100\n",
      "\n",
      "Epoch 00018: LearningRateScheduler reducing learning rate to 0.0001.\n",
      "7390/7390 [==============================] - 199s 27ms/step - loss: 0.0065 - accuracy: 0.9972 - precision: 0.9972 - recall: 0.9972 - true_positives: 29479.0695 - true_negatives: 88615.9922 - false_positives: 88.0046 - false_negatives: 88.9294 - val_loss: 0.2978 - val_accuracy: 0.9562 - val_precision: 0.9565 - val_recall: 0.9559 - val_true_positives: 12108.0000 - val_true_negatives: 37447.0000 - val_false_positives: 551.0000 - val_false_negatives: 558.0000\n",
      "\n",
      "Epoch 00018: loss improved from 0.00806 to 0.00686, saving model to /mnt/036b1314-13ad-429f-b9f9-07467946c5d7/Datasets/Health/OCT2017/mobilenet/best_model.h5\n",
      "Epoch 19/100\n",
      "\n",
      "Epoch 00019: LearningRateScheduler reducing learning rate to 0.0001.\n",
      "7390/7390 [==============================] - 196s 26ms/step - loss: 0.0060 - accuracy: 0.9974 - precision: 0.9974 - recall: 0.9974 - true_positives: 29488.5513 - true_negatives: 88625.2178 - false_positives: 78.7789 - false_negatives: 79.4476 - val_loss: 0.2789 - val_accuracy: 0.9553 - val_precision: 0.9555 - val_recall: 0.9550 - val_true_positives: 12096.0000 - val_true_negatives: 37435.0000 - val_false_positives: 563.0000 - val_false_negatives: 570.0000\n",
      "\n",
      "Epoch 00019: loss improved from 0.00686 to 0.00667, saving model to /mnt/036b1314-13ad-429f-b9f9-07467946c5d7/Datasets/Health/OCT2017/mobilenet/best_model.h5\n",
      "Epoch 20/100\n",
      "\n",
      "Epoch 00020: LearningRateScheduler reducing learning rate to 0.0001.\n",
      "7390/7390 [==============================] - 195s 26ms/step - loss: 0.0056 - accuracy: 0.9972 - precision: 0.9972 - recall: 0.9972 - true_positives: 29480.7479 - true_negatives: 88616.7458 - false_positives: 87.2510 - false_negatives: 87.2510 - val_loss: 0.3117 - val_accuracy: 0.9543 - val_precision: 0.9546 - val_recall: 0.9539 - val_true_positives: 12082.0000 - val_true_negatives: 37423.0000 - val_false_positives: 575.0000 - val_false_negatives: 584.0000\n",
      "\n",
      "Epoch 00020: loss improved from 0.00667 to 0.00623, saving model to /mnt/036b1314-13ad-429f-b9f9-07467946c5d7/Datasets/Health/OCT2017/mobilenet/best_model.h5\n",
      "Epoch 21/100\n",
      "\n",
      "Epoch 00021: LearningRateScheduler reducing learning rate to 1.0000000000000003e-05.\n",
      "7390/7390 [==============================] - 190s 26ms/step - loss: 0.0043 - accuracy: 0.9975 - precision: 0.9975 - recall: 0.9975 - true_positives: 29498.0777 - true_negatives: 88634.0755 - false_positives: 69.9213 - false_negatives: 69.9213 - val_loss: 0.3302 - val_accuracy: 0.9553 - val_precision: 0.9558 - val_recall: 0.9552 - val_true_positives: 12098.0000 - val_true_negatives: 37438.0000 - val_false_positives: 560.0000 - val_false_negatives: 568.0000\n",
      "\n",
      "Epoch 00021: loss improved from 0.00623 to 0.00411, saving model to /mnt/036b1314-13ad-429f-b9f9-07467946c5d7/Datasets/Health/OCT2017/mobilenet/best_model.h5\n",
      "Epoch 22/100\n",
      "\n",
      "Epoch 00022: LearningRateScheduler reducing learning rate to 1.0000000000000003e-05.\n",
      "7390/7390 [==============================] - 190s 26ms/step - loss: 0.0042 - accuracy: 0.9978 - precision: 0.9978 - recall: 0.9978 - true_positives: 29503.7828 - true_negatives: 88639.8138 - false_positives: 64.1829 - false_negatives: 64.2161 - val_loss: 0.3507 - val_accuracy: 0.9548 - val_precision: 0.9551 - val_recall: 0.9546 - val_true_positives: 12091.0000 - val_true_negatives: 37429.0000 - val_false_positives: 569.0000 - val_false_negatives: 575.0000\n",
      "\n",
      "Epoch 00022: loss improved from 0.00411 to 0.00392, saving model to /mnt/036b1314-13ad-429f-b9f9-07467946c5d7/Datasets/Health/OCT2017/mobilenet/best_model.h5\n",
      "Epoch 23/100\n",
      "\n",
      "Epoch 00023: LearningRateScheduler reducing learning rate to 1.0000000000000003e-05.\n",
      "7390/7390 [==============================] - 189s 26ms/step - loss: 0.0040 - accuracy: 0.9979 - precision: 0.9979 - recall: 0.9979 - true_positives: 29504.9686 - true_negatives: 88640.9664 - false_positives: 63.0303 - false_negatives: 63.0303 - val_loss: 0.3573 - val_accuracy: 0.9548 - val_precision: 0.9551 - val_recall: 0.9548 - val_true_positives: 12093.0000 - val_true_negatives: 37430.0000 - val_false_positives: 568.0000 - val_false_negatives: 573.0000\n",
      "\n",
      "Epoch 00023: loss improved from 0.00392 to 0.00383, saving model to /mnt/036b1314-13ad-429f-b9f9-07467946c5d7/Datasets/Health/OCT2017/mobilenet/best_model.h5\n",
      "Epoch 24/100\n",
      "\n",
      "Epoch 00024: LearningRateScheduler reducing learning rate to 1.0000000000000003e-05.\n",
      "7390/7390 [==============================] - 188s 25ms/step - loss: 0.0038 - accuracy: 0.9978 - precision: 0.9978 - recall: 0.9978 - true_positives: 29505.1578 - true_negatives: 88641.1556 - false_positives: 62.8412 - false_negatives: 62.8412 - val_loss: 0.3629 - val_accuracy: 0.9547 - val_precision: 0.9550 - val_recall: 0.9545 - val_true_positives: 12090.0000 - val_true_negatives: 37428.0000 - val_false_positives: 570.0000 - val_false_negatives: 576.0000\n",
      "\n",
      "Epoch 00024: loss improved from 0.00383 to 0.00365, saving model to /mnt/036b1314-13ad-429f-b9f9-07467946c5d7/Datasets/Health/OCT2017/mobilenet/best_model.h5\n",
      "Epoch 25/100\n",
      "\n",
      "Epoch 00025: LearningRateScheduler reducing learning rate to 1.0000000000000003e-05.\n",
      "7390/7390 [==============================] - 188s 25ms/step - loss: 0.0039 - accuracy: 0.9975 - precision: 0.9975 - recall: 0.9974 - true_positives: 29494.9361 - true_negatives: 88631.5808 - false_positives: 72.4159 - false_negatives: 73.0628 - val_loss: 0.3698 - val_accuracy: 0.9557 - val_precision: 0.9561 - val_recall: 0.9555 - val_true_positives: 12102.0000 - val_true_negatives: 37442.0000 - val_false_positives: 556.0000 - val_false_negatives: 564.0000\n",
      "\n",
      "Epoch 00025: loss did not improve from 0.00365\n",
      "Epoch 26/100\n",
      "\n",
      "Epoch 00026: LearningRateScheduler reducing learning rate to 1.0000000000000003e-05.\n",
      "7390/7390 [==============================] - 192s 26ms/step - loss: 0.0035 - accuracy: 0.9981 - precision: 0.9981 - recall: 0.9981 - true_positives: 29508.3235 - true_negatives: 88644.5289 - false_positives: 59.4679 - false_negatives: 59.6754 - val_loss: 0.3682 - val_accuracy: 0.9542 - val_precision: 0.9543 - val_recall: 0.9541 - val_true_positives: 12085.0000 - val_true_negatives: 37419.0000 - val_false_positives: 579.0000 - val_false_negatives: 581.0000\n",
      "\n",
      "Epoch 00026: loss did not improve from 0.00365\n",
      "Epoch 27/100\n",
      "\n",
      "Epoch 00027: LearningRateScheduler reducing learning rate to 1.0000000000000003e-05.\n",
      "7390/7390 [==============================] - 192s 26ms/step - loss: 0.0035 - accuracy: 0.9978 - precision: 0.9978 - recall: 0.9978 - true_positives: 29501.1760 - true_negatives: 88637.7722 - false_positives: 66.2246 - false_negatives: 66.8229 - val_loss: 0.3746 - val_accuracy: 0.9546 - val_precision: 0.9547 - val_recall: 0.9544 - val_true_positives: 12089.0000 - val_true_negatives: 37425.0000 - val_false_positives: 573.0000 - val_false_negatives: 577.0000\n",
      "\n",
      "Epoch 00027: loss did not improve from 0.00365\n",
      "Epoch 28/100\n",
      "\n",
      "Epoch 00028: LearningRateScheduler reducing learning rate to 1.0000000000000003e-05.\n",
      "7390/7390 [==============================] - 192s 26ms/step - loss: 0.0029 - accuracy: 0.9983 - precision: 0.9983 - recall: 0.9983 - true_positives: 29512.3200 - true_negatives: 88648.8531 - false_positives: 55.1437 - false_negatives: 55.6789 - val_loss: 0.3788 - val_accuracy: 0.9549 - val_precision: 0.9551 - val_recall: 0.9548 - val_true_positives: 12093.0000 - val_true_negatives: 37429.0000 - val_false_positives: 569.0000 - val_false_negatives: 573.0000\n",
      "\n",
      "Epoch 00028: loss improved from 0.00365 to 0.00354, saving model to /mnt/036b1314-13ad-429f-b9f9-07467946c5d7/Datasets/Health/OCT2017/mobilenet/best_model.h5\n",
      "Epoch 29/100\n",
      "\n",
      "Epoch 00029: LearningRateScheduler reducing learning rate to 1.0000000000000003e-05.\n",
      "7390/7390 [==============================] - 191s 26ms/step - loss: 0.0032 - accuracy: 0.9978 - precision: 0.9978 - recall: 0.9978 - true_positives: 29495.6255 - true_negatives: 88632.2134 - false_positives: 71.7834 - false_negatives: 72.3734 - val_loss: 0.3788 - val_accuracy: 0.9546 - val_precision: 0.9548 - val_recall: 0.9545 - val_true_positives: 12090.0000 - val_true_negatives: 37426.0000 - val_false_positives: 572.0000 - val_false_negatives: 576.0000\n",
      "\n",
      "Epoch 00029: loss did not improve from 0.00354\n",
      "Epoch 30/100\n",
      "\n",
      "Epoch 00030: LearningRateScheduler reducing learning rate to 1.0000000000000003e-05.\n",
      "7390/7390 [==============================] - 191s 26ms/step - loss: 0.0033 - accuracy: 0.9979 - precision: 0.9979 - recall: 0.9979 - true_positives: 29504.7245 - true_negatives: 88641.3031 - false_positives: 62.6937 - false_negatives: 63.2744 - val_loss: 0.3915 - val_accuracy: 0.9549 - val_precision: 0.9551 - val_recall: 0.9548 - val_true_positives: 12094.0000 - val_true_negatives: 37430.0000 - val_false_positives: 568.0000 - val_false_negatives: 572.0000\n",
      "\n",
      "Epoch 00030: loss improved from 0.00354 to 0.00342, saving model to /mnt/036b1314-13ad-429f-b9f9-07467946c5d7/Datasets/Health/OCT2017/mobilenet/best_model.h5\n",
      "Epoch 31/100\n",
      "\n",
      "Epoch 00031: LearningRateScheduler reducing learning rate to 1.0000000000000002e-06.\n",
      "7390/7390 [==============================] - 191s 26ms/step - loss: 0.0038 - accuracy: 0.9976 - precision: 0.9976 - recall: 0.9976 - true_positives: 29498.9130 - true_negatives: 88635.5101 - false_positives: 68.4867 - false_negatives: 69.0859 - val_loss: 0.3904 - val_accuracy: 0.9549 - val_precision: 0.9551 - val_recall: 0.9548 - val_true_positives: 12093.0000 - val_true_negatives: 37430.0000 - val_false_positives: 568.0000 - val_false_negatives: 573.0000\n",
      "Restoring model weights from the end of the best epoch.\n",
      "\n",
      "Epoch 00031: loss did not improve from 0.00342\n",
      "Epoch 00031: early stopping\n",
      "7390/7390 [==============================] - 74s 10ms/step - loss: 0.0035 - accuracy: 0.9980 - precision: 0.9980 - recall: 0.9980 - true_positives: 59001.0000 - true_negatives: 177242.0000 - false_positives: 118.0000 - false_negatives: 119.0000\n",
      "1584/1584 [==============================] - 16s 10ms/step - loss: 0.3302 - accuracy: 0.9553 - precision: 0.9558 - recall: 0.9552 - true_positives: 12098.0000 - true_negatives: 37438.0000 - false_positives: 560.0000 - false_negatives: 568.0000\n",
      "1584/1584 [==============================] - 16s 10ms/step - loss: 0.3302 - accuracy: 0.9544 - precision: 0.9548 - recall: 0.9544 - true_positives: 12088.0000 - true_negatives: 37426.0000 - false_positives: 572.0000 - false_negatives: 578.0000\n"
     ]
    }
   ],
   "source": [
    "with tf.device('/GPU:0'):\n",
    "    start = time.time()\n",
    "    history = model.fit(train_generator,\n",
    "                        epochs = epoch,\n",
    "                        verbose = 1,\n",
    "                        callbacks = callback,\n",
    "                        validation_data = validation_generator,\n",
    "                        shuffle=True)\n",
    "\n",
    "    end = time.time()\n",
    "    duration = end-start\n",
    "\n",
    "train_score = model.evaluate(train_generator)\n",
    "val_score = model.evaluate(validation_generator)\n",
    "test_score = model.evaluate(test_generator)"
   ]
  },
  {
   "cell_type": "code",
   "execution_count": 17,
   "metadata": {},
   "outputs": [
    {
     "name": "stdout",
     "output_type": "stream",
     "text": [
      "Execution Time: 6254.619746923447 seconds\n"
     ]
    }
   ],
   "source": [
    "print(\"Execution Time: {} seconds\".format(duration))"
   ]
  },
  {
   "cell_type": "code",
   "execution_count": 18,
   "metadata": {},
   "outputs": [
    {
     "name": "stderr",
     "output_type": "stream",
     "text": [
      "The PostScript backend does not support transparency; partially transparent artists will be rendered opaque.\n",
      "The PostScript backend does not support transparency; partially transparent artists will be rendered opaque.\n"
     ]
    },
    {
     "data": {
      "image/png": "[encoded data removed]",
      "text/plain": [
       "<Figure size 432x288 with 1 Axes>"
      ]
     },
     "metadata": {
      "needs_background": "light"
     },
     "output_type": "display_data"
    },
    {
     "name": "stderr",
     "output_type": "stream",
     "text": [
      "The PostScript backend does not support transparency; partially transparent artists will be rendered opaque.\n",
      "The PostScript backend does not support transparency; partially transparent artists will be rendered opaque.\n"
     ]
    },
    {
     "data": {
      "image/png": "[encoded data removed]",
      "text/plain": [
       "<Figure size 432x288 with 1 Axes>"
      ]
     },
     "metadata": {
      "needs_background": "light"
     },
     "output_type": "display_data"
    },
    {
     "name": "stderr",
     "output_type": "stream",
     "text": [
      "The PostScript backend does not support transparency; partially transparent artists will be rendered opaque.\n",
      "The PostScript backend does not support transparency; partially transparent artists will be rendered opaque.\n"
     ]
    },
    {
     "data": {
      "image/png": "[encoded data removed]",
      "text/plain": [
       "<Figure size 432x288 with 1 Axes>"
      ]
     },
     "metadata": {
      "needs_background": "light"
     },
     "output_type": "display_data"
    }
   ],
   "source": [
    "acc=history.history['accuracy']\n",
    "val_acc=history.history['val_accuracy']\n",
    "loss=history.history['loss']\n",
    "val_loss=history.history['val_loss']\n",
    "epochs=range(len(acc))\n",
    "\n",
    "plt.plot(epochs, acc, 'r', label='Training Accuracy')\n",
    "plt.plot(epochs, val_acc, 'b', label='Validation Accuracy')\n",
    "plt.xlabel(\"Epochs\")\n",
    "plt.ylabel(\"Accuracy\")\n",
    "plt.title('Training and validation accuracy vs Epochs')\n",
    "plt.legend()\n",
    "fig_name_eps = \"accuracy.eps\"\n",
    "plt.savefig(os.path.join(char, fig_name_eps))\n",
    "plt.show()\n",
    "\n",
    "\n",
    "plt.plot(epochs, loss, 'r', label=\"Training Loss\")\n",
    "plt.plot(epochs, val_loss, 'b', label=\"Validation Loss\")\n",
    "plt.xlabel(\"Epochs\")\n",
    "plt.ylabel(\"Loss\")\n",
    "plt.title('Training and validation loss vs Epochs')\n",
    "plt.legend()\n",
    "fig_name_eps = \"loss.eps\"\n",
    "plt.savefig(os.path.join(char, fig_name_eps))\n",
    "plt.show()\n",
    "\n",
    "plt.plot(epochs, acc, 'r', label='Training Accuracy')\n",
    "plt.plot(epochs, val_acc, 'b', label='Validation Accuracy')\n",
    "plt.plot(epochs, loss, 'r', label=\"Training Loss\")\n",
    "plt.plot(epochs, val_loss, 'b', label=\"Validation Loss\")\n",
    "plt.xlabel(\"Epochs\")\n",
    "plt.ylabel(\"Loss\")\n",
    "plt.title('Training and validation loss vs Epochs')\n",
    "plt.legend()\n",
    "fig_name_eps = \"char.eps\"\n",
    "plt.savefig(os.path.join(char, fig_name_eps))"
   ]
  },
  {
   "cell_type": "code",
   "execution_count": 19,
   "metadata": {},
   "outputs": [
    {
     "name": "stdout",
     "output_type": "stream",
     "text": [
      "The training accuracy is: 99.7987151145935 %\n",
      "The validation accuracy is: 95.53134441375732 %\n",
      "The test accuracy is: 95.4444944858551 %\n"
     ]
    }
   ],
   "source": [
    "training_accuracy = train_score[1]*100\n",
    "validation_accuracy = val_score[1]*100\n",
    "test_accuracy = test_score[1]*100\n",
    "\n",
    "print(\"The training accuracy is: \" + str(training_accuracy) + ' %')\n",
    "print(\"The validation accuracy is: \" + str(validation_accuracy) + ' %')\n",
    "print(\"The test accuracy is: \" + str(test_accuracy) + ' %')"
   ]
  },
  {
   "cell_type": "code",
   "execution_count": 20,
   "metadata": {},
   "outputs": [],
   "source": [
    "test_accuracy = train_score[1]*100\n",
    "test_precision = train_score[2]*100\n",
    "test_recall = train_score[3]*100\n",
    "tp = int(train_score[4])\n",
    "tn = int(train_score[5])\n",
    "fp = int(train_score[6])\n",
    "fn = int(train_score[7])\n",
    "\n",
    "f1 = 2*((test_precision*test_recall)/(test_precision+test_recall))\n",
    "sensitivity = (tp/(tp+fn))*100\n",
    "specificity = (tn/(tn+fp))*100"
   ]
  },
  {
   "cell_type": "code",
   "execution_count": 21,
   "metadata": {},
   "outputs": [],
   "source": [
    "test_accuracy = test_score[1]*100\n",
    "test_precision = test_score[2]*100\n",
    "test_recall = test_score[3]*100\n",
    "tp = int(test_score[4])\n",
    "tn = int(test_score[5])\n",
    "fp = int(test_score[6])\n",
    "fn = int(test_score[7])\n",
    "\n",
    "f1 = 2*((test_precision*test_recall)/(test_precision+test_recall))\n",
    "sensitivity = (tp/(tp+fn))*100\n",
    "specificity = (tn/(tn+fp))*100"
   ]
  },
  {
   "cell_type": "code",
   "execution_count": 22,
   "metadata": {},
   "outputs": [
    {
     "name": "stdout",
     "output_type": "stream",
     "text": [
      "Test Accuracy: 95.4444944858551\n",
      "Test Precision: 95.48183083534241\n",
      "Test Recall: 95.43660283088684\n",
      "True Positive: 12088\n",
      "Test Negetive: 37426\n",
      "False Positive: 572\n",
      "False Negetive: 578\n",
      "Sensitivity: 95.43660192641717\n",
      "Specificity: 98.49465761355862\n"
     ]
    }
   ],
   "source": [
    "print(\"Test Accuracy: {}\".format(test_accuracy))\n",
    "print(\"Test Precision: {}\".format(test_precision))\n",
    "print(\"Test Recall: {}\".format(test_recall))\n",
    "print(\"True Positive: {}\".format(tp))\n",
    "print(\"Test Negetive: {}\".format(tn))\n",
    "print(\"False Positive: {}\".format(fp))\n",
    "print(\"False Negetive: {}\".format(fn))\n",
    "print(\"Sensitivity: {}\".format(sensitivity))\n",
    "print(\"Specificity: {}\".format(specificity))"
   ]
  },
  {
   "cell_type": "code",
   "execution_count": 23,
   "metadata": {},
   "outputs": [
    {
     "name": "stdout",
     "output_type": "stream",
     "text": [
      "Please read the text file named readme.txt for detailed information of the model.\n"
     ]
    }
   ],
   "source": [
    "from contextlib import redirect_stdout\n",
    "\n",
    "readme_name_text = \"readme.txt\"\n",
    "print(f\"Please read the text file named {readme_name_text} for detailed information of the model.\")\n",
    "\n",
    "completeName_txt = os.path.join(char, readme_name_text) \n",
    "\n",
    "readme = open(completeName_txt, \"w\")\n",
    "\n",
    "if len(os.listdir(train_directory)) > 2:\n",
    "    readme.write(f\"This is a {len(os.listdir(train_directory))}-class CLASSIFICATION\")\n",
    "else:\n",
    "    readme.write(\"This is a BINARY CLASSIFICATION\")\n",
    "\n",
    "\n",
    "readme.write(\"\\n\\n--HYPERPARAMETERS--\\n\")\n",
    "readme.write(f\"\\nInitial Learning Rate = {learning_rate}\")\n",
    "readme.write(f\"\\nNo. of epochs = {len(acc)}\")\n",
    "readme.write(f\"\\nBatch Size = {batch_size}\")\n",
    "\n",
    "\n",
    "readme.write(\"\\n\\n--MODEL-PARAMETERS--\")\n",
    "readme.write(f\"\\nOptimizer = {optimizer}\\n\\n\")\n",
    "\n",
    "\n",
    "readme.write(\"Trained on a VGG16\\n\")\n",
    "with redirect_stdout(readme):\n",
    "    model.summary()\n",
    "        \n",
    "    \n",
    "readme.write(\"\\n\\n--MODEL-PERFORMANCE--\")\n",
    "readme.write(f\"\\nTest Accuracy = {test_accuracy} %\")\n",
    "readme.write(f\"\\nTest Precision = {test_precision} %\")\n",
    "readme.write(f\"\\nTest Recall = {test_recall} %\")\n",
    "readme.write(f\"\\nTrue Positive = {tp}\")\n",
    "readme.write(f\"\\nTrue Negetive = {tn}\")\n",
    "readme.write(f\"\\nFalse Positive = {fp}\")\n",
    "readme.write(f\"\\nFalse Negetive = {fn}\")\n",
    "readme.write(f\"\\nSensitivity = {sensitivity}\")\n",
    "readme.write(f\"\\nSpecificity = {specificity}\\n\\n\\n\")\n",
    "\n",
    "\n",
    "readme.write(\"\\n\\n--MODEL-CHARACTERISTICS--\")\n",
    "readme.write(f\"\\nacc = {acc}\")\n",
    "readme.write(f\"\\n\\nval_acc = {val_acc}\")\n",
    "readme.write(f\"\\n\\nloss = {loss}\")\n",
    "readme.write(f\"\\n\\nval_loss = {val_loss}\")\n",
    "\n",
    "\n",
    "readme.write(f\"\\n\\nExecution Time: {duration} seconds\")\n",
    "\n",
    "readme.write(\"\\n\\nCreated using Self-Regulated Image Classifier using Convolution Neural Network\")\n",
    "\n",
    "readme.close()"
   ]
  },
  {
   "cell_type": "code",
   "execution_count": null,
   "metadata": {},
   "outputs": [],
   "source": []
  }
 ],
 "metadata": {
  "kernelspec": {
   "display_name": "Python 3 (ipykernel)",
   "language": "python",
   "name": "python3"
  },
  "language_info": {
   "codemirror_mode": {
    "name": "ipython",
    "version": 3
   },
   "file_extension": ".py",
   "mimetype": "text/x-python",
   "name": "python",
   "nbconvert_exporter": "python",
   "pygments_lexer": "ipython3",
   "version": "3.8.5"
  }
 },
 "nbformat": 4,
 "nbformat_minor": 4
}
