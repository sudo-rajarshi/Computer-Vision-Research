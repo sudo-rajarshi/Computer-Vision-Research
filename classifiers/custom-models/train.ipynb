{
 "cells": [
  {
   "cell_type": "markdown",
   "metadata": {},
   "source": [
    "# Import Libraries"
   ]
  },
  {
   "cell_type": "code",
   "execution_count": 1,
   "metadata": {},
   "outputs": [],
   "source": [
    "import os\n",
    "os.environ['TF_CPP_MIN_LOG_LEVEL'] = '3' \n",
    "\n",
    "import cv2\n",
    "import random\n",
    "import shutil\n",
    "import time\n",
    "import matplotlib\n",
    "import glob\n",
    "import operator\n",
    "import psutil\n",
    "import numpy as np\n",
    "import math\n",
    "import matplotlib.pyplot as plt\n",
    "\n",
    "import tensorflow as tf\n",
    "from tensorflow import keras\n",
    "from tensorflow.keras.preprocessing import image\n",
    "from tensorflow.keras.preprocessing.image import ImageDataGenerator\n",
    "from tensorflow.keras.optimizers import *\n",
    "from tensorflow.keras.models import *\n",
    "from tensorflow.keras.layers import *\n",
    "from tensorflow.keras.regularizers import l2\n",
    "\n",
    "from shutil import copyfile\n",
    "import pandas as pd\n",
    "import PIL\n",
    "from mlxtend.plotting import plot_confusion_matrix\n",
    "from tqdm import tqdm "
   ]
  },
  {
   "cell_type": "markdown",
   "metadata": {},
   "source": [
    "# Setting up hardware"
   ]
  },
  {
   "cell_type": "code",
   "execution_count": 2,
   "metadata": {},
   "outputs": [
    {
     "name": "stdout",
     "output_type": "stream",
     "text": [
      "Using GPU\n"
     ]
    }
   ],
   "source": [
    "physical_devices = tf.config.experimental.list_physical_devices('GPU')\n",
    "\n",
    "if physical_devices != []:\n",
    "    print(\"Using GPU\")\n",
    "    for i in physical_devices:\n",
    "        tf.config.experimental.set_memory_growth(i, True)\n",
    "else:\n",
    "    print(\"Using CPU\")\n",
    "    pass"
   ]
  },
  {
   "cell_type": "markdown",
   "metadata": {},
   "source": [
    "# Load Dataset"
   ]
  },
  {
   "cell_type": "code",
   "execution_count": 3,
   "metadata": {},
   "outputs": [],
   "source": [
    "root_dir = '/mnt/036b1314-13ad-429f-b9f9-07467946c5d7/Datasets/Others/waste1/bio/product'\n",
    "classify_train = os.path.join(root_dir, 'classify train')\n",
    "\n",
    "train_directory = os.path.join(classify_train, 'training')\n",
    "validation_directory = os.path.join(classify_train, 'validation')\n",
    "test_directory = os.path.join(classify_train, 'testing')"
   ]
  },
  {
   "cell_type": "code",
   "execution_count": 4,
   "metadata": {},
   "outputs": [
    {
     "data": {
      "text/plain": [
       "('/mnt/036b1314-13ad-429f-b9f9-07467946c5d7/Datasets/Others/waste1/bio/product/classify train/training',\n",
       " '/mnt/036b1314-13ad-429f-b9f9-07467946c5d7/Datasets/Others/waste1/bio/product/classify train/validation',\n",
       " '/mnt/036b1314-13ad-429f-b9f9-07467946c5d7/Datasets/Others/waste1/bio/product/classify train/testing')"
      ]
     },
     "execution_count": 4,
     "metadata": {},
     "output_type": "execute_result"
    }
   ],
   "source": [
    "train_directory, validation_directory, test_directory"
   ]
  },
  {
   "cell_type": "markdown",
   "metadata": {},
   "source": [
    "# Hyper-parameter setting-1"
   ]
  },
  {
   "cell_type": "code",
   "execution_count": 5,
   "metadata": {},
   "outputs": [
    {
     "name": "stdout",
     "output_type": "stream",
     "text": [
      "Enter the initial learning rate: 0.0001\n",
      "Enter the maximum number of epochs: 100\n",
      "Enter batch size: 8\n",
      "Enter lambda for L2 regularization: 0\n"
     ]
    }
   ],
   "source": [
    "learning_rate = float(input(\"Enter the initial learning rate: \"))\n",
    "epoch = int(input(\"Enter the maximum number of epochs: \"))\n",
    "batch_size = int(input(\"Enter batch size: \"))\n",
    "lambd = float(input(\"Enter lambda for L2 regularization: \"))"
   ]
  },
  {
   "cell_type": "markdown",
   "metadata": {},
   "source": [
    "# Characteristics folder\n",
    "Creating a seperate folder where 'classify train' belongs to store model and results"
   ]
  },
  {
   "cell_type": "code",
   "execution_count": 6,
   "metadata": {},
   "outputs": [
    {
     "name": "stdout",
     "output_type": "stream",
     "text": [
      "Enter name of the characteristics folder: 1\n"
     ]
    }
   ],
   "source": [
    "char_name = str(input(\"Enter name of the characteristics folder: \"))\n",
    "\n",
    "char = os.path.join(root_dir, char_name)\n",
    "\n",
    "if not os.path.exists(char):\n",
    "    os.mkdir(char)\n",
    "else:\n",
    "    replace = str(input(\"Folder already exists ! Do you want to replace it ?(Y/N) \"))\n",
    "    if replace.upper() == 'Y':      \n",
    "        shutil.rmtree(char)\n",
    "        os.mkdir(char)\n",
    "    elif replace.upper() == 'N':\n",
    "        print('\\nThe following folders already exist:')\n",
    "        for i in os.listdir(root_dir): \n",
    "            print(i)\n",
    "        char_name = str(input(\"\\nEnter a new name of the characteristics folder: \"))\n",
    "        char = os.path.join(root_dir, char_name)\n",
    "        if not os.path.exists(char):\n",
    "            os.mkdir(char)\n",
    "        else:\n",
    "            print(f\"{char_name} replaced\")\n",
    "            shutil.rmtree(char)\n",
    "            os.mkdir(char)"
   ]
  },
  {
   "cell_type": "markdown",
   "metadata": {},
   "source": [
    "# Learning rate decay"
   ]
  },
  {
   "cell_type": "code",
   "execution_count": 7,
   "metadata": {},
   "outputs": [],
   "source": [
    "steps = 10 # change steps to 1 to apply exponential decay\n",
    "\n",
    "def lr_schedule(epoch):\n",
    "    return learning_rate * (0.1 ** int(epoch / steps))\n",
    "    \n",
    "best_model_address = os.path.join(char, 'best_model.h5')"
   ]
  },
  {
   "cell_type": "markdown",
   "metadata": {},
   "source": [
    "# Callbacks"
   ]
  },
  {
   "cell_type": "code",
   "execution_count": 8,
   "metadata": {},
   "outputs": [
    {
     "name": "stdout",
     "output_type": "stream",
     "text": [
      "Press 1 to monitor Validation Accuracy\n",
      "Press 2 to monitor Validation Loss\n",
      "Press 3 to monitor Training Accuracy\n",
      "Press 4 to monitor Training Loss\n",
      "4\n",
      "Enter number of epochs that will produce monitored quantity with no improvement after which training will be stopped: 10\n",
      "\n",
      "MONITORING TRAINING LOSS..........\n",
      "\n",
      "\n",
      "Training will stop if loss doesn't show any improvements for 10 epcohs\n",
      "\n"
     ]
    }
   ],
   "source": [
    "monitor = int(input(\"Press 1 to monitor Validation Accuracy\\nPress 2 to monitor Validation Loss\\nPress 3 to monitor Training Accuracy\\nPress 4 to monitor Training Loss\\n\"))\n",
    "patience = int(input('Enter number of epochs that will produce monitored quantity with no improvement after which training will be stopped: '))\n",
    "\n",
    "\n",
    "if monitor == 1:\n",
    "    metric = 'val_accuracy'\n",
    "    mode = 'max'\n",
    "    print(\"\\nMONITORING VALIDATION ACCURACY..........\\n\")\n",
    "\n",
    "elif monitor == 2:\n",
    "    metric = 'val_loss'\n",
    "    mode = 'min'\n",
    "    print(\"\\nMONITORING VALIDATION LOSS..........\\n\")\n",
    "\n",
    "elif monitor == 3:\n",
    "    metric = 'accuracy'\n",
    "    mode = 'max'\n",
    "    print(\"\\nMONITORING TRAINING ACCURACY..........\\n\")\n",
    "\n",
    "elif monitor == 4:\n",
    "    metric = 'loss'\n",
    "    mode = 'min'\n",
    "    print(\"\\nMONITORING TRAINING LOSS..........\\n\")\n",
    "\n",
    "callback = [keras.callbacks.LearningRateScheduler(lr_schedule, verbose = 1),\n",
    "            keras.callbacks.EarlyStopping(monitor = metric, min_delta = 0.001, patience = patience, verbose=1, mode = mode, restore_best_weights = True),\n",
    "            keras.callbacks.ModelCheckpoint(best_model_address, monitor = metric, verbose=1, save_best_only=True, save_weights_only=False, mode = mode)]\n",
    "\n",
    "print(f\"\\nTraining will stop if {metric} doesn't show any improvements for {patience} epcohs\\n\")"
   ]
  },
  {
   "cell_type": "markdown",
   "metadata": {},
   "source": [
    "# Model Architecture"
   ]
  },
  {
   "cell_type": "code",
   "execution_count": 9,
   "metadata": {},
   "outputs": [],
   "source": [
    "def classical_cnn(dim, output_neurons, output_activation):\n",
    "    print(\"\\nTRAINING ON classical_cnn MODEL:-\")\n",
    "    \n",
    "    \n",
    "    def block(tensor, conv_reps, n_filters):\n",
    "        x = Conv2D(filters = n_filters, kernel_size = (3,3), padding = 'same')(tensor)\n",
    "        x = LeakyReLU()(x)\n",
    "        \n",
    "        for i in range(conv_reps-1):\n",
    "            x = Conv2D(filters = n_filters, kernel_size = (3,3), padding = 'same')(x)\n",
    "            x = LeakyReLU()(x)\n",
    "            \n",
    "        x = MaxPooling2D(pool_size = (2,2), strides = 2, padding = 'same')(x)\n",
    "        \n",
    "        return x\n",
    "\n",
    "    input = Input(shape = dim)\n",
    "        \n",
    "    k = 8\n",
    "    x = block(input, conv_reps = 1, n_filters = k)\n",
    "    x = block(x, conv_reps = 1, n_filters = 2*k)\n",
    "    x = block(x, conv_reps = 1, n_filters = 4*k)\n",
    "    x = block(x, conv_reps = 1, n_filters = 8*k)\n",
    "    x = block(x, conv_reps = 1, n_filters = 16*k)\n",
    "    \n",
    "    x = Flatten()(x)\n",
    "    \n",
    "    dense_reps = 1\n",
    "    \n",
    "    for i in range(dense_reps):\n",
    "        x = Dense(128)(x)\n",
    "        x = LeakyReLU()(x)\n",
    "    \n",
    "    output = Dense(output_neurons, output_activation)(x)  \n",
    "    \n",
    "    model = Model(inputs = input, outputs = output)\n",
    "    \n",
    "    return model"
   ]
  },
  {
   "cell_type": "code",
   "execution_count": 10,
   "metadata": {},
   "outputs": [
    {
     "name": "stdout",
     "output_type": "stream",
     "text": [
      "This is a 7-Class Classification\n"
     ]
    }
   ],
   "source": [
    "class_no = len(os.listdir(train_directory))\n",
    "\n",
    "print(\"This is a \" + str(class_no) + \"-Class Classification\")\n",
    "\n",
    "if class_no <= 2:\n",
    "    class_mode = 'binary'\n",
    "    output_activation = 'sigmoid'\n",
    "    output_neurons = 1\n",
    "    losses = 'binary_crossentropy'\n",
    "\n",
    "else:\n",
    "    class_mode = 'categorical'\n",
    "    output_activation = 'softmax'\n",
    "    output_neurons = class_no\n",
    "    losses = 'categorical_crossentropy'"
   ]
  },
  {
   "cell_type": "code",
   "execution_count": 11,
   "metadata": {},
   "outputs": [],
   "source": [
    "def optimizer_selection():\n",
    "    print(\"\\nSelect a optimizer which will reduce the loss of the model.\\n\")\n",
    "\n",
    "    optimizer_select = int(input(\"Press 1 to select Stochastic Gradient Descent\\nPress 2 to select RMSprop\\nPress 3 to select Adagrad\\nPress 4 to select Adadelta\\nPress 5 to select Adam\\nPress 6 to select Adamax\\nPress 7 to select Nadam\\n\"))\n",
    "\n",
    "    if optimizer_select == 1:\n",
    "        optimizer = SGD(lr = learning_rate, decay = 1e-6, momentum = 0.9, nesterov = True)\n",
    "\n",
    "    elif optimizer_select == 2:\n",
    "        optimizer = RMSprop(learning_rate, rho = 0.9)\n",
    "\n",
    "    elif optimizer_select == 3:\n",
    "        optimizer = Adagrad(learning_rate)\n",
    "\n",
    "    elif optimizer_select == 4:\n",
    "        optimizer = Adadelta(learning_rate, rho = 0.95)\n",
    "\n",
    "    elif optimizer_select == 5:\n",
    "        optimizer = Adam(learning_rate = learning_rate, beta_1 = 0.9, beta_2 = 0.999, amsgrad = False)\n",
    "\n",
    "    elif optimizer_select == 6:\n",
    "        optimizer = Adamax(learning_rate = learning_rate, beta_1 = 0.9, beta_2 = 0.999)\n",
    "\n",
    "    elif optimizer_select == 7:\n",
    "        optimizer = Nadam(learning_rate = learning_rate, beta_1 = 0.9, beta_2 = 0.999)\n",
    "   \n",
    "    return optimizer"
   ]
  },
  {
   "cell_type": "code",
   "execution_count": 12,
   "metadata": {},
   "outputs": [
    {
     "name": "stdout",
     "output_type": "stream",
     "text": [
      "Image Dimension(H or W): 128\n",
      "Press 1 for RGB \n",
      "Press 2 for Grayscale 1\n"
     ]
    }
   ],
   "source": [
    "h = int(input(\"Image Dimension(H or W): \"))\n",
    "w = h\n",
    "color = int(input(\"Press 1 for RGB \\nPress 2 for Grayscale \"))\n",
    "if color == 1:\n",
    "    color_mode = 'rgb'\n",
    "    dim = (h,w,3)\n",
    "elif color == 2:\n",
    "    color_mode = 'grayscale'\n",
    "    dim = (h,w,1)"
   ]
  },
  {
   "cell_type": "code",
   "execution_count": 13,
   "metadata": {},
   "outputs": [
    {
     "name": "stdout",
     "output_type": "stream",
     "text": [
      "Found 1553 images belonging to 7 classes.\n",
      "Found 190 images belonging to 7 classes.\n",
      "Found 190 images belonging to 7 classes.\n"
     ]
    }
   ],
   "source": [
    "train_datagen = ImageDataGenerator(rescale=1.0/255.)\n",
    "train_generator = train_datagen.flow_from_directory(train_directory,\n",
    "                                                    batch_size = batch_size,\n",
    "                                                    class_mode = class_mode,\n",
    "                                                    color_mode = color_mode,\n",
    "                                                    target_size = (h,w),\n",
    "                                                    shuffle=True)\n",
    "\n",
    "validation_datagen = ImageDataGenerator(rescale=1.0/255.)\n",
    "validation_generator = validation_datagen.flow_from_directory(validation_directory,\n",
    "                                                              batch_size = batch_size,\n",
    "                                                              class_mode = class_mode,\n",
    "                                                              color_mode = color_mode,\n",
    "                                                              target_size = (h,w),\n",
    "                                                              shuffle=True)\n",
    "\n",
    "test_datagen = ImageDataGenerator(rescale=1.0/255.)\n",
    "test_generator = test_datagen.flow_from_directory(test_directory,\n",
    "                                                  batch_size = batch_size,\n",
    "                                                  class_mode = class_mode,\n",
    "                                                  color_mode = color_mode,\n",
    "                                                  target_size = (h,w),\n",
    "                                                  shuffle=True)"
   ]
  },
  {
   "cell_type": "code",
   "execution_count": 14,
   "metadata": {},
   "outputs": [
    {
     "name": "stdout",
     "output_type": "stream",
     "text": [
      "\n",
      "Select a optimizer which will reduce the loss of the model.\n",
      "\n",
      "Press 1 to select Stochastic Gradient Descent\n",
      "Press 2 to select RMSprop\n",
      "Press 3 to select Adagrad\n",
      "Press 4 to select Adadelta\n",
      "Press 5 to select Adam\n",
      "Press 6 to select Adamax\n",
      "Press 7 to select Nadam\n",
      "5\n"
     ]
    }
   ],
   "source": [
    "optimizer = optimizer_selection()"
   ]
  },
  {
   "cell_type": "code",
   "execution_count": 16,
   "metadata": {
    "scrolled": true
   },
   "outputs": [
    {
     "name": "stdout",
     "output_type": "stream",
     "text": [
      "\n",
      "TRAINING ON classical_cnn MODEL:-\n",
      "Model: \"model\"\n",
      "_________________________________________________________________\n",
      "Layer (type)                 Output Shape              Param #   \n",
      "=================================================================\n",
      "input_1 (InputLayer)         [(None, 128, 128, 3)]     0         \n",
      "_________________________________________________________________\n",
      "conv2d (Conv2D)              (None, 128, 128, 8)       224       \n",
      "_________________________________________________________________\n",
      "leaky_re_lu (LeakyReLU)      (None, 128, 128, 8)       0         \n",
      "_________________________________________________________________\n",
      "max_pooling2d (MaxPooling2D) (None, 64, 64, 8)         0         \n",
      "_________________________________________________________________\n",
      "conv2d_1 (Conv2D)            (None, 64, 64, 16)        1168      \n",
      "_________________________________________________________________\n",
      "leaky_re_lu_1 (LeakyReLU)    (None, 64, 64, 16)        0         \n",
      "_________________________________________________________________\n",
      "max_pooling2d_1 (MaxPooling2 (None, 32, 32, 16)        0         \n",
      "_________________________________________________________________\n",
      "conv2d_2 (Conv2D)            (None, 32, 32, 32)        4640      \n",
      "_________________________________________________________________\n",
      "leaky_re_lu_2 (LeakyReLU)    (None, 32, 32, 32)        0         \n",
      "_________________________________________________________________\n",
      "max_pooling2d_2 (MaxPooling2 (None, 16, 16, 32)        0         \n",
      "_________________________________________________________________\n",
      "conv2d_3 (Conv2D)            (None, 16, 16, 64)        18496     \n",
      "_________________________________________________________________\n",
      "leaky_re_lu_3 (LeakyReLU)    (None, 16, 16, 64)        0         \n",
      "_________________________________________________________________\n",
      "max_pooling2d_3 (MaxPooling2 (None, 8, 8, 64)          0         \n",
      "_________________________________________________________________\n",
      "conv2d_4 (Conv2D)            (None, 8, 8, 128)         73856     \n",
      "_________________________________________________________________\n",
      "leaky_re_lu_4 (LeakyReLU)    (None, 8, 8, 128)         0         \n",
      "_________________________________________________________________\n",
      "max_pooling2d_4 (MaxPooling2 (None, 4, 4, 128)         0         \n",
      "_________________________________________________________________\n",
      "flatten (Flatten)            (None, 2048)              0         \n",
      "_________________________________________________________________\n",
      "dense (Dense)                (None, 128)               262272    \n",
      "_________________________________________________________________\n",
      "leaky_re_lu_5 (LeakyReLU)    (None, 128)               0         \n",
      "_________________________________________________________________\n",
      "dense_1 (Dense)              (None, 7)                 903       \n",
      "=================================================================\n",
      "Total params: 361,559\n",
      "Trainable params: 361,559\n",
      "Non-trainable params: 0\n",
      "_________________________________________________________________\n"
     ]
    }
   ],
   "source": [
    "model = classical_cnn(dim, output_neurons, output_activation)\n",
    "model.compile(optimizer = optimizer, loss = losses, metrics = ['accuracy', \n",
    "                                                               tf.keras.metrics.Precision(), \n",
    "                                                               tf.keras.metrics.Recall(), \n",
    "                                                               tf.keras.metrics.TruePositives(), \n",
    "                                                               tf.keras.metrics.TrueNegatives(), \n",
    "                                                               tf.keras.metrics.FalsePositives(),\n",
    "                                                               tf.keras.metrics.FalseNegatives()])\n",
    "\n",
    "\n",
    "model.summary()"
   ]
  },
  {
   "cell_type": "code",
   "execution_count": 17,
   "metadata": {},
   "outputs": [
    {
     "name": "stdout",
     "output_type": "stream",
     "text": [
      "Epoch 1/100\n",
      "\n",
      "Epoch 00001: LearningRateScheduler reducing learning rate to 0.0001.\n",
      "195/195 [==============================] - 12s 16ms/step - loss: 1.7489 - accuracy: 0.3299 - precision: 0.7557 - recall: 0.0546 - true_positives: 65.8214 - true_negatives: 4707.6582 - false_positives: 5.3112 - false_negatives: 719.6735 - val_loss: 1.0779 - val_accuracy: 0.5684 - val_precision: 0.9571 - val_recall: 0.3526 - val_true_positives: 67.0000 - val_true_negatives: 1137.0000 - val_false_positives: 3.0000 - val_false_negatives: 123.0000\n",
      "\n",
      "Epoch 00001: loss improved from inf to 1.55347, saving model to /mnt/036b1314-13ad-429f-b9f9-07467946c5d7/Datasets/Others/waste1/bio/product/1/best_model.h5\n",
      "Epoch 2/100\n",
      "\n",
      "Epoch 00002: LearningRateScheduler reducing learning rate to 0.0001.\n",
      "195/195 [==============================] - 2s 12ms/step - loss: 1.0499 - accuracy: 0.5940 - precision: 0.9109 - recall: 0.3401 - true_positives: 276.4847 - true_negatives: 4680.6327 - false_positives: 27.8367 - false_negatives: 508.2602 - val_loss: 0.7512 - val_accuracy: 0.7421 - val_precision: 0.9130 - val_recall: 0.4421 - val_true_positives: 84.0000 - val_true_negatives: 1132.0000 - val_false_positives: 8.0000 - val_false_negatives: 106.0000\n",
      "\n",
      "Epoch 00002: loss improved from 1.55347 to 0.94475, saving model to /mnt/036b1314-13ad-429f-b9f9-07467946c5d7/Datasets/Others/waste1/bio/product/1/best_model.h5\n",
      "Epoch 3/100\n",
      "\n",
      "Epoch 00003: LearningRateScheduler reducing learning rate to 0.0001.\n",
      "195/195 [==============================] - 2s 11ms/step - loss: 0.7068 - accuracy: 0.7350 - precision: 0.8765 - recall: 0.5434 - true_positives: 433.8571 - true_negatives: 4635.2296 - false_positives: 58.4541 - false_negatives: 348.4235 - val_loss: 0.4548 - val_accuracy: 0.8526 - val_precision: 0.9195 - val_recall: 0.7211 - val_true_positives: 137.0000 - val_true_negatives: 1128.0000 - val_false_positives: 12.0000 - val_false_negatives: 53.0000\n",
      "\n",
      "Epoch 00003: loss improved from 0.94475 to 0.64385, saving model to /mnt/036b1314-13ad-429f-b9f9-07467946c5d7/Datasets/Others/waste1/bio/product/1/best_model.h5\n",
      "Epoch 4/100\n",
      "\n",
      "Epoch 00004: LearningRateScheduler reducing learning rate to 0.0001.\n",
      "195/195 [==============================] - 2s 12ms/step - loss: 0.4293 - accuracy: 0.8637 - precision: 0.9297 - recall: 0.7563 - true_positives: 592.1276 - true_negatives: 4646.9847 - false_positives: 50.7704 - false_negatives: 190.8316 - val_loss: 0.2566 - val_accuracy: 0.9368 - val_precision: 0.9538 - val_recall: 0.8684 - val_true_positives: 165.0000 - val_true_negatives: 1132.0000 - val_false_positives: 8.0000 - val_false_negatives: 25.0000\n",
      "\n",
      "Epoch 00004: loss improved from 0.64385 to 0.40671, saving model to /mnt/036b1314-13ad-429f-b9f9-07467946c5d7/Datasets/Others/waste1/bio/product/1/best_model.h5\n",
      "Epoch 5/100\n",
      "\n",
      "Epoch 00005: LearningRateScheduler reducing learning rate to 0.0001.\n",
      "195/195 [==============================] - 2s 12ms/step - loss: 0.2658 - accuracy: 0.9148 - precision: 0.9465 - recall: 0.8740 - true_positives: 688.6122 - true_negatives: 4662.6837 - false_positives: 42.3571 - false_negatives: 95.5612 - val_loss: 0.1704 - val_accuracy: 0.9579 - val_precision: 0.9624 - val_recall: 0.9421 - val_true_positives: 179.0000 - val_true_negatives: 1133.0000 - val_false_positives: 7.0000 - val_false_negatives: 11.0000\n",
      "\n",
      "Epoch 00005: loss improved from 0.40671 to 0.23740, saving model to /mnt/036b1314-13ad-429f-b9f9-07467946c5d7/Datasets/Others/waste1/bio/product/1/best_model.h5\n",
      "Epoch 6/100\n",
      "\n",
      "Epoch 00006: LearningRateScheduler reducing learning rate to 0.0001.\n",
      "195/195 [==============================] - 2s 12ms/step - loss: 0.1329 - accuracy: 0.9806 - precision: 0.9836 - recall: 0.9673 - true_positives: 760.6939 - true_negatives: 4687.8214 - false_positives: 12.9337 - false_negatives: 22.7653 - val_loss: 0.0628 - val_accuracy: 0.9895 - val_precision: 0.9895 - val_recall: 0.9895 - val_true_positives: 188.0000 - val_true_negatives: 1138.0000 - val_false_positives: 2.0000 - val_false_negatives: 2.0000\n",
      "\n",
      "Epoch 00006: loss improved from 0.23740 to 0.11556, saving model to /mnt/036b1314-13ad-429f-b9f9-07467946c5d7/Datasets/Others/waste1/bio/product/1/best_model.h5\n",
      "Epoch 7/100\n",
      "\n",
      "Epoch 00007: LearningRateScheduler reducing learning rate to 0.0001.\n",
      "195/195 [==============================] - 2s 12ms/step - loss: 0.0759 - accuracy: 0.9870 - precision: 0.9916 - recall: 0.9837 - true_positives: 774.3469 - true_negatives: 4718.6071 - false_positives: 7.8622 - false_negatives: 13.3980 - val_loss: 0.0480 - val_accuracy: 0.9947 - val_precision: 1.0000 - val_recall: 0.9947 - val_true_positives: 189.0000 - val_true_negatives: 1140.0000 - val_false_positives: 0.0000e+00 - val_false_negatives: 1.0000\n",
      "\n",
      "Epoch 00007: loss improved from 0.11556 to 0.06311, saving model to /mnt/036b1314-13ad-429f-b9f9-07467946c5d7/Datasets/Others/waste1/bio/product/1/best_model.h5\n",
      "Epoch 8/100\n",
      "\n",
      "Epoch 00008: LearningRateScheduler reducing learning rate to 0.0001.\n",
      "195/195 [==============================] - 2s 11ms/step - loss: 0.0402 - accuracy: 0.9939 - precision: 0.9939 - recall: 0.9939 - true_positives: 778.9388 - true_negatives: 4697.6633 - false_positives: 4.8061 - false_negatives: 4.8061 - val_loss: 0.0258 - val_accuracy: 1.0000 - val_precision: 1.0000 - val_recall: 1.0000 - val_true_positives: 190.0000 - val_true_negatives: 1140.0000 - val_false_positives: 0.0000e+00 - val_false_negatives: 0.0000e+00\n",
      "\n",
      "Epoch 00008: loss improved from 0.06311 to 0.03633, saving model to /mnt/036b1314-13ad-429f-b9f9-07467946c5d7/Datasets/Others/waste1/bio/product/1/best_model.h5\n",
      "Epoch 9/100\n",
      "\n",
      "Epoch 00009: LearningRateScheduler reducing learning rate to 0.0001.\n",
      "195/195 [==============================] - 2s 12ms/step - loss: 0.0188 - accuracy: 0.9997 - precision: 0.9997 - recall: 0.9997 - true_positives: 785.5765 - true_negatives: 4715.3724 - false_positives: 0.3827 - false_negatives: 0.3827 - val_loss: 0.0147 - val_accuracy: 1.0000 - val_precision: 1.0000 - val_recall: 1.0000 - val_true_positives: 190.0000 - val_true_negatives: 1140.0000 - val_false_positives: 0.0000e+00 - val_false_negatives: 0.0000e+00\n",
      "\n",
      "Epoch 00009: loss improved from 0.03633 to 0.01717, saving model to /mnt/036b1314-13ad-429f-b9f9-07467946c5d7/Datasets/Others/waste1/bio/product/1/best_model.h5\n",
      "Epoch 10/100\n",
      "\n",
      "Epoch 00010: LearningRateScheduler reducing learning rate to 0.0001.\n",
      "195/195 [==============================] - 2s 12ms/step - loss: 0.0152 - accuracy: 0.9985 - precision: 0.9985 - recall: 0.9985 - true_positives: 780.7143 - true_negatives: 4691.5816 - false_positives: 1.4592 - false_negatives: 1.4592 - val_loss: 0.0108 - val_accuracy: 1.0000 - val_precision: 1.0000 - val_recall: 1.0000 - val_true_positives: 190.0000 - val_true_negatives: 1140.0000 - val_false_positives: 0.0000e+00 - val_false_negatives: 0.0000e+00\n",
      "\n",
      "Epoch 00010: loss improved from 0.01717 to 0.01589, saving model to /mnt/036b1314-13ad-429f-b9f9-07467946c5d7/Datasets/Others/waste1/bio/product/1/best_model.h5\n",
      "Epoch 11/100\n",
      "\n",
      "Epoch 00011: LearningRateScheduler reducing learning rate to 1e-05.\n",
      "195/195 [==============================] - 2s 12ms/step - loss: 0.0072 - accuracy: 1.0000 - precision: 1.0000 - recall: 1.0000 - true_positives: 784.7092 - true_negatives: 4708.2551 - false_positives: 0.0000e+00 - false_negatives: 0.0000e+00 - val_loss: 0.0067 - val_accuracy: 1.0000 - val_precision: 1.0000 - val_recall: 1.0000 - val_true_positives: 190.0000 - val_true_negatives: 1140.0000 - val_false_positives: 0.0000e+00 - val_false_negatives: 0.0000e+00\n",
      "\n",
      "Epoch 00011: loss improved from 0.01589 to 0.00674, saving model to /mnt/036b1314-13ad-429f-b9f9-07467946c5d7/Datasets/Others/waste1/bio/product/1/best_model.h5\n",
      "Epoch 12/100\n",
      "\n",
      "Epoch 00012: LearningRateScheduler reducing learning rate to 1e-05.\n",
      "195/195 [==============================] - 2s 12ms/step - loss: 0.0058 - accuracy: 1.0000 - precision: 1.0000 - recall: 1.0000 - true_positives: 787.3163 - true_negatives: 4723.8980 - false_positives: 0.0000e+00 - false_negatives: 0.0000e+00 - val_loss: 0.0063 - val_accuracy: 1.0000 - val_precision: 1.0000 - val_recall: 1.0000 - val_true_positives: 190.0000 - val_true_negatives: 1140.0000 - val_false_positives: 0.0000e+00 - val_false_negatives: 0.0000e+00\n",
      "\n",
      "Epoch 00012: loss improved from 0.00674 to 0.00598, saving model to /mnt/036b1314-13ad-429f-b9f9-07467946c5d7/Datasets/Others/waste1/bio/product/1/best_model.h5\n",
      "Epoch 13/100\n",
      "\n",
      "Epoch 00013: LearningRateScheduler reducing learning rate to 1e-05.\n"
     ]
    },
    {
     "name": "stdout",
     "output_type": "stream",
     "text": [
      "195/195 [==============================] - 2s 11ms/step - loss: 0.0060 - accuracy: 1.0000 - precision: 1.0000 - recall: 1.0000 - true_positives: 782.8878 - true_negatives: 4697.3265 - false_positives: 0.0000e+00 - false_negatives: 0.0000e+00 - val_loss: 0.0058 - val_accuracy: 1.0000 - val_precision: 1.0000 - val_recall: 1.0000 - val_true_positives: 190.0000 - val_true_negatives: 1140.0000 - val_false_positives: 0.0000e+00 - val_false_negatives: 0.0000e+00\n",
      "\n",
      "Epoch 00013: loss improved from 0.00598 to 0.00571, saving model to /mnt/036b1314-13ad-429f-b9f9-07467946c5d7/Datasets/Others/waste1/bio/product/1/best_model.h5\n",
      "Epoch 14/100\n",
      "\n",
      "Epoch 00014: LearningRateScheduler reducing learning rate to 1e-05.\n",
      "195/195 [==============================] - 2s 11ms/step - loss: 0.0055 - accuracy: 1.0000 - precision: 1.0000 - recall: 1.0000 - true_positives: 782.2806 - true_negatives: 4693.6837 - false_positives: 0.0000e+00 - false_negatives: 0.0000e+00 - val_loss: 0.0060 - val_accuracy: 1.0000 - val_precision: 1.0000 - val_recall: 1.0000 - val_true_positives: 190.0000 - val_true_negatives: 1140.0000 - val_false_positives: 0.0000e+00 - val_false_negatives: 0.0000e+00\n",
      "\n",
      "Epoch 00014: loss improved from 0.00571 to 0.00538, saving model to /mnt/036b1314-13ad-429f-b9f9-07467946c5d7/Datasets/Others/waste1/bio/product/1/best_model.h5\n",
      "Epoch 15/100\n",
      "\n",
      "Epoch 00015: LearningRateScheduler reducing learning rate to 1e-05.\n",
      "195/195 [==============================] - 2s 11ms/step - loss: 0.0052 - accuracy: 1.0000 - precision: 1.0000 - recall: 1.0000 - true_positives: 782.0663 - true_negatives: 4692.3980 - false_positives: 0.0000e+00 - false_negatives: 0.0000e+00 - val_loss: 0.0052 - val_accuracy: 1.0000 - val_precision: 1.0000 - val_recall: 1.0000 - val_true_positives: 190.0000 - val_true_negatives: 1140.0000 - val_false_positives: 0.0000e+00 - val_false_negatives: 0.0000e+00\n",
      "\n",
      "Epoch 00015: loss improved from 0.00538 to 0.00519, saving model to /mnt/036b1314-13ad-429f-b9f9-07467946c5d7/Datasets/Others/waste1/bio/product/1/best_model.h5\n",
      "Epoch 16/100\n",
      "\n",
      "Epoch 00016: LearningRateScheduler reducing learning rate to 1e-05.\n",
      "195/195 [==============================] - 2s 11ms/step - loss: 0.0049 - accuracy: 1.0000 - precision: 1.0000 - recall: 1.0000 - true_positives: 783.2806 - true_negatives: 4699.6837 - false_positives: 0.0000e+00 - false_negatives: 0.0000e+00 - val_loss: 0.0049 - val_accuracy: 1.0000 - val_precision: 1.0000 - val_recall: 1.0000 - val_true_positives: 190.0000 - val_true_negatives: 1140.0000 - val_false_positives: 0.0000e+00 - val_false_negatives: 0.0000e+00\n",
      "\n",
      "Epoch 00016: loss improved from 0.00519 to 0.00490, saving model to /mnt/036b1314-13ad-429f-b9f9-07467946c5d7/Datasets/Others/waste1/bio/product/1/best_model.h5\n",
      "Epoch 17/100\n",
      "\n",
      "Epoch 00017: LearningRateScheduler reducing learning rate to 1e-05.\n",
      "195/195 [==============================] - 2s 12ms/step - loss: 0.0046 - accuracy: 1.0000 - precision: 1.0000 - recall: 1.0000 - true_positives: 785.1020 - true_negatives: 4710.6122 - false_positives: 0.0000e+00 - false_negatives: 0.0000e+00 - val_loss: 0.0047 - val_accuracy: 1.0000 - val_precision: 1.0000 - val_recall: 1.0000 - val_true_positives: 190.0000 - val_true_negatives: 1140.0000 - val_false_positives: 0.0000e+00 - val_false_negatives: 0.0000e+00\n",
      "\n",
      "Epoch 00017: loss improved from 0.00490 to 0.00471, saving model to /mnt/036b1314-13ad-429f-b9f9-07467946c5d7/Datasets/Others/waste1/bio/product/1/best_model.h5\n",
      "Epoch 18/100\n",
      "\n",
      "Epoch 00018: LearningRateScheduler reducing learning rate to 1e-05.\n",
      "195/195 [==============================] - 3s 13ms/step - loss: 0.0048 - accuracy: 1.0000 - precision: 1.0000 - recall: 1.0000 - true_positives: 783.3878 - true_negatives: 4700.3265 - false_positives: 0.0000e+00 - false_negatives: 0.0000e+00 - val_loss: 0.0044 - val_accuracy: 1.0000 - val_precision: 1.0000 - val_recall: 1.0000 - val_true_positives: 190.0000 - val_true_negatives: 1140.0000 - val_false_positives: 0.0000e+00 - val_false_negatives: 0.0000e+00\n",
      "\n",
      "Epoch 00018: loss improved from 0.00471 to 0.00448, saving model to /mnt/036b1314-13ad-429f-b9f9-07467946c5d7/Datasets/Others/waste1/bio/product/1/best_model.h5\n",
      "Epoch 19/100\n",
      "\n",
      "Epoch 00019: LearningRateScheduler reducing learning rate to 1e-05.\n",
      "195/195 [==============================] - 3s 13ms/step - loss: 0.0041 - accuracy: 1.0000 - precision: 1.0000 - recall: 1.0000 - true_positives: 786.1735 - true_negatives: 4717.0408 - false_positives: 0.0000e+00 - false_negatives: 0.0000e+00 - val_loss: 0.0041 - val_accuracy: 1.0000 - val_precision: 1.0000 - val_recall: 1.0000 - val_true_positives: 190.0000 - val_true_negatives: 1140.0000 - val_false_positives: 0.0000e+00 - val_false_negatives: 0.0000e+00\n",
      "\n",
      "Epoch 00019: loss improved from 0.00448 to 0.00420, saving model to /mnt/036b1314-13ad-429f-b9f9-07467946c5d7/Datasets/Others/waste1/bio/product/1/best_model.h5\n",
      "Epoch 20/100\n",
      "\n",
      "Epoch 00020: LearningRateScheduler reducing learning rate to 1e-05.\n",
      "195/195 [==============================] - 3s 13ms/step - loss: 0.0042 - accuracy: 1.0000 - precision: 1.0000 - recall: 1.0000 - true_positives: 782.2806 - true_negatives: 4693.6837 - false_positives: 0.0000e+00 - false_negatives: 0.0000e+00 - val_loss: 0.0039 - val_accuracy: 1.0000 - val_precision: 1.0000 - val_recall: 1.0000 - val_true_positives: 190.0000 - val_true_negatives: 1140.0000 - val_false_positives: 0.0000e+00 - val_false_negatives: 0.0000e+00\n",
      "\n",
      "Epoch 00020: loss improved from 0.00420 to 0.00402, saving model to /mnt/036b1314-13ad-429f-b9f9-07467946c5d7/Datasets/Others/waste1/bio/product/1/best_model.h5\n",
      "Epoch 21/100\n",
      "\n",
      "Epoch 00021: LearningRateScheduler reducing learning rate to 1.0000000000000002e-06.\n",
      "195/195 [==============================] - 2s 12ms/step - loss: 0.0035 - accuracy: 1.0000 - precision: 1.0000 - recall: 1.0000 - true_positives: 782.9592 - true_negatives: 4697.7551 - false_positives: 0.0000e+00 - false_negatives: 0.0000e+00 - val_loss: 0.0039 - val_accuracy: 1.0000 - val_precision: 1.0000 - val_recall: 1.0000 - val_true_positives: 190.0000 - val_true_negatives: 1140.0000 - val_false_positives: 0.0000e+00 - val_false_negatives: 0.0000e+00\n",
      "\n",
      "Epoch 00021: loss improved from 0.00402 to 0.00370, saving model to /mnt/036b1314-13ad-429f-b9f9-07467946c5d7/Datasets/Others/waste1/bio/product/1/best_model.h5\n",
      "Epoch 22/100\n",
      "\n",
      "Epoch 00022: LearningRateScheduler reducing learning rate to 1.0000000000000002e-06.\n",
      "195/195 [==============================] - 2s 12ms/step - loss: 0.0036 - accuracy: 1.0000 - precision: 1.0000 - recall: 1.0000 - true_positives: 785.4235 - true_negatives: 4712.5408 - false_positives: 0.0000e+00 - false_negatives: 0.0000e+00 - val_loss: 0.0038 - val_accuracy: 1.0000 - val_precision: 1.0000 - val_recall: 1.0000 - val_true_positives: 190.0000 - val_true_negatives: 1140.0000 - val_false_positives: 0.0000e+00 - val_false_negatives: 0.0000e+00\n",
      "\n",
      "Epoch 00022: loss improved from 0.00370 to 0.00367, saving model to /mnt/036b1314-13ad-429f-b9f9-07467946c5d7/Datasets/Others/waste1/bio/product/1/best_model.h5\n",
      "Epoch 23/100\n",
      "\n",
      "Epoch 00023: LearningRateScheduler reducing learning rate to 1.0000000000000002e-06.\n",
      "195/195 [==============================] - 2s 12ms/step - loss: 0.0036 - accuracy: 1.0000 - precision: 1.0000 - recall: 1.0000 - true_positives: 781.9592 - true_negatives: 4691.7551 - false_positives: 0.0000e+00 - false_negatives: 0.0000e+00 - val_loss: 0.0038 - val_accuracy: 1.0000 - val_precision: 1.0000 - val_recall: 1.0000 - val_true_positives: 190.0000 - val_true_negatives: 1140.0000 - val_false_positives: 0.0000e+00 - val_false_negatives: 0.0000e+00\n",
      "\n",
      "Epoch 00023: loss improved from 0.00367 to 0.00365, saving model to /mnt/036b1314-13ad-429f-b9f9-07467946c5d7/Datasets/Others/waste1/bio/product/1/best_model.h5\n",
      "Epoch 24/100\n",
      "\n",
      "Epoch 00024: LearningRateScheduler reducing learning rate to 1.0000000000000002e-06.\n",
      "195/195 [==============================] - 2s 12ms/step - loss: 0.0039 - accuracy: 1.0000 - precision: 1.0000 - recall: 1.0000 - true_positives: 783.8520 - true_negatives: 4703.1122 - false_positives: 0.0000e+00 - false_negatives: 0.0000e+00 - val_loss: 0.0038 - val_accuracy: 1.0000 - val_precision: 1.0000 - val_recall: 1.0000 - val_true_positives: 190.0000 - val_true_negatives: 1140.0000 - val_false_positives: 0.0000e+00 - val_false_negatives: 0.0000e+00\n"
     ]
    },
    {
     "name": "stdout",
     "output_type": "stream",
     "text": [
      "\n",
      "Epoch 00024: loss improved from 0.00365 to 0.00362, saving model to /mnt/036b1314-13ad-429f-b9f9-07467946c5d7/Datasets/Others/waste1/bio/product/1/best_model.h5\n",
      "Epoch 25/100\n",
      "\n",
      "Epoch 00025: LearningRateScheduler reducing learning rate to 1.0000000000000002e-06.\n",
      "195/195 [==============================] - 2s 11ms/step - loss: 0.0037 - accuracy: 1.0000 - precision: 1.0000 - recall: 1.0000 - true_positives: 786.1378 - true_negatives: 4716.8265 - false_positives: 0.0000e+00 - false_negatives: 0.0000e+00 - val_loss: 0.0038 - val_accuracy: 1.0000 - val_precision: 1.0000 - val_recall: 1.0000 - val_true_positives: 190.0000 - val_true_negatives: 1140.0000 - val_false_positives: 0.0000e+00 - val_false_negatives: 0.0000e+00\n",
      "\n",
      "Epoch 00025: loss improved from 0.00362 to 0.00359, saving model to /mnt/036b1314-13ad-429f-b9f9-07467946c5d7/Datasets/Others/waste1/bio/product/1/best_model.h5\n",
      "Epoch 26/100\n",
      "\n",
      "Epoch 00026: LearningRateScheduler reducing learning rate to 1.0000000000000002e-06.\n",
      "195/195 [==============================] - 2s 11ms/step - loss: 0.0031 - accuracy: 1.0000 - precision: 1.0000 - recall: 1.0000 - true_positives: 781.7449 - true_negatives: 4690.4694 - false_positives: 0.0000e+00 - false_negatives: 0.0000e+00 - val_loss: 0.0037 - val_accuracy: 1.0000 - val_precision: 1.0000 - val_recall: 1.0000 - val_true_positives: 190.0000 - val_true_negatives: 1140.0000 - val_false_positives: 0.0000e+00 - val_false_negatives: 0.0000e+00\n",
      "\n",
      "Epoch 00026: loss improved from 0.00359 to 0.00355, saving model to /mnt/036b1314-13ad-429f-b9f9-07467946c5d7/Datasets/Others/waste1/bio/product/1/best_model.h5\n",
      "Epoch 27/100\n",
      "\n",
      "Epoch 00027: LearningRateScheduler reducing learning rate to 1.0000000000000002e-06.\n",
      "195/195 [==============================] - 2s 11ms/step - loss: 0.0035 - accuracy: 1.0000 - precision: 1.0000 - recall: 1.0000 - true_positives: 781.4592 - true_negatives: 4688.7551 - false_positives: 0.0000e+00 - false_negatives: 0.0000e+00 - val_loss: 0.0037 - val_accuracy: 1.0000 - val_precision: 1.0000 - val_recall: 1.0000 - val_true_positives: 190.0000 - val_true_negatives: 1140.0000 - val_false_positives: 0.0000e+00 - val_false_negatives: 0.0000e+00\n",
      "\n",
      "Epoch 00027: loss improved from 0.00355 to 0.00353, saving model to /mnt/036b1314-13ad-429f-b9f9-07467946c5d7/Datasets/Others/waste1/bio/product/1/best_model.h5\n",
      "Epoch 28/100\n",
      "\n",
      "Epoch 00028: LearningRateScheduler reducing learning rate to 1.0000000000000002e-06.\n",
      "195/195 [==============================] - 2s 11ms/step - loss: 0.0035 - accuracy: 1.0000 - precision: 1.0000 - recall: 1.0000 - true_positives: 787.2092 - true_negatives: 4723.2551 - false_positives: 0.0000e+00 - false_negatives: 0.0000e+00 - val_loss: 0.0037 - val_accuracy: 1.0000 - val_precision: 1.0000 - val_recall: 1.0000 - val_true_positives: 190.0000 - val_true_negatives: 1140.0000 - val_false_positives: 0.0000e+00 - val_false_negatives: 0.0000e+00\n",
      "\n",
      "Epoch 00028: loss improved from 0.00353 to 0.00349, saving model to /mnt/036b1314-13ad-429f-b9f9-07467946c5d7/Datasets/Others/waste1/bio/product/1/best_model.h5\n",
      "Epoch 29/100\n",
      "\n",
      "Epoch 00029: LearningRateScheduler reducing learning rate to 1.0000000000000002e-06.\n",
      "195/195 [==============================] - 2s 11ms/step - loss: 0.0035 - accuracy: 1.0000 - precision: 1.0000 - recall: 1.0000 - true_positives: 787.5663 - true_negatives: 4725.3980 - false_positives: 0.0000e+00 - false_negatives: 0.0000e+00 - val_loss: 0.0036 - val_accuracy: 1.0000 - val_precision: 1.0000 - val_recall: 1.0000 - val_true_positives: 190.0000 - val_true_negatives: 1140.0000 - val_false_positives: 0.0000e+00 - val_false_negatives: 0.0000e+00\n",
      "\n",
      "Epoch 00029: loss improved from 0.00349 to 0.00345, saving model to /mnt/036b1314-13ad-429f-b9f9-07467946c5d7/Datasets/Others/waste1/bio/product/1/best_model.h5\n",
      "Epoch 30/100\n",
      "\n",
      "Epoch 00030: LearningRateScheduler reducing learning rate to 1.0000000000000002e-06.\n",
      "195/195 [==============================] - 2s 12ms/step - loss: 0.0040 - accuracy: 1.0000 - precision: 1.0000 - recall: 1.0000 - true_positives: 784.2806 - true_negatives: 4705.6837 - false_positives: 0.0000e+00 - false_negatives: 0.0000e+00 - val_loss: 0.0035 - val_accuracy: 1.0000 - val_precision: 1.0000 - val_recall: 1.0000 - val_true_positives: 190.0000 - val_true_negatives: 1140.0000 - val_false_positives: 0.0000e+00 - val_false_negatives: 0.0000e+00\n",
      "\n",
      "Epoch 00030: loss improved from 0.00345 to 0.00341, saving model to /mnt/036b1314-13ad-429f-b9f9-07467946c5d7/Datasets/Others/waste1/bio/product/1/best_model.h5\n",
      "Epoch 31/100\n",
      "\n",
      "Epoch 00031: LearningRateScheduler reducing learning rate to 1.0000000000000002e-07.\n",
      "195/195 [==============================] - 2s 13ms/step - loss: 0.0033 - accuracy: 1.0000 - precision: 1.0000 - recall: 1.0000 - true_positives: 786.6020 - true_negatives: 4719.6122 - false_positives: 0.0000e+00 - false_negatives: 0.0000e+00 - val_loss: 0.0035 - val_accuracy: 1.0000 - val_precision: 1.0000 - val_recall: 1.0000 - val_true_positives: 190.0000 - val_true_negatives: 1140.0000 - val_false_positives: 0.0000e+00 - val_false_negatives: 0.0000e+00\n",
      "Restoring model weights from the end of the best epoch.\n",
      "\n",
      "Epoch 00031: loss improved from 0.00341 to 0.00337, saving model to /mnt/036b1314-13ad-429f-b9f9-07467946c5d7/Datasets/Others/waste1/bio/product/1/best_model.h5\n",
      "Epoch 00031: early stopping\n",
      "195/195 [==============================] - 2s 9ms/step - loss: 0.0037 - accuracy: 1.0000 - precision: 1.0000 - recall: 1.0000 - true_positives: 1553.0000 - true_negatives: 9318.0000 - false_positives: 0.0000e+00 - false_negatives: 0.0000e+00\n",
      "24/24 [==============================] - 0s 9ms/step - loss: 0.0039 - accuracy: 1.0000 - precision: 1.0000 - recall: 1.0000 - true_positives: 190.0000 - true_negatives: 1140.0000 - false_positives: 0.0000e+00 - false_negatives: 0.0000e+00\n",
      "24/24 [==============================] - 0s 9ms/step - loss: 0.0039 - accuracy: 1.0000 - precision: 1.0000 - recall: 1.0000 - true_positives: 190.0000 - true_negatives: 1140.0000 - false_positives: 0.0000e+00 - false_negatives: 0.0000e+00\n"
     ]
    }
   ],
   "source": [
    "with tf.device('/GPU:0'):\n",
    "    start = time.time()\n",
    "    history = model.fit(train_generator,\n",
    "                        epochs = epoch,\n",
    "                        verbose = 1,\n",
    "                        callbacks = callback,\n",
    "                        validation_data = validation_generator,\n",
    "                        shuffle=True)\n",
    "\n",
    "    end = time.time()\n",
    "    \n",
    "    duration = end-start\n",
    "\n",
    "train_score = model.evaluate(train_generator)\n",
    "val_score = model.evaluate(validation_generator)\n",
    "test_score = model.evaluate(test_generator)"
   ]
  },
  {
   "cell_type": "code",
   "execution_count": 18,
   "metadata": {},
   "outputs": [
    {
     "name": "stdout",
     "output_type": "stream",
     "text": [
      "Execution Time: 83.32913088798523 seconds\n"
     ]
    }
   ],
   "source": [
    "print(\"Execution Time: {} seconds\".format(duration))"
   ]
  },
  {
   "cell_type": "markdown",
   "metadata": {},
   "source": [
    "# Plot characteristic curves"
   ]
  },
  {
   "cell_type": "code",
   "execution_count": 19,
   "metadata": {},
   "outputs": [],
   "source": [
    "acc=history.history['accuracy']\n",
    "val_acc=history.history['val_accuracy']\n",
    "loss=history.history['loss']\n",
    "val_loss=history.history['val_loss']\n",
    "epochs=range(len(acc))"
   ]
  },
  {
   "cell_type": "code",
   "execution_count": 22,
   "metadata": {},
   "outputs": [
    {
     "name": "stderr",
     "output_type": "stream",
     "text": [
      "The PostScript backend does not support transparency; partially transparent artists will be rendered opaque.\n",
      "The PostScript backend does not support transparency; partially transparent artists will be rendered opaque.\n"
     ]
    },
    {
     "data": {
      "image/png": "[encoded data removed]",
      "text/plain": [
       "<Figure size 432x288 with 1 Axes>"
      ]
     },
     "metadata": {
      "needs_background": "light"
     },
     "output_type": "display_data"
    }
   ],
   "source": [
    "plt.plot(epochs, acc, 'r', label='Training Accuracy')\n",
    "plt.plot(epochs, val_acc, 'b', label='Validation Accuracy')\n",
    "\n",
    "plt.xlabel(\"Epochs\")\n",
    "plt.ylabel(\"Accuracy\")\n",
    "plt.title('Training and validation accuracy vs Epochs')\n",
    "plt.legend()\n",
    "\n",
    "fig_name_eps = \"accuracy.eps\"\n",
    "fig_name_jpg = \"accuracy.jpg\"\n",
    "\n",
    "plt.savefig(os.path.join(char, fig_name_eps))\n",
    "plt.savefig(os.path.join(char, fig_name_jpg))\n",
    "\n",
    "plt.show()"
   ]
  },
  {
   "cell_type": "code",
   "execution_count": 23,
   "metadata": {},
   "outputs": [
    {
     "name": "stderr",
     "output_type": "stream",
     "text": [
      "The PostScript backend does not support transparency; partially transparent artists will be rendered opaque.\n",
      "The PostScript backend does not support transparency; partially transparent artists will be rendered opaque.\n"
     ]
    },
    {
     "data": {
      "image/png": "[encoded data removed]",
      "text/plain": [
       "<Figure size 432x288 with 1 Axes>"
      ]
     },
     "metadata": {
      "needs_background": "light"
     },
     "output_type": "display_data"
    }
   ],
   "source": [
    "plt.plot(epochs, loss, 'r', label=\"Training Loss\")\n",
    "plt.plot(epochs, val_loss, 'b', label=\"Validation Loss\")\n",
    "\n",
    "plt.xlabel(\"Epochs\")\n",
    "plt.ylabel(\"Loss\")\n",
    "plt.title('Training and validation loss vs Epochs')\n",
    "plt.legend()\n",
    "\n",
    "fig_name_eps = \"loss.eps\"\n",
    "fig_name_jpg = \"loss.jpg\"\n",
    "\n",
    "plt.savefig(os.path.join(char, fig_name_eps))\n",
    "plt.savefig(os.path.join(char, fig_name_jpg))\n",
    "\n",
    "plt.show()"
   ]
  },
  {
   "cell_type": "code",
   "execution_count": 24,
   "metadata": {},
   "outputs": [
    {
     "name": "stderr",
     "output_type": "stream",
     "text": [
      "The PostScript backend does not support transparency; partially transparent artists will be rendered opaque.\n",
      "The PostScript backend does not support transparency; partially transparent artists will be rendered opaque.\n"
     ]
    },
    {
     "data": {
      "image/png": "[encoded data removed]",
      "text/plain": [
       "<Figure size 432x288 with 1 Axes>"
      ]
     },
     "metadata": {
      "needs_background": "light"
     },
     "output_type": "display_data"
    }
   ],
   "source": [
    "plt.plot(epochs, acc, 'r', label='Training Accuracy')\n",
    "plt.plot(epochs, val_acc, 'b', label='Validation Accuracy')\n",
    "plt.plot(epochs, loss, 'r', label=\"Training Loss\")\n",
    "plt.plot(epochs, val_loss, 'b', label=\"Validation Loss\")\n",
    "\n",
    "plt.xlabel(\"Epochs\")\n",
    "plt.ylabel(\"Loss\")\n",
    "plt.title('Training and validation loss vs Epochs')\n",
    "plt.legend()\n",
    "\n",
    "fig_name_eps = \"char.eps\"\n",
    "fig_name_jpg = \"char.jpg\"\n",
    "\n",
    "plt.savefig(os.path.join(char, fig_name_eps))\n",
    "plt.savefig(os.path.join(char, fig_name_jpg))"
   ]
  },
  {
   "cell_type": "markdown",
   "metadata": {},
   "source": [
    "# Classification metrices"
   ]
  },
  {
   "cell_type": "code",
   "execution_count": 25,
   "metadata": {},
   "outputs": [
    {
     "name": "stdout",
     "output_type": "stream",
     "text": [
      "The training accuracy is: 100.0 %\n",
      "The validation accuracy is: 100.0 %\n",
      "The test accuracy is: 100.0 %\n"
     ]
    }
   ],
   "source": [
    "training_accuracy = train_score[1]*100\n",
    "validation_accuracy = val_score[1]*100\n",
    "test_accuracy = test_score[1]*100\n",
    "\n",
    "print(\"The training accuracy is: \" + str(training_accuracy) + ' %')\n",
    "print(\"The validation accuracy is: \" + str(validation_accuracy) + ' %')\n",
    "print(\"The test accuracy is: \" + str(test_accuracy) + ' %')"
   ]
  },
  {
   "cell_type": "code",
   "execution_count": 26,
   "metadata": {},
   "outputs": [],
   "source": [
    "test_accuracy = test_score[1]*100\n",
    "test_precision = test_score[2]*100\n",
    "test_recall = test_score[3]*100\n",
    "tp = int(test_score[4])\n",
    "tn = int(test_score[5])\n",
    "fp = int(test_score[6])\n",
    "fn = int(test_score[7])\n",
    "\n",
    "f1 = 2*((test_precision*test_recall)/(test_precision+test_recall))\n",
    "sensitivity_k = (tp/(tp+fn))*100\n",
    "specificity_k = (tn/(tn+fp))*100"
   ]
  },
  {
   "cell_type": "code",
   "execution_count": 27,
   "metadata": {},
   "outputs": [
    {
     "name": "stdout",
     "output_type": "stream",
     "text": [
      "Test Accuracy: 100.0\n",
      "Test Precision: 100.0\n",
      "Test Recall: 100.0\n",
      "True Positive: 190\n",
      "Test Negetive: 1140\n",
      "False Positive: 0\n",
      "False Negetive: 0\n",
      "Sensitivity_k: 100.0\n",
      "Specificity_k: 100.0\n"
     ]
    }
   ],
   "source": [
    "print(\"Test Accuracy: {}\".format(test_accuracy))\n",
    "print(\"Test Precision: {}\".format(test_precision))\n",
    "print(\"Test Recall: {}\".format(test_recall))\n",
    "print(\"True Positive: {}\".format(tp))\n",
    "print(\"Test Negetive: {}\".format(tn))\n",
    "print(\"False Positive: {}\".format(fp))\n",
    "print(\"False Negetive: {}\".format(fn))\n",
    "print(\"Sensitivity_k: {}\".format(sensitivity_k))\n",
    "print(\"Specificity_k: {}\".format(specificity_k))"
   ]
  },
  {
   "cell_type": "code",
   "execution_count": 28,
   "metadata": {},
   "outputs": [],
   "source": [
    "def report(y_true, y_pred, labels):\n",
    "    from sklearn.metrics import classification_report\n",
    "    from sklearn.metrics import confusion_matrix \n",
    "    \n",
    "    print(\"Calculating CLASSIFICATION REPORT: \")\n",
    "    classification_reports = classification_report(y_true, y_pred, target_names=labels)\n",
    "    print(classification_reports)\n",
    "\n",
    "    print(\"\\nCalculating SENSITIVITY & SPECIFICITY..........:\")\n",
    "    cm = confusion_matrix(y_true, y_pred)\n",
    "    total = sum(sum(cm))\n",
    "    sensitivity = cm[0, 0] / (cm[0, 0] + cm[0, 1])\n",
    "    specificity = cm[1, 1] / (cm[1, 0] + cm[1, 1])\n",
    "\n",
    "    print(\"sensitivity = {:.4f}\".format(sensitivity))\n",
    "    print(\"specificity = {:.4f}\".format(specificity))\n",
    "    \n",
    "    return cm, classification_reports, sensitivity, specificity"
   ]
  },
  {
   "cell_type": "code",
   "execution_count": 29,
   "metadata": {},
   "outputs": [],
   "source": [
    "def conf_mat(cm, labels, char, file_name):\n",
    "    fig, ax = plot_confusion_matrix(conf_mat=cm,\n",
    "                                    colorbar=True,\n",
    "                                    show_absolute=True,\n",
    "                                    class_names=labels,\n",
    "                                    show_normed=True)\n",
    "\n",
    "    plt.savefig(os.path.join(char, f'{file_name}.eps'))\n",
    "    plt.savefig(os.path.join(char, f'{file_name}.jpg'))"
   ]
  },
  {
   "cell_type": "code",
   "execution_count": 30,
   "metadata": {},
   "outputs": [],
   "source": [
    "labels = test_generator.class_indices"
   ]
  },
  {
   "cell_type": "markdown",
   "metadata": {},
   "source": [
    "# Classification result (Scikit-learn)"
   ]
  },
  {
   "cell_type": "code",
   "execution_count": 40,
   "metadata": {},
   "outputs": [],
   "source": [
    "def pred_sklearn(test_directory, test_generator, class_no, best_model_address, dim):\n",
    "    test_class_list = []\n",
    "    for test_name in os.listdir(test_directory):\n",
    "        test = os.path.join(test_directory, test_name)\n",
    "        test_class_list.append(test)\n",
    "    test_class_list.sort()\n",
    "    \n",
    "    print(test_class_list)\n",
    "    \n",
    "    y_true = test_generator.classes\n",
    "    labels = test_generator.class_indices\n",
    "    \n",
    "    y_pred = []\n",
    "    tot = len(os.listdir(test_class_list[1]))*class_no\n",
    "\n",
    "    best_model = load_model(best_model_address)\n",
    "    \n",
    "    with tqdm(total=tot) as pbar:\n",
    "        for i in range(class_no):\n",
    "            for filename in os.listdir(test_class_list[i]):\n",
    "                file = os.path.join(test_class_list[i], filename)\n",
    "                \n",
    "                img = image.load_img(file, target_size=(dim[1], dim[0]))\n",
    "                x = image.img_to_array(img)\n",
    "                x = np.expand_dims(x, axis=0)\n",
    "\n",
    "                im_arr = np.vstack([x])\n",
    "                \n",
    "#                 img = cv2.imread(file)\n",
    "#                 res = cv2.resize(img, (dim[0], dim[1]))\n",
    "#                 normed = res / 255.0\n",
    "#                 im_arr = normed.reshape(1, dim[0], dim[1], dim[2])\n",
    "\n",
    "                pred = best_model.predict(im_arr)\n",
    "                pred_categorical = keras.utils.to_categorical(pred)\n",
    "\n",
    "                if class_no >= 2:\n",
    "                    max_pred = np.argmax(pred)\n",
    "                else:\n",
    "                    max_pred = np.argmax(pred_categorical)\n",
    "\n",
    "                y_pred.append(max_pred)\n",
    "\n",
    "                pbar.set_description(\"Progress\")\n",
    "                pbar.update()\n",
    "                \n",
    "    return y_true, y_pred, labels"
   ]
  },
  {
   "cell_type": "code",
   "execution_count": 41,
   "metadata": {},
   "outputs": [
    {
     "data": {
      "text/plain": [
       "{'1': 0, '11': 1, '12': 2, '2': 3, '3': 4, '4': 5, '5': 6}"
      ]
     },
     "execution_count": 41,
     "metadata": {},
     "output_type": "execute_result"
    }
   ],
   "source": [
    "labels"
   ]
  },
  {
   "cell_type": "code",
   "execution_count": 42,
   "metadata": {},
   "outputs": [
    {
     "name": "stdout",
     "output_type": "stream",
     "text": [
      "['/mnt/036b1314-13ad-429f-b9f9-07467946c5d7/Datasets/Others/waste1/bio/product/classify train/testing/1', '/mnt/036b1314-13ad-429f-b9f9-07467946c5d7/Datasets/Others/waste1/bio/product/classify train/testing/11', '/mnt/036b1314-13ad-429f-b9f9-07467946c5d7/Datasets/Others/waste1/bio/product/classify train/testing/12', '/mnt/036b1314-13ad-429f-b9f9-07467946c5d7/Datasets/Others/waste1/bio/product/classify train/testing/2', '/mnt/036b1314-13ad-429f-b9f9-07467946c5d7/Datasets/Others/waste1/bio/product/classify train/testing/3', '/mnt/036b1314-13ad-429f-b9f9-07467946c5d7/Datasets/Others/waste1/bio/product/classify train/testing/4', '/mnt/036b1314-13ad-429f-b9f9-07467946c5d7/Datasets/Others/waste1/bio/product/classify train/testing/5']\n"
     ]
    },
    {
     "name": "stderr",
     "output_type": "stream",
     "text": [
      "Progress: : 190it [00:07, 26.07it/s]                                            \n"
     ]
    }
   ],
   "source": [
    "y_true, y_pred, labels = pred_sklearn(test_directory, test_generator, class_no, best_model_address, dim)"
   ]
  },
  {
   "cell_type": "code",
   "execution_count": 43,
   "metadata": {},
   "outputs": [
    {
     "name": "stdout",
     "output_type": "stream",
     "text": [
      "Calculating CLASSIFICATION REPORT: \n",
      "              precision    recall  f1-score   support\n",
      "\n",
      "           1       1.00      0.69      0.81        67\n",
      "          11       0.50      0.33      0.40        18\n",
      "          12       0.44      1.00      0.61        18\n",
      "           2       0.56      0.38      0.45        26\n",
      "           3       0.93      1.00      0.97        28\n",
      "           4       0.45      1.00      0.62        15\n",
      "           5       0.20      0.11      0.14        18\n",
      "\n",
      "    accuracy                           0.66       190\n",
      "   macro avg       0.58      0.65      0.57       190\n",
      "weighted avg       0.71      0.66      0.65       190\n",
      "\n",
      "\n",
      "Calculating SENSITIVITY & SPECIFICITY..........:\n",
      "sensitivity = 0.8846\n",
      "specificity = 1.0000\n"
     ]
    }
   ],
   "source": [
    "cm, classification_reports_sklearn, sensitivity_sklearn, specificity_sklearn = report(y_true, y_pred, labels)"
   ]
  },
  {
   "cell_type": "code",
   "execution_count": 44,
   "metadata": {},
   "outputs": [
    {
     "data": {
      "image/png": "[encoded data removed]",
      "text/plain": [
       "<Figure size 432x288 with 2 Axes>"
      ]
     },
     "metadata": {
      "needs_background": "light"
     },
     "output_type": "display_data"
    }
   ],
   "source": [
    "conf_mat(cm, labels, char, 'confusion-matrix-sklearn')"
   ]
  },
  {
   "cell_type": "markdown",
   "metadata": {},
   "source": [
    "# README"
   ]
  },
  {
   "cell_type": "code",
   "execution_count": null,
   "metadata": {},
   "outputs": [],
   "source": [
    "from contextlib import redirect_stdout\n",
    "\n",
    "readme_name_text = \"readme.txt\"\n",
    "print(f\"Please read the text file named {readme_name_text} for detailed information of the model.\")\n",
    "\n",
    "completeName_txt = os.path.join(char, readme_name_text) \n",
    "\n",
    "readme = open(completeName_txt, \"w\")\n",
    "\n",
    "if len(os.listdir(train_directory)) > 2:\n",
    "    readme.write(f\"This is a {len(os.listdir(train_directory))}-class CLASSIFICATION\")\n",
    "else:\n",
    "    readme.write(\"This is a BINARY CLASSIFICATION\")\n",
    "\n",
    "\n",
    "readme.write(\"\\n\\n--HYPERPARAMETERS--\\n\")\n",
    "readme.write(f\"\\nInitial Learning Rate = {learning_rate}\")\n",
    "readme.write(f\"\\nNo. of epochs = {len(acc)}\")\n",
    "readme.write(f\"\\nBatch Size = {batch_size}\")\n",
    "\n",
    "\n",
    "readme.write(\"\\n\\n--MODEL-PARAMETERS--\")\n",
    "# readme.write(f\"\\nDropout for feature extraction = {(int(f_dropout*100))} %\")\n",
    "# readme.write(f\"\\nDropout for dense layer = {(int(d_dropout*100))} %\")\n",
    "readme.write(f\"\\nOptimizer = {optimizer}\\n\\n\")\n",
    "\n",
    "\n",
    "readme.write(\"Trained on a Custom Prebuilt Model\\n\")\n",
    "# readme.write(f\"\\nFilter size = {size_filter}x{size_filter}\\n\\n\")\n",
    "with redirect_stdout(readme):\n",
    "    model.summary()\n",
    "        \n",
    "    \n",
    "readme.write(\"\\n\\n--MODEL-PERFORMANCE--\")\n",
    "readme.write(f\"\\nTest Accuracy = {test_accuracy} %\")\n",
    "readme.write(f\"\\nTest Precision = {test_precision} %\")\n",
    "readme.write(f\"\\nTest Recall = {test_recall} %\")\n",
    "readme.write(f\"\\nTrue Positive = {tp}\")\n",
    "readme.write(f\"\\nTrue Negetive = {tn}\")\n",
    "readme.write(f\"\\nFalse Positive = {fp}\")\n",
    "readme.write(f\"\\nFalse Negetive = {fn}\")\n",
    "readme.write(f\"\\nSensitivity_k = {sensitivity_k}\")\n",
    "readme.write(f\"\\nSpecificity_k = {specificity_k}\\n\\n\\n\")\n",
    "\n",
    "\n",
    "readme.write(\"\\n\\n--MODEL-CHARACTERISTICS--\")\n",
    "readme.write(f\"\\nacc = {acc}\")\n",
    "readme.write(f\"\\n\\nval_acc = {val_acc}\")\n",
    "readme.write(f\"\\n\\nloss = {loss}\")\n",
    "readme.write(f\"\\n\\nval_loss = {val_loss}\")\n",
    "\n",
    "\n",
    "readme.write(\"\\n\\n--Classification Report Keras--\\n\")\n",
    "readme.write(classification_reports_keras)\n",
    "readme.write(f\"\\nSensitivity = {sensitivity_keras*100} %\")\n",
    "readme.write(f\"\\nSpecificity = {specificity_keras*100} %\")\n",
    "\n",
    "readme.write(\"\\n\\n--Classification Report Scikit-learn--\\n\")\n",
    "readme.write(classification_reports_sklearn)\n",
    "readme.write(f\"\\nSensitivity = {sensitivity_sklearn*100} %\")\n",
    "readme.write(f\"\\nSpecificity = {specificity_sklearn*100} %\")\n",
    "\n",
    "\n",
    "readme.write(f\"\\nExecution Time: {duration} seconds\")\n",
    "\n",
    "readme.write(\"\\n\\nCreated using Self-Regulated Image Classifier using Convolution Neural Network\")\n",
    "\n",
    "readme.close()"
   ]
  },
  {
   "cell_type": "code",
   "execution_count": null,
   "metadata": {},
   "outputs": [],
   "source": []
  }
 ],
 "metadata": {
  "kernelspec": {
   "display_name": "Python 3 (ipykernel)",
   "language": "python",
   "name": "python3"
  },
  "language_info": {
   "codemirror_mode": {
    "name": "ipython",
    "version": 3
   },
   "file_extension": ".py",
   "mimetype": "text/x-python",
   "name": "python",
   "nbconvert_exporter": "python",
   "pygments_lexer": "ipython3",
   "version": "3.8.5"
  }
 },
 "nbformat": 4,
 "nbformat_minor": 4
}
