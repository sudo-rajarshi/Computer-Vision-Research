{
 "cells": [
  {
   "cell_type": "markdown",
   "metadata": {},
   "source": [
    "# Import Libraries"
   ]
  },
  {
   "cell_type": "code",
   "execution_count": 1,
   "metadata": {},
   "outputs": [],
   "source": [
    "import os\n",
    "os.environ['TF_CPP_MIN_LOG_LEVEL'] = '3' \n",
    "\n",
    "import cv2\n",
    "import random\n",
    "import shutil\n",
    "import time\n",
    "import matplotlib\n",
    "import glob\n",
    "import operator\n",
    "import psutil\n",
    "import numpy as np\n",
    "import math\n",
    "import matplotlib.pyplot as plt\n",
    "\n",
    "import tensorflow as tf\n",
    "from tensorflow import keras\n",
    "from tensorflow.keras.preprocessing import image\n",
    "from tensorflow.keras.preprocessing.image import ImageDataGenerator\n",
    "from tensorflow.keras.optimizers import *\n",
    "from tensorflow.keras.models import *\n",
    "from tensorflow.keras.layers import *\n",
    "from tensorflow.keras.regularizers import l2\n",
    "\n",
    "from shutil import copyfile\n",
    "import pandas as pd\n",
    "import PIL\n",
    "from mlxtend.plotting import plot_confusion_matrix\n",
    "from tqdm import tqdm "
   ]
  },
  {
   "cell_type": "markdown",
   "metadata": {},
   "source": [
    "# Setting up hardware"
   ]
  },
  {
   "cell_type": "code",
   "execution_count": 2,
   "metadata": {},
   "outputs": [
    {
     "name": "stdout",
     "output_type": "stream",
     "text": [
      "Using GPU\n"
     ]
    }
   ],
   "source": [
    "physical_devices = tf.config.experimental.list_physical_devices('GPU')\n",
    "\n",
    "if physical_devices != []:\n",
    "    print(\"Using GPU\")\n",
    "    for i in physical_devices:\n",
    "        tf.config.experimental.set_memory_growth(i, True)\n",
    "else:\n",
    "    print(\"Using CPU\")\n",
    "    pass"
   ]
  },
  {
   "cell_type": "markdown",
   "metadata": {},
   "source": [
    "# Load Dataset"
   ]
  },
  {
   "cell_type": "code",
   "execution_count": 3,
   "metadata": {},
   "outputs": [
    {
     "name": "stdout",
     "output_type": "stream",
     "text": [
      "Path where 'classify train' directory belongs: /mnt/036b1314-13ad-429f-b9f9-07467946c5d7/Datasets/PUCHO/bio_marker/Coswara/Aug_Data/balanced_mel_spectrogram/vowel_o\n"
     ]
    }
   ],
   "source": [
    "root_dir = str(input(\"Path where 'classify train' directory belongs: \"))\n",
    "classify_train = os.path.join(root_dir, 'classify train')\n",
    "\n",
    "train_directory = os.path.join(classify_train, 'training')\n",
    "validation_directory = os.path.join(classify_train, 'validation')\n",
    "test_directory = os.path.join(classify_train, 'testing')"
   ]
  },
  {
   "cell_type": "code",
   "execution_count": 4,
   "metadata": {},
   "outputs": [
    {
     "data": {
      "text/plain": [
       "('/mnt/036b1314-13ad-429f-b9f9-07467946c5d7/Datasets/PUCHO/bio_marker/Coswara/Aug_Data/balanced_mel_spectrogram/vowel_o/classify train/training',\n",
       " '/mnt/036b1314-13ad-429f-b9f9-07467946c5d7/Datasets/PUCHO/bio_marker/Coswara/Aug_Data/balanced_mel_spectrogram/vowel_o/classify train/validation',\n",
       " '/mnt/036b1314-13ad-429f-b9f9-07467946c5d7/Datasets/PUCHO/bio_marker/Coswara/Aug_Data/balanced_mel_spectrogram/vowel_o/classify train/testing')"
      ]
     },
     "execution_count": 4,
     "metadata": {},
     "output_type": "execute_result"
    }
   ],
   "source": [
    "train_directory, validation_directory, test_directory"
   ]
  },
  {
   "cell_type": "markdown",
   "metadata": {},
   "source": [
    "# Hyper-parameter setting-1"
   ]
  },
  {
   "cell_type": "code",
   "execution_count": 5,
   "metadata": {},
   "outputs": [
    {
     "name": "stdout",
     "output_type": "stream",
     "text": [
      "Enter the initial learning rate: 0.001\n",
      "Enter the maximum number of epochs: 100\n",
      "Enter batch size: 8\n",
      "Enter lambda for L2 regularization: 0.00001\n"
     ]
    }
   ],
   "source": [
    "learning_rate = float(input(\"Enter the initial learning rate: \"))\n",
    "epoch = int(input(\"Enter the maximum number of epochs: \"))\n",
    "batch_size = int(input(\"Enter batch size: \"))\n",
    "lambd = float(input(\"Enter lambda for L2 regularization: \"))"
   ]
  },
  {
   "cell_type": "markdown",
   "metadata": {},
   "source": [
    "# Characteristics folder\n",
    "Creating a seperate folder where 'classify train' belongs to store model and results"
   ]
  },
  {
   "cell_type": "code",
   "execution_count": 6,
   "metadata": {},
   "outputs": [
    {
     "name": "stdout",
     "output_type": "stream",
     "text": [
      "Enter name of the characteristics folder: mobile_inception_1\n"
     ]
    }
   ],
   "source": [
    "char_name = str(input(\"Enter name of the characteristics folder: \"))\n",
    "\n",
    "char = os.path.join(root_dir, char_name)\n",
    "\n",
    "if not os.path.exists(char):\n",
    "    os.mkdir(char)\n",
    "else:\n",
    "    replace = str(input(\"Folder already exists ! Do you want to replace it ?(Y/N) \"))\n",
    "    if replace.upper() == 'Y':      \n",
    "        shutil.rmtree(char)\n",
    "        os.mkdir(char)\n",
    "    elif replace.upper() == 'N':\n",
    "        print('\\nThe following folders already exist:')\n",
    "        for i in os.listdir(root_dir): \n",
    "            print(i)\n",
    "        char_name = str(input(\"\\nEnter a new name of the characteristics folder: \"))\n",
    "        char = os.path.join(root_dir, char_name)\n",
    "        if not os.path.exists(char):\n",
    "            os.mkdir(char)\n",
    "        else:\n",
    "            print(f\"{char_name} replaced\")\n",
    "            shutil.rmtree(char)\n",
    "            os.mkdir(char)"
   ]
  },
  {
   "cell_type": "markdown",
   "metadata": {},
   "source": [
    "# Learning rate decay"
   ]
  },
  {
   "cell_type": "code",
   "execution_count": 7,
   "metadata": {},
   "outputs": [],
   "source": [
    "steps = 10 # change steps to 1 to apply exponential decay\n",
    "\n",
    "def lr_schedule(epoch):\n",
    "    return learning_rate * (0.1 ** int(epoch / steps))\n",
    "    \n",
    "best_model_address = os.path.join(char, 'best_model.h5')"
   ]
  },
  {
   "cell_type": "markdown",
   "metadata": {},
   "source": [
    "# Callbacks"
   ]
  },
  {
   "cell_type": "code",
   "execution_count": 8,
   "metadata": {},
   "outputs": [
    {
     "name": "stdout",
     "output_type": "stream",
     "text": [
      "Press 1 to monitor Validation Accuracy\n",
      "Press 2 to monitor Validation Loss\n",
      "Press 3 to monitor Training Accuracy\n",
      "Press 4 to monitor Training Loss\n",
      "4\n",
      "Enter number of epochs that will produce monitored quantity with no improvement after which training will be stopped: 10\n",
      "\n",
      "MONITORING TRAINING LOSS..........\n",
      "\n",
      "\n",
      "Training will stop if loss doesn't show any improvements for 10 epcohs\n",
      "\n"
     ]
    }
   ],
   "source": [
    "monitor = int(input(\"Press 1 to monitor Validation Accuracy\\nPress 2 to monitor Validation Loss\\nPress 3 to monitor Training Accuracy\\nPress 4 to monitor Training Loss\\n\"))\n",
    "patience = int(input('Enter number of epochs that will produce monitored quantity with no improvement after which training will be stopped: '))\n",
    "\n",
    "\n",
    "if monitor == 1:\n",
    "    metric = 'val_accuracy'\n",
    "    mode = 'max'\n",
    "    print(\"\\nMONITORING VALIDATION ACCURACY..........\\n\")\n",
    "\n",
    "elif monitor == 2:\n",
    "    metric = 'val_loss'\n",
    "    mode = 'min'\n",
    "    print(\"\\nMONITORING VALIDATION LOSS..........\\n\")\n",
    "\n",
    "elif monitor == 3:\n",
    "    metric = 'accuracy'\n",
    "    mode = 'max'\n",
    "    print(\"\\nMONITORING TRAINING ACCURACY..........\\n\")\n",
    "\n",
    "elif monitor == 4:\n",
    "    metric = 'loss'\n",
    "    mode = 'min'\n",
    "    print(\"\\nMONITORING TRAINING LOSS..........\\n\")\n",
    "\n",
    "callback = [keras.callbacks.LearningRateScheduler(lr_schedule, verbose = 1),\n",
    "            keras.callbacks.EarlyStopping(monitor = metric, min_delta = 0.001, patience = patience, verbose=1, mode = mode, restore_best_weights = True),\n",
    "            keras.callbacks.ModelCheckpoint(best_model_address, monitor = metric, verbose=1, save_best_only=True, save_weights_only=False, mode = mode)]\n",
    "\n",
    "print(f\"\\nTraining will stop if {metric} doesn't show any improvements for {patience} epcohs\\n\")"
   ]
  },
  {
   "cell_type": "markdown",
   "metadata": {},
   "source": [
    "# Model Architecture"
   ]
  },
  {
   "cell_type": "code",
   "execution_count": 9,
   "metadata": {},
   "outputs": [],
   "source": [
    "def mobile_inception(dim, output_neurons, output_activation):\n",
    "    print(\"\\nTRAINING ON mobile_inception MODEL:-\")\n",
    "\n",
    "    \n",
    "    def block(x, filters, reps):\n",
    "        for _ in range(reps):\n",
    "            # for low-level features\n",
    "            t1 = Conv2D(filters[0], kernel_size = (1,1))(x)\n",
    "            t1 = LeakyReLU()(t1)\n",
    "\n",
    "            # for mid-level features\n",
    "            t2 = DepthwiseConv2D(kernel_size = (3,3), strides = 1, padding = 'same')(x)\n",
    "            t2 = LeakyReLU()(t2)\n",
    "            t2 = Conv2D(filters[1], kernel_size = (1,1))(t2)\n",
    "            t2 = LeakyReLU()(t2)\n",
    "\n",
    "            # for high-level features\n",
    "            t3 = DepthwiseConv2D(kernel_size = (5,5), strides = 1, padding = 'same')(x)\n",
    "            t3 = LeakyReLU()(t3)\n",
    "            t3 = Conv2D(filters[2], kernel_size = (1,1))(t3)\n",
    "            t3 = LeakyReLU()(t3)\n",
    "\n",
    "            # for most-significant features\n",
    "            t4 = MaxPool2D(pool_size = (3,3), strides = 1, padding = 'same')(x)\n",
    "            t4 = Conv2D(filters[3], kernel_size = (1,1))(t4)\n",
    "            t4 = LeakyReLU()(t4)\n",
    "\n",
    "            x = Concatenate()([t1, t2, t3, t4])\n",
    "        \n",
    "        return x\n",
    "        \n",
    "        \n",
    "    input = Input(shape = dim)\n",
    "    \n",
    "    k = 16\n",
    "    \n",
    "    x = Conv2D(filters = k, kernel_size = (7,7), strides = 2, padding = 'same')(input)\n",
    "    x = LeakyReLU()(x)\n",
    "    x = MaxPool2D(pool_size = (3,3), strides = 2, padding = 'same')(x)\n",
    "    \n",
    "    x = DepthwiseConv2D(kernel_size = (3,3), strides = 1, padding = 'same')(x)\n",
    "    x = LeakyReLU()(x)\n",
    "    x = Conv2D(filters = 2*k, kernel_size = (1,1))(x)\n",
    "    x = LeakyReLU()(x)\n",
    "    x = MaxPool2D(pool_size = (2,2), strides = 2)(x)\n",
    "    \n",
    "    x = block(x, [k, k, k, k], reps = 2)\n",
    "    x = MaxPool2D(pool_size = (2,2), strides = 2)(x)\n",
    "    \n",
    "    x = block(x, [2*k, 2*k, 2*k, 2*k], reps = 2)\n",
    "    x = MaxPool2D(pool_size = (2,2), strides = 2)(x)\n",
    "\n",
    "    x = block(x, [4*k, 4*k, 4*k, 4*k], reps = 2)\n",
    "     \n",
    "    x = GlobalAveragePooling2D()(x)\n",
    "    #x = Dropout(0.4)(x)\n",
    "    \n",
    "    output = Dense(output_neurons, output_activation)(x)\n",
    "    \n",
    "    model = Model(inputs = input, outputs = output)    \n",
    "    \n",
    "    return model"
   ]
  },
  {
   "cell_type": "code",
   "execution_count": 10,
   "metadata": {},
   "outputs": [],
   "source": [
    "def pooled_mobile(dim, output_neurons, output_activation):\n",
    "    print(\"\\nTRAINING ON pooled_mobile MODEL:-\")\n",
    "\n",
    "    \n",
    "    def block(x, n_filters, d_strides):\n",
    "        # depthwise\n",
    "        x = DepthwiseConv2D(kernel_size = (3,3), strides = d_strides, padding = 'same')(x)\n",
    "        x = BatchNormalization()(x)\n",
    "        x = LeakyReLU()(x)\n",
    "    \n",
    "        # pointwise\n",
    "        x = Conv2D(filters = n_filters, kernel_size = (1,1))(x)\n",
    "        x = BatchNormalization()(x)\n",
    "        x = LeakyReLU()(x)\n",
    "        \n",
    "        # max-pool\n",
    "        x = MaxPooling2D(pool_size = (2,2), strides = 2, padding = 'same')(x)\n",
    "    \n",
    "        return x\n",
    "    \n",
    "    \n",
    "    input = Input(shape = dim)\n",
    "    \n",
    "    k = 16\n",
    "    x = Conv2D(filters = k, kernel_size = (3,3), strides = 2, padding = 'same')(input)\n",
    "    x = BatchNormalization()(x)\n",
    "    x = LeakyReLU()(x)\n",
    "    \n",
    "    x = block(x, n_filters = 2*k, d_strides = 1)\n",
    "\n",
    "    x = block(x, n_filters = 4*k, d_strides = 1)    \n",
    "\n",
    "    x = block(x, n_filters = 8*k, d_strides = 1)    \n",
    "\n",
    "    x = block(x, n_filters = 16*k, d_strides = 1)\n",
    "    x = Dropout(0.2)(x)\n",
    "\n",
    "    x = block(x, n_filters = 32*k, d_strides = 1)\n",
    "    \n",
    "    x = GlobalAveragePooling2D()(x)\n",
    "    \n",
    "    output = Dense(output_neurons, output_activation)(x)  \n",
    "    \n",
    "    model = Model(inputs = input, outputs = output)\n",
    "    \n",
    "    return model"
   ]
  },
  {
   "cell_type": "code",
   "execution_count": 11,
   "metadata": {},
   "outputs": [
    {
     "name": "stdout",
     "output_type": "stream",
     "text": [
      "This is a 2-Class Classification\n"
     ]
    }
   ],
   "source": [
    "class_no = len(os.listdir(train_directory))\n",
    "\n",
    "print(\"This is a \" + str(class_no) + \"-Class Classification\")\n",
    "\n",
    "if class_no <= 2:\n",
    "    class_mode = 'binary'\n",
    "    output_activation = 'sigmoid'\n",
    "    output_neurons = 1\n",
    "    losses = 'binary_crossentropy'\n",
    "\n",
    "else:\n",
    "    class_mode = 'categorical'\n",
    "    output_activation = 'softmax'\n",
    "    output_neurons = class_no\n",
    "    losses = 'categorical_crossentropy'"
   ]
  },
  {
   "cell_type": "code",
   "execution_count": 12,
   "metadata": {},
   "outputs": [],
   "source": [
    "def optimizer_selection():\n",
    "    print(\"\\nSelect a optimizer which will reduce the loss of the model.\\n\")\n",
    "\n",
    "    optimizer_select = int(input(\"Press 1 to select Stochastic Gradient Descent\\nPress 2 to select RMSprop\\nPress 3 to select Adagrad\\nPress 4 to select Adadelta\\nPress 5 to select Adam\\nPress 6 to select Adamax\\nPress 7 to select Nadam\\n\"))\n",
    "\n",
    "    if optimizer_select == 1:\n",
    "        optimizer = SGD(lr = learning_rate, decay = 1e-6, momentum = 0.9, nesterov = True)\n",
    "\n",
    "    elif optimizer_select == 2:\n",
    "        optimizer = RMSprop(learning_rate, rho = 0.9)\n",
    "\n",
    "    elif optimizer_select == 3:\n",
    "        optimizer = Adagrad(learning_rate)\n",
    "\n",
    "    elif optimizer_select == 4:\n",
    "        optimizer = Adadelta(learning_rate, rho = 0.95)\n",
    "\n",
    "    elif optimizer_select == 5:\n",
    "        optimizer = Adam(learning_rate = learning_rate, beta_1 = 0.9, beta_2 = 0.999, amsgrad = False)\n",
    "\n",
    "    elif optimizer_select == 6:\n",
    "        optimizer = Adamax(learning_rate = learning_rate, beta_1 = 0.9, beta_2 = 0.999)\n",
    "\n",
    "    elif optimizer_select == 7:\n",
    "        optimizer = Nadam(learning_rate = learning_rate, beta_1 = 0.9, beta_2 = 0.999)\n",
    "   \n",
    "    return optimizer"
   ]
  },
  {
   "cell_type": "code",
   "execution_count": 13,
   "metadata": {},
   "outputs": [
    {
     "name": "stdout",
     "output_type": "stream",
     "text": [
      "Image Dimension(H or W): 128\n",
      "Press 1 for RGB \n",
      "Press 2 for Grayscale 1\n"
     ]
    }
   ],
   "source": [
    "h = int(input(\"Image Dimension(H or W): \"))\n",
    "w = h\n",
    "color = int(input(\"Press 1 for RGB \\nPress 2 for Grayscale \"))\n",
    "if color == 1:\n",
    "    color_mode = 'rgb'\n",
    "    dim = (h,w,3)\n",
    "elif color == 2:\n",
    "    color_mode = 'grayscale'\n",
    "    dim = (h,w,1)"
   ]
  },
  {
   "cell_type": "code",
   "execution_count": 14,
   "metadata": {},
   "outputs": [
    {
     "name": "stdout",
     "output_type": "stream",
     "text": [
      "Found 7752 images belonging to 2 classes.\n",
      "Found 969 images belonging to 2 classes.\n",
      "Found 969 images belonging to 2 classes.\n"
     ]
    }
   ],
   "source": [
    "train_datagen = ImageDataGenerator(rescale=1.0/255.)\n",
    "train_generator = train_datagen.flow_from_directory(train_directory,\n",
    "                                                    batch_size = batch_size,\n",
    "                                                    class_mode = class_mode,\n",
    "                                                    color_mode = color_mode,\n",
    "                                                    target_size = (h,w),\n",
    "                                                    shuffle=True)\n",
    "\n",
    "validation_datagen = ImageDataGenerator(rescale=1.0/255.)\n",
    "validation_generator = validation_datagen.flow_from_directory(validation_directory,\n",
    "                                                              batch_size = batch_size,\n",
    "                                                              class_mode = class_mode,\n",
    "                                                              color_mode = color_mode,\n",
    "                                                              target_size = (h,w),\n",
    "                                                              shuffle=True)\n",
    "\n",
    "test_datagen = ImageDataGenerator(rescale=1.0/255.)\n",
    "test_generator = test_datagen.flow_from_directory(test_directory,\n",
    "                                                  batch_size = batch_size,\n",
    "                                                  class_mode = class_mode,\n",
    "                                                  color_mode = color_mode,\n",
    "                                                  target_size = (h,w),\n",
    "                                                  shuffle=True)"
   ]
  },
  {
   "cell_type": "code",
   "execution_count": 15,
   "metadata": {},
   "outputs": [
    {
     "name": "stdout",
     "output_type": "stream",
     "text": [
      "\n",
      "Select a optimizer which will reduce the loss of the model.\n",
      "\n",
      "Press 1 to select Stochastic Gradient Descent\n",
      "Press 2 to select RMSprop\n",
      "Press 3 to select Adagrad\n",
      "Press 4 to select Adadelta\n",
      "Press 5 to select Adam\n",
      "Press 6 to select Adamax\n",
      "Press 7 to select Nadam\n",
      "5\n"
     ]
    }
   ],
   "source": [
    "optimizer = optimizer_selection()"
   ]
  },
  {
   "cell_type": "code",
   "execution_count": 16,
   "metadata": {
    "scrolled": true
   },
   "outputs": [
    {
     "name": "stdout",
     "output_type": "stream",
     "text": [
      "\n",
      "TRAINING ON mobile_inception MODEL:-\n",
      "Model: \"model\"\n",
      "__________________________________________________________________________________________________\n",
      "Layer (type)                    Output Shape         Param #     Connected to                     \n",
      "==================================================================================================\n",
      "input_1 (InputLayer)            [(None, 128, 128, 3) 0                                            \n",
      "__________________________________________________________________________________________________\n",
      "conv2d (Conv2D)                 (None, 64, 64, 16)   2368        input_1[0][0]                    \n",
      "__________________________________________________________________________________________________\n",
      "leaky_re_lu (LeakyReLU)         (None, 64, 64, 16)   0           conv2d[0][0]                     \n",
      "__________________________________________________________________________________________________\n",
      "max_pooling2d (MaxPooling2D)    (None, 32, 32, 16)   0           leaky_re_lu[0][0]                \n",
      "__________________________________________________________________________________________________\n",
      "depthwise_conv2d (DepthwiseConv (None, 32, 32, 16)   160         max_pooling2d[0][0]              \n",
      "__________________________________________________________________________________________________\n",
      "leaky_re_lu_1 (LeakyReLU)       (None, 32, 32, 16)   0           depthwise_conv2d[0][0]           \n",
      "__________________________________________________________________________________________________\n",
      "conv2d_1 (Conv2D)               (None, 32, 32, 32)   544         leaky_re_lu_1[0][0]              \n",
      "__________________________________________________________________________________________________\n",
      "leaky_re_lu_2 (LeakyReLU)       (None, 32, 32, 32)   0           conv2d_1[0][0]                   \n",
      "__________________________________________________________________________________________________\n",
      "max_pooling2d_1 (MaxPooling2D)  (None, 16, 16, 32)   0           leaky_re_lu_2[0][0]              \n",
      "__________________________________________________________________________________________________\n",
      "depthwise_conv2d_1 (DepthwiseCo (None, 16, 16, 32)   320         max_pooling2d_1[0][0]            \n",
      "__________________________________________________________________________________________________\n",
      "depthwise_conv2d_2 (DepthwiseCo (None, 16, 16, 32)   832         max_pooling2d_1[0][0]            \n",
      "__________________________________________________________________________________________________\n",
      "leaky_re_lu_4 (LeakyReLU)       (None, 16, 16, 32)   0           depthwise_conv2d_1[0][0]         \n",
      "__________________________________________________________________________________________________\n",
      "leaky_re_lu_6 (LeakyReLU)       (None, 16, 16, 32)   0           depthwise_conv2d_2[0][0]         \n",
      "__________________________________________________________________________________________________\n",
      "max_pooling2d_2 (MaxPooling2D)  (None, 16, 16, 32)   0           max_pooling2d_1[0][0]            \n",
      "__________________________________________________________________________________________________\n",
      "conv2d_2 (Conv2D)               (None, 16, 16, 16)   528         max_pooling2d_1[0][0]            \n",
      "__________________________________________________________________________________________________\n",
      "conv2d_3 (Conv2D)               (None, 16, 16, 16)   528         leaky_re_lu_4[0][0]              \n",
      "__________________________________________________________________________________________________\n",
      "conv2d_4 (Conv2D)               (None, 16, 16, 16)   528         leaky_re_lu_6[0][0]              \n",
      "__________________________________________________________________________________________________\n",
      "conv2d_5 (Conv2D)               (None, 16, 16, 16)   528         max_pooling2d_2[0][0]            \n",
      "__________________________________________________________________________________________________\n",
      "leaky_re_lu_3 (LeakyReLU)       (None, 16, 16, 16)   0           conv2d_2[0][0]                   \n",
      "__________________________________________________________________________________________________\n",
      "leaky_re_lu_5 (LeakyReLU)       (None, 16, 16, 16)   0           conv2d_3[0][0]                   \n",
      "__________________________________________________________________________________________________\n",
      "leaky_re_lu_7 (LeakyReLU)       (None, 16, 16, 16)   0           conv2d_4[0][0]                   \n",
      "__________________________________________________________________________________________________\n",
      "leaky_re_lu_8 (LeakyReLU)       (None, 16, 16, 16)   0           conv2d_5[0][0]                   \n",
      "__________________________________________________________________________________________________\n",
      "concatenate (Concatenate)       (None, 16, 16, 64)   0           leaky_re_lu_3[0][0]              \n",
      "                                                                 leaky_re_lu_5[0][0]              \n",
      "                                                                 leaky_re_lu_7[0][0]              \n",
      "                                                                 leaky_re_lu_8[0][0]              \n",
      "__________________________________________________________________________________________________\n",
      "depthwise_conv2d_3 (DepthwiseCo (None, 16, 16, 64)   640         concatenate[0][0]                \n",
      "__________________________________________________________________________________________________\n",
      "depthwise_conv2d_4 (DepthwiseCo (None, 16, 16, 64)   1664        concatenate[0][0]                \n",
      "__________________________________________________________________________________________________\n",
      "leaky_re_lu_10 (LeakyReLU)      (None, 16, 16, 64)   0           depthwise_conv2d_3[0][0]         \n",
      "__________________________________________________________________________________________________\n",
      "leaky_re_lu_12 (LeakyReLU)      (None, 16, 16, 64)   0           depthwise_conv2d_4[0][0]         \n",
      "__________________________________________________________________________________________________\n",
      "max_pooling2d_3 (MaxPooling2D)  (None, 16, 16, 64)   0           concatenate[0][0]                \n",
      "__________________________________________________________________________________________________\n",
      "conv2d_6 (Conv2D)               (None, 16, 16, 16)   1040        concatenate[0][0]                \n",
      "__________________________________________________________________________________________________\n",
      "conv2d_7 (Conv2D)               (None, 16, 16, 16)   1040        leaky_re_lu_10[0][0]             \n",
      "__________________________________________________________________________________________________\n",
      "conv2d_8 (Conv2D)               (None, 16, 16, 16)   1040        leaky_re_lu_12[0][0]             \n",
      "__________________________________________________________________________________________________\n",
      "conv2d_9 (Conv2D)               (None, 16, 16, 16)   1040        max_pooling2d_3[0][0]            \n",
      "__________________________________________________________________________________________________\n",
      "leaky_re_lu_9 (LeakyReLU)       (None, 16, 16, 16)   0           conv2d_6[0][0]                   \n",
      "__________________________________________________________________________________________________\n",
      "leaky_re_lu_11 (LeakyReLU)      (None, 16, 16, 16)   0           conv2d_7[0][0]                   \n",
      "__________________________________________________________________________________________________\n",
      "leaky_re_lu_13 (LeakyReLU)      (None, 16, 16, 16)   0           conv2d_8[0][0]                   \n",
      "__________________________________________________________________________________________________\n",
      "leaky_re_lu_14 (LeakyReLU)      (None, 16, 16, 16)   0           conv2d_9[0][0]                   \n",
      "__________________________________________________________________________________________________\n",
      "concatenate_1 (Concatenate)     (None, 16, 16, 64)   0           leaky_re_lu_9[0][0]              \n",
      "                                                                 leaky_re_lu_11[0][0]             \n",
      "                                                                 leaky_re_lu_13[0][0]             \n",
      "                                                                 leaky_re_lu_14[0][0]             \n",
      "__________________________________________________________________________________________________\n",
      "max_pooling2d_4 (MaxPooling2D)  (None, 8, 8, 64)     0           concatenate_1[0][0]              \n",
      "__________________________________________________________________________________________________\n",
      "depthwise_conv2d_5 (DepthwiseCo (None, 8, 8, 64)     640         max_pooling2d_4[0][0]            \n",
      "__________________________________________________________________________________________________\n",
      "depthwise_conv2d_6 (DepthwiseCo (None, 8, 8, 64)     1664        max_pooling2d_4[0][0]            \n",
      "__________________________________________________________________________________________________\n",
      "leaky_re_lu_16 (LeakyReLU)      (None, 8, 8, 64)     0           depthwise_conv2d_5[0][0]         \n",
      "__________________________________________________________________________________________________\n",
      "leaky_re_lu_18 (LeakyReLU)      (None, 8, 8, 64)     0           depthwise_conv2d_6[0][0]         \n",
      "__________________________________________________________________________________________________\n",
      "max_pooling2d_5 (MaxPooling2D)  (None, 8, 8, 64)     0           max_pooling2d_4[0][0]            \n",
      "__________________________________________________________________________________________________\n",
      "conv2d_10 (Conv2D)              (None, 8, 8, 32)     2080        max_pooling2d_4[0][0]            \n",
      "__________________________________________________________________________________________________\n",
      "conv2d_11 (Conv2D)              (None, 8, 8, 32)     2080        leaky_re_lu_16[0][0]             \n",
      "__________________________________________________________________________________________________\n",
      "conv2d_12 (Conv2D)              (None, 8, 8, 32)     2080        leaky_re_lu_18[0][0]             \n",
      "__________________________________________________________________________________________________\n",
      "conv2d_13 (Conv2D)              (None, 8, 8, 32)     2080        max_pooling2d_5[0][0]            \n",
      "__________________________________________________________________________________________________\n",
      "leaky_re_lu_15 (LeakyReLU)      (None, 8, 8, 32)     0           conv2d_10[0][0]                  \n",
      "__________________________________________________________________________________________________\n",
      "leaky_re_lu_17 (LeakyReLU)      (None, 8, 8, 32)     0           conv2d_11[0][0]                  \n",
      "__________________________________________________________________________________________________\n",
      "leaky_re_lu_19 (LeakyReLU)      (None, 8, 8, 32)     0           conv2d_12[0][0]                  \n",
      "__________________________________________________________________________________________________\n",
      "leaky_re_lu_20 (LeakyReLU)      (None, 8, 8, 32)     0           conv2d_13[0][0]                  \n",
      "__________________________________________________________________________________________________\n",
      "concatenate_2 (Concatenate)     (None, 8, 8, 128)    0           leaky_re_lu_15[0][0]             \n",
      "                                                                 leaky_re_lu_17[0][0]             \n",
      "                                                                 leaky_re_lu_19[0][0]             \n",
      "                                                                 leaky_re_lu_20[0][0]             \n",
      "__________________________________________________________________________________________________\n",
      "depthwise_conv2d_7 (DepthwiseCo (None, 8, 8, 128)    1280        concatenate_2[0][0]              \n",
      "__________________________________________________________________________________________________\n",
      "depthwise_conv2d_8 (DepthwiseCo (None, 8, 8, 128)    3328        concatenate_2[0][0]              \n",
      "__________________________________________________________________________________________________\n",
      "leaky_re_lu_22 (LeakyReLU)      (None, 8, 8, 128)    0           depthwise_conv2d_7[0][0]         \n",
      "__________________________________________________________________________________________________\n",
      "leaky_re_lu_24 (LeakyReLU)      (None, 8, 8, 128)    0           depthwise_conv2d_8[0][0]         \n",
      "__________________________________________________________________________________________________\n",
      "max_pooling2d_6 (MaxPooling2D)  (None, 8, 8, 128)    0           concatenate_2[0][0]              \n",
      "__________________________________________________________________________________________________\n",
      "conv2d_14 (Conv2D)              (None, 8, 8, 32)     4128        concatenate_2[0][0]              \n",
      "__________________________________________________________________________________________________\n",
      "conv2d_15 (Conv2D)              (None, 8, 8, 32)     4128        leaky_re_lu_22[0][0]             \n",
      "__________________________________________________________________________________________________\n",
      "conv2d_16 (Conv2D)              (None, 8, 8, 32)     4128        leaky_re_lu_24[0][0]             \n",
      "__________________________________________________________________________________________________\n",
      "conv2d_17 (Conv2D)              (None, 8, 8, 32)     4128        max_pooling2d_6[0][0]            \n",
      "__________________________________________________________________________________________________\n",
      "leaky_re_lu_21 (LeakyReLU)      (None, 8, 8, 32)     0           conv2d_14[0][0]                  \n",
      "__________________________________________________________________________________________________\n",
      "leaky_re_lu_23 (LeakyReLU)      (None, 8, 8, 32)     0           conv2d_15[0][0]                  \n",
      "__________________________________________________________________________________________________\n",
      "leaky_re_lu_25 (LeakyReLU)      (None, 8, 8, 32)     0           conv2d_16[0][0]                  \n",
      "__________________________________________________________________________________________________\n",
      "leaky_re_lu_26 (LeakyReLU)      (None, 8, 8, 32)     0           conv2d_17[0][0]                  \n",
      "__________________________________________________________________________________________________\n",
      "concatenate_3 (Concatenate)     (None, 8, 8, 128)    0           leaky_re_lu_21[0][0]             \n",
      "                                                                 leaky_re_lu_23[0][0]             \n",
      "                                                                 leaky_re_lu_25[0][0]             \n",
      "                                                                 leaky_re_lu_26[0][0]             \n",
      "__________________________________________________________________________________________________\n",
      "max_pooling2d_7 (MaxPooling2D)  (None, 4, 4, 128)    0           concatenate_3[0][0]              \n",
      "__________________________________________________________________________________________________\n",
      "depthwise_conv2d_9 (DepthwiseCo (None, 4, 4, 128)    1280        max_pooling2d_7[0][0]            \n",
      "__________________________________________________________________________________________________\n",
      "depthwise_conv2d_10 (DepthwiseC (None, 4, 4, 128)    3328        max_pooling2d_7[0][0]            \n",
      "__________________________________________________________________________________________________\n",
      "leaky_re_lu_28 (LeakyReLU)      (None, 4, 4, 128)    0           depthwise_conv2d_9[0][0]         \n",
      "__________________________________________________________________________________________________\n",
      "leaky_re_lu_30 (LeakyReLU)      (None, 4, 4, 128)    0           depthwise_conv2d_10[0][0]        \n",
      "__________________________________________________________________________________________________\n",
      "max_pooling2d_8 (MaxPooling2D)  (None, 4, 4, 128)    0           max_pooling2d_7[0][0]            \n",
      "__________________________________________________________________________________________________\n",
      "conv2d_18 (Conv2D)              (None, 4, 4, 64)     8256        max_pooling2d_7[0][0]            \n",
      "__________________________________________________________________________________________________\n",
      "conv2d_19 (Conv2D)              (None, 4, 4, 64)     8256        leaky_re_lu_28[0][0]             \n",
      "__________________________________________________________________________________________________\n",
      "conv2d_20 (Conv2D)              (None, 4, 4, 64)     8256        leaky_re_lu_30[0][0]             \n",
      "__________________________________________________________________________________________________\n",
      "conv2d_21 (Conv2D)              (None, 4, 4, 64)     8256        max_pooling2d_8[0][0]            \n",
      "__________________________________________________________________________________________________\n",
      "leaky_re_lu_27 (LeakyReLU)      (None, 4, 4, 64)     0           conv2d_18[0][0]                  \n",
      "__________________________________________________________________________________________________\n",
      "leaky_re_lu_29 (LeakyReLU)      (None, 4, 4, 64)     0           conv2d_19[0][0]                  \n",
      "__________________________________________________________________________________________________\n",
      "leaky_re_lu_31 (LeakyReLU)      (None, 4, 4, 64)     0           conv2d_20[0][0]                  \n",
      "__________________________________________________________________________________________________\n",
      "leaky_re_lu_32 (LeakyReLU)      (None, 4, 4, 64)     0           conv2d_21[0][0]                  \n",
      "__________________________________________________________________________________________________\n",
      "concatenate_4 (Concatenate)     (None, 4, 4, 256)    0           leaky_re_lu_27[0][0]             \n",
      "                                                                 leaky_re_lu_29[0][0]             \n",
      "                                                                 leaky_re_lu_31[0][0]             \n",
      "                                                                 leaky_re_lu_32[0][0]             \n",
      "__________________________________________________________________________________________________\n",
      "depthwise_conv2d_11 (DepthwiseC (None, 4, 4, 256)    2560        concatenate_4[0][0]              \n",
      "__________________________________________________________________________________________________\n",
      "depthwise_conv2d_12 (DepthwiseC (None, 4, 4, 256)    6656        concatenate_4[0][0]              \n",
      "__________________________________________________________________________________________________\n",
      "leaky_re_lu_34 (LeakyReLU)      (None, 4, 4, 256)    0           depthwise_conv2d_11[0][0]        \n",
      "__________________________________________________________________________________________________\n",
      "leaky_re_lu_36 (LeakyReLU)      (None, 4, 4, 256)    0           depthwise_conv2d_12[0][0]        \n",
      "__________________________________________________________________________________________________\n",
      "max_pooling2d_9 (MaxPooling2D)  (None, 4, 4, 256)    0           concatenate_4[0][0]              \n",
      "__________________________________________________________________________________________________\n",
      "conv2d_22 (Conv2D)              (None, 4, 4, 64)     16448       concatenate_4[0][0]              \n",
      "__________________________________________________________________________________________________\n",
      "conv2d_23 (Conv2D)              (None, 4, 4, 64)     16448       leaky_re_lu_34[0][0]             \n",
      "__________________________________________________________________________________________________\n",
      "conv2d_24 (Conv2D)              (None, 4, 4, 64)     16448       leaky_re_lu_36[0][0]             \n",
      "__________________________________________________________________________________________________\n",
      "conv2d_25 (Conv2D)              (None, 4, 4, 64)     16448       max_pooling2d_9[0][0]            \n",
      "__________________________________________________________________________________________________\n",
      "leaky_re_lu_33 (LeakyReLU)      (None, 4, 4, 64)     0           conv2d_22[0][0]                  \n",
      "__________________________________________________________________________________________________\n",
      "leaky_re_lu_35 (LeakyReLU)      (None, 4, 4, 64)     0           conv2d_23[0][0]                  \n",
      "__________________________________________________________________________________________________\n",
      "leaky_re_lu_37 (LeakyReLU)      (None, 4, 4, 64)     0           conv2d_24[0][0]                  \n",
      "__________________________________________________________________________________________________\n",
      "leaky_re_lu_38 (LeakyReLU)      (None, 4, 4, 64)     0           conv2d_25[0][0]                  \n",
      "__________________________________________________________________________________________________\n",
      "concatenate_5 (Concatenate)     (None, 4, 4, 256)    0           leaky_re_lu_33[0][0]             \n",
      "                                                                 leaky_re_lu_35[0][0]             \n",
      "                                                                 leaky_re_lu_37[0][0]             \n",
      "                                                                 leaky_re_lu_38[0][0]             \n",
      "__________________________________________________________________________________________________\n",
      "global_average_pooling2d (Globa (None, 256)          0           concatenate_5[0][0]              \n",
      "__________________________________________________________________________________________________\n",
      "dense (Dense)                   (None, 1)            257         global_average_pooling2d[0][0]   \n",
      "==================================================================================================\n",
      "Total params: 157,441\n",
      "Trainable params: 157,441\n",
      "Non-trainable params: 0\n",
      "__________________________________________________________________________________________________\n"
     ]
    }
   ],
   "source": [
    "model = mobile_inception(dim, output_neurons, output_activation)\n",
    "model.compile(optimizer = optimizer, loss = losses, metrics = ['accuracy', \n",
    "                                                               tf.keras.metrics.Precision(), \n",
    "                                                               tf.keras.metrics.Recall(), \n",
    "                                                               tf.keras.metrics.TruePositives(), \n",
    "                                                               tf.keras.metrics.TrueNegatives(), \n",
    "                                                               tf.keras.metrics.FalsePositives(),\n",
    "                                                               tf.keras.metrics.FalseNegatives()])\n",
    "\n",
    "\n",
    "model.summary()"
   ]
  },
  {
   "cell_type": "code",
   "execution_count": 17,
   "metadata": {},
   "outputs": [
    {
     "name": "stdout",
     "output_type": "stream",
     "text": [
      "Epoch 1/100\n",
      "\n",
      "Epoch 00001: LearningRateScheduler reducing learning rate to 0.001.\n",
      "969/969 [==============================] - 25s 22ms/step - loss: 0.6545 - accuracy: 0.5843 - precision: 0.5991 - recall: 0.8034 - true_positives: 1604.4495 - true_negatives: 719.8588 - false_positives: 1015.4660 - false_negatives: 544.2175 - val_loss: 0.4420 - val_accuracy: 0.7740 - val_precision: 0.8362 - val_recall: 0.7307 - val_true_positives: 388.0000 - val_true_negatives: 362.0000 - val_false_positives: 76.0000 - val_false_negatives: 143.0000\n",
      "\n",
      "Epoch 00001: loss improved from inf to 0.60344, saving model to /mnt/036b1314-13ad-429f-b9f9-07467946c5d7/Datasets/PUCHO/bio_marker/Coswara/Aug_Data/balanced_mel_spectrogram/vowel_o/mobile_inception_1/best_model.h5\n",
      "Epoch 2/100\n",
      "\n",
      "Epoch 00002: LearningRateScheduler reducing learning rate to 0.001.\n",
      "969/969 [==============================] - 20s 20ms/step - loss: 0.4044 - accuracy: 0.7982 - precision: 0.8653 - recall: 0.7508 - true_positives: 1657.7629 - true_negatives: 1500.5938 - false_positives: 239.2402 - false_negatives: 486.3948 - val_loss: 0.0922 - val_accuracy: 0.9721 - val_precision: 0.9791 - val_recall: 0.9699 - val_true_positives: 515.0000 - val_true_negatives: 427.0000 - val_false_positives: 11.0000 - val_false_negatives: 16.0000\n",
      "\n",
      "Epoch 00002: loss improved from 0.60344 to 0.32287, saving model to /mnt/036b1314-13ad-429f-b9f9-07467946c5d7/Datasets/PUCHO/bio_marker/Coswara/Aug_Data/balanced_mel_spectrogram/vowel_o/mobile_inception_1/best_model.h5\n",
      "Epoch 3/100\n",
      "\n",
      "Epoch 00003: LearningRateScheduler reducing learning rate to 0.001.\n",
      "969/969 [==============================] - 19s 20ms/step - loss: 0.0931 - accuracy: 0.9654 - precision: 0.9671 - recall: 0.9704 - true_positives: 2084.0866 - true_negatives: 1665.4402 - false_positives: 72.2258 - false_negatives: 62.2392 - val_loss: 0.0715 - val_accuracy: 0.9742 - val_precision: 0.9865 - val_recall: 0.9661 - val_true_positives: 513.0000 - val_true_negatives: 431.0000 - val_false_positives: 7.0000 - val_false_negatives: 18.0000\n",
      "\n",
      "Epoch 00003: loss improved from 0.32287 to 0.08533, saving model to /mnt/036b1314-13ad-429f-b9f9-07467946c5d7/Datasets/PUCHO/bio_marker/Coswara/Aug_Data/balanced_mel_spectrogram/vowel_o/mobile_inception_1/best_model.h5\n",
      "Epoch 4/100\n",
      "\n",
      "Epoch 00004: LearningRateScheduler reducing learning rate to 0.001.\n",
      "969/969 [==============================] - 19s 20ms/step - loss: 0.0677 - accuracy: 0.9721 - precision: 0.9705 - recall: 0.9789 - true_positives: 2086.7289 - true_negatives: 1693.2990 - false_positives: 60.7010 - false_negatives: 43.2629 - val_loss: 0.0197 - val_accuracy: 0.9917 - val_precision: 0.9888 - val_recall: 0.9962 - val_true_positives: 529.0000 - val_true_negatives: 432.0000 - val_false_positives: 6.0000 - val_false_negatives: 2.0000\n",
      "\n",
      "Epoch 00004: loss improved from 0.08533 to 0.06052, saving model to /mnt/036b1314-13ad-429f-b9f9-07467946c5d7/Datasets/PUCHO/bio_marker/Coswara/Aug_Data/balanced_mel_spectrogram/vowel_o/mobile_inception_1/best_model.h5\n",
      "Epoch 5/100\n",
      "\n",
      "Epoch 00005: LearningRateScheduler reducing learning rate to 0.001.\n",
      "969/969 [==============================] - 19s 20ms/step - loss: 0.0371 - accuracy: 0.9835 - precision: 0.9795 - recall: 0.9900 - true_positives: 2080.2268 - true_negatives: 1736.0299 - false_positives: 43.7052 - false_negatives: 24.0299 - val_loss: 0.0228 - val_accuracy: 0.9897 - val_precision: 0.9869 - val_recall: 0.9944 - val_true_positives: 528.0000 - val_true_negatives: 431.0000 - val_false_positives: 7.0000 - val_false_negatives: 3.0000\n",
      "\n",
      "Epoch 00005: loss improved from 0.06052 to 0.03957, saving model to /mnt/036b1314-13ad-429f-b9f9-07467946c5d7/Datasets/PUCHO/bio_marker/Coswara/Aug_Data/balanced_mel_spectrogram/vowel_o/mobile_inception_1/best_model.h5\n",
      "Epoch 6/100\n",
      "\n",
      "Epoch 00006: LearningRateScheduler reducing learning rate to 0.001.\n",
      "969/969 [==============================] - 19s 20ms/step - loss: 0.0316 - accuracy: 0.9869 - precision: 0.9835 - recall: 0.9929 - true_positives: 2117.8948 - true_negatives: 1708.1753 - false_positives: 38.7928 - false_negatives: 19.1289 - val_loss: 0.0193 - val_accuracy: 0.9907 - val_precision: 0.9888 - val_recall: 0.9944 - val_true_positives: 528.0000 - val_true_negatives: 432.0000 - val_false_positives: 6.0000 - val_false_negatives: 3.0000\n",
      "\n",
      "Epoch 00006: loss did not improve from 0.03957\n",
      "Epoch 7/100\n",
      "\n",
      "Epoch 00007: LearningRateScheduler reducing learning rate to 0.001.\n",
      "969/969 [==============================] - 19s 20ms/step - loss: 0.0225 - accuracy: 0.9905 - precision: 0.9871 - recall: 0.9954 - true_positives: 2101.5175 - true_negatives: 1741.9835 - false_positives: 28.4825 - false_negatives: 12.0082 - val_loss: 0.0226 - val_accuracy: 0.9948 - val_precision: 0.9962 - val_recall: 0.9944 - val_true_positives: 528.0000 - val_true_negatives: 436.0000 - val_false_positives: 2.0000 - val_false_negatives: 3.0000\n",
      "\n",
      "Epoch 00007: loss improved from 0.03957 to 0.02799, saving model to /mnt/036b1314-13ad-429f-b9f9-07467946c5d7/Datasets/PUCHO/bio_marker/Coswara/Aug_Data/balanced_mel_spectrogram/vowel_o/mobile_inception_1/best_model.h5\n",
      "Epoch 8/100\n",
      "\n",
      "Epoch 00008: LearningRateScheduler reducing learning rate to 0.001.\n",
      "969/969 [==============================] - 19s 20ms/step - loss: 0.0357 - accuracy: 0.9851 - precision: 0.9823 - recall: 0.9905 - true_positives: 2099.0320 - true_negatives: 1725.6371 - false_positives: 37.8660 - false_negatives: 21.4567 - val_loss: 0.0153 - val_accuracy: 0.9928 - val_precision: 0.9888 - val_recall: 0.9981 - val_true_positives: 530.0000 - val_true_negatives: 432.0000 - val_false_positives: 6.0000 - val_false_negatives: 1.0000\n",
      "\n",
      "Epoch 00008: loss did not improve from 0.02799\n",
      "Epoch 9/100\n",
      "\n",
      "Epoch 00009: LearningRateScheduler reducing learning rate to 0.001.\n",
      "969/969 [==============================] - 20s 20ms/step - loss: 0.0210 - accuracy: 0.9884 - precision: 0.9839 - recall: 0.9948 - true_positives: 2107.2082 - true_negatives: 1737.5948 - false_positives: 27.6072 - false_negatives: 11.5814 - val_loss: 0.0122 - val_accuracy: 0.9928 - val_precision: 0.9870 - val_recall: 1.0000 - val_true_positives: 531.0000 - val_true_negatives: 431.0000 - val_false_positives: 7.0000 - val_false_negatives: 0.0000e+00\n",
      "\n",
      "Epoch 00009: loss improved from 0.02799 to 0.01974, saving model to /mnt/036b1314-13ad-429f-b9f9-07467946c5d7/Datasets/PUCHO/bio_marker/Coswara/Aug_Data/balanced_mel_spectrogram/vowel_o/mobile_inception_1/best_model.h5\n",
      "Epoch 10/100\n",
      "\n",
      "Epoch 00010: LearningRateScheduler reducing learning rate to 0.001.\n",
      "969/969 [==============================] - 19s 20ms/step - loss: 0.0360 - accuracy: 0.9843 - precision: 0.9825 - recall: 0.9886 - true_positives: 2082.7361 - true_negatives: 1731.6649 - false_positives: 41.3165 - false_negatives: 28.2742 - val_loss: 0.0537 - val_accuracy: 0.9804 - val_precision: 0.9812 - val_recall: 0.9831 - val_true_positives: 522.0000 - val_true_negatives: 428.0000 - val_false_positives: 10.0000 - val_false_negatives: 9.0000\n",
      "\n",
      "Epoch 00010: loss did not improve from 0.01974\n",
      "Epoch 11/100\n",
      "\n",
      "Epoch 00011: LearningRateScheduler reducing learning rate to 0.0001.\n",
      "969/969 [==============================] - 20s 20ms/step - loss: 0.0205 - accuracy: 0.9904 - precision: 0.9909 - recall: 0.9918 - true_positives: 2128.6876 - true_negatives: 1722.3402 - false_positives: 20.2979 - false_negatives: 12.6660 - val_loss: 0.0111 - val_accuracy: 0.9938 - val_precision: 0.9907 - val_recall: 0.9981 - val_true_positives: 530.0000 - val_true_negatives: 433.0000 - val_false_positives: 5.0000 - val_false_negatives: 1.0000\n",
      "\n",
      "Epoch 00011: loss improved from 0.01974 to 0.01714, saving model to /mnt/036b1314-13ad-429f-b9f9-07467946c5d7/Datasets/PUCHO/bio_marker/Coswara/Aug_Data/balanced_mel_spectrogram/vowel_o/mobile_inception_1/best_model.h5\n",
      "Epoch 12/100\n",
      "\n",
      "Epoch 00012: LearningRateScheduler reducing learning rate to 0.0001.\n",
      "969/969 [==============================] - 19s 20ms/step - loss: 0.0113 - accuracy: 0.9956 - precision: 0.9929 - recall: 0.9991 - true_positives: 2124.9804 - true_negatives: 1739.5928 - false_positives: 16.7485 - false_negatives: 2.6701 - val_loss: 0.0110 - val_accuracy: 0.9928 - val_precision: 0.9888 - val_recall: 0.9981 - val_true_positives: 530.0000 - val_true_negatives: 432.0000 - val_false_positives: 6.0000 - val_false_negatives: 1.0000\n"
     ]
    },
    {
     "name": "stdout",
     "output_type": "stream",
     "text": [
      "\n",
      "Epoch 00012: loss improved from 0.01714 to 0.01245, saving model to /mnt/036b1314-13ad-429f-b9f9-07467946c5d7/Datasets/PUCHO/bio_marker/Coswara/Aug_Data/balanced_mel_spectrogram/vowel_o/mobile_inception_1/best_model.h5\n",
      "Epoch 13/100\n",
      "\n",
      "Epoch 00013: LearningRateScheduler reducing learning rate to 0.0001.\n",
      "969/969 [==============================] - 19s 20ms/step - loss: 0.0095 - accuracy: 0.9963 - precision: 0.9944 - recall: 0.9989 - true_positives: 2139.4990 - true_negatives: 1728.6959 - false_positives: 12.6093 - false_negatives: 3.1876 - val_loss: 0.0156 - val_accuracy: 0.9928 - val_precision: 0.9870 - val_recall: 1.0000 - val_true_positives: 531.0000 - val_true_negatives: 431.0000 - val_false_positives: 7.0000 - val_false_negatives: 0.0000e+00\n",
      "\n",
      "Epoch 00013: loss improved from 0.01245 to 0.01127, saving model to /mnt/036b1314-13ad-429f-b9f9-07467946c5d7/Datasets/PUCHO/bio_marker/Coswara/Aug_Data/balanced_mel_spectrogram/vowel_o/mobile_inception_1/best_model.h5\n",
      "Epoch 14/100\n",
      "\n",
      "Epoch 00014: LearningRateScheduler reducing learning rate to 0.0001.\n",
      "969/969 [==============================] - 19s 20ms/step - loss: 0.0109 - accuracy: 0.9950 - precision: 0.9926 - recall: 0.9983 - true_positives: 2113.5021 - true_negatives: 1750.3175 - false_positives: 16.2742 - false_negatives: 3.8979 - val_loss: 0.0076 - val_accuracy: 0.9979 - val_precision: 0.9962 - val_recall: 1.0000 - val_true_positives: 531.0000 - val_true_negatives: 436.0000 - val_false_positives: 2.0000 - val_false_negatives: 0.0000e+00\n",
      "\n",
      "Epoch 00014: loss improved from 0.01127 to 0.01093, saving model to /mnt/036b1314-13ad-429f-b9f9-07467946c5d7/Datasets/PUCHO/bio_marker/Coswara/Aug_Data/balanced_mel_spectrogram/vowel_o/mobile_inception_1/best_model.h5\n",
      "Epoch 15/100\n",
      "\n",
      "Epoch 00015: LearningRateScheduler reducing learning rate to 0.0001.\n",
      "969/969 [==============================] - 19s 20ms/step - loss: 0.0088 - accuracy: 0.9964 - precision: 0.9939 - recall: 0.9996 - true_positives: 2134.8969 - true_negatives: 1733.6505 - false_positives: 13.9753 - false_negatives: 1.4691 - val_loss: 0.0067 - val_accuracy: 0.9979 - val_precision: 0.9981 - val_recall: 0.9981 - val_true_positives: 530.0000 - val_true_negatives: 437.0000 - val_false_positives: 1.0000 - val_false_negatives: 1.0000\n",
      "\n",
      "Epoch 00015: loss improved from 0.01093 to 0.01027, saving model to /mnt/036b1314-13ad-429f-b9f9-07467946c5d7/Datasets/PUCHO/bio_marker/Coswara/Aug_Data/balanced_mel_spectrogram/vowel_o/mobile_inception_1/best_model.h5\n",
      "Epoch 16/100\n",
      "\n",
      "Epoch 00016: LearningRateScheduler reducing learning rate to 0.0001.\n",
      "969/969 [==============================] - 19s 20ms/step - loss: 0.0080 - accuracy: 0.9955 - precision: 0.9927 - recall: 0.9988 - true_positives: 2111.5206 - true_negatives: 1755.7433 - false_positives: 13.2330 - false_negatives: 3.4948 - val_loss: 0.0048 - val_accuracy: 0.9990 - val_precision: 0.9981 - val_recall: 1.0000 - val_true_positives: 531.0000 - val_true_negatives: 437.0000 - val_false_positives: 1.0000 - val_false_negatives: 0.0000e+00\n",
      "\n",
      "Epoch 00016: loss improved from 0.01027 to 0.00887, saving model to /mnt/036b1314-13ad-429f-b9f9-07467946c5d7/Datasets/PUCHO/bio_marker/Coswara/Aug_Data/balanced_mel_spectrogram/vowel_o/mobile_inception_1/best_model.h5\n",
      "Epoch 17/100\n",
      "\n",
      "Epoch 00017: LearningRateScheduler reducing learning rate to 0.0001.\n",
      "969/969 [==============================] - 19s 20ms/step - loss: 0.0073 - accuracy: 0.9967 - precision: 0.9944 - recall: 0.9995 - true_positives: 2109.5515 - true_negatives: 1760.6021 - false_positives: 12.3567 - false_negatives: 1.4814 - val_loss: 0.0051 - val_accuracy: 0.9990 - val_precision: 0.9981 - val_recall: 1.0000 - val_true_positives: 531.0000 - val_true_negatives: 437.0000 - val_false_positives: 1.0000 - val_false_negatives: 0.0000e+00\n",
      "\n",
      "Epoch 00017: loss did not improve from 0.00887\n",
      "Epoch 18/100\n",
      "\n",
      "Epoch 00018: LearningRateScheduler reducing learning rate to 0.0001.\n",
      "969/969 [==============================] - 19s 20ms/step - loss: 0.0080 - accuracy: 0.9966 - precision: 0.9947 - recall: 0.9992 - true_positives: 2118.0443 - true_negatives: 1751.8237 - false_positives: 12.0124 - false_negatives: 2.1113 - val_loss: 0.0094 - val_accuracy: 0.9979 - val_precision: 1.0000 - val_recall: 0.9962 - val_true_positives: 529.0000 - val_true_negatives: 438.0000 - val_false_positives: 0.0000e+00 - val_false_negatives: 2.0000\n",
      "\n",
      "Epoch 00018: loss improved from 0.00887 to 0.00799, saving model to /mnt/036b1314-13ad-429f-b9f9-07467946c5d7/Datasets/PUCHO/bio_marker/Coswara/Aug_Data/balanced_mel_spectrogram/vowel_o/mobile_inception_1/best_model.h5\n",
      "Epoch 19/100\n",
      "\n",
      "Epoch 00019: LearningRateScheduler reducing learning rate to 0.0001.\n",
      "969/969 [==============================] - 20s 20ms/step - loss: 0.0080 - accuracy: 0.9963 - precision: 0.9948 - recall: 0.9983 - true_positives: 2114.0918 - true_negatives: 1756.6866 - false_positives: 11.1485 - false_negatives: 2.0649 - val_loss: 0.0055 - val_accuracy: 0.9990 - val_precision: 1.0000 - val_recall: 0.9981 - val_true_positives: 530.0000 - val_true_negatives: 438.0000 - val_false_positives: 0.0000e+00 - val_false_negatives: 1.0000\n",
      "\n",
      "Epoch 00019: loss improved from 0.00799 to 0.00738, saving model to /mnt/036b1314-13ad-429f-b9f9-07467946c5d7/Datasets/PUCHO/bio_marker/Coswara/Aug_Data/balanced_mel_spectrogram/vowel_o/mobile_inception_1/best_model.h5\n",
      "Epoch 20/100\n",
      "\n",
      "Epoch 00020: LearningRateScheduler reducing learning rate to 0.0001.\n",
      "969/969 [==============================] - 19s 20ms/step - loss: 0.0072 - accuracy: 0.9964 - precision: 0.9955 - recall: 0.9980 - true_positives: 2117.8691 - true_negatives: 1751.9691 - false_positives: 9.7959 - false_negatives: 4.3577 - val_loss: 0.0033 - val_accuracy: 0.9979 - val_precision: 0.9981 - val_recall: 0.9981 - val_true_positives: 530.0000 - val_true_negatives: 437.0000 - val_false_positives: 1.0000 - val_false_negatives: 1.0000\n",
      "\n",
      "Epoch 00020: loss improved from 0.00738 to 0.00698, saving model to /mnt/036b1314-13ad-429f-b9f9-07467946c5d7/Datasets/PUCHO/bio_marker/Coswara/Aug_Data/balanced_mel_spectrogram/vowel_o/mobile_inception_1/best_model.h5\n",
      "Epoch 21/100\n",
      "\n",
      "Epoch 00021: LearningRateScheduler reducing learning rate to 1.0000000000000003e-05.\n",
      "969/969 [==============================] - 20s 20ms/step - loss: 0.0043 - accuracy: 0.9984 - precision: 0.9970 - recall: 1.0000 - true_positives: 2141.1237 - true_negatives: 1735.5433 - false_positives: 7.3247 - false_negatives: 0.0000e+00 - val_loss: 0.0039 - val_accuracy: 0.9990 - val_precision: 1.0000 - val_recall: 0.9981 - val_true_positives: 530.0000 - val_true_negatives: 438.0000 - val_false_positives: 0.0000e+00 - val_false_negatives: 1.0000\n",
      "\n",
      "Epoch 00021: loss improved from 0.00698 to 0.00607, saving model to /mnt/036b1314-13ad-429f-b9f9-07467946c5d7/Datasets/PUCHO/bio_marker/Coswara/Aug_Data/balanced_mel_spectrogram/vowel_o/mobile_inception_1/best_model.h5\n",
      "Epoch 22/100\n",
      "\n",
      "Epoch 00022: LearningRateScheduler reducing learning rate to 1.0000000000000003e-05.\n",
      "969/969 [==============================] - 20s 21ms/step - loss: 0.0068 - accuracy: 0.9973 - precision: 0.9950 - recall: 1.0000 - true_positives: 2129.8412 - true_negatives: 1745.3887 - false_positives: 8.7619 - false_negatives: 0.0000e+00 - val_loss: 0.0036 - val_accuracy: 1.0000 - val_precision: 1.0000 - val_recall: 1.0000 - val_true_positives: 531.0000 - val_true_negatives: 438.0000 - val_false_positives: 0.0000e+00 - val_false_negatives: 0.0000e+00\n",
      "\n",
      "Epoch 00022: loss improved from 0.00607 to 0.00558, saving model to /mnt/036b1314-13ad-429f-b9f9-07467946c5d7/Datasets/PUCHO/bio_marker/Coswara/Aug_Data/balanced_mel_spectrogram/vowel_o/mobile_inception_1/best_model.h5\n",
      "Epoch 23/100\n",
      "\n",
      "Epoch 00023: LearningRateScheduler reducing learning rate to 1.0000000000000003e-05.\n",
      "969/969 [==============================] - 19s 20ms/step - loss: 0.0050 - accuracy: 0.9979 - precision: 0.9962 - recall: 1.0000 - true_positives: 2137.6237 - true_negatives: 1737.5082 - false_positives: 8.8598 - false_negatives: 0.0000e+00 - val_loss: 0.0035 - val_accuracy: 0.9990 - val_precision: 0.9981 - val_recall: 1.0000 - val_true_positives: 531.0000 - val_true_negatives: 437.0000 - val_false_positives: 1.0000 - val_false_negatives: 0.0000e+00\n",
      "\n",
      "Epoch 00023: loss improved from 0.00558 to 0.00531, saving model to /mnt/036b1314-13ad-429f-b9f9-07467946c5d7/Datasets/PUCHO/bio_marker/Coswara/Aug_Data/balanced_mel_spectrogram/vowel_o/mobile_inception_1/best_model.h5\n",
      "Epoch 24/100\n",
      "\n",
      "Epoch 00024: LearningRateScheduler reducing learning rate to 1.0000000000000003e-05.\n"
     ]
    },
    {
     "name": "stdout",
     "output_type": "stream",
     "text": [
      "969/969 [==============================] - 19s 20ms/step - loss: 0.0059 - accuracy: 0.9975 - precision: 0.9955 - recall: 1.0000 - true_positives: 2136.5701 - true_negatives: 1738.3753 - false_positives: 9.0464 - false_negatives: 0.0000e+00 - val_loss: 0.0034 - val_accuracy: 1.0000 - val_precision: 1.0000 - val_recall: 1.0000 - val_true_positives: 531.0000 - val_true_negatives: 438.0000 - val_false_positives: 0.0000e+00 - val_false_negatives: 0.0000e+00\n",
      "\n",
      "Epoch 00024: loss improved from 0.00531 to 0.00519, saving model to /mnt/036b1314-13ad-429f-b9f9-07467946c5d7/Datasets/PUCHO/bio_marker/Coswara/Aug_Data/balanced_mel_spectrogram/vowel_o/mobile_inception_1/best_model.h5\n",
      "Epoch 25/100\n",
      "\n",
      "Epoch 00025: LearningRateScheduler reducing learning rate to 1.0000000000000003e-05.\n",
      "969/969 [==============================] - 20s 20ms/step - loss: 0.0046 - accuracy: 0.9980 - precision: 0.9964 - recall: 1.0000 - true_positives: 2149.3340 - true_negatives: 1726.6134 - false_positives: 8.0443 - false_negatives: 0.0000e+00 - val_loss: 0.0041 - val_accuracy: 0.9990 - val_precision: 1.0000 - val_recall: 0.9981 - val_true_positives: 530.0000 - val_true_negatives: 438.0000 - val_false_positives: 0.0000e+00 - val_false_negatives: 1.0000\n",
      "\n",
      "Epoch 00025: loss improved from 0.00519 to 0.00492, saving model to /mnt/036b1314-13ad-429f-b9f9-07467946c5d7/Datasets/PUCHO/bio_marker/Coswara/Aug_Data/balanced_mel_spectrogram/vowel_o/mobile_inception_1/best_model.h5\n",
      "Epoch 26/100\n",
      "\n",
      "Epoch 00026: LearningRateScheduler reducing learning rate to 1.0000000000000003e-05.\n",
      "969/969 [==============================] - 20s 20ms/step - loss: 0.0038 - accuracy: 0.9987 - precision: 0.9976 - recall: 1.0000 - true_positives: 2131.7278 - true_negatives: 1746.8804 - false_positives: 5.3835 - false_negatives: 0.0000e+00 - val_loss: 0.0038 - val_accuracy: 0.9990 - val_precision: 1.0000 - val_recall: 0.9981 - val_true_positives: 530.0000 - val_true_negatives: 438.0000 - val_false_positives: 0.0000e+00 - val_false_negatives: 1.0000\n",
      "\n",
      "Epoch 00026: loss improved from 0.00492 to 0.00486, saving model to /mnt/036b1314-13ad-429f-b9f9-07467946c5d7/Datasets/PUCHO/bio_marker/Coswara/Aug_Data/balanced_mel_spectrogram/vowel_o/mobile_inception_1/best_model.h5\n",
      "Epoch 27/100\n",
      "\n",
      "Epoch 00027: LearningRateScheduler reducing learning rate to 1.0000000000000003e-05.\n",
      "969/969 [==============================] - 19s 20ms/step - loss: 0.0050 - accuracy: 0.9982 - precision: 0.9967 - recall: 1.0000 - true_positives: 2131.5907 - true_negatives: 1745.3041 - false_positives: 7.0969 - false_negatives: 0.0000e+00 - val_loss: 0.0028 - val_accuracy: 1.0000 - val_precision: 1.0000 - val_recall: 1.0000 - val_true_positives: 531.0000 - val_true_negatives: 438.0000 - val_false_positives: 0.0000e+00 - val_false_negatives: 0.0000e+00\n",
      "\n",
      "Epoch 00027: loss improved from 0.00486 to 0.00470, saving model to /mnt/036b1314-13ad-429f-b9f9-07467946c5d7/Datasets/PUCHO/bio_marker/Coswara/Aug_Data/balanced_mel_spectrogram/vowel_o/mobile_inception_1/best_model.h5\n",
      "Epoch 28/100\n",
      "\n",
      "Epoch 00028: LearningRateScheduler reducing learning rate to 1.0000000000000003e-05.\n",
      "969/969 [==============================] - 20s 20ms/step - loss: 0.0043 - accuracy: 0.9981 - precision: 0.9965 - recall: 1.0000 - true_positives: 2110.7402 - true_negatives: 1766.0794 - false_positives: 7.1722 - false_negatives: 0.0000e+00 - val_loss: 0.0024 - val_accuracy: 1.0000 - val_precision: 1.0000 - val_recall: 1.0000 - val_true_positives: 531.0000 - val_true_negatives: 438.0000 - val_false_positives: 0.0000e+00 - val_false_negatives: 0.0000e+00\n",
      "\n",
      "Epoch 00028: loss improved from 0.00470 to 0.00450, saving model to /mnt/036b1314-13ad-429f-b9f9-07467946c5d7/Datasets/PUCHO/bio_marker/Coswara/Aug_Data/balanced_mel_spectrogram/vowel_o/mobile_inception_1/best_model.h5\n",
      "Epoch 29/100\n",
      "\n",
      "Epoch 00029: LearningRateScheduler reducing learning rate to 1.0000000000000003e-05.\n",
      "969/969 [==============================] - 20s 20ms/step - loss: 0.0049 - accuracy: 0.9978 - precision: 0.9960 - recall: 1.0000 - true_positives: 2121.3371 - true_negatives: 1755.5969 - false_positives: 7.0577 - false_negatives: 0.0000e+00 - val_loss: 0.0032 - val_accuracy: 0.9990 - val_precision: 1.0000 - val_recall: 0.9981 - val_true_positives: 530.0000 - val_true_negatives: 438.0000 - val_false_positives: 0.0000e+00 - val_false_negatives: 1.0000\n",
      "\n",
      "Epoch 00029: loss improved from 0.00450 to 0.00445, saving model to /mnt/036b1314-13ad-429f-b9f9-07467946c5d7/Datasets/PUCHO/bio_marker/Coswara/Aug_Data/balanced_mel_spectrogram/vowel_o/mobile_inception_1/best_model.h5\n",
      "Epoch 30/100\n",
      "\n",
      "Epoch 00030: LearningRateScheduler reducing learning rate to 1.0000000000000003e-05.\n",
      "969/969 [==============================] - 20s 20ms/step - loss: 0.0048 - accuracy: 0.9984 - precision: 0.9971 - recall: 1.0000 - true_positives: 2143.9608 - true_negatives: 1735.0206 - false_positives: 5.0103 - false_negatives: 0.0000e+00 - val_loss: 0.0030 - val_accuracy: 0.9990 - val_precision: 1.0000 - val_recall: 0.9981 - val_true_positives: 530.0000 - val_true_negatives: 438.0000 - val_false_positives: 0.0000e+00 - val_false_negatives: 1.0000\n",
      "\n",
      "Epoch 00030: loss improved from 0.00445 to 0.00424, saving model to /mnt/036b1314-13ad-429f-b9f9-07467946c5d7/Datasets/PUCHO/bio_marker/Coswara/Aug_Data/balanced_mel_spectrogram/vowel_o/mobile_inception_1/best_model.h5\n",
      "Epoch 31/100\n",
      "\n",
      "Epoch 00031: LearningRateScheduler reducing learning rate to 1.0000000000000002e-06.\n",
      "969/969 [==============================] - 20s 20ms/step - loss: 0.0038 - accuracy: 0.9989 - precision: 0.9981 - recall: 1.0000 - true_positives: 2135.9773 - true_negatives: 1742.9062 - false_positives: 5.1082 - false_negatives: 0.0000e+00 - val_loss: 0.0029 - val_accuracy: 0.9990 - val_precision: 1.0000 - val_recall: 0.9981 - val_true_positives: 530.0000 - val_true_negatives: 438.0000 - val_false_positives: 0.0000e+00 - val_false_negatives: 1.0000\n",
      "\n",
      "Epoch 00031: loss improved from 0.00424 to 0.00397, saving model to /mnt/036b1314-13ad-429f-b9f9-07467946c5d7/Datasets/PUCHO/bio_marker/Coswara/Aug_Data/balanced_mel_spectrogram/vowel_o/mobile_inception_1/best_model.h5\n",
      "Epoch 32/100\n",
      "\n",
      "Epoch 00032: LearningRateScheduler reducing learning rate to 1.0000000000000002e-06.\n",
      "969/969 [==============================] - 20s 20ms/step - loss: 0.0032 - accuracy: 0.9990 - precision: 0.9982 - recall: 1.0000 - true_positives: 2155.3330 - true_negatives: 1723.6629 - false_positives: 4.9959 - false_negatives: 0.0000e+00 - val_loss: 0.0029 - val_accuracy: 0.9990 - val_precision: 1.0000 - val_recall: 0.9981 - val_true_positives: 530.0000 - val_true_negatives: 438.0000 - val_false_positives: 0.0000e+00 - val_false_negatives: 1.0000\n",
      "\n",
      "Epoch 00032: loss improved from 0.00397 to 0.00396, saving model to /mnt/036b1314-13ad-429f-b9f9-07467946c5d7/Datasets/PUCHO/bio_marker/Coswara/Aug_Data/balanced_mel_spectrogram/vowel_o/mobile_inception_1/best_model.h5\n",
      "Epoch 33/100\n",
      "\n",
      "Epoch 00033: LearningRateScheduler reducing learning rate to 1.0000000000000002e-06.\n",
      "969/969 [==============================] - 20s 20ms/step - loss: 0.0034 - accuracy: 0.9989 - precision: 0.9981 - recall: 1.0000 - true_positives: 2146.6227 - true_negatives: 1732.1619 - false_positives: 5.2072 - false_negatives: 0.0000e+00 - val_loss: 0.0029 - val_accuracy: 1.0000 - val_precision: 1.0000 - val_recall: 1.0000 - val_true_positives: 531.0000 - val_true_negatives: 438.0000 - val_false_positives: 0.0000e+00 - val_false_negatives: 0.0000e+00\n",
      "\n",
      "Epoch 00033: loss improved from 0.00396 to 0.00394, saving model to /mnt/036b1314-13ad-429f-b9f9-07467946c5d7/Datasets/PUCHO/bio_marker/Coswara/Aug_Data/balanced_mel_spectrogram/vowel_o/mobile_inception_1/best_model.h5\n",
      "Epoch 34/100\n",
      "\n",
      "Epoch 00034: LearningRateScheduler reducing learning rate to 1.0000000000000002e-06.\n",
      "969/969 [==============================] - 20s 20ms/step - loss: 0.0056 - accuracy: 0.9974 - precision: 0.9954 - recall: 1.0000 - true_positives: 2157.1423 - true_negatives: 1719.8031 - false_positives: 7.0464 - false_negatives: 0.0000e+00 - val_loss: 0.0028 - val_accuracy: 1.0000 - val_precision: 1.0000 - val_recall: 1.0000 - val_true_positives: 531.0000 - val_true_negatives: 438.0000 - val_false_positives: 0.0000e+00 - val_false_negatives: 0.0000e+00\n"
     ]
    },
    {
     "name": "stdout",
     "output_type": "stream",
     "text": [
      "\n",
      "Epoch 00034: loss improved from 0.00394 to 0.00392, saving model to /mnt/036b1314-13ad-429f-b9f9-07467946c5d7/Datasets/PUCHO/bio_marker/Coswara/Aug_Data/balanced_mel_spectrogram/vowel_o/mobile_inception_1/best_model.h5\n",
      "Epoch 35/100\n",
      "\n",
      "Epoch 00035: LearningRateScheduler reducing learning rate to 1.0000000000000002e-06.\n",
      "969/969 [==============================] - 20s 20ms/step - loss: 0.0035 - accuracy: 0.9986 - precision: 0.9974 - recall: 1.0000 - true_positives: 2136.4773 - true_negatives: 1742.2361 - false_positives: 5.2784 - false_negatives: 0.0000e+00 - val_loss: 0.0028 - val_accuracy: 1.0000 - val_precision: 1.0000 - val_recall: 1.0000 - val_true_positives: 531.0000 - val_true_negatives: 438.0000 - val_false_positives: 0.0000e+00 - val_false_negatives: 0.0000e+00\n",
      "\n",
      "Epoch 00035: loss improved from 0.00392 to 0.00391, saving model to /mnt/036b1314-13ad-429f-b9f9-07467946c5d7/Datasets/PUCHO/bio_marker/Coswara/Aug_Data/balanced_mel_spectrogram/vowel_o/mobile_inception_1/best_model.h5\n",
      "Epoch 36/100\n",
      "\n",
      "Epoch 00036: LearningRateScheduler reducing learning rate to 1.0000000000000002e-06.\n",
      "969/969 [==============================] - 19s 20ms/step - loss: 0.0055 - accuracy: 0.9973 - precision: 0.9951 - recall: 1.0000 - true_positives: 2119.5320 - true_negatives: 1757.0505 - false_positives: 7.4093 - false_negatives: 0.0000e+00 - val_loss: 0.0028 - val_accuracy: 1.0000 - val_precision: 1.0000 - val_recall: 1.0000 - val_true_positives: 531.0000 - val_true_negatives: 438.0000 - val_false_positives: 0.0000e+00 - val_false_negatives: 0.0000e+00\n",
      "\n",
      "Epoch 00036: loss improved from 0.00391 to 0.00389, saving model to /mnt/036b1314-13ad-429f-b9f9-07467946c5d7/Datasets/PUCHO/bio_marker/Coswara/Aug_Data/balanced_mel_spectrogram/vowel_o/mobile_inception_1/best_model.h5\n",
      "Epoch 37/100\n",
      "\n",
      "Epoch 00037: LearningRateScheduler reducing learning rate to 1.0000000000000002e-06.\n",
      "969/969 [==============================] - 20s 20ms/step - loss: 0.0040 - accuracy: 0.9983 - precision: 0.9970 - recall: 1.0000 - true_positives: 2138.6010 - true_negatives: 1739.1722 - false_positives: 6.2186 - false_negatives: 0.0000e+00 - val_loss: 0.0027 - val_accuracy: 1.0000 - val_precision: 1.0000 - val_recall: 1.0000 - val_true_positives: 531.0000 - val_true_negatives: 438.0000 - val_false_positives: 0.0000e+00 - val_false_negatives: 0.0000e+00\n",
      "\n",
      "Epoch 00037: loss improved from 0.00389 to 0.00388, saving model to /mnt/036b1314-13ad-429f-b9f9-07467946c5d7/Datasets/PUCHO/bio_marker/Coswara/Aug_Data/balanced_mel_spectrogram/vowel_o/mobile_inception_1/best_model.h5\n",
      "Epoch 38/100\n",
      "\n",
      "Epoch 00038: LearningRateScheduler reducing learning rate to 1.0000000000000002e-06.\n",
      "969/969 [==============================] - 20s 20ms/step - loss: 0.0040 - accuracy: 0.9984 - precision: 0.9971 - recall: 1.0000 - true_positives: 2139.7732 - true_negatives: 1737.6320 - false_positives: 6.5866 - false_negatives: 0.0000e+00 - val_loss: 0.0027 - val_accuracy: 1.0000 - val_precision: 1.0000 - val_recall: 1.0000 - val_true_positives: 531.0000 - val_true_negatives: 438.0000 - val_false_positives: 0.0000e+00 - val_false_negatives: 0.0000e+00\n",
      "\n",
      "Epoch 00038: loss improved from 0.00388 to 0.00386, saving model to /mnt/036b1314-13ad-429f-b9f9-07467946c5d7/Datasets/PUCHO/bio_marker/Coswara/Aug_Data/balanced_mel_spectrogram/vowel_o/mobile_inception_1/best_model.h5\n",
      "Epoch 39/100\n",
      "\n",
      "Epoch 00039: LearningRateScheduler reducing learning rate to 1.0000000000000002e-06.\n",
      "969/969 [==============================] - 20s 20ms/step - loss: 0.0048 - accuracy: 0.9977 - precision: 0.9958 - recall: 1.0000 - true_positives: 2097.9649 - true_negatives: 1778.8536 - false_positives: 7.1732 - false_negatives: 0.0000e+00 - val_loss: 0.0027 - val_accuracy: 1.0000 - val_precision: 1.0000 - val_recall: 1.0000 - val_true_positives: 531.0000 - val_true_negatives: 438.0000 - val_false_positives: 0.0000e+00 - val_false_negatives: 0.0000e+00\n",
      "\n",
      "Epoch 00039: loss improved from 0.00386 to 0.00385, saving model to /mnt/036b1314-13ad-429f-b9f9-07467946c5d7/Datasets/PUCHO/bio_marker/Coswara/Aug_Data/balanced_mel_spectrogram/vowel_o/mobile_inception_1/best_model.h5\n",
      "Epoch 40/100\n",
      "\n",
      "Epoch 00040: LearningRateScheduler reducing learning rate to 1.0000000000000002e-06.\n",
      "969/969 [==============================] - 20s 20ms/step - loss: 0.0045 - accuracy: 0.9983 - precision: 0.9969 - recall: 1.0000 - true_positives: 2131.9196 - true_negatives: 1745.6969 - false_positives: 6.3753 - false_negatives: 0.0000e+00 - val_loss: 0.0027 - val_accuracy: 1.0000 - val_precision: 1.0000 - val_recall: 1.0000 - val_true_positives: 531.0000 - val_true_negatives: 438.0000 - val_false_positives: 0.0000e+00 - val_false_negatives: 0.0000e+00\n",
      "\n",
      "Epoch 00040: loss improved from 0.00385 to 0.00384, saving model to /mnt/036b1314-13ad-429f-b9f9-07467946c5d7/Datasets/PUCHO/bio_marker/Coswara/Aug_Data/balanced_mel_spectrogram/vowel_o/mobile_inception_1/best_model.h5\n",
      "Epoch 41/100\n",
      "\n",
      "Epoch 00041: LearningRateScheduler reducing learning rate to 1.0000000000000002e-07.\n",
      "969/969 [==============================] - 19s 20ms/step - loss: 0.0042 - accuracy: 0.9983 - precision: 0.9968 - recall: 1.0000 - true_positives: 2131.8505 - true_negatives: 1745.7113 - false_positives: 6.4299 - false_negatives: 0.0000e+00 - val_loss: 0.0027 - val_accuracy: 1.0000 - val_precision: 1.0000 - val_recall: 1.0000 - val_true_positives: 531.0000 - val_true_negatives: 438.0000 - val_false_positives: 0.0000e+00 - val_false_negatives: 0.0000e+00\n",
      "\n",
      "Epoch 00041: loss improved from 0.00384 to 0.00380, saving model to /mnt/036b1314-13ad-429f-b9f9-07467946c5d7/Datasets/PUCHO/bio_marker/Coswara/Aug_Data/balanced_mel_spectrogram/vowel_o/mobile_inception_1/best_model.h5\n",
      "Epoch 42/100\n",
      "\n",
      "Epoch 00042: LearningRateScheduler reducing learning rate to 1.0000000000000002e-07.\n",
      "969/969 [==============================] - 19s 20ms/step - loss: 0.0032 - accuracy: 0.9986 - precision: 0.9975 - recall: 1.0000 - true_positives: 2139.5227 - true_negatives: 1739.0144 - false_positives: 5.4546 - false_negatives: 0.0000e+00 - val_loss: 0.0027 - val_accuracy: 1.0000 - val_precision: 1.0000 - val_recall: 1.0000 - val_true_positives: 531.0000 - val_true_negatives: 438.0000 - val_false_positives: 0.0000e+00 - val_false_negatives: 0.0000e+00\n",
      "\n",
      "Epoch 00042: loss improved from 0.00380 to 0.00380, saving model to /mnt/036b1314-13ad-429f-b9f9-07467946c5d7/Datasets/PUCHO/bio_marker/Coswara/Aug_Data/balanced_mel_spectrogram/vowel_o/mobile_inception_1/best_model.h5\n",
      "Epoch 43/100\n",
      "\n",
      "Epoch 00043: LearningRateScheduler reducing learning rate to 1.0000000000000002e-07.\n",
      "969/969 [==============================] - 19s 20ms/step - loss: 0.0037 - accuracy: 0.9986 - precision: 0.9975 - recall: 1.0000 - true_positives: 2133.3000 - true_negatives: 1744.6804 - false_positives: 6.0113 - false_negatives: 0.0000e+00 - val_loss: 0.0027 - val_accuracy: 1.0000 - val_precision: 1.0000 - val_recall: 1.0000 - val_true_positives: 531.0000 - val_true_negatives: 438.0000 - val_false_positives: 0.0000e+00 - val_false_negatives: 0.0000e+00\n",
      "\n",
      "Epoch 00043: loss improved from 0.00380 to 0.00380, saving model to /mnt/036b1314-13ad-429f-b9f9-07467946c5d7/Datasets/PUCHO/bio_marker/Coswara/Aug_Data/balanced_mel_spectrogram/vowel_o/mobile_inception_1/best_model.h5\n",
      "Epoch 44/100\n",
      "\n",
      "Epoch 00044: LearningRateScheduler reducing learning rate to 1.0000000000000002e-07.\n",
      "969/969 [==============================] - 19s 20ms/step - loss: 0.0047 - accuracy: 0.9983 - precision: 0.9969 - recall: 1.0000 - true_positives: 2134.9608 - true_negatives: 1742.2433 - false_positives: 6.7876 - false_negatives: 0.0000e+00 - val_loss: 0.0027 - val_accuracy: 1.0000 - val_precision: 1.0000 - val_recall: 1.0000 - val_true_positives: 531.0000 - val_true_negatives: 438.0000 - val_false_positives: 0.0000e+00 - val_false_negatives: 0.0000e+00\n",
      "\n",
      "Epoch 00044: loss improved from 0.00380 to 0.00380, saving model to /mnt/036b1314-13ad-429f-b9f9-07467946c5d7/Datasets/PUCHO/bio_marker/Coswara/Aug_Data/balanced_mel_spectrogram/vowel_o/mobile_inception_1/best_model.h5\n",
      "Epoch 45/100\n",
      "\n",
      "Epoch 00045: LearningRateScheduler reducing learning rate to 1.0000000000000002e-07.\n"
     ]
    },
    {
     "name": "stdout",
     "output_type": "stream",
     "text": [
      "969/969 [==============================] - 20s 20ms/step - loss: 0.0031 - accuracy: 0.9992 - precision: 0.9985 - recall: 1.0000 - true_positives: 2134.6423 - true_negatives: 1745.7969 - false_positives: 3.5526 - false_negatives: 0.0000e+00 - val_loss: 0.0027 - val_accuracy: 1.0000 - val_precision: 1.0000 - val_recall: 1.0000 - val_true_positives: 531.0000 - val_true_negatives: 438.0000 - val_false_positives: 0.0000e+00 - val_false_negatives: 0.0000e+00\n",
      "Restoring model weights from the end of the best epoch.\n",
      "\n",
      "Epoch 00045: loss improved from 0.00380 to 0.00380, saving model to /mnt/036b1314-13ad-429f-b9f9-07467946c5d7/Datasets/PUCHO/bio_marker/Coswara/Aug_Data/balanced_mel_spectrogram/vowel_o/mobile_inception_1/best_model.h5\n",
      "Epoch 00045: early stopping\n",
      "969/969 [==============================] - 10s 10ms/step - loss: 0.0039 - accuracy: 0.9986 - precision: 0.9974 - recall: 1.0000 - true_positives: 4248.0000 - true_negatives: 3493.0000 - false_positives: 11.0000 - false_negatives: 0.0000e+00\n",
      "122/122 [==============================] - 1s 10ms/step - loss: 0.0028 - accuracy: 1.0000 - precision: 1.0000 - recall: 1.0000 - true_positives: 531.0000 - true_negatives: 438.0000 - false_positives: 0.0000e+00 - false_negatives: 0.0000e+00\n",
      "122/122 [==============================] - 2s 13ms/step - loss: 0.0052 - accuracy: 0.9990 - precision: 0.9981 - recall: 1.0000 - true_positives: 531.0000 - true_negatives: 437.0000 - false_positives: 1.0000 - false_negatives: 0.0000e+00\n"
     ]
    }
   ],
   "source": [
    "with tf.device('/GPU:0'):\n",
    "    start = time.time()\n",
    "    history = model.fit(train_generator,\n",
    "                        epochs = epoch,\n",
    "                        verbose = 1,\n",
    "                        callbacks = callback,\n",
    "                        validation_data = validation_generator,\n",
    "                        shuffle=True)\n",
    "\n",
    "    end = time.time()\n",
    "    \n",
    "    duration = end-start\n",
    "\n",
    "train_score = model.evaluate(train_generator)\n",
    "val_score = model.evaluate(validation_generator)\n",
    "test_score = model.evaluate(test_generator)"
   ]
  },
  {
   "cell_type": "code",
   "execution_count": 18,
   "metadata": {},
   "outputs": [
    {
     "name": "stdout",
     "output_type": "stream",
     "text": [
      "Execution Time: 891.3370380401611 seconds\n"
     ]
    }
   ],
   "source": [
    "print(\"Execution Time: {} seconds\".format(duration))"
   ]
  },
  {
   "cell_type": "markdown",
   "metadata": {},
   "source": [
    "# Plot characteristic curves"
   ]
  },
  {
   "cell_type": "code",
   "execution_count": 19,
   "metadata": {},
   "outputs": [],
   "source": [
    "acc=history.history['accuracy']\n",
    "val_acc=history.history['val_accuracy']\n",
    "loss=history.history['loss']\n",
    "val_loss=history.history['val_loss']\n",
    "epochs=range(len(acc))"
   ]
  },
  {
   "cell_type": "code",
   "execution_count": 20,
   "metadata": {},
   "outputs": [
    {
     "name": "stdout",
     "output_type": "stream",
     "text": [
      "range(0, 45)\n"
     ]
    }
   ],
   "source": [
    "print(epochs)"
   ]
  },
  {
   "cell_type": "code",
   "execution_count": 21,
   "metadata": {},
   "outputs": [
    {
     "data": {
      "text/plain": [
       "[0, 8, 16, 24, 32, 40]"
      ]
     },
     "execution_count": 21,
     "metadata": {},
     "output_type": "execute_result"
    }
   ],
   "source": [
    "x_tick = []\n",
    "i = 0\n",
    "for i in epochs:\n",
    "    if i%8 == 0:\n",
    "        x_tick.append(i)\n",
    "\n",
    "x_tick"
   ]
  },
  {
   "cell_type": "code",
   "execution_count": 22,
   "metadata": {},
   "outputs": [
    {
     "name": "stderr",
     "output_type": "stream",
     "text": [
      "The PostScript backend does not support transparency; partially transparent artists will be rendered opaque.\n",
      "The PostScript backend does not support transparency; partially transparent artists will be rendered opaque.\n"
     ]
    },
    {
     "data": {
      "image/png": "[encoded data removed]",
      "text/plain": [
       "<Figure size 432x288 with 1 Axes>"
      ]
     },
     "metadata": {
      "needs_background": "light"
     },
     "output_type": "display_data"
    }
   ],
   "source": [
    "plt.plot(epochs, acc, 'r', label='Training Accuracy')\n",
    "plt.plot(epochs, val_acc, 'b', label='Validation Accuracy')\n",
    "\n",
    "plt.xlabel(\"Epochs\")\n",
    "plt.xticks(x_tick)\n",
    "plt.ylabel(\"Accuracy\")\n",
    "plt.title('Training and validation accuracy vs Epochs')\n",
    "plt.legend()\n",
    "\n",
    "fig_name_eps = \"accuracy.eps\"\n",
    "fig_name_jpg = \"accuracy.jpg\"\n",
    "\n",
    "plt.savefig(os.path.join(char, fig_name_eps))\n",
    "plt.savefig(os.path.join(char, fig_name_jpg))\n",
    "\n",
    "plt.show()"
   ]
  },
  {
   "cell_type": "code",
   "execution_count": 23,
   "metadata": {},
   "outputs": [
    {
     "name": "stderr",
     "output_type": "stream",
     "text": [
      "The PostScript backend does not support transparency; partially transparent artists will be rendered opaque.\n",
      "The PostScript backend does not support transparency; partially transparent artists will be rendered opaque.\n"
     ]
    },
    {
     "data": {
      "image/png": "[encoded data removed]",
      "text/plain": [
       "<Figure size 432x288 with 1 Axes>"
      ]
     },
     "metadata": {
      "needs_background": "light"
     },
     "output_type": "display_data"
    }
   ],
   "source": [
    "plt.plot(epochs, loss, 'r', label=\"Training Loss\")\n",
    "plt.plot(epochs, val_loss, 'b', label=\"Validation Loss\")\n",
    "\n",
    "plt.xlabel(\"Epochs\")\n",
    "plt.xticks(x_tick)\n",
    "plt.ylabel(\"Loss\")\n",
    "plt.title('Training and validation loss vs Epochs')\n",
    "plt.legend()\n",
    "\n",
    "fig_name_eps = \"loss.eps\"\n",
    "fig_name_jpg = \"loss.jpg\"\n",
    "\n",
    "plt.savefig(os.path.join(char, fig_name_eps))\n",
    "plt.savefig(os.path.join(char, fig_name_jpg))\n",
    "\n",
    "plt.show()"
   ]
  },
  {
   "cell_type": "code",
   "execution_count": 24,
   "metadata": {},
   "outputs": [
    {
     "name": "stderr",
     "output_type": "stream",
     "text": [
      "The PostScript backend does not support transparency; partially transparent artists will be rendered opaque.\n",
      "The PostScript backend does not support transparency; partially transparent artists will be rendered opaque.\n"
     ]
    },
    {
     "data": {
      "image/png": "[encoded data removed]",
      "text/plain": [
       "<Figure size 432x288 with 1 Axes>"
      ]
     },
     "metadata": {
      "needs_background": "light"
     },
     "output_type": "display_data"
    }
   ],
   "source": [
    "plt.plot(epochs, acc, 'r', label='Training Accuracy')\n",
    "plt.plot(epochs, val_acc, 'b', label='Validation Accuracy')\n",
    "plt.plot(epochs, loss, 'r', label=\"Training Loss\")\n",
    "plt.plot(epochs, val_loss, 'b', label=\"Validation Loss\")\n",
    "\n",
    "plt.xlabel(\"Epochs\")\n",
    "plt.xticks(x_tick)\n",
    "plt.ylabel(\"Loss\")\n",
    "plt.title('Training and validation loss vs Epochs')\n",
    "plt.legend()\n",
    "\n",
    "fig_name_eps = \"char.eps\"\n",
    "fig_name_jpg = \"char.jpg\"\n",
    "\n",
    "plt.savefig(os.path.join(char, fig_name_eps))\n",
    "plt.savefig(os.path.join(char, fig_name_jpg))"
   ]
  },
  {
   "cell_type": "markdown",
   "metadata": {},
   "source": [
    "# Classification metrices"
   ]
  },
  {
   "cell_type": "code",
   "execution_count": 25,
   "metadata": {},
   "outputs": [
    {
     "name": "stdout",
     "output_type": "stream",
     "text": [
      "The training accuracy is: 99.85809922218323 %\n",
      "The validation accuracy is: 100.0 %\n",
      "The test accuracy is: 99.89680051803589 %\n"
     ]
    }
   ],
   "source": [
    "training_accuracy = train_score[1]*100\n",
    "validation_accuracy = val_score[1]*100\n",
    "test_accuracy = test_score[1]*100\n",
    "\n",
    "print(\"The training accuracy is: \" + str(training_accuracy) + ' %')\n",
    "print(\"The validation accuracy is: \" + str(validation_accuracy) + ' %')\n",
    "print(\"The test accuracy is: \" + str(test_accuracy) + ' %')"
   ]
  },
  {
   "cell_type": "code",
   "execution_count": 26,
   "metadata": {},
   "outputs": [],
   "source": [
    "test_accuracy = test_score[1]*100\n",
    "test_precision = test_score[2]*100\n",
    "test_recall = test_score[3]*100\n",
    "tp = int(test_score[4])\n",
    "tn = int(test_score[5])\n",
    "fp = int(test_score[6])\n",
    "fn = int(test_score[7])\n",
    "\n",
    "f1 = 2*((test_precision*test_recall)/(test_precision+test_recall))\n",
    "sensitivity_k = (tp/(tp+fn))*100\n",
    "specificity_k = (tn/(tn+fp))*100"
   ]
  },
  {
   "cell_type": "code",
   "execution_count": 27,
   "metadata": {},
   "outputs": [
    {
     "name": "stdout",
     "output_type": "stream",
     "text": [
      "Test Accuracy: 99.89680051803589\n",
      "Test Precision: 99.81203079223633\n",
      "Test Recall: 100.0\n",
      "True Positive: 531\n",
      "Test Negetive: 437\n",
      "False Positive: 1\n",
      "False Negetive: 0\n",
      "Sensitivity_k: 100.0\n",
      "Specificity_k: 99.77168949771689\n"
     ]
    }
   ],
   "source": [
    "print(\"Test Accuracy: {}\".format(test_accuracy))\n",
    "print(\"Test Precision: {}\".format(test_precision))\n",
    "print(\"Test Recall: {}\".format(test_recall))\n",
    "print(\"True Positive: {}\".format(tp))\n",
    "print(\"Test Negetive: {}\".format(tn))\n",
    "print(\"False Positive: {}\".format(fp))\n",
    "print(\"False Negetive: {}\".format(fn))\n",
    "print(\"Sensitivity_k: {}\".format(sensitivity_k))\n",
    "print(\"Specificity_k: {}\".format(specificity_k))"
   ]
  },
  {
   "cell_type": "code",
   "execution_count": 60,
   "metadata": {},
   "outputs": [],
   "source": [
    "def report(y_true, y_pred, labels):\n",
    "    from sklearn.metrics import classification_report\n",
    "    from sklearn.metrics import confusion_matrix \n",
    "    \n",
    "    print(\"Calculating CLASSIFICATION REPORT: \")\n",
    "    classification_reports = classification_report(y_true, y_pred, target_names=labels)\n",
    "    print(classification_reports)\n",
    "\n",
    "    print(\"\\nCalculating SENSITIVITY & SPECIFICITY..........:\")\n",
    "    cm = confusion_matrix(y_true, y_pred)\n",
    "    total = sum(sum(cm))\n",
    "    sensitivity = cm[0, 0] / (cm[0, 0] + cm[0, 1])\n",
    "    specificity = cm[1, 1] / (cm[1, 0] + cm[1, 1])\n",
    "\n",
    "    print(\"sensitivity = {:.4f}\".format(sensitivity))\n",
    "    print(\"specificity = {:.4f}\".format(specificity))\n",
    "    \n",
    "    return cm, classification_reports, sensitivity, specificity"
   ]
  },
  {
   "cell_type": "code",
   "execution_count": 61,
   "metadata": {},
   "outputs": [],
   "source": [
    "def conf_mat(cm, labels, char, file_name):\n",
    "    fig, ax = plot_confusion_matrix(conf_mat=cm,\n",
    "                                    colorbar=True,\n",
    "                                    show_absolute=True,\n",
    "                                    class_names=labels,\n",
    "                                    show_normed=True)\n",
    "\n",
    "    plt.savefig(os.path.join(char, f'{file_name}.eps'))\n",
    "    plt.savefig(os.path.join(char, f'{file_name}.jpg'))"
   ]
  },
  {
   "cell_type": "code",
   "execution_count": 48,
   "metadata": {},
   "outputs": [],
   "source": [
    "labels = test_generator.class_indices"
   ]
  },
  {
   "cell_type": "code",
   "execution_count": 69,
   "metadata": {},
   "outputs": [],
   "source": [
    "labels = {'Normal': 0, 'COVID': 1}"
   ]
  },
  {
   "cell_type": "markdown",
   "metadata": {},
   "source": [
    "# Classification result (Keras)"
   ]
  },
  {
   "cell_type": "code",
   "execution_count": 70,
   "metadata": {},
   "outputs": [],
   "source": [
    "def pred_keras(tp, tn, fp, fn):\n",
    "    y_true = []\n",
    "    y_pred = []\n",
    "\n",
    "    for i in range(tp):\n",
    "        y_true.append(1)\n",
    "        y_pred.append(1)\n",
    "\n",
    "    for i in range(tn):\n",
    "        y_true.append(0)\n",
    "        y_pred.append(0)\n",
    "\n",
    "    for i in range(fp):\n",
    "        y_true.append(0)\n",
    "        y_pred.append(1)\n",
    "\n",
    "    for i in range(fn):\n",
    "        y_true.append(1)\n",
    "        y_pred.append(0)\n",
    "            \n",
    "    return y_true, y_pred"
   ]
  },
  {
   "cell_type": "code",
   "execution_count": 71,
   "metadata": {},
   "outputs": [],
   "source": [
    "y_true, y_pred = pred_keras(tp, tn, fp, fn)"
   ]
  },
  {
   "cell_type": "code",
   "execution_count": 72,
   "metadata": {},
   "outputs": [
    {
     "name": "stdout",
     "output_type": "stream",
     "text": [
      "Calculating CLASSIFICATION REPORT: \n",
      "              precision    recall  f1-score   support\n",
      "\n",
      "      Normal       1.00      1.00      1.00       438\n",
      "       COVID       1.00      1.00      1.00       531\n",
      "\n",
      "    accuracy                           1.00       969\n",
      "   macro avg       1.00      1.00      1.00       969\n",
      "weighted avg       1.00      1.00      1.00       969\n",
      "\n",
      "\n",
      "Calculating SENSITIVITY & SPECIFICITY..........:\n",
      "sensitivity = 0.9977\n",
      "specificity = 1.0000\n"
     ]
    }
   ],
   "source": [
    "cm, classification_reports_keras, sensitivity_keras, specificity_keras = report(y_true, y_pred, labels)"
   ]
  },
  {
   "cell_type": "code",
   "execution_count": 73,
   "metadata": {},
   "outputs": [
    {
     "data": {
      "image/png": "[encoded data removed]",
      "text/plain": [
       "<Figure size 432x288 with 2 Axes>"
      ]
     },
     "metadata": {
      "needs_background": "light"
     },
     "output_type": "display_data"
    }
   ],
   "source": [
    "conf_mat(cm, labels, char, 'confusion-matrix-keras')"
   ]
  },
  {
   "cell_type": "markdown",
   "metadata": {},
   "source": [
    "# Classification result (Scikit-learn)"
   ]
  },
  {
   "cell_type": "code",
   "execution_count": 74,
   "metadata": {},
   "outputs": [],
   "source": [
    "def pred_sklearn(test_directory, test_generator, class_no, best_model_address, dim):\n",
    "    test_class_list = []\n",
    "    for test_name in os.listdir(test_directory):\n",
    "        test = os.path.join(test_directory, test_name)\n",
    "        test_class_list.append(test)\n",
    "    test_class_list.sort()\n",
    "    \n",
    "    y_true = test_generator.classes\n",
    "    labels = test_generator.class_indices\n",
    "    \n",
    "    y_pred = []\n",
    "    tot = len(os.listdir(test_class_list[1]))*class_no\n",
    "\n",
    "    best_model = load_model(best_model_address)\n",
    "    \n",
    "    with tqdm(total=tot) as pbar:\n",
    "        for i in range(class_no):\n",
    "            for filename in os.listdir(test_class_list[i]):\n",
    "                file = os.path.join(test_class_list[i], filename)\n",
    "                img = cv2.imread(file)\n",
    "                res = cv2.resize(img, (dim[0], dim[1]))\n",
    "                normed = res / 255.0\n",
    "                im_arr = normed.reshape(1, dim[0], dim[1], dim[2])\n",
    "\n",
    "                pred = best_model.predict(im_arr)\n",
    "                pred_categorical = keras.utils.to_categorical(pred)\n",
    "\n",
    "                if class_no >= 2:\n",
    "                    max_pred = np.argmax(pred)\n",
    "                else:\n",
    "                    max_pred = np.argmax(pred_categorical)\n",
    "\n",
    "                y_pred.append(max_pred)\n",
    "\n",
    "                pbar.set_description(\"Progress\")\n",
    "                pbar.update()\n",
    "                \n",
    "    return y_true, y_pred, labels"
   ]
  },
  {
   "cell_type": "code",
   "execution_count": 75,
   "metadata": {},
   "outputs": [
    {
     "name": "stderr",
     "output_type": "stream",
     "text": [
      "Progress:  91%|███████████████████████████▎  | 969/1062 [00:47<00:04, 20.57it/s]\n"
     ]
    }
   ],
   "source": [
    "y_true, y_pred, labels = pred_sklearn(test_directory, test_generator, class_no, best_model_address, dim)"
   ]
  },
  {
   "cell_type": "code",
   "execution_count": 76,
   "metadata": {},
   "outputs": [
    {
     "name": "stdout",
     "output_type": "stream",
     "text": [
      "Calculating CLASSIFICATION REPORT: \n",
      "              precision    recall  f1-score   support\n",
      "\n",
      "       covid       0.45      1.00      0.62       438\n",
      "     healthy       0.00      0.00      0.00       531\n",
      "\n",
      "    accuracy                           0.45       969\n",
      "   macro avg       0.23      0.50      0.31       969\n",
      "weighted avg       0.20      0.45      0.28       969\n",
      "\n",
      "\n",
      "Calculating SENSITIVITY & SPECIFICITY..........:\n",
      "sensitivity = 1.0000\n",
      "specificity = 0.0000\n"
     ]
    },
    {
     "name": "stderr",
     "output_type": "stream",
     "text": [
      "/mnt/87433d53-66f3-438e-a7f4-fc990fe61283/PROJECTS/PRODUCTS/Computer-Vision-Research/env/lib/python3.8/site-packages/sklearn/metrics/_classification.py:1245: UndefinedMetricWarning: Precision and F-score are ill-defined and being set to 0.0 in labels with no predicted samples. Use `zero_division` parameter to control this behavior.\n",
      "  _warn_prf(average, modifier, msg_start, len(result))\n",
      "/mnt/87433d53-66f3-438e-a7f4-fc990fe61283/PROJECTS/PRODUCTS/Computer-Vision-Research/env/lib/python3.8/site-packages/sklearn/metrics/_classification.py:1245: UndefinedMetricWarning: Precision and F-score are ill-defined and being set to 0.0 in labels with no predicted samples. Use `zero_division` parameter to control this behavior.\n",
      "  _warn_prf(average, modifier, msg_start, len(result))\n",
      "/mnt/87433d53-66f3-438e-a7f4-fc990fe61283/PROJECTS/PRODUCTS/Computer-Vision-Research/env/lib/python3.8/site-packages/sklearn/metrics/_classification.py:1245: UndefinedMetricWarning: Precision and F-score are ill-defined and being set to 0.0 in labels with no predicted samples. Use `zero_division` parameter to control this behavior.\n",
      "  _warn_prf(average, modifier, msg_start, len(result))\n"
     ]
    }
   ],
   "source": [
    "cm, classification_reports_sklearn, sensitivity_sklearn, specificity_sklearn = report(y_true, y_pred, labels)"
   ]
  },
  {
   "cell_type": "code",
   "execution_count": 78,
   "metadata": {},
   "outputs": [
    {
     "data": {
      "image/png": "[encoded data removed]",
      "text/plain": [
       "<Figure size 432x288 with 2 Axes>"
      ]
     },
     "metadata": {
      "needs_background": "light"
     },
     "output_type": "display_data"
    }
   ],
   "source": [
    "conf_mat(cm, labels, char, 'confusion-matrix-sklearn')"
   ]
  },
  {
   "cell_type": "markdown",
   "metadata": {},
   "source": [
    "# README"
   ]
  },
  {
   "cell_type": "code",
   "execution_count": 79,
   "metadata": {},
   "outputs": [
    {
     "name": "stdout",
     "output_type": "stream",
     "text": [
      "Please read the text file named readme.txt for detailed information of the model.\n"
     ]
    }
   ],
   "source": [
    "from contextlib import redirect_stdout\n",
    "\n",
    "readme_name_text = \"readme.txt\"\n",
    "print(f\"Please read the text file named {readme_name_text} for detailed information of the model.\")\n",
    "\n",
    "completeName_txt = os.path.join(char, readme_name_text) \n",
    "\n",
    "readme = open(completeName_txt, \"w\")\n",
    "\n",
    "if len(os.listdir(train_directory)) > 2:\n",
    "    readme.write(f\"This is a {len(os.listdir(train_directory))}-class CLASSIFICATION\")\n",
    "else:\n",
    "    readme.write(\"This is a BINARY CLASSIFICATION\")\n",
    "\n",
    "\n",
    "readme.write(\"\\n\\n--HYPERPARAMETERS--\\n\")\n",
    "readme.write(f\"\\nInitial Learning Rate = {learning_rate}\")\n",
    "readme.write(f\"\\nNo. of epochs = {len(acc)}\")\n",
    "readme.write(f\"\\nBatch Size = {batch_size}\")\n",
    "\n",
    "\n",
    "readme.write(\"\\n\\n--MODEL-PARAMETERS--\")\n",
    "# readme.write(f\"\\nDropout for feature extraction = {(int(f_dropout*100))} %\")\n",
    "# readme.write(f\"\\nDropout for dense layer = {(int(d_dropout*100))} %\")\n",
    "readme.write(f\"\\nOptimizer = {optimizer}\\n\\n\")\n",
    "\n",
    "\n",
    "readme.write(\"Trained on a Custom Prebuilt Model\\n\")\n",
    "# readme.write(f\"\\nFilter size = {size_filter}x{size_filter}\\n\\n\")\n",
    "with redirect_stdout(readme):\n",
    "    model.summary()\n",
    "        \n",
    "    \n",
    "readme.write(\"\\n\\n--MODEL-PERFORMANCE--\")\n",
    "readme.write(f\"\\nTest Accuracy = {test_accuracy} %\")\n",
    "readme.write(f\"\\nTest Precision = {test_precision} %\")\n",
    "readme.write(f\"\\nTest Recall = {test_recall} %\")\n",
    "readme.write(f\"\\nTrue Positive = {tp}\")\n",
    "readme.write(f\"\\nTrue Negetive = {tn}\")\n",
    "readme.write(f\"\\nFalse Positive = {fp}\")\n",
    "readme.write(f\"\\nFalse Negetive = {fn}\")\n",
    "readme.write(f\"\\nSensitivity_k = {sensitivity_k}\")\n",
    "readme.write(f\"\\nSpecificity_k = {specificity_k}\\n\\n\\n\")\n",
    "\n",
    "\n",
    "readme.write(\"\\n\\n--MODEL-CHARACTERISTICS--\")\n",
    "readme.write(f\"\\nacc = {acc}\")\n",
    "readme.write(f\"\\n\\nval_acc = {val_acc}\")\n",
    "readme.write(f\"\\n\\nloss = {loss}\")\n",
    "readme.write(f\"\\n\\nval_loss = {val_loss}\")\n",
    "\n",
    "\n",
    "readme.write(\"\\n\\n--Classification Report Keras--\\n\")\n",
    "readme.write(classification_reports_keras)\n",
    "readme.write(f\"\\nSensitivity = {sensitivity_keras*100} %\")\n",
    "readme.write(f\"\\nSpecificity = {specificity_keras*100} %\")\n",
    "\n",
    "readme.write(\"\\n\\n--Classification Report Scikit-learn--\\n\")\n",
    "readme.write(classification_reports_sklearn)\n",
    "readme.write(f\"\\nSensitivity = {sensitivity_sklearn*100} %\")\n",
    "readme.write(f\"\\nSpecificity = {specificity_sklearn*100} %\")\n",
    "\n",
    "\n",
    "readme.write(f\"\\nExecution Time: {duration} seconds\")\n",
    "\n",
    "readme.write(\"\\n\\nCreated using Self-Regulated Image Classifier using Convolution Neural Network\")\n",
    "\n",
    "readme.close()"
   ]
  },
  {
   "cell_type": "code",
   "execution_count": null,
   "metadata": {},
   "outputs": [],
   "source": []
  }
 ],
 "metadata": {
  "kernelspec": {
   "display_name": "Python 3 (ipykernel)",
   "language": "python",
   "name": "python3"
  },
  "language_info": {
   "codemirror_mode": {
    "name": "ipython",
    "version": 3
   },
   "file_extension": ".py",
   "mimetype": "text/x-python",
   "name": "python",
   "nbconvert_exporter": "python",
   "pygments_lexer": "ipython3",
   "version": "3.8.5"
  }
 },
 "nbformat": 4,
 "nbformat_minor": 4
}
