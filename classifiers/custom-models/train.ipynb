{
 "cells": [
  {
   "cell_type": "markdown",
   "metadata": {},
   "source": [
    "# Import Libraries"
   ]
  },
  {
   "cell_type": "code",
   "execution_count": 1,
   "metadata": {},
   "outputs": [],
   "source": [
    "import os\n",
    "os.environ['TF_CPP_MIN_LOG_LEVEL'] = '3' \n",
    "\n",
    "import cv2\n",
    "import random\n",
    "import shutil\n",
    "import time\n",
    "import matplotlib\n",
    "import glob\n",
    "import operator\n",
    "import psutil\n",
    "import numpy as np\n",
    "import math\n",
    "import matplotlib.pyplot as plt\n",
    "\n",
    "import tensorflow as tf\n",
    "from tensorflow import keras\n",
    "from tensorflow.keras.preprocessing import image\n",
    "from tensorflow.keras.preprocessing.image import ImageDataGenerator\n",
    "from tensorflow.keras.optimizers import *\n",
    "from tensorflow.keras.models import *\n",
    "from tensorflow.keras.layers import *\n",
    "from tensorflow.keras.regularizers import l2\n",
    "\n",
    "from shutil import copyfile\n",
    "import pandas as pd\n",
    "import PIL\n",
    "from mlxtend.plotting import plot_confusion_matrix\n",
    "from tqdm import tqdm "
   ]
  },
  {
   "cell_type": "markdown",
   "metadata": {},
   "source": [
    "# Setting up hardware"
   ]
  },
  {
   "cell_type": "code",
   "execution_count": 2,
   "metadata": {},
   "outputs": [
    {
     "name": "stdout",
     "output_type": "stream",
     "text": [
      "Using GPU\n"
     ]
    }
   ],
   "source": [
    "physical_devices = tf.config.experimental.list_physical_devices('GPU')\n",
    "\n",
    "if physical_devices != []:\n",
    "    print(\"Using GPU\")\n",
    "    for i in physical_devices:\n",
    "        tf.config.experimental.set_memory_growth(i, True)\n",
    "else:\n",
    "    print(\"Using CPU\")\n",
    "    pass"
   ]
  },
  {
   "cell_type": "markdown",
   "metadata": {},
   "source": [
    "# Load Dataset"
   ]
  },
  {
   "cell_type": "code",
   "execution_count": 3,
   "metadata": {},
   "outputs": [
    {
     "name": "stdout",
     "output_type": "stream",
     "text": [
      "Path where 'classify train' directory belongs: /mnt/036b1314-13ad-429f-b9f9-07467946c5d7/Datasets/Health/OCT2017\n"
     ]
    }
   ],
   "source": [
    "root_dir = str(input(\"Path where 'classify train' directory belongs: \"))\n",
    "classify_train = os.path.join(root_dir, 'classify train')\n",
    "\n",
    "train_directory = os.path.join(classify_train, 'training')\n",
    "validation_directory = os.path.join(classify_train, 'validation')\n",
    "test_directory = os.path.join(classify_train, 'testing')"
   ]
  },
  {
   "cell_type": "code",
   "execution_count": 4,
   "metadata": {},
   "outputs": [
    {
     "data": {
      "text/plain": [
       "('/mnt/036b1314-13ad-429f-b9f9-07467946c5d7/Datasets/Health/OCT2017/classify train/training',\n",
       " '/mnt/036b1314-13ad-429f-b9f9-07467946c5d7/Datasets/Health/OCT2017/classify train/validation',\n",
       " '/mnt/036b1314-13ad-429f-b9f9-07467946c5d7/Datasets/Health/OCT2017/classify train/testing')"
      ]
     },
     "execution_count": 4,
     "metadata": {},
     "output_type": "execute_result"
    }
   ],
   "source": [
    "train_directory, validation_directory, test_directory"
   ]
  },
  {
   "cell_type": "markdown",
   "metadata": {},
   "source": [
    "# Hyper-parameter setting-1"
   ]
  },
  {
   "cell_type": "code",
   "execution_count": 5,
   "metadata": {},
   "outputs": [
    {
     "name": "stdout",
     "output_type": "stream",
     "text": [
      "Enter the initial learning rate: 0.001\n",
      "Enter the maximum number of epochs: 100\n",
      "Enter batch size: 8\n",
      "Enter lambda for L2 regularization: 0\n"
     ]
    }
   ],
   "source": [
    "learning_rate = float(input(\"Enter the initial learning rate: \"))\n",
    "epoch = int(input(\"Enter the maximum number of epochs: \"))\n",
    "batch_size = int(input(\"Enter batch size: \"))\n",
    "lambd = float(input(\"Enter lambda for L2 regularization: \"))"
   ]
  },
  {
   "cell_type": "markdown",
   "metadata": {},
   "source": [
    "# Characteristics folder\n",
    "Creating a seperate folder where 'classify train' belongs to store model and results"
   ]
  },
  {
   "cell_type": "code",
   "execution_count": 6,
   "metadata": {},
   "outputs": [
    {
     "name": "stdout",
     "output_type": "stream",
     "text": [
      "Enter name of the characteristics folder: Classical1\n"
     ]
    }
   ],
   "source": [
    "char_name = str(input(\"Enter name of the characteristics folder: \"))\n",
    "\n",
    "char = os.path.join(root_dir, char_name)\n",
    "\n",
    "if not os.path.exists(char):\n",
    "    os.mkdir(char)\n",
    "else:\n",
    "    replace = str(input(\"Folder already exists ! Do you want to replace it ?(Y/N) \"))\n",
    "    if replace.upper() == 'Y':      \n",
    "        shutil.rmtree(char)\n",
    "        os.mkdir(char)\n",
    "    elif replace.upper() == 'N':\n",
    "        print('\\nThe following folders already exist:')\n",
    "        for i in os.listdir(root_dir): \n",
    "            print(i)\n",
    "        char_name = str(input(\"\\nEnter a new name of the characteristics folder: \"))\n",
    "        char = os.path.join(root_dir, char_name)\n",
    "        if not os.path.exists(char):\n",
    "            os.mkdir(char)\n",
    "        else:\n",
    "            print(f\"{char_name} replaced\")\n",
    "            shutil.rmtree(char)\n",
    "            os.mkdir(char)"
   ]
  },
  {
   "cell_type": "markdown",
   "metadata": {},
   "source": [
    "# Learning rate decay"
   ]
  },
  {
   "cell_type": "code",
   "execution_count": 7,
   "metadata": {},
   "outputs": [],
   "source": [
    "steps = 10 # change steps to 1 to apply exponential decay\n",
    "\n",
    "def lr_schedule(epoch):\n",
    "    return learning_rate * (0.1 ** int(epoch / steps))\n",
    "    \n",
    "best_model_address = os.path.join(char, 'best_model.h5')"
   ]
  },
  {
   "cell_type": "markdown",
   "metadata": {},
   "source": [
    "# Callbacks"
   ]
  },
  {
   "cell_type": "code",
   "execution_count": 8,
   "metadata": {},
   "outputs": [
    {
     "name": "stdout",
     "output_type": "stream",
     "text": [
      "Press 1 to monitor Validation Accuracy\n",
      "Press 2 to monitor Validation Loss\n",
      "Press 3 to monitor Training Accuracy\n",
      "Press 4 to monitor Training Loss\n",
      "4\n",
      "Enter number of epochs that will produce monitored quantity with no improvement after which training will be stopped: 10\n",
      "\n",
      "MONITORING TRAINING LOSS..........\n",
      "\n",
      "\n",
      "Training will stop if loss doesn't show any improvements for 10 epcohs\n",
      "\n"
     ]
    }
   ],
   "source": [
    "monitor = int(input(\"Press 1 to monitor Validation Accuracy\\nPress 2 to monitor Validation Loss\\nPress 3 to monitor Training Accuracy\\nPress 4 to monitor Training Loss\\n\"))\n",
    "patience = int(input('Enter number of epochs that will produce monitored quantity with no improvement after which training will be stopped: '))\n",
    "\n",
    "\n",
    "if monitor == 1:\n",
    "    metric = 'val_accuracy'\n",
    "    mode = 'max'\n",
    "    print(\"\\nMONITORING VALIDATION ACCURACY..........\\n\")\n",
    "\n",
    "elif monitor == 2:\n",
    "    metric = 'val_loss'\n",
    "    mode = 'min'\n",
    "    print(\"\\nMONITORING VALIDATION LOSS..........\\n\")\n",
    "\n",
    "elif monitor == 3:\n",
    "    metric = 'accuracy'\n",
    "    mode = 'max'\n",
    "    print(\"\\nMONITORING TRAINING ACCURACY..........\\n\")\n",
    "\n",
    "elif monitor == 4:\n",
    "    metric = 'loss'\n",
    "    mode = 'min'\n",
    "    print(\"\\nMONITORING TRAINING LOSS..........\\n\")\n",
    "\n",
    "callback = [keras.callbacks.LearningRateScheduler(lr_schedule, verbose = 1),\n",
    "            keras.callbacks.EarlyStopping(monitor = metric, min_delta = 0.001, patience = patience, verbose=1, mode = mode, restore_best_weights = True),\n",
    "            keras.callbacks.ModelCheckpoint(best_model_address, monitor = metric, verbose=1, save_best_only=True, save_weights_only=False, mode = mode)]\n",
    "\n",
    "print(f\"\\nTraining will stop if {metric} doesn't show any improvements for {patience} epcohs\\n\")"
   ]
  },
  {
   "cell_type": "markdown",
   "metadata": {},
   "source": [
    "# Model Architecture"
   ]
  },
  {
   "cell_type": "code",
   "execution_count": 9,
   "metadata": {},
   "outputs": [],
   "source": [
    "def MobileNet():\n",
    "    print(\"\\nTRAINING ON Custom MobileNet MODEL:-\")\n",
    "\n",
    "    def block(x, n_filters, d_strides):\n",
    "        \n",
    "        \"\"\"\n",
    "        x = previous tensor\n",
    "        n_filters = number of filters in each 2-D convolution layer\n",
    "        d_strides = stride in depthwise convolution layer\n",
    "        \"\"\"\n",
    "        \n",
    "        # depthwise\n",
    "        x = DepthwiseConv2D(kernel_size = (3,3), strides = d_strides, padding = 'same')(x)\n",
    "        x = BatchNormalization()(x)\n",
    "        x = LeakyReLU()(x)\n",
    "    \n",
    "        # pointwise\n",
    "        x = Conv2D(filters = n_filters, kernel_size = (1,1))(x)\n",
    "        x = BatchNormalization()(x)\n",
    "        x = LeakyReLU()(x)\n",
    "        \n",
    "        # max-pool\n",
    "        x = MaxPooling2D(pool_size = (2,2), strides = 2, padding = 'same')(x)\n",
    "        \n",
    "        # dropout\n",
    "#         x = Dropout(0.2)(x)\n",
    "        return x\n",
    "    \n",
    "    # input-layer\n",
    "    input = Input(shape = dim)\n",
    "    \n",
    "    x = Conv2D(filters = 16, kernel_size = (3,3), strides = 2, padding = 'same')(input)\n",
    "    x = BatchNormalization()(x)\n",
    "    x = LeakyReLU()(x)\n",
    "    \n",
    "    # 1st\n",
    "    x = block(x, n_filters = 32, d_strides = 1)\n",
    "#   x = block(x, n_filters = 128, d_strides = 2)\n",
    "    x = MaxPooling2D(pool_size = (2,2), strides = 2, padding = 'same')(x)\n",
    "#     x = Dropout(0.2)(x)\n",
    "\n",
    "    # 2nd\n",
    "    x = block(x, n_filters = 64, d_strides = 1)    \n",
    "#   x = block(x, n_filters = 256, d_strides = 2)\n",
    "    x = MaxPooling2D(pool_size = (2,2), strides = 2, padding = 'same')(x)\n",
    "#     x = Dropout(0.2)(x)\n",
    "\n",
    "    \n",
    "    #3rd\n",
    "    x = block(x, n_filters = 128, d_strides = 1)    \n",
    "#   x = block(x, n_filters = 512, d_strides = 2)\n",
    "    x = MaxPooling2D(pool_size = (2,2), strides = 2, padding = 'same')(x)\n",
    "    x = Dropout(0.2)(x)\n",
    "\n",
    "    \n",
    "    #4th\n",
    "    for i in range(1):\n",
    "        x = block(x, n_filters = 256, d_strides = 1)\n",
    "#   x = block(x, n_filters = 1024, d_strides = 2)\n",
    "    x = MaxPooling2D(pool_size = (2,2), strides = 2, padding = 'same')(x)\n",
    "    x = Dropout(0.3)(x)\n",
    "\n",
    "    x = block(x, n_filters = 512, d_strides = 1)\n",
    "    \n",
    "    # 3D -> 1D\n",
    "    x = GlobalAveragePooling2D()(x)\n",
    "#     x = Dropout(0.2)(x)\n",
    "    \n",
    "    # output-layer\n",
    "    output = Dense(output_neurons, output_activation)(x)  \n",
    "    \n",
    "    # MODEL\n",
    "    model = Model(inputs = input, outputs = output)\n",
    "    \n",
    "    return model"
   ]
  },
  {
   "cell_type": "code",
   "execution_count": 10,
   "metadata": {},
   "outputs": [],
   "source": [
    "def Classical_Model():\n",
    "    no_layers = int(input('Conv2d with activation + Max-pool + Dropout for feature extraction = 1 feature extraction layer \\nHow many of such feature extraction layers you want to use ? '))    \n",
    "    no_conv = int(input('How many conv2d layers you want to use in each feature extraction layer ? '))\n",
    "    no_filters = int(input('Put no. of filters in 1st conv2d layer: '))\n",
    "    size_filter = int(input('Enter size of filter (width or height): '))\n",
    "    f_dropout = int(input('Enter dropout rate for feature extraction: '))/100\n",
    "    \n",
    "    no_d_layers = int(input('Dense with activation + Dropout for desnse layer = 1 dense layer \\nHow many of such dense layers you want to use ? '))\n",
    "    d_neurons = int(input('Enter no.of neurons you want to use in 1st dense layer: '))\n",
    "    d_dropout = int(input('Enter dropout rate for dense layer: '))/100\n",
    "            \n",
    "    \n",
    "    model = Sequential(name = 'CUSTOM')\n",
    "    \n",
    "    \n",
    "    # feature extraction\n",
    "    m, n = 0, 0 # m = increamental factor of no. of filters, # n = total no. of filters in convolution layer\n",
    "    for l in range(no_layers):\n",
    "        m = 2**l  \n",
    "        n = no_filters*m \n",
    "        for i in range(no_conv):\n",
    "            model.add(Conv2D(n, \n",
    "                             (size_filter,size_filter), \n",
    "                             kernel_regularizer=l2(lambd), \n",
    "                             bias_regularizer=l2(lambd),\n",
    "                             padding = 'same', \n",
    "                             input_shape = dim))\n",
    "            model.add(LeakyReLU())\n",
    "        model.add(MaxPooling2D(2, 2))\n",
    "        model.add(Dropout(f_dropout))\n",
    "    \n",
    "    \n",
    "    # flatten\n",
    "    model.add(Flatten())\n",
    "    \n",
    "    \n",
    "    # dense layer\n",
    "    m, n = 0, 0\n",
    "    for d in range(no_d_layers):\n",
    "        m = 2**d\n",
    "        n = d_neurons//m\n",
    "        model.add(Dense(n, kernel_regularizer=l2(lambd), bias_regularizer=l2(lambd)))\n",
    "        model.add(LeakyReLU())\n",
    "        model.add(Dropout(d_dropout))\n",
    "    model.add(Dense(output_neurons, output_activation))\n",
    "\n",
    "    \n",
    "    return model"
   ]
  },
  {
   "cell_type": "code",
   "execution_count": 11,
   "metadata": {},
   "outputs": [
    {
     "name": "stdout",
     "output_type": "stream",
     "text": [
      "This is a 4-Class Classification\n"
     ]
    }
   ],
   "source": [
    "class_no = len(os.listdir(train_directory))\n",
    "\n",
    "print(\"This is a \" + str(class_no) + \"-Class Classification\")\n",
    "\n",
    "if class_no <= 2:\n",
    "    class_mode = 'binary'\n",
    "    output_activation = 'sigmoid'\n",
    "    output_neurons = 1\n",
    "    losses = 'binary_crossentropy'\n",
    "\n",
    "else:\n",
    "    class_mode = 'categorical'\n",
    "    output_activation = 'softmax'\n",
    "    output_neurons = class_no\n",
    "    losses = 'categorical_crossentropy'"
   ]
  },
  {
   "cell_type": "code",
   "execution_count": 12,
   "metadata": {},
   "outputs": [],
   "source": [
    "def optimizer_selection():\n",
    "    print(\"\\nSelect a optimizer which will reduce the loss of the model.\\n\")\n",
    "\n",
    "    optimizer_select = int(input(\"Press 1 to select Stochastic Gradient Descent\\nPress 2 to select RMSprop\\nPress 3 to select Adagrad\\nPress 4 to select Adadelta\\nPress 5 to select Adam\\nPress 6 to select Adamax\\nPress 7 to select Nadam\\n\"))\n",
    "\n",
    "    if optimizer_select == 1:\n",
    "        optimizer = SGD(lr = learning_rate, decay = 1e-6, momentum = 0.9, nesterov = True)\n",
    "\n",
    "    elif optimizer_select == 2:\n",
    "        optimizer = RMSprop(learning_rate, rho = 0.9)\n",
    "\n",
    "    elif optimizer_select == 3:\n",
    "        optimizer = Adagrad(learning_rate)\n",
    "\n",
    "    elif optimizer_select == 4:\n",
    "        optimizer = Adadelta(learning_rate, rho = 0.95)\n",
    "\n",
    "    elif optimizer_select == 5:\n",
    "        optimizer = Adam(learning_rate = learning_rate, beta_1 = 0.9, beta_2 = 0.999, amsgrad = False)\n",
    "\n",
    "    elif optimizer_select == 6:\n",
    "        optimizer = Adamax(learning_rate = learning_rate, beta_1 = 0.9, beta_2 = 0.999)\n",
    "\n",
    "    elif optimizer_select == 7:\n",
    "        optimizer = Nadam(learning_rate = learning_rate, beta_1 = 0.9, beta_2 = 0.999)\n",
    "   \n",
    "    return optimizer"
   ]
  },
  {
   "cell_type": "code",
   "execution_count": 13,
   "metadata": {},
   "outputs": [
    {
     "name": "stdout",
     "output_type": "stream",
     "text": [
      "Image Dimension(H or W): 128\n",
      "Press 1 for RGB \n",
      "Press 2 for Grayscale 1\n"
     ]
    }
   ],
   "source": [
    "h = int(input(\"Image Dimension(H or W): \"))\n",
    "w = h\n",
    "color = int(input(\"Press 1 for RGB \\nPress 2 for Grayscale \"))\n",
    "if color == 1:\n",
    "    color_mode = 'rgb'\n",
    "    dim = (h,w,3)\n",
    "elif color == 2:\n",
    "    color_mode = 'grayscale'\n",
    "    dim = (h,w,1)"
   ]
  },
  {
   "cell_type": "code",
   "execution_count": 14,
   "metadata": {},
   "outputs": [
    {
     "name": "stdout",
     "output_type": "stream",
     "text": [
      "Found 59120 images belonging to 4 classes.\n",
      "Found 12666 images belonging to 4 classes.\n",
      "Found 12666 images belonging to 4 classes.\n"
     ]
    }
   ],
   "source": [
    "train_datagen = ImageDataGenerator(rescale=1.0/255.)\n",
    "train_generator = train_datagen.flow_from_directory(train_directory,\n",
    "                                                    batch_size = batch_size,\n",
    "                                                    class_mode = class_mode,\n",
    "                                                    color_mode = color_mode,\n",
    "                                                    target_size = (h,w),\n",
    "                                                    shuffle=True)\n",
    "\n",
    "validation_datagen = ImageDataGenerator(rescale=1.0/255.)\n",
    "validation_generator = validation_datagen.flow_from_directory(validation_directory,\n",
    "                                                              batch_size = batch_size,\n",
    "                                                              class_mode = class_mode,\n",
    "                                                              color_mode = color_mode,\n",
    "                                                              target_size = (h,w),\n",
    "                                                              shuffle=True)\n",
    "\n",
    "test_datagen = ImageDataGenerator(rescale=1.0/255.)\n",
    "test_generator = test_datagen.flow_from_directory(test_directory,\n",
    "                                                  batch_size = batch_size,\n",
    "                                                  class_mode = class_mode,\n",
    "                                                  color_mode = color_mode,\n",
    "                                                  target_size = (h,w),\n",
    "                                                  shuffle=True)"
   ]
  },
  {
   "cell_type": "code",
   "execution_count": 15,
   "metadata": {},
   "outputs": [
    {
     "name": "stdout",
     "output_type": "stream",
     "text": [
      "\n",
      "Select a optimizer which will reduce the loss of the model.\n",
      "\n",
      "Press 1 to select Stochastic Gradient Descent\n",
      "Press 2 to select RMSprop\n",
      "Press 3 to select Adagrad\n",
      "Press 4 to select Adadelta\n",
      "Press 5 to select Adam\n",
      "Press 6 to select Adamax\n",
      "Press 7 to select Nadam\n",
      "5\n"
     ]
    }
   ],
   "source": [
    "optimizer = optimizer_selection()"
   ]
  },
  {
   "cell_type": "code",
   "execution_count": 16,
   "metadata": {
    "scrolled": true
   },
   "outputs": [
    {
     "name": "stdout",
     "output_type": "stream",
     "text": [
      "Conv2d with activation + Max-pool + Dropout for feature extraction = 1 feature extraction layer \n",
      "How many of such feature extraction layers you want to use ? 5\n",
      "How many conv2d layers you want to use in each feature extraction layer ? 1\n",
      "Put no. of filters in 1st conv2d layer: 8\n",
      "Enter size of filter (width or height): 3\n",
      "Enter dropout rate for feature extraction: 10\n",
      "Dense with activation + Dropout for desnse layer = 1 dense layer \n",
      "How many of such dense layers you want to use ? 1\n",
      "Enter no.of neurons you want to use in 1st dense layer: 128\n",
      "Enter dropout rate for dense layer: 30\n",
      "Model: \"CUSTOM\"\n",
      "_________________________________________________________________\n",
      "Layer (type)                 Output Shape              Param #   \n",
      "=================================================================\n",
      "conv2d (Conv2D)              (None, 128, 128, 8)       224       \n",
      "_________________________________________________________________\n",
      "leaky_re_lu (LeakyReLU)      (None, 128, 128, 8)       0         \n",
      "_________________________________________________________________\n",
      "max_pooling2d (MaxPooling2D) (None, 64, 64, 8)         0         \n",
      "_________________________________________________________________\n",
      "dropout (Dropout)            (None, 64, 64, 8)         0         \n",
      "_________________________________________________________________\n",
      "conv2d_1 (Conv2D)            (None, 64, 64, 16)        1168      \n",
      "_________________________________________________________________\n",
      "leaky_re_lu_1 (LeakyReLU)    (None, 64, 64, 16)        0         \n",
      "_________________________________________________________________\n",
      "max_pooling2d_1 (MaxPooling2 (None, 32, 32, 16)        0         \n",
      "_________________________________________________________________\n",
      "dropout_1 (Dropout)          (None, 32, 32, 16)        0         \n",
      "_________________________________________________________________\n",
      "conv2d_2 (Conv2D)            (None, 32, 32, 32)        4640      \n",
      "_________________________________________________________________\n",
      "leaky_re_lu_2 (LeakyReLU)    (None, 32, 32, 32)        0         \n",
      "_________________________________________________________________\n",
      "max_pooling2d_2 (MaxPooling2 (None, 16, 16, 32)        0         \n",
      "_________________________________________________________________\n",
      "dropout_2 (Dropout)          (None, 16, 16, 32)        0         \n",
      "_________________________________________________________________\n",
      "conv2d_3 (Conv2D)            (None, 16, 16, 64)        18496     \n",
      "_________________________________________________________________\n",
      "leaky_re_lu_3 (LeakyReLU)    (None, 16, 16, 64)        0         \n",
      "_________________________________________________________________\n",
      "max_pooling2d_3 (MaxPooling2 (None, 8, 8, 64)          0         \n",
      "_________________________________________________________________\n",
      "dropout_3 (Dropout)          (None, 8, 8, 64)          0         \n",
      "_________________________________________________________________\n",
      "conv2d_4 (Conv2D)            (None, 8, 8, 128)         73856     \n",
      "_________________________________________________________________\n",
      "leaky_re_lu_4 (LeakyReLU)    (None, 8, 8, 128)         0         \n",
      "_________________________________________________________________\n",
      "max_pooling2d_4 (MaxPooling2 (None, 4, 4, 128)         0         \n",
      "_________________________________________________________________\n",
      "dropout_4 (Dropout)          (None, 4, 4, 128)         0         \n",
      "_________________________________________________________________\n",
      "flatten (Flatten)            (None, 2048)              0         \n",
      "_________________________________________________________________\n",
      "dense (Dense)                (None, 128)               262272    \n",
      "_________________________________________________________________\n",
      "leaky_re_lu_5 (LeakyReLU)    (None, 128)               0         \n",
      "_________________________________________________________________\n",
      "dropout_5 (Dropout)          (None, 128)               0         \n",
      "_________________________________________________________________\n",
      "dense_1 (Dense)              (None, 4)                 516       \n",
      "=================================================================\n",
      "Total params: 361,172\n",
      "Trainable params: 361,172\n",
      "Non-trainable params: 0\n",
      "_________________________________________________________________\n"
     ]
    }
   ],
   "source": [
    "model = Classical_Model()\n",
    "model.compile(optimizer = optimizer, loss = losses, metrics = ['accuracy', \n",
    "                                                               tf.keras.metrics.Precision(), \n",
    "                                                               tf.keras.metrics.Recall(), \n",
    "                                                               tf.keras.metrics.TruePositives(), \n",
    "                                                               tf.keras.metrics.TrueNegatives(), \n",
    "                                                               tf.keras.metrics.FalsePositives(),\n",
    "                                                               tf.keras.metrics.FalseNegatives()])\n",
    "\n",
    "\n",
    "model.summary()"
   ]
  },
  {
   "cell_type": "code",
   "execution_count": 17,
   "metadata": {},
   "outputs": [
    {
     "name": "stdout",
     "output_type": "stream",
     "text": [
      "Epoch 1/100\n",
      "\n",
      "Epoch 00001: LearningRateScheduler reducing learning rate to 0.001.\n",
      "7390/7390 [==============================] - 84s 11ms/step - loss: 0.7307 - accuracy: 0.7156 - precision: 0.7975 - recall: 0.6029 - true_positives: 20253.4474 - true_negatives: 84699.3077 - false_positives: 4004.6891 - false_negatives: 9314.5515 - val_loss: 0.3148 - val_accuracy: 0.8940 - val_precision: 0.9041 - val_recall: 0.8827 - val_true_positives: 11180.0000 - val_true_negatives: 36812.0000 - val_false_positives: 1186.0000 - val_false_negatives: 1486.0000\n",
      "\n",
      "Epoch 00001: loss improved from inf to 0.54047, saving model to /mnt/036b1314-13ad-429f-b9f9-07467946c5d7/Datasets/Health/OCT2017/Classical1/best_model.h5\n",
      "Epoch 2/100\n",
      "\n",
      "Epoch 00002: LearningRateScheduler reducing learning rate to 0.001.\n",
      "7390/7390 [==============================] - 80s 11ms/step - loss: 0.3446 - accuracy: 0.8805 - precision: 0.8923 - recall: 0.8675 - true_positives: 25695.0129 - true_negatives: 85641.1874 - false_positives: 3062.8094 - false_negatives: 3872.9861 - val_loss: 0.2454 - val_accuracy: 0.9144 - val_precision: 0.9222 - val_recall: 0.9069 - val_true_positives: 11487.0000 - val_true_negatives: 37029.0000 - val_false_positives: 969.0000 - val_false_negatives: 1179.0000\n",
      "\n",
      "Epoch 00002: loss improved from 0.54047 to 0.33600, saving model to /mnt/036b1314-13ad-429f-b9f9-07467946c5d7/Datasets/Health/OCT2017/Classical1/best_model.h5\n",
      "Epoch 3/100\n",
      "\n",
      "Epoch 00003: LearningRateScheduler reducing learning rate to 0.001.\n",
      "7390/7390 [==============================] - 80s 11ms/step - loss: 0.2921 - accuracy: 0.8997 - precision: 0.9087 - recall: 0.8897 - true_positives: 26271.7101 - true_negatives: 86024.4142 - false_positives: 2679.5826 - false_negatives: 3296.2889 - val_loss: 0.2420 - val_accuracy: 0.9177 - val_precision: 0.9267 - val_recall: 0.9093 - val_true_positives: 11517.0000 - val_true_negatives: 37087.0000 - val_false_positives: 911.0000 - val_false_negatives: 1149.0000\n",
      "\n",
      "Epoch 00003: loss improved from 0.33600 to 0.29983, saving model to /mnt/036b1314-13ad-429f-b9f9-07467946c5d7/Datasets/Health/OCT2017/Classical1/best_model.h5\n",
      "Epoch 4/100\n",
      "\n",
      "Epoch 00004: LearningRateScheduler reducing learning rate to 0.001.\n",
      "7390/7390 [==============================] - 82s 11ms/step - loss: 0.2765 - accuracy: 0.9055 - precision: 0.9136 - recall: 0.8961 - true_positives: 26433.6837 - true_negatives: 86156.4259 - false_positives: 2547.5708 - false_negatives: 3134.3152 - val_loss: 0.2359 - val_accuracy: 0.9169 - val_precision: 0.9220 - val_recall: 0.9113 - val_true_positives: 11542.0000 - val_true_negatives: 37021.0000 - val_false_positives: 977.0000 - val_false_negatives: 1124.0000\n",
      "\n",
      "Epoch 00004: loss improved from 0.29983 to 0.28311, saving model to /mnt/036b1314-13ad-429f-b9f9-07467946c5d7/Datasets/Health/OCT2017/Classical1/best_model.h5\n",
      "Epoch 5/100\n",
      "\n",
      "Epoch 00005: LearningRateScheduler reducing learning rate to 0.001.\n",
      "7390/7390 [==============================] - 82s 11ms/step - loss: 0.2646 - accuracy: 0.9071 - precision: 0.9149 - recall: 0.9000 - true_positives: 26612.2496 - true_negatives: 86237.4358 - false_positives: 2466.5610 - false_negatives: 2955.7493 - val_loss: 0.2331 - val_accuracy: 0.9220 - val_precision: 0.9285 - val_recall: 0.9128 - val_true_positives: 11562.0000 - val_true_negatives: 37107.0000 - val_false_positives: 891.0000 - val_false_negatives: 1104.0000\n",
      "\n",
      "Epoch 00005: loss improved from 0.28311 to 0.27106, saving model to /mnt/036b1314-13ad-429f-b9f9-07467946c5d7/Datasets/Health/OCT2017/Classical1/best_model.h5\n",
      "Epoch 6/100\n",
      "\n",
      "Epoch 00006: LearningRateScheduler reducing learning rate to 0.001.\n",
      "7390/7390 [==============================] - 83s 11ms/step - loss: 0.2545 - accuracy: 0.9131 - precision: 0.9208 - recall: 0.9052 - true_positives: 26747.9133 - true_negatives: 86367.3483 - false_positives: 2336.6485 - false_negatives: 2820.0856 - val_loss: 0.2588 - val_accuracy: 0.9139 - val_precision: 0.9189 - val_recall: 0.9092 - val_true_positives: 11516.0000 - val_true_negatives: 36981.0000 - val_false_positives: 1017.0000 - val_false_negatives: 1150.0000\n",
      "\n",
      "Epoch 00006: loss improved from 0.27106 to 0.26149, saving model to /mnt/036b1314-13ad-429f-b9f9-07467946c5d7/Datasets/Health/OCT2017/Classical1/best_model.h5\n",
      "Epoch 7/100\n",
      "\n",
      "Epoch 00007: LearningRateScheduler reducing learning rate to 0.001.\n",
      "7390/7390 [==============================] - 82s 11ms/step - loss: 0.2545 - accuracy: 0.9125 - precision: 0.9203 - recall: 0.9061 - true_positives: 26808.8771 - true_negatives: 86403.0686 - false_positives: 2300.9282 - false_negatives: 2759.1218 - val_loss: 0.2396 - val_accuracy: 0.9193 - val_precision: 0.9235 - val_recall: 0.9162 - val_true_positives: 11604.0000 - val_true_negatives: 37037.0000 - val_false_positives: 961.0000 - val_false_negatives: 1062.0000\n",
      "\n",
      "Epoch 00007: loss improved from 0.26149 to 0.25654, saving model to /mnt/036b1314-13ad-429f-b9f9-07467946c5d7/Datasets/Health/OCT2017/Classical1/best_model.h5\n",
      "Epoch 8/100\n",
      "\n",
      "Epoch 00008: LearningRateScheduler reducing learning rate to 0.001.\n",
      "7390/7390 [==============================] - 82s 11ms/step - loss: 0.2504 - accuracy: 0.9144 - precision: 0.9212 - recall: 0.9080 - true_positives: 26840.1848 - true_negatives: 86410.6883 - false_positives: 2293.3085 - false_negatives: 2727.8141 - val_loss: 0.2125 - val_accuracy: 0.9316 - val_precision: 0.9348 - val_recall: 0.9282 - val_true_positives: 11756.0000 - val_true_negatives: 37178.0000 - val_false_positives: 820.0000 - val_false_negatives: 910.0000\n",
      "\n",
      "Epoch 00008: loss improved from 0.25654 to 0.25194, saving model to /mnt/036b1314-13ad-429f-b9f9-07467946c5d7/Datasets/Health/OCT2017/Classical1/best_model.h5\n",
      "Epoch 9/100\n",
      "\n",
      "Epoch 00009: LearningRateScheduler reducing learning rate to 0.001.\n",
      "7390/7390 [==============================] - 82s 11ms/step - loss: 0.2439 - accuracy: 0.9171 - precision: 0.9235 - recall: 0.9105 - true_positives: 26896.7600 - true_negatives: 86451.0302 - false_positives: 2252.9666 - false_negatives: 2671.2389 - val_loss: 0.2557 - val_accuracy: 0.9139 - val_precision: 0.9184 - val_recall: 0.9098 - val_true_positives: 11523.0000 - val_true_negatives: 36974.0000 - val_false_positives: 1024.0000 - val_false_negatives: 1143.0000\n",
      "\n",
      "Epoch 00009: loss improved from 0.25194 to 0.24937, saving model to /mnt/036b1314-13ad-429f-b9f9-07467946c5d7/Datasets/Health/OCT2017/Classical1/best_model.h5\n",
      "Epoch 10/100\n",
      "\n",
      "Epoch 00010: LearningRateScheduler reducing learning rate to 0.001.\n",
      "7390/7390 [==============================] - 83s 11ms/step - loss: 0.2431 - accuracy: 0.9183 - precision: 0.9255 - recall: 0.9116 - true_positives: 26940.9932 - true_negatives: 86508.8761 - false_positives: 2195.1207 - false_negatives: 2627.0057 - val_loss: 0.2084 - val_accuracy: 0.9338 - val_precision: 0.9362 - val_recall: 0.9318 - val_true_positives: 11802.0000 - val_true_negatives: 37194.0000 - val_false_positives: 804.0000 - val_false_negatives: 864.0000\n",
      "\n",
      "Epoch 00010: loss improved from 0.24937 to 0.24674, saving model to /mnt/036b1314-13ad-429f-b9f9-07467946c5d7/Datasets/Health/OCT2017/Classical1/best_model.h5\n",
      "Epoch 11/100\n",
      "\n",
      "Epoch 00011: LearningRateScheduler reducing learning rate to 0.0001.\n",
      "7390/7390 [==============================] - 83s 11ms/step - loss: 0.1677 - accuracy: 0.9406 - precision: 0.9449 - recall: 0.9371 - true_positives: 27764.0882 - true_negatives: 87134.3277 - false_positives: 1569.6691 - false_negatives: 1803.9107 - val_loss: 0.1765 - val_accuracy: 0.9419 - val_precision: 0.9440 - val_recall: 0.9405 - val_true_positives: 11912.0000 - val_true_negatives: 37291.0000 - val_false_positives: 707.0000 - val_false_negatives: 754.0000\n",
      "\n",
      "Epoch 00011: loss improved from 0.24674 to 0.15834, saving model to /mnt/036b1314-13ad-429f-b9f9-07467946c5d7/Datasets/Health/OCT2017/Classical1/best_model.h5\n",
      "Epoch 12/100\n",
      "\n",
      "Epoch 00012: LearningRateScheduler reducing learning rate to 0.0001.\n",
      "7390/7390 [==============================] - 83s 11ms/step - loss: 0.1410 - accuracy: 0.9505 - precision: 0.9534 - recall: 0.9477 - true_positives: 28015.7436 - true_negatives: 87326.7260 - false_positives: 1377.2707 - false_negatives: 1552.2553 - val_loss: 0.1667 - val_accuracy: 0.9453 - val_precision: 0.9466 - val_recall: 0.9439 - val_true_positives: 11955.0000 - val_true_negatives: 37323.0000 - val_false_positives: 675.0000 - val_false_negatives: 711.0000\n"
     ]
    },
    {
     "name": "stdout",
     "output_type": "stream",
     "text": [
      "\n",
      "Epoch 00012: loss improved from 0.15834 to 0.14248, saving model to /mnt/036b1314-13ad-429f-b9f9-07467946c5d7/Datasets/Health/OCT2017/Classical1/best_model.h5\n",
      "Epoch 13/100\n",
      "\n",
      "Epoch 00013: LearningRateScheduler reducing learning rate to 0.0001.\n",
      "7390/7390 [==============================] - 81s 11ms/step - loss: 0.1346 - accuracy: 0.9525 - precision: 0.9550 - recall: 0.9497 - true_positives: 28098.6888 - true_negatives: 87396.4098 - false_positives: 1307.5869 - false_negatives: 1469.3101 - val_loss: 0.1696 - val_accuracy: 0.9452 - val_precision: 0.9471 - val_recall: 0.9433 - val_true_positives: 11948.0000 - val_true_negatives: 37330.0000 - val_false_positives: 668.0000 - val_false_negatives: 718.0000\n",
      "\n",
      "Epoch 00013: loss improved from 0.14248 to 0.13149, saving model to /mnt/036b1314-13ad-429f-b9f9-07467946c5d7/Datasets/Health/OCT2017/Classical1/best_model.h5\n",
      "Epoch 14/100\n",
      "\n",
      "Epoch 00014: LearningRateScheduler reducing learning rate to 0.0001.\n",
      "7390/7390 [==============================] - 80s 11ms/step - loss: 0.1243 - accuracy: 0.9559 - precision: 0.9584 - recall: 0.9533 - true_positives: 28183.9083 - true_negatives: 87470.5189 - false_positives: 1233.4779 - false_negatives: 1384.0907 - val_loss: 0.1634 - val_accuracy: 0.9477 - val_precision: 0.9495 - val_recall: 0.9462 - val_true_positives: 11984.0000 - val_true_negatives: 37360.0000 - val_false_positives: 638.0000 - val_false_negatives: 682.0000\n",
      "\n",
      "Epoch 00014: loss improved from 0.13149 to 0.12655, saving model to /mnt/036b1314-13ad-429f-b9f9-07467946c5d7/Datasets/Health/OCT2017/Classical1/best_model.h5\n",
      "Epoch 15/100\n",
      "\n",
      "Epoch 00015: LearningRateScheduler reducing learning rate to 0.0001.\n",
      "7390/7390 [==============================] - 80s 11ms/step - loss: 0.1227 - accuracy: 0.9570 - precision: 0.9592 - recall: 0.9549 - true_positives: 28224.5104 - true_negatives: 87496.0825 - false_positives: 1207.9142 - false_negatives: 1343.4886 - val_loss: 0.1745 - val_accuracy: 0.9449 - val_precision: 0.9464 - val_recall: 0.9439 - val_true_positives: 11956.0000 - val_true_negatives: 37321.0000 - val_false_positives: 677.0000 - val_false_negatives: 710.0000\n",
      "\n",
      "Epoch 00015: loss improved from 0.12655 to 0.12381, saving model to /mnt/036b1314-13ad-429f-b9f9-07467946c5d7/Datasets/Health/OCT2017/Classical1/best_model.h5\n",
      "Epoch 16/100\n",
      "\n",
      "Epoch 00016: LearningRateScheduler reducing learning rate to 0.0001.\n",
      "7390/7390 [==============================] - 80s 11ms/step - loss: 0.1178 - accuracy: 0.9586 - precision: 0.9609 - recall: 0.9566 - true_positives: 28277.4597 - true_negatives: 87539.7013 - false_positives: 1164.2955 - false_negatives: 1290.5392 - val_loss: 0.1651 - val_accuracy: 0.9466 - val_precision: 0.9481 - val_recall: 0.9454 - val_true_positives: 11975.0000 - val_true_negatives: 37342.0000 - val_false_positives: 656.0000 - val_false_negatives: 691.0000\n",
      "\n",
      "Epoch 00016: loss improved from 0.12381 to 0.11867, saving model to /mnt/036b1314-13ad-429f-b9f9-07467946c5d7/Datasets/Health/OCT2017/Classical1/best_model.h5\n",
      "Epoch 17/100\n",
      "\n",
      "Epoch 00017: LearningRateScheduler reducing learning rate to 0.0001.\n",
      "7390/7390 [==============================] - 80s 11ms/step - loss: 0.1102 - accuracy: 0.9604 - precision: 0.9624 - recall: 0.9590 - true_positives: 28338.3687 - true_negatives: 87584.1905 - false_positives: 1119.8063 - false_negatives: 1229.6302 - val_loss: 0.1756 - val_accuracy: 0.9449 - val_precision: 0.9460 - val_recall: 0.9443 - val_true_positives: 11960.0000 - val_true_negatives: 37315.0000 - val_false_positives: 683.0000 - val_false_negatives: 706.0000\n",
      "\n",
      "Epoch 00017: loss improved from 0.11867 to 0.11361, saving model to /mnt/036b1314-13ad-429f-b9f9-07467946c5d7/Datasets/Health/OCT2017/Classical1/best_model.h5\n",
      "Epoch 18/100\n",
      "\n",
      "Epoch 00018: LearningRateScheduler reducing learning rate to 0.0001.\n",
      "7390/7390 [==============================] - 80s 11ms/step - loss: 0.1104 - accuracy: 0.9615 - precision: 0.9634 - recall: 0.9599 - true_positives: 28370.2614 - true_negatives: 87618.3138 - false_positives: 1085.6830 - false_negatives: 1197.7375 - val_loss: 0.1728 - val_accuracy: 0.9485 - val_precision: 0.9497 - val_recall: 0.9475 - val_true_positives: 12001.0000 - val_true_negatives: 37363.0000 - val_false_positives: 635.0000 - val_false_negatives: 665.0000\n",
      "\n",
      "Epoch 00018: loss improved from 0.11361 to 0.11028, saving model to /mnt/036b1314-13ad-429f-b9f9-07467946c5d7/Datasets/Health/OCT2017/Classical1/best_model.h5\n",
      "Epoch 19/100\n",
      "\n",
      "Epoch 00019: LearningRateScheduler reducing learning rate to 0.0001.\n",
      "7390/7390 [==============================] - 80s 11ms/step - loss: 0.1084 - accuracy: 0.9616 - precision: 0.9632 - recall: 0.9600 - true_positives: 28392.3630 - true_negatives: 87630.3504 - false_positives: 1073.6463 - false_negatives: 1175.6359 - val_loss: 0.1657 - val_accuracy: 0.9484 - val_precision: 0.9495 - val_recall: 0.9477 - val_true_positives: 12003.0000 - val_true_negatives: 37359.0000 - val_false_positives: 639.0000 - val_false_negatives: 663.0000\n",
      "\n",
      "Epoch 00019: loss improved from 0.11028 to 0.10650, saving model to /mnt/036b1314-13ad-429f-b9f9-07467946c5d7/Datasets/Health/OCT2017/Classical1/best_model.h5\n",
      "Epoch 20/100\n",
      "\n",
      "Epoch 00020: LearningRateScheduler reducing learning rate to 0.0001.\n",
      "7390/7390 [==============================] - 81s 11ms/step - loss: 0.1041 - accuracy: 0.9626 - precision: 0.9639 - recall: 0.9608 - true_positives: 28404.5554 - true_negatives: 87638.1323 - false_positives: 1065.8644 - false_negatives: 1163.4435 - val_loss: 0.1672 - val_accuracy: 0.9492 - val_precision: 0.9503 - val_recall: 0.9484 - val_true_positives: 12012.0000 - val_true_negatives: 37370.0000 - val_false_positives: 628.0000 - val_false_negatives: 654.0000\n",
      "\n",
      "Epoch 00020: loss improved from 0.10650 to 0.10644, saving model to /mnt/036b1314-13ad-429f-b9f9-07467946c5d7/Datasets/Health/OCT2017/Classical1/best_model.h5\n",
      "Epoch 21/100\n",
      "\n",
      "Epoch 00021: LearningRateScheduler reducing learning rate to 1.0000000000000003e-05.\n",
      "7390/7390 [==============================] - 82s 11ms/step - loss: 0.0983 - accuracy: 0.9653 - precision: 0.9672 - recall: 0.9640 - true_positives: 28499.0802 - true_negatives: 87733.0276 - false_positives: 970.9692 - false_negatives: 1068.9187 - val_loss: 0.1650 - val_accuracy: 0.9493 - val_precision: 0.9499 - val_recall: 0.9484 - val_true_positives: 12013.0000 - val_true_negatives: 37365.0000 - val_false_positives: 633.0000 - val_false_negatives: 653.0000\n",
      "\n",
      "Epoch 00021: loss improved from 0.10644 to 0.09743, saving model to /mnt/036b1314-13ad-429f-b9f9-07467946c5d7/Datasets/Health/OCT2017/Classical1/best_model.h5\n",
      "Epoch 22/100\n",
      "\n",
      "Epoch 00022: LearningRateScheduler reducing learning rate to 1.0000000000000003e-05.\n",
      "7390/7390 [==============================] - 84s 11ms/step - loss: 0.0956 - accuracy: 0.9665 - precision: 0.9676 - recall: 0.9650 - true_positives: 28528.8110 - true_negatives: 87749.0049 - false_positives: 954.9919 - false_negatives: 1039.1879 - val_loss: 0.1677 - val_accuracy: 0.9489 - val_precision: 0.9498 - val_recall: 0.9477 - val_true_positives: 12004.0000 - val_true_negatives: 37363.0000 - val_false_positives: 635.0000 - val_false_negatives: 662.0000\n",
      "\n",
      "Epoch 00022: loss improved from 0.09743 to 0.09470, saving model to /mnt/036b1314-13ad-429f-b9f9-07467946c5d7/Datasets/Health/OCT2017/Classical1/best_model.h5\n",
      "Epoch 23/100\n",
      "\n",
      "Epoch 00023: LearningRateScheduler reducing learning rate to 1.0000000000000003e-05.\n",
      "7390/7390 [==============================] - 84s 11ms/step - loss: 0.0955 - accuracy: 0.9650 - precision: 0.9666 - recall: 0.9636 - true_positives: 28503.9311 - true_negatives: 87731.6026 - false_positives: 972.3941 - false_negatives: 1064.0678 - val_loss: 0.1719 - val_accuracy: 0.9478 - val_precision: 0.9484 - val_recall: 0.9469 - val_true_positives: 11993.0000 - val_true_negatives: 37345.0000 - val_false_positives: 653.0000 - val_false_negatives: 673.0000\n",
      "\n",
      "Epoch 00023: loss did not improve from 0.09470\n",
      "Epoch 24/100\n",
      "\n",
      "Epoch 00024: LearningRateScheduler reducing learning rate to 1.0000000000000003e-05.\n",
      "7390/7390 [==============================] - 81s 11ms/step - loss: 0.0928 - accuracy: 0.9662 - precision: 0.9676 - recall: 0.9651 - true_positives: 28538.1118 - true_negatives: 87752.8919 - false_positives: 951.1049 - false_negatives: 1029.8872 - val_loss: 0.1691 - val_accuracy: 0.9488 - val_precision: 0.9496 - val_recall: 0.9477 - val_true_positives: 12004.0000 - val_true_negatives: 37361.0000 - val_false_positives: 637.0000 - val_false_negatives: 662.0000\n",
      "\n",
      "Epoch 00024: loss improved from 0.09470 to 0.09347, saving model to /mnt/036b1314-13ad-429f-b9f9-07467946c5d7/Datasets/Health/OCT2017/Classical1/best_model.h5\n",
      "Epoch 25/100\n",
      "\n",
      "Epoch 00025: LearningRateScheduler reducing learning rate to 1.0000000000000003e-05.\n",
      "7390/7390 [==============================] - 80s 11ms/step - loss: 0.0947 - accuracy: 0.9658 - precision: 0.9673 - recall: 0.9640 - true_positives: 28524.7532 - true_negatives: 87760.9321 - false_positives: 943.0647 - false_negatives: 1043.2457 - val_loss: 0.1690 - val_accuracy: 0.9492 - val_precision: 0.9500 - val_recall: 0.9481 - val_true_positives: 12009.0000 - val_true_negatives: 37366.0000 - val_false_positives: 632.0000 - val_false_negatives: 657.0000\n",
      "\n",
      "Epoch 00025: loss did not improve from 0.09347\n",
      "Epoch 26/100\n",
      "\n",
      "Epoch 00026: LearningRateScheduler reducing learning rate to 1.0000000000000003e-05.\n",
      "7390/7390 [==============================] - 81s 11ms/step - loss: 0.0902 - accuracy: 0.9673 - precision: 0.9688 - recall: 0.9662 - true_positives: 28563.5992 - true_negatives: 87779.7470 - false_positives: 924.2498 - false_negatives: 1004.3997 - val_loss: 0.1715 - val_accuracy: 0.9488 - val_precision: 0.9497 - val_recall: 0.9478 - val_true_positives: 12005.0000 - val_true_negatives: 37362.0000 - val_false_positives: 636.0000 - val_false_negatives: 661.0000\n",
      "\n",
      "Epoch 00026: loss improved from 0.09347 to 0.09030, saving model to /mnt/036b1314-13ad-429f-b9f9-07467946c5d7/Datasets/Health/OCT2017/Classical1/best_model.h5\n",
      "Epoch 27/100\n",
      "\n",
      "Epoch 00027: LearningRateScheduler reducing learning rate to 1.0000000000000003e-05.\n",
      "7390/7390 [==============================] - 80s 11ms/step - loss: 0.0926 - accuracy: 0.9672 - precision: 0.9685 - recall: 0.9660 - true_positives: 28548.9168 - true_negatives: 87763.2146 - false_positives: 940.7822 - false_negatives: 1019.0821 - val_loss: 0.1697 - val_accuracy: 0.9493 - val_precision: 0.9502 - val_recall: 0.9482 - val_true_positives: 12010.0000 - val_true_negatives: 37369.0000 - val_false_positives: 629.0000 - val_false_negatives: 656.0000\n",
      "\n",
      "Epoch 00027: loss did not improve from 0.09030\n",
      "Epoch 28/100\n",
      "\n",
      "Epoch 00028: LearningRateScheduler reducing learning rate to 1.0000000000000003e-05.\n",
      "7390/7390 [==============================] - 80s 11ms/step - loss: 0.0877 - accuracy: 0.9681 - precision: 0.9696 - recall: 0.9667 - true_positives: 28573.9432 - true_negatives: 87795.5639 - false_positives: 908.4328 - false_negatives: 994.0557 - val_loss: 0.1701 - val_accuracy: 0.9495 - val_precision: 0.9503 - val_recall: 0.9486 - val_true_positives: 12015.0000 - val_true_negatives: 37369.0000 - val_false_positives: 629.0000 - val_false_negatives: 651.0000\n",
      "\n",
      "Epoch 00028: loss did not improve from 0.09030\n",
      "Epoch 29/100\n",
      "\n",
      "Epoch 00029: LearningRateScheduler reducing learning rate to 1.0000000000000003e-05.\n",
      "7390/7390 [==============================] - 80s 11ms/step - loss: 0.0942 - accuracy: 0.9670 - precision: 0.9683 - recall: 0.9657 - true_positives: 28555.6336 - true_negatives: 87775.7140 - false_positives: 928.2828 - false_negatives: 1012.3653 - val_loss: 0.1685 - val_accuracy: 0.9499 - val_precision: 0.9506 - val_recall: 0.9489 - val_true_positives: 12019.0000 - val_true_negatives: 37374.0000 - val_false_positives: 624.0000 - val_false_negatives: 647.0000\n",
      "\n",
      "Epoch 00029: loss did not improve from 0.09030\n",
      "Epoch 30/100\n",
      "\n",
      "Epoch 00030: LearningRateScheduler reducing learning rate to 1.0000000000000003e-05.\n",
      "7390/7390 [==============================] - 80s 11ms/step - loss: 0.0897 - accuracy: 0.9678 - precision: 0.9693 - recall: 0.9664 - true_positives: 28583.8520 - true_negatives: 87800.1628 - false_positives: 903.8340 - false_negatives: 984.1469 - val_loss: 0.1695 - val_accuracy: 0.9491 - val_precision: 0.9504 - val_recall: 0.9481 - val_true_positives: 12009.0000 - val_true_negatives: 37371.0000 - val_false_positives: 627.0000 - val_false_negatives: 657.0000\n",
      "\n",
      "Epoch 00030: loss did not improve from 0.09030\n",
      "Epoch 31/100\n",
      "\n",
      "Epoch 00031: LearningRateScheduler reducing learning rate to 1.0000000000000002e-06.\n",
      "7390/7390 [==============================] - 85s 12ms/step - loss: 0.0886 - accuracy: 0.9684 - precision: 0.9699 - recall: 0.9671 - true_positives: 28585.7082 - true_negatives: 87801.8868 - false_positives: 902.1100 - false_negatives: 982.2908 - val_loss: 0.1687 - val_accuracy: 0.9498 - val_precision: 0.9507 - val_recall: 0.9484 - val_true_positives: 12013.0000 - val_true_negatives: 37375.0000 - val_false_positives: 623.0000 - val_false_negatives: 653.0000\n",
      "\n",
      "Epoch 00031: loss improved from 0.09030 to 0.09026, saving model to /mnt/036b1314-13ad-429f-b9f9-07467946c5d7/Datasets/Health/OCT2017/Classical1/best_model.h5\n",
      "Epoch 32/100\n",
      "\n",
      "Epoch 00032: LearningRateScheduler reducing learning rate to 1.0000000000000002e-06.\n",
      "7390/7390 [==============================] - 84s 11ms/step - loss: 0.0894 - accuracy: 0.9676 - precision: 0.9690 - recall: 0.9663 - true_positives: 28561.3918 - true_negatives: 87781.9493 - false_positives: 922.0475 - false_negatives: 1006.6071 - val_loss: 0.1690 - val_accuracy: 0.9496 - val_precision: 0.9506 - val_recall: 0.9486 - val_true_positives: 12015.0000 - val_true_negatives: 37374.0000 - val_false_positives: 624.0000 - val_false_negatives: 651.0000\n",
      "\n",
      "Epoch 00032: loss did not improve from 0.09026\n",
      "Epoch 33/100\n",
      "\n",
      "Epoch 00033: LearningRateScheduler reducing learning rate to 1.0000000000000002e-06.\n",
      "7390/7390 [==============================] - 84s 11ms/step - loss: 0.0886 - accuracy: 0.9686 - precision: 0.9697 - recall: 0.9677 - true_positives: 28600.9835 - true_negatives: 87806.1737 - false_positives: 897.8230 - false_negatives: 967.0154 - val_loss: 0.1691 - val_accuracy: 0.9494 - val_precision: 0.9504 - val_recall: 0.9484 - val_true_positives: 12012.0000 - val_true_negatives: 37371.0000 - val_false_positives: 627.0000 - val_false_negatives: 654.0000\n",
      "\n",
      "Epoch 00033: loss improved from 0.09026 to 0.09021, saving model to /mnt/036b1314-13ad-429f-b9f9-07467946c5d7/Datasets/Health/OCT2017/Classical1/best_model.h5\n",
      "Epoch 34/100\n",
      "\n",
      "Epoch 00034: LearningRateScheduler reducing learning rate to 1.0000000000000002e-06.\n",
      "7390/7390 [==============================] - 84s 11ms/step - loss: 0.0916 - accuracy: 0.9672 - precision: 0.9687 - recall: 0.9661 - true_positives: 28581.6258 - true_negatives: 87796.2184 - false_positives: 907.7784 - false_negatives: 986.3732 - val_loss: 0.1687 - val_accuracy: 0.9495 - val_precision: 0.9504 - val_recall: 0.9484 - val_true_positives: 12012.0000 - val_true_negatives: 37371.0000 - val_false_positives: 627.0000 - val_false_negatives: 654.0000\n",
      "\n",
      "Epoch 00034: loss did not improve from 0.09021\n",
      "Epoch 35/100\n",
      "\n",
      "Epoch 00035: LearningRateScheduler reducing learning rate to 1.0000000000000002e-06.\n",
      "7390/7390 [==============================] - 84s 11ms/step - loss: 0.0881 - accuracy: 0.9684 - precision: 0.9699 - recall: 0.9670 - true_positives: 28571.5308 - true_negatives: 87795.4119 - false_positives: 908.5849 - false_negatives: 996.4681 - val_loss: 0.1689 - val_accuracy: 0.9497 - val_precision: 0.9507 - val_recall: 0.9485 - val_true_positives: 12014.0000 - val_true_negatives: 37375.0000 - val_false_positives: 623.0000 - val_false_negatives: 652.0000\n",
      "\n",
      "Epoch 00035: loss improved from 0.09021 to 0.08974, saving model to /mnt/036b1314-13ad-429f-b9f9-07467946c5d7/Datasets/Health/OCT2017/Classical1/best_model.h5\n",
      "Epoch 36/100\n",
      "\n",
      "Epoch 00036: LearningRateScheduler reducing learning rate to 1.0000000000000002e-06.\n",
      "7390/7390 [==============================] - 84s 11ms/step - loss: 0.0905 - accuracy: 0.9680 - precision: 0.9693 - recall: 0.9668 - true_positives: 28600.1026 - true_negatives: 87809.7816 - false_positives: 894.2151 - false_negatives: 967.8964 - val_loss: 0.1690 - val_accuracy: 0.9499 - val_precision: 0.9509 - val_recall: 0.9489 - val_true_positives: 12019.0000 - val_true_negatives: 37377.0000 - val_false_positives: 621.0000 - val_false_negatives: 647.0000\n"
     ]
    },
    {
     "name": "stdout",
     "output_type": "stream",
     "text": [
      "\n",
      "Epoch 00036: loss improved from 0.08974 to 0.08882, saving model to /mnt/036b1314-13ad-429f-b9f9-07467946c5d7/Datasets/Health/OCT2017/Classical1/best_model.h5\n",
      "Epoch 37/100\n",
      "\n",
      "Epoch 00037: LearningRateScheduler reducing learning rate to 1.0000000000000002e-06.\n",
      "7390/7390 [==============================] - 80s 11ms/step - loss: 0.0903 - accuracy: 0.9680 - precision: 0.9691 - recall: 0.9663 - true_positives: 28562.5058 - true_negatives: 87777.3303 - false_positives: 926.6665 - false_negatives: 1005.4932 - val_loss: 0.1690 - val_accuracy: 0.9496 - val_precision: 0.9506 - val_recall: 0.9487 - val_true_positives: 12016.0000 - val_true_negatives: 37373.0000 - val_false_positives: 625.0000 - val_false_negatives: 650.0000\n",
      "\n",
      "Epoch 00037: loss did not improve from 0.08882\n",
      "Epoch 38/100\n",
      "\n",
      "Epoch 00038: LearningRateScheduler reducing learning rate to 1.0000000000000002e-06.\n",
      "7390/7390 [==============================] - 80s 11ms/step - loss: 0.0908 - accuracy: 0.9683 - precision: 0.9697 - recall: 0.9670 - true_positives: 28601.7681 - true_negatives: 87817.2176 - false_positives: 886.7792 - false_negatives: 966.2308 - val_loss: 0.1686 - val_accuracy: 0.9500 - val_precision: 0.9509 - val_recall: 0.9490 - val_true_positives: 12020.0000 - val_true_negatives: 37377.0000 - val_false_positives: 621.0000 - val_false_negatives: 646.0000\n",
      "\n",
      "Epoch 00038: loss did not improve from 0.08882\n",
      "Epoch 39/100\n",
      "\n",
      "Epoch 00039: LearningRateScheduler reducing learning rate to 1.0000000000000002e-06.\n",
      "7390/7390 [==============================] - 80s 11ms/step - loss: 0.0897 - accuracy: 0.9682 - precision: 0.9695 - recall: 0.9670 - true_positives: 28588.3257 - true_negatives: 87806.0561 - false_positives: 897.9406 - false_negatives: 979.6733 - val_loss: 0.1689 - val_accuracy: 0.9498 - val_precision: 0.9508 - val_recall: 0.9488 - val_true_positives: 12018.0000 - val_true_negatives: 37376.0000 - val_false_positives: 622.0000 - val_false_negatives: 648.0000\n",
      "\n",
      "Epoch 00039: loss did not improve from 0.08882\n",
      "Epoch 40/100\n",
      "\n",
      "Epoch 00040: LearningRateScheduler reducing learning rate to 1.0000000000000002e-06.\n",
      "7390/7390 [==============================] - 80s 11ms/step - loss: 0.0921 - accuracy: 0.9670 - precision: 0.9684 - recall: 0.9658 - true_positives: 28562.7980 - true_negatives: 87778.1609 - false_positives: 925.8359 - false_negatives: 1005.2009 - val_loss: 0.1684 - val_accuracy: 0.9499 - val_precision: 0.9508 - val_recall: 0.9486 - val_true_positives: 12015.0000 - val_true_negatives: 37376.0000 - val_false_positives: 622.0000 - val_false_negatives: 651.0000\n",
      "\n",
      "Epoch 00040: loss did not improve from 0.08882\n",
      "Epoch 41/100\n",
      "\n",
      "Epoch 00041: LearningRateScheduler reducing learning rate to 1.0000000000000002e-07.\n",
      "7390/7390 [==============================] - 80s 11ms/step - loss: 0.0912 - accuracy: 0.9676 - precision: 0.9691 - recall: 0.9666 - true_positives: 28583.7726 - true_negatives: 87802.2847 - false_positives: 901.7121 - false_negatives: 984.2264 - val_loss: 0.1686 - val_accuracy: 0.9495 - val_precision: 0.9505 - val_recall: 0.9484 - val_true_positives: 12013.0000 - val_true_negatives: 37373.0000 - val_false_positives: 625.0000 - val_false_negatives: 653.0000\n",
      "\n",
      "Epoch 00041: loss did not improve from 0.08882\n",
      "Epoch 42/100\n",
      "\n",
      "Epoch 00042: LearningRateScheduler reducing learning rate to 1.0000000000000002e-07.\n",
      "7390/7390 [==============================] - 81s 11ms/step - loss: 0.0878 - accuracy: 0.9688 - precision: 0.9700 - recall: 0.9673 - true_positives: 28600.3338 - true_negatives: 87820.1387 - false_positives: 883.8581 - false_negatives: 967.6651 - val_loss: 0.1688 - val_accuracy: 0.9495 - val_precision: 0.9505 - val_recall: 0.9485 - val_true_positives: 12014.0000 - val_true_negatives: 37372.0000 - val_false_positives: 626.0000 - val_false_negatives: 652.0000\n",
      "\n",
      "Epoch 00042: loss improved from 0.08882 to 0.08794, saving model to /mnt/036b1314-13ad-429f-b9f9-07467946c5d7/Datasets/Health/OCT2017/Classical1/best_model.h5\n",
      "Epoch 43/100\n",
      "\n",
      "Epoch 00043: LearningRateScheduler reducing learning rate to 1.0000000000000002e-07.\n",
      "7390/7390 [==============================] - 80s 11ms/step - loss: 0.0875 - accuracy: 0.9676 - precision: 0.9690 - recall: 0.9661 - true_positives: 28592.7221 - true_negatives: 87816.5938 - false_positives: 887.4029 - false_negatives: 975.2768 - val_loss: 0.1688 - val_accuracy: 0.9495 - val_precision: 0.9505 - val_recall: 0.9486 - val_true_positives: 12015.0000 - val_true_negatives: 37372.0000 - val_false_positives: 626.0000 - val_false_negatives: 651.0000\n",
      "\n",
      "Epoch 00043: loss improved from 0.08794 to 0.08666, saving model to /mnt/036b1314-13ad-429f-b9f9-07467946c5d7/Datasets/Health/OCT2017/Classical1/best_model.h5\n",
      "Epoch 44/100\n",
      "\n",
      "Epoch 00044: LearningRateScheduler reducing learning rate to 1.0000000000000002e-07.\n",
      "7390/7390 [==============================] - 80s 11ms/step - loss: 0.0908 - accuracy: 0.9665 - precision: 0.9683 - recall: 0.9650 - true_positives: 28533.7479 - true_negatives: 87769.4301 - false_positives: 934.5666 - false_negatives: 1034.2510 - val_loss: 0.1690 - val_accuracy: 0.9496 - val_precision: 0.9506 - val_recall: 0.9487 - val_true_positives: 12016.0000 - val_true_negatives: 37373.0000 - val_false_positives: 625.0000 - val_false_negatives: 650.0000\n",
      "\n",
      "Epoch 00044: loss did not improve from 0.08666\n",
      "Epoch 45/100\n",
      "\n",
      "Epoch 00045: LearningRateScheduler reducing learning rate to 1.0000000000000002e-07.\n",
      "7390/7390 [==============================] - 80s 11ms/step - loss: 0.0886 - accuracy: 0.9687 - precision: 0.9701 - recall: 0.9675 - true_positives: 28607.6225 - true_negatives: 87825.0852 - false_positives: 878.9115 - false_negatives: 960.3764 - val_loss: 0.1691 - val_accuracy: 0.9496 - val_precision: 0.9506 - val_recall: 0.9488 - val_true_positives: 12017.0000 - val_true_negatives: 37373.0000 - val_false_positives: 625.0000 - val_false_negatives: 649.0000\n",
      "\n",
      "Epoch 00045: loss did not improve from 0.08666\n",
      "Epoch 46/100\n",
      "\n",
      "Epoch 00046: LearningRateScheduler reducing learning rate to 1.0000000000000002e-07.\n",
      "7390/7390 [==============================] - 80s 11ms/step - loss: 0.0870 - accuracy: 0.9680 - precision: 0.9696 - recall: 0.9668 - true_positives: 28577.0667 - true_negatives: 87797.5604 - false_positives: 906.4363 - false_negatives: 990.9322 - val_loss: 0.1691 - val_accuracy: 0.9496 - val_precision: 0.9506 - val_recall: 0.9487 - val_true_positives: 12016.0000 - val_true_negatives: 37373.0000 - val_false_positives: 625.0000 - val_false_negatives: 650.0000\n",
      "\n",
      "Epoch 00046: loss did not improve from 0.08666\n",
      "Epoch 47/100\n",
      "\n",
      "Epoch 00047: LearningRateScheduler reducing learning rate to 1.0000000000000002e-07.\n",
      "7390/7390 [==============================] - 80s 11ms/step - loss: 0.0957 - accuracy: 0.9665 - precision: 0.9680 - recall: 0.9650 - true_positives: 28558.8133 - true_negatives: 87782.2991 - false_positives: 921.6976 - false_negatives: 1009.1856 - val_loss: 0.1691 - val_accuracy: 0.9497 - val_precision: 0.9506 - val_recall: 0.9488 - val_true_positives: 12017.0000 - val_true_negatives: 37373.0000 - val_false_positives: 625.0000 - val_false_negatives: 649.0000\n",
      "\n",
      "Epoch 00047: loss did not improve from 0.08666\n",
      "Epoch 48/100\n",
      "\n",
      "Epoch 00048: LearningRateScheduler reducing learning rate to 1.0000000000000002e-07.\n",
      "7390/7390 [==============================] - 85s 12ms/step - loss: 0.0901 - accuracy: 0.9680 - precision: 0.9693 - recall: 0.9668 - true_positives: 28585.7026 - true_negatives: 87799.0345 - false_positives: 904.9623 - false_negatives: 982.2963 - val_loss: 0.1691 - val_accuracy: 0.9497 - val_precision: 0.9506 - val_recall: 0.9488 - val_true_positives: 12017.0000 - val_true_negatives: 37374.0000 - val_false_positives: 624.0000 - val_false_negatives: 649.0000\n",
      "\n",
      "Epoch 00048: loss did not improve from 0.08666\n",
      "Epoch 49/100\n",
      "\n",
      "Epoch 00049: LearningRateScheduler reducing learning rate to 1.0000000000000002e-07.\n",
      "7390/7390 [==============================] - 85s 11ms/step - loss: 0.0870 - accuracy: 0.9686 - precision: 0.9702 - recall: 0.9675 - true_positives: 28602.4001 - true_negatives: 87821.0694 - false_positives: 882.9273 - false_negatives: 965.5988 - val_loss: 0.1692 - val_accuracy: 0.9497 - val_precision: 0.9506 - val_recall: 0.9488 - val_true_positives: 12017.0000 - val_true_negatives: 37374.0000 - val_false_positives: 624.0000 - val_false_negatives: 649.0000\n"
     ]
    },
    {
     "name": "stdout",
     "output_type": "stream",
     "text": [
      "\n",
      "Epoch 00049: loss did not improve from 0.08666\n",
      "Epoch 50/100\n",
      "\n",
      "Epoch 00050: LearningRateScheduler reducing learning rate to 1.0000000000000002e-07.\n",
      "7390/7390 [==============================] - 81s 11ms/step - loss: 0.0885 - accuracy: 0.9688 - precision: 0.9701 - recall: 0.9677 - true_positives: 28591.6968 - true_negatives: 87801.8260 - false_positives: 902.1707 - false_negatives: 976.3021 - val_loss: 0.1692 - val_accuracy: 0.9496 - val_precision: 0.9506 - val_recall: 0.9488 - val_true_positives: 12017.0000 - val_true_negatives: 37374.0000 - val_false_positives: 624.0000 - val_false_negatives: 649.0000\n",
      "\n",
      "Epoch 00050: loss did not improve from 0.08666\n",
      "Epoch 51/100\n",
      "\n",
      "Epoch 00051: LearningRateScheduler reducing learning rate to 1.0000000000000004e-08.\n",
      "7390/7390 [==============================] - 80s 11ms/step - loss: 0.0892 - accuracy: 0.9688 - precision: 0.9700 - recall: 0.9673 - true_positives: 28610.6175 - true_negatives: 87835.2020 - false_positives: 868.7948 - false_negatives: 957.3814 - val_loss: 0.1692 - val_accuracy: 0.9496 - val_precision: 0.9506 - val_recall: 0.9488 - val_true_positives: 12017.0000 - val_true_negatives: 37374.0000 - val_false_positives: 624.0000 - val_false_negatives: 649.0000\n",
      "\n",
      "Epoch 00051: loss did not improve from 0.08666\n",
      "Epoch 52/100\n",
      "\n",
      "Epoch 00052: LearningRateScheduler reducing learning rate to 1.0000000000000004e-08.\n",
      "7390/7390 [==============================] - 80s 11ms/step - loss: 0.0915 - accuracy: 0.9674 - precision: 0.9688 - recall: 0.9659 - true_positives: 28557.2471 - true_negatives: 87783.2054 - false_positives: 920.7914 - false_negatives: 1010.7519 - val_loss: 0.1692 - val_accuracy: 0.9496 - val_precision: 0.9506 - val_recall: 0.9488 - val_true_positives: 12017.0000 - val_true_negatives: 37374.0000 - val_false_positives: 624.0000 - val_false_negatives: 649.0000\n",
      "\n",
      "Epoch 00052: loss did not improve from 0.08666\n",
      "Epoch 53/100\n",
      "\n",
      "Epoch 00053: LearningRateScheduler reducing learning rate to 1.0000000000000004e-08.\n",
      "7390/7390 [==============================] - 80s 11ms/step - loss: 0.0873 - accuracy: 0.9689 - precision: 0.9703 - recall: 0.9672 - true_positives: 28589.7190 - true_negatives: 87818.2209 - false_positives: 885.7758 - false_negatives: 978.2799 - val_loss: 0.1691 - val_accuracy: 0.9496 - val_precision: 0.9506 - val_recall: 0.9488 - val_true_positives: 12017.0000 - val_true_negatives: 37373.0000 - val_false_positives: 625.0000 - val_false_negatives: 649.0000\n",
      "Restoring model weights from the end of the best epoch.\n",
      "\n",
      "Epoch 00053: loss did not improve from 0.08666\n",
      "Epoch 00053: early stopping\n",
      "7390/7390 [==============================] - 65s 9ms/step - loss: 0.0450 - accuracy: 0.9839 - precision: 0.9842 - recall: 0.9834 - true_positives: 58141.0000 - true_negatives: 176428.0000 - false_positives: 932.0000 - false_negatives: 979.0000\n",
      "1584/1584 [==============================] - 14s 9ms/step - loss: 0.1688 - accuracy: 0.9495 - precision: 0.9505 - recall: 0.9486 - true_positives: 12015.0000 - true_negatives: 37372.0000 - false_positives: 626.0000 - false_negatives: 651.0000\n",
      "1584/1584 [==============================] - 14s 9ms/step - loss: 0.1794 - accuracy: 0.9485 - precision: 0.9501 - recall: 0.9476 - true_positives: 12002.0000 - true_negatives: 37367.0000 - false_positives: 631.0000 - false_negatives: 664.0000\n"
     ]
    }
   ],
   "source": [
    "with tf.device('/GPU:0'):\n",
    "    start = time.time()\n",
    "    history = model.fit(train_generator,\n",
    "                        epochs = epoch,\n",
    "                        verbose = 1,\n",
    "                        callbacks = callback,\n",
    "                        validation_data = validation_generator,\n",
    "                        shuffle=True)\n",
    "\n",
    "    end = time.time()\n",
    "    \n",
    "    duration = end-start\n",
    "\n",
    "train_score = model.evaluate(train_generator)\n",
    "val_score = model.evaluate(validation_generator)\n",
    "test_score = model.evaluate(test_generator)"
   ]
  },
  {
   "cell_type": "code",
   "execution_count": 18,
   "metadata": {},
   "outputs": [
    {
     "name": "stdout",
     "output_type": "stream",
     "text": [
      "Execution Time: 4329.219134092331 seconds\n"
     ]
    }
   ],
   "source": [
    "print(\"Execution Time: {} seconds\".format(duration))"
   ]
  },
  {
   "cell_type": "markdown",
   "metadata": {},
   "source": [
    "# Plot characteristic curves"
   ]
  },
  {
   "cell_type": "code",
   "execution_count": 19,
   "metadata": {},
   "outputs": [],
   "source": [
    "acc=history.history['accuracy']\n",
    "val_acc=history.history['val_accuracy']\n",
    "loss=history.history['loss']\n",
    "val_loss=history.history['val_loss']\n",
    "epochs=range(len(acc))"
   ]
  },
  {
   "cell_type": "code",
   "execution_count": 20,
   "metadata": {},
   "outputs": [
    {
     "name": "stdout",
     "output_type": "stream",
     "text": [
      "range(0, 53)\n"
     ]
    }
   ],
   "source": [
    "print(epochs)"
   ]
  },
  {
   "cell_type": "code",
   "execution_count": 21,
   "metadata": {},
   "outputs": [
    {
     "data": {
      "text/plain": [
       "[0, 8, 16, 24, 32, 40, 48]"
      ]
     },
     "execution_count": 21,
     "metadata": {},
     "output_type": "execute_result"
    }
   ],
   "source": [
    "x_tick = []\n",
    "i = 0\n",
    "for i in epochs:\n",
    "    if i%8 == 0:\n",
    "        x_tick.append(i)\n",
    "\n",
    "x_tick"
   ]
  },
  {
   "cell_type": "code",
   "execution_count": 22,
   "metadata": {},
   "outputs": [
    {
     "name": "stderr",
     "output_type": "stream",
     "text": [
      "The PostScript backend does not support transparency; partially transparent artists will be rendered opaque.\n",
      "The PostScript backend does not support transparency; partially transparent artists will be rendered opaque.\n"
     ]
    },
    {
     "data": {
      "image/png": "[encoded data removed]",
      "text/plain": [
       "<Figure size 432x288 with 1 Axes>"
      ]
     },
     "metadata": {
      "needs_background": "light"
     },
     "output_type": "display_data"
    }
   ],
   "source": [
    "plt.plot(epochs, acc, 'r', label='Training Accuracy')\n",
    "plt.plot(epochs, val_acc, 'b', label='Validation Accuracy')\n",
    "\n",
    "plt.xlabel(\"Epochs\")\n",
    "plt.xticks(x_tick)\n",
    "plt.ylabel(\"Accuracy\")\n",
    "plt.title('Training and validation accuracy vs Epochs')\n",
    "plt.legend()\n",
    "\n",
    "fig_name_eps = \"accuracy.eps\"\n",
    "fig_name_jpg = \"accuracy.jpg\"\n",
    "\n",
    "plt.savefig(os.path.join(char, fig_name_eps))\n",
    "plt.savefig(os.path.join(char, fig_name_jpg))\n",
    "\n",
    "plt.show()"
   ]
  },
  {
   "cell_type": "code",
   "execution_count": 23,
   "metadata": {},
   "outputs": [
    {
     "name": "stderr",
     "output_type": "stream",
     "text": [
      "The PostScript backend does not support transparency; partially transparent artists will be rendered opaque.\n",
      "The PostScript backend does not support transparency; partially transparent artists will be rendered opaque.\n"
     ]
    },
    {
     "data": {
      "image/png": "[encoded data removed]",
      "text/plain": [
       "<Figure size 432x288 with 1 Axes>"
      ]
     },
     "metadata": {
      "needs_background": "light"
     },
     "output_type": "display_data"
    }
   ],
   "source": [
    "plt.plot(epochs, loss, 'r', label=\"Training Loss\")\n",
    "plt.plot(epochs, val_loss, 'b', label=\"Validation Loss\")\n",
    "\n",
    "plt.xlabel(\"Epochs\")\n",
    "plt.xticks(x_tick)\n",
    "plt.ylabel(\"Loss\")\n",
    "plt.title('Training and validation loss vs Epochs')\n",
    "plt.legend()\n",
    "\n",
    "fig_name_eps = \"loss.eps\"\n",
    "fig_name_jpg = \"loss.jpg\"\n",
    "\n",
    "plt.savefig(os.path.join(char, fig_name_eps))\n",
    "plt.savefig(os.path.join(char, fig_name_jpg))\n",
    "\n",
    "plt.show()"
   ]
  },
  {
   "cell_type": "code",
   "execution_count": 24,
   "metadata": {},
   "outputs": [
    {
     "name": "stderr",
     "output_type": "stream",
     "text": [
      "The PostScript backend does not support transparency; partially transparent artists will be rendered opaque.\n",
      "The PostScript backend does not support transparency; partially transparent artists will be rendered opaque.\n"
     ]
    },
    {
     "data": {
      "image/png": "[encoded data removed]",
      "text/plain": [
       "<Figure size 432x288 with 1 Axes>"
      ]
     },
     "metadata": {
      "needs_background": "light"
     },
     "output_type": "display_data"
    }
   ],
   "source": [
    "plt.plot(epochs, acc, 'r', label='Training Accuracy')\n",
    "plt.plot(epochs, val_acc, 'b', label='Validation Accuracy')\n",
    "plt.plot(epochs, loss, 'r', label=\"Training Loss\")\n",
    "plt.plot(epochs, val_loss, 'b', label=\"Validation Loss\")\n",
    "\n",
    "plt.xlabel(\"Epochs\")\n",
    "plt.xticks(x_tick)\n",
    "plt.ylabel(\"Loss\")\n",
    "plt.title('Training and validation loss vs Epochs')\n",
    "plt.legend()\n",
    "\n",
    "fig_name_eps = \"char.eps\"\n",
    "fig_name_jpg = \"char.jpg\"\n",
    "\n",
    "plt.savefig(os.path.join(char, fig_name_eps))\n",
    "plt.savefig(os.path.join(char, fig_name_jpg))"
   ]
  },
  {
   "cell_type": "markdown",
   "metadata": {},
   "source": [
    "# Classification metrices"
   ]
  },
  {
   "cell_type": "code",
   "execution_count": 25,
   "metadata": {},
   "outputs": [
    {
     "name": "stdout",
     "output_type": "stream",
     "text": [
      "The training accuracy is: 98.3863353729248 %\n",
      "The validation accuracy is: 94.95499730110168 %\n",
      "The test accuracy is: 94.85235810279846 %\n"
     ]
    }
   ],
   "source": [
    "training_accuracy = train_score[1]*100\n",
    "validation_accuracy = val_score[1]*100\n",
    "test_accuracy = test_score[1]*100\n",
    "\n",
    "print(\"The training accuracy is: \" + str(training_accuracy) + ' %')\n",
    "print(\"The validation accuracy is: \" + str(validation_accuracy) + ' %')\n",
    "print(\"The test accuracy is: \" + str(test_accuracy) + ' %')"
   ]
  },
  {
   "cell_type": "code",
   "execution_count": 26,
   "metadata": {},
   "outputs": [],
   "source": [
    "test_accuracy = test_score[1]*100\n",
    "test_precision = test_score[2]*100\n",
    "test_recall = test_score[3]*100\n",
    "tp = int(test_score[4])\n",
    "tn = int(test_score[5])\n",
    "fp = int(test_score[6])\n",
    "fn = int(test_score[7])\n",
    "\n",
    "f1 = 2*((test_precision*test_recall)/(test_precision+test_recall))\n",
    "sensitivity = (tp/(tp+fn))*100\n",
    "specificity = (tn/(tn+fp))*100"
   ]
  },
  {
   "cell_type": "code",
   "execution_count": 27,
   "metadata": {},
   "outputs": [
    {
     "name": "stdout",
     "output_type": "stream",
     "text": [
      "Test Accuracy: 94.85235810279846\n",
      "Test Precision: 95.00514268875122\n",
      "Test Recall: 94.75761651992798\n",
      "True Positive: 12002\n",
      "Test Negetive: 37367\n",
      "False Positive: 631\n",
      "False Negetive: 664\n",
      "Sensitivity: 94.75761882204327\n",
      "Specificity: 98.33938628348861\n"
     ]
    }
   ],
   "source": [
    "print(\"Test Accuracy: {}\".format(test_accuracy))\n",
    "print(\"Test Precision: {}\".format(test_precision))\n",
    "print(\"Test Recall: {}\".format(test_recall))\n",
    "print(\"True Positive: {}\".format(tp))\n",
    "print(\"Test Negetive: {}\".format(tn))\n",
    "print(\"False Positive: {}\".format(fp))\n",
    "print(\"False Negetive: {}\".format(fn))\n",
    "print(\"Sensitivity: {}\".format(sensitivity))\n",
    "print(\"Specificity: {}\".format(specificity))"
   ]
  },
  {
   "cell_type": "markdown",
   "metadata": {},
   "source": [
    "# Classification result"
   ]
  },
  {
   "cell_type": "code",
   "execution_count": 28,
   "metadata": {},
   "outputs": [],
   "source": [
    "def pred(test_directory, test_generator, class_no, best_model_address, dim):\n",
    "    test_class_list = []\n",
    "    for test_name in os.listdir(test_directory):\n",
    "        test = os.path.join(test_directory, test_name)\n",
    "        test_class_list.append(test)\n",
    "    test_class_list.sort()\n",
    "    \n",
    "    y_true = test_generator.classes\n",
    "    labels = test_generator.class_indices\n",
    "    \n",
    "    y_pred = []\n",
    "    tot = len(os.listdir(test_class_list[1]))*class_no\n",
    "\n",
    "    best_model = load_model(best_model_address)\n",
    "    \n",
    "    with tqdm(total=tot) as pbar:\n",
    "        for i in range(class_no):\n",
    "            for filename in os.listdir(test_class_list[i]):\n",
    "                file = os.path.join(test_class_list[i], filename)\n",
    "                img = cv2.imread(file)\n",
    "                res = cv2.resize(img, (dim[0], dim[1]))\n",
    "                normed = res / 255.0\n",
    "                im_arr = normed.reshape(1, dim[0], dim[1], dim[2])\n",
    "\n",
    "                pred = best_model.predict(im_arr)\n",
    "                pred_categorical = keras.utils.to_categorical(pred)\n",
    "\n",
    "                if class_no >= 2:\n",
    "                    max_pred = np.argmax(pred)\n",
    "                else:\n",
    "                    max_pred = np.argmax(pred_categorical)\n",
    "\n",
    "                y_pred.append(max_pred)\n",
    "\n",
    "                pbar.set_description(\"Progress\")\n",
    "                pbar.update()\n",
    "                \n",
    "    return y_true, y_pred, labels"
   ]
  },
  {
   "cell_type": "code",
   "execution_count": 29,
   "metadata": {},
   "outputs": [],
   "source": [
    "def report(y_true, y_pred, labels):\n",
    "    from sklearn.metrics import classification_report\n",
    "    from sklearn.metrics import confusion_matrix \n",
    "    \n",
    "    print(\"Calculating CLASSIFICATION REPORT: \")\n",
    "    classification_reports = classification_report(y_true, y_pred, target_names=labels)\n",
    "    print(classification_reports)\n",
    "\n",
    "    print(\"\\nCalculating SENSITIVITY & SPECIFICITY..........:\")\n",
    "    cm = confusion_matrix(y_true, y_pred)\n",
    "    total = sum(sum(cm))\n",
    "    sensitivity = cm[0, 0] / (cm[0, 0] + cm[0, 1])\n",
    "    specificity = cm[1, 1] / (cm[1, 0] + cm[1, 1])\n",
    "\n",
    "    print(\"sensitivity = {:.4f}\".format(sensitivity))\n",
    "    print(\"specificity = {:.4f}\".format(specificity))\n",
    "    \n",
    "    return cm, classification_reports, sensitivity, specificity"
   ]
  },
  {
   "cell_type": "code",
   "execution_count": 30,
   "metadata": {},
   "outputs": [
    {
     "name": "stderr",
     "output_type": "stream",
     "text": [
      "Progress: : 12666it [08:57, 23.55it/s]                                          \n"
     ]
    }
   ],
   "source": [
    "y_true, y_pred, labels = pred(test_directory, test_generator, class_no, best_model_address, dim)"
   ]
  },
  {
   "cell_type": "code",
   "execution_count": 31,
   "metadata": {},
   "outputs": [
    {
     "name": "stdout",
     "output_type": "stream",
     "text": [
      "Calculating CLASSIFICATION REPORT: \n",
      "              precision    recall  f1-score   support\n",
      "\n",
      "         CNV       0.97      0.97      0.97      5617\n",
      "         DME       0.94      0.91      0.93      1738\n",
      "      DRUSEN       0.88      0.82      0.85      1328\n",
      "      NORMAL       0.94      0.98      0.96      3983\n",
      "\n",
      "    accuracy                           0.95     12666\n",
      "   macro avg       0.93      0.92      0.93     12666\n",
      "weighted avg       0.95      0.95      0.95     12666\n",
      "\n",
      "\n",
      "Calculating SENSITIVITY & SPECIFICITY..........:\n",
      "sensitivity = 0.9907\n",
      "specificity = 0.9753\n"
     ]
    }
   ],
   "source": [
    "cm, classification_reports, sensitivity, specificity = report(y_true, y_pred, labels)"
   ]
  },
  {
   "cell_type": "markdown",
   "metadata": {},
   "source": [
    "# Confusion Matrix"
   ]
  },
  {
   "cell_type": "code",
   "execution_count": 32,
   "metadata": {},
   "outputs": [],
   "source": [
    "def conf_mat(cm, labels, char):\n",
    "    fig, ax = plot_confusion_matrix(conf_mat=cm,\n",
    "                                colorbar=True,\n",
    "                                show_absolute=True,\n",
    "                                class_names=labels,\n",
    "                                show_normed=True)\n",
    "\n",
    "    plt.savefig(os.path.join(char, 'confusion-matrix.eps'))\n",
    "    plt.savefig(os.path.join(char, 'confusion-matrix.jpg'))"
   ]
  },
  {
   "cell_type": "code",
   "execution_count": 33,
   "metadata": {},
   "outputs": [
    {
     "data": {
      "image/png": "[encoded data removed]",
      "text/plain": [
       "<Figure size 432x288 with 2 Axes>"
      ]
     },
     "metadata": {
      "needs_background": "light"
     },
     "output_type": "display_data"
    }
   ],
   "source": [
    "conf_mat(cm, labels, char)"
   ]
  },
  {
   "cell_type": "markdown",
   "metadata": {},
   "source": [
    "# README"
   ]
  },
  {
   "cell_type": "code",
   "execution_count": 34,
   "metadata": {},
   "outputs": [
    {
     "name": "stdout",
     "output_type": "stream",
     "text": [
      "Please read the text file named readme.txt for detailed information of the model.\n"
     ]
    }
   ],
   "source": [
    "from contextlib import redirect_stdout\n",
    "\n",
    "readme_name_text = \"readme.txt\"\n",
    "print(f\"Please read the text file named {readme_name_text} for detailed information of the model.\")\n",
    "\n",
    "completeName_txt = os.path.join(char, readme_name_text) \n",
    "\n",
    "readme = open(completeName_txt, \"w\")\n",
    "\n",
    "if len(os.listdir(train_directory)) > 2:\n",
    "    readme.write(f\"This is a {len(os.listdir(train_directory))}-class CLASSIFICATION\")\n",
    "else:\n",
    "    readme.write(\"This is a BINARY CLASSIFICATION\")\n",
    "\n",
    "\n",
    "readme.write(\"\\n\\n--HYPERPARAMETERS--\\n\")\n",
    "readme.write(f\"\\nInitial Learning Rate = {learning_rate}\")\n",
    "readme.write(f\"\\nNo. of epochs = {len(acc)}\")\n",
    "readme.write(f\"\\nBatch Size = {batch_size}\")\n",
    "\n",
    "\n",
    "readme.write(\"\\n\\n--MODEL-PARAMETERS--\")\n",
    "# readme.write(f\"\\nDropout for feature extraction = {(int(f_dropout*100))} %\")\n",
    "# readme.write(f\"\\nDropout for dense layer = {(int(d_dropout*100))} %\")\n",
    "readme.write(f\"\\nOptimizer = {optimizer}\\n\\n\")\n",
    "\n",
    "\n",
    "readme.write(\"Trained on a Custom Prebuilt Model\\n\")\n",
    "# readme.write(f\"\\nFilter size = {size_filter}x{size_filter}\\n\\n\")\n",
    "with redirect_stdout(readme):\n",
    "    model.summary()\n",
    "        \n",
    "    \n",
    "readme.write(\"\\n\\n--MODEL-PERFORMANCE--\")\n",
    "readme.write(f\"\\nTest Accuracy = {test_accuracy} %\")\n",
    "readme.write(f\"\\nTest Precision = {test_precision} %\")\n",
    "readme.write(f\"\\nTest Recall = {test_recall} %\")\n",
    "readme.write(f\"\\nTrue Positive = {tp}\")\n",
    "readme.write(f\"\\nTrue Negetive = {tn}\")\n",
    "readme.write(f\"\\nFalse Positive = {fp}\")\n",
    "readme.write(f\"\\nFalse Negetive = {fn}\")\n",
    "readme.write(f\"\\nSensitivity = {sensitivity}\")\n",
    "readme.write(f\"\\nSpecificity = {specificity}\\n\\n\\n\")\n",
    "\n",
    "\n",
    "readme.write(\"\\n\\n--MODEL-CHARACTERISTICS--\")\n",
    "readme.write(f\"\\nacc = {acc}\")\n",
    "readme.write(f\"\\n\\nval_acc = {val_acc}\")\n",
    "readme.write(f\"\\n\\nloss = {loss}\")\n",
    "readme.write(f\"\\n\\nval_loss = {val_loss}\")\n",
    "\n",
    "\n",
    "readme.write(\"\\n\\n--Classification Report--\\n\")\n",
    "readme.write(classification_reports)\n",
    "\n",
    "readme.write(f\"\\nSensitivity = {sensitivity*100} %\")\n",
    "readme.write(f\"\\nSpecificity = {specificity*100} %\")\n",
    "\n",
    "\n",
    "readme.write(f\"\\nExecution Time: {duration} seconds\")\n",
    "\n",
    "readme.write(\"\\n\\nCreated using Self-Regulated Image Classifier using Convolution Neural Network\")\n",
    "\n",
    "readme.close()"
   ]
  },
  {
   "cell_type": "code",
   "execution_count": null,
   "metadata": {},
   "outputs": [],
   "source": []
  }
 ],
 "metadata": {
  "kernelspec": {
   "display_name": "Python 3 (ipykernel)",
   "language": "python",
   "name": "python3"
  },
  "language_info": {
   "codemirror_mode": {
    "name": "ipython",
    "version": 3
   },
   "file_extension": ".py",
   "mimetype": "text/x-python",
   "name": "python",
   "nbconvert_exporter": "python",
   "pygments_lexer": "ipython3",
   "version": "3.8.5"
  }
 },
 "nbformat": 4,
 "nbformat_minor": 4
}
