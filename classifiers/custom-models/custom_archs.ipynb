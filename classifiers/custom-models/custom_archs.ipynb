{
 "cells": [
  {
   "cell_type": "code",
   "execution_count": null,
   "metadata": {},
   "outputs": [],
   "source": [
    "import os\n",
    "os.environ['TF_CPP_MIN_LOG_LEVEL'] = '3' \n",
    "\n",
    "import tensorflow as tf\n",
    "from tensorflow.keras.preprocessing.image import ImageDataGenerator\n",
    "from tensorflow.keras.optimizers import *\n",
    "from tensorflow.keras.preprocessing import image\n",
    "from tensorflow.keras.models import *\n",
    "from tensorflow.keras.layers import *\n",
    "from tensorflow.keras.applications import *\n",
    "from tensorflow.keras.regularizers import l2\n",
    "from tensorflow.keras.utils import plot_model"
   ]
  },
  {
   "cell_type": "code",
   "execution_count": null,
   "metadata": {},
   "outputs": [],
   "source": [
    "physical_devices = tf.config.experimental.list_physical_devices('GPU')\n",
    "\n",
    "if physical_devices != []:\n",
    "    print(\"Using GPU\")\n",
    "    for i in physical_devices:\n",
    "        tf.config.experimental.set_memory_growth(i, True)\n",
    "else:\n",
    "    print(\"Using CPU\")\n",
    "    pass"
   ]
  },
  {
   "cell_type": "markdown",
   "metadata": {},
   "source": [
    "# Model Architectures"
   ]
  },
  {
   "cell_type": "markdown",
   "metadata": {},
   "source": [
    "## classical_cnn"
   ]
  },
  {
   "cell_type": "code",
   "execution_count": null,
   "metadata": {},
   "outputs": [],
   "source": [
    "def classical_cnn(dim, output_neurons, output_activation):\n",
    "    print(\"\\nTRAINING ON classical_cnn MODEL:-\")\n",
    "    \n",
    "    def block(tensor, conv_reps, n_filters):\n",
    "        x = Conv2D(filters = n_filters, kernel_size = (3,3), padding = 'same')(tensor)\n",
    "        x = LeakyReLU()(x)\n",
    "        \n",
    "        for i in range(conv_reps-1):\n",
    "            x = Conv2D(filters = n_filters, kernel_size = (3,3), padding = 'same')(x)\n",
    "            x = LeakyReLU()(x)\n",
    "            \n",
    "        x = MaxPooling2D(pool_size = (2,2), strides = 2, padding = 'same')(x)\n",
    "        \n",
    "        return x\n",
    "\n",
    "    input = Input(shape = dim)\n",
    "        \n",
    "    k = 8\n",
    "    x = block(input, conv_reps = 1, n_filters = k)\n",
    "    x = block(x, conv_reps = 1, n_filters = 2*k)\n",
    "    x = block(x, conv_reps = 1, n_filters = 4*k)\n",
    "    x = block(x, conv_reps = 1, n_filters = 8*k)\n",
    "    x = block(x, conv_reps = 1, n_filters = 16*k)\n",
    "    \n",
    "    x = Flatten()(x)\n",
    "    \n",
    "    dense_reps = 2\n",
    "    \n",
    "    for i in range(dense_reps):\n",
    "        x = Dense(128)(x)\n",
    "        x = LeakyReLU()(x)\n",
    "    \n",
    "    output = Dense(output_neurons, output_activation)(x)  \n",
    "    \n",
    "    model = Model(inputs = input, outputs = output)\n",
    "    \n",
    "    return model"
   ]
  },
  {
   "cell_type": "markdown",
   "metadata": {},
   "source": [
    "## mobile_inception"
   ]
  },
  {
   "cell_type": "code",
   "execution_count": null,
   "metadata": {},
   "outputs": [],
   "source": [
    "def mobile_inception(dim, output_neurons, output_activation):\n",
    "    print(\"\\nTRAINING ON mobile_inception MODEL:-\")\n",
    "\n",
    "    \n",
    "    def block(x, filters, reps):\n",
    "        for _ in range(reps):\n",
    "            # for low-level features\n",
    "            t1 = Conv2D(filters[0], kernel_size = (1,1))(x)\n",
    "            t1 = LeakyReLU()(t1)\n",
    "\n",
    "            # for mid-level features\n",
    "            t2 = DepthwiseConv2D(kernel_size = (3,3), strides = 1, padding = 'same')(x)\n",
    "            t2 = LeakyReLU()(t2)\n",
    "            t2 = Conv2D(filters[1], kernel_size = (1,1))(t2)\n",
    "            t2 = LeakyReLU()(t2)\n",
    "\n",
    "            # for high-level features\n",
    "            t3 = DepthwiseConv2D(kernel_size = (5,5), strides = 1, padding = 'same')(x)\n",
    "            t3 = LeakyReLU()(t3)\n",
    "            t3 = Conv2D(filters[2], kernel_size = (1,1))(t3)\n",
    "            t3 = LeakyReLU()(t3)\n",
    "\n",
    "            # for most-significant features\n",
    "            t4 = MaxPool2D(pool_size = (3,3), strides = 1, padding = 'same')(x)\n",
    "            t4 = Conv2D(filters[3], kernel_size = (1,1))(t4)\n",
    "            t4 = LeakyReLU()(t4)\n",
    "\n",
    "            x = Concatenate()([t1, t2, t3, t4])\n",
    "        \n",
    "        return x\n",
    "        \n",
    "    input = Input(shape = dim)\n",
    "    \n",
    "    k = 16\n",
    "    \n",
    "    x = Conv2D(filters = k, kernel_size = (7,7), strides = 2, padding = 'same')(input)\n",
    "    x = LeakyReLU()(x)\n",
    "    x = MaxPool2D(pool_size = (3,3), strides = 2, padding = 'same')(x)\n",
    "    \n",
    "    x = DepthwiseConv2D(kernel_size = (3,3), strides = 1, padding = 'same')(x)\n",
    "    x = LeakyReLU()(x)\n",
    "    x = Conv2D(filters = 2*k, kernel_size = (1,1))(x)\n",
    "    x = LeakyReLU()(x)\n",
    "    x = MaxPool2D(pool_size = (2,2), strides = 2)(x)\n",
    "    \n",
    "    x = block(x, [k, k, k, k], reps = 2)\n",
    "    x = MaxPool2D(pool_size = (2,2), strides = 2)(x)\n",
    "    \n",
    "    x = block(x, [2*k, 2*k, 2*k, 2*k], reps = 2)\n",
    "    x = MaxPool2D(pool_size = (2,2), strides = 2)(x)\n",
    "\n",
    "    x = block(x, [4*k, 4*k, 4*k, 4*k], reps = 2)\n",
    "     \n",
    "    x = GlobalAveragePooling2D()(x)\n",
    "    x = Dropout(0.4)(x)\n",
    "    \n",
    "    output = Dense(output_neurons, output_activation)(x)\n",
    "    \n",
    "    model = Model(inputs = input, outputs = output)    \n",
    "    \n",
    "    return model"
   ]
  },
  {
   "cell_type": "markdown",
   "metadata": {},
   "source": [
    "# Choose Model Architecture"
   ]
  },
  {
   "cell_type": "code",
   "execution_count": null,
   "metadata": {},
   "outputs": [],
   "source": [
    "h = int(input(\"Image Dimension(H or W): \"))\n",
    "w = h\n",
    "dim = (h,w,3)"
   ]
  },
  {
   "cell_type": "code",
   "execution_count": null,
   "metadata": {},
   "outputs": [],
   "source": [
    "output_neurons = int(input(\"Number of classes: \"))\n",
    "\n",
    "if output_neurons > 1:\n",
    "    output_activation = 'softmax'\n",
    "else:\n",
    "    output_activation = 'sigmoid'"
   ]
  },
  {
   "cell_type": "code",
   "execution_count": null,
   "metadata": {},
   "outputs": [],
   "source": [
    "print(\"Press 1 for classical_cnn\")\n",
    "print(\"Press 2 for mobile_inception\")\n",
    "\n",
    "model_select = int(input(\"\\nChoose model: \"))\n",
    "\n",
    "if model_select == 1:\n",
    "    model = classical_cnn(dim, output_neurons, output_activation)\n",
    "if model_select == 2:\n",
    "    model = mobile_inception(dim, output_neurons, output_activation)"
   ]
  },
  {
   "cell_type": "markdown",
   "metadata": {},
   "source": [
    "# Summary"
   ]
  },
  {
   "cell_type": "code",
   "execution_count": null,
   "metadata": {},
   "outputs": [],
   "source": [
    "model.summary()"
   ]
  },
  {
   "cell_type": "code",
   "execution_count": null,
   "metadata": {},
   "outputs": [],
   "source": [
    "plot_model(\n",
    "    model,\n",
    "#     to_file=\"model.png\",\n",
    "    show_shapes=True,\n",
    "    show_dtype=False,\n",
    "    show_layer_names=True,\n",
    "    rankdir=\"TB\", # TB -> Vertical; LR -> Horizontal\n",
    "    expand_nested=False,\n",
    "    dpi=300,\n",
    ")"
   ]
  },
  {
   "cell_type": "code",
   "execution_count": null,
   "metadata": {},
   "outputs": [],
   "source": []
  }
 ],
 "metadata": {
  "kernelspec": {
   "display_name": "Python 3 (ipykernel)",
   "language": "python",
   "name": "python3"
  },
  "language_info": {
   "codemirror_mode": {
    "name": "ipython",
    "version": 3
   },
   "file_extension": ".py",
   "mimetype": "text/x-python",
   "name": "python",
   "nbconvert_exporter": "python",
   "pygments_lexer": "ipython3",
   "version": "3.8.5"
  }
 },
 "nbformat": 4,
 "nbformat_minor": 4
}
