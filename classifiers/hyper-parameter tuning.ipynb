{
 "cells": [
  {
   "cell_type": "markdown",
   "metadata": {},
   "source": [
    "# Import Libraries"
   ]
  },
  {
   "cell_type": "code",
   "execution_count": 1,
   "metadata": {},
   "outputs": [],
   "source": [
    "# for creating neural network architecture\n",
    "import tensorflow as tf\n",
    "from tensorflow.keras.optimizers import Adam\n",
    "from tensorflow.keras.preprocessing.image import ImageDataGenerator\n",
    "from tensorflow.keras.regularizers import l2\n",
    "from tensorflow.keras.layers import *\n",
    "from tensorflow.keras.models import *\n",
    "\n",
    "# for image processing\n",
    "import cv2\n",
    "import numpy as np\n",
    "\n",
    "# for dataset management\n",
    "import os, shutil\n",
    "\n",
    "# for time management\n",
    "from tqdm import tqdm"
   ]
  },
  {
   "cell_type": "markdown",
   "metadata": {},
   "source": [
    "# Setting up hardware"
   ]
  },
  {
   "cell_type": "code",
   "execution_count": 2,
   "metadata": {},
   "outputs": [
    {
     "name": "stdout",
     "output_type": "stream",
     "text": [
      "Using GPU\n"
     ]
    }
   ],
   "source": [
    "physical_devices = tf.config.experimental.list_physical_devices('GPU')\n",
    "\n",
    "if physical_devices != []:\n",
    "    print(\"Using GPU\")\n",
    "    for i in physical_devices:\n",
    "        tf.config.experimental.set_memory_growth(i, True)\n",
    "else:\n",
    "    print(\"Using CPU\")\n",
    "    pass"
   ]
  },
  {
   "cell_type": "markdown",
   "metadata": {
    "id": "QzGbeafozkGs"
   },
   "source": [
    "# Load Dataset"
   ]
  },
  {
   "cell_type": "code",
   "execution_count": 3,
   "metadata": {},
   "outputs": [
    {
     "name": "stdout",
     "output_type": "stream",
     "text": [
      "Path where 'classify train' directory belongs: /mnt/335fff25-d210-4fe2-8249-4ba8b4a17ce4/DATASETS/Shrabana/cov-cxr\n"
     ]
    }
   ],
   "source": [
    "root_dir = str(input(\"Path where 'classify train' directory belongs: \"))\n",
    "classify_train = os.path.join(root_dir, 'classify train')\n",
    "\n",
    "train_directory = os.path.join(classify_train, 'training')\n",
    "validation_directory = os.path.join(classify_train, 'validation')\n",
    "test_directory = os.path.join(classify_train, 'testing')"
   ]
  },
  {
   "cell_type": "markdown",
   "metadata": {
    "id": "Oi5aeVdf0nD1"
   },
   "source": [
    "# Callbacks"
   ]
  },
  {
   "cell_type": "code",
   "execution_count": 4,
   "metadata": {
    "id": "gEhGM2Mf0jrW"
   },
   "outputs": [],
   "source": [
    "learning_rate = 0.001\n",
    "steps = 1 # change steps to 1 to apply exponential decay\n",
    "\n",
    "def lr_schedule(epoch):\n",
    "    return learning_rate * (0.1 ** int(epoch / steps))\n",
    "\n",
    "\n",
    "callback = [tf.keras.callbacks.LearningRateScheduler(lr_schedule, verbose = 1),\n",
    "            tf.keras.callbacks.EarlyStopping(monitor = 'loss', min_delta = 0.001, patience = 10, verbose = 1, mode = \"min\")]"
   ]
  },
  {
   "cell_type": "markdown",
   "metadata": {},
   "source": [
    "# Generator"
   ]
  },
  {
   "cell_type": "code",
   "execution_count": 5,
   "metadata": {},
   "outputs": [
    {
     "name": "stdout",
     "output_type": "stream",
     "text": [
      "This is a 3-Class Classification\n"
     ]
    }
   ],
   "source": [
    "class_no = len(os.listdir(train_directory))\n",
    "\n",
    "print(\"This is a \" + str(class_no) + \"-Class Classification\")\n",
    "\n",
    "if class_no <= 2:\n",
    "    class_mode = 'binary'\n",
    "    output_activation = 'sigmoid'\n",
    "    output_neurons = 1\n",
    "    losses = 'binary_crossentropy'\n",
    "\n",
    "else:\n",
    "    class_mode = 'categorical'\n",
    "    output_activation = 'softmax'\n",
    "    output_neurons = class_no\n",
    "    losses = 'categorical_crossentropy'"
   ]
  },
  {
   "cell_type": "code",
   "execution_count": 6,
   "metadata": {},
   "outputs": [
    {
     "name": "stdout",
     "output_type": "stream",
     "text": [
      "Image Dimension(H or W): 128\n",
      "Press 1 for RGB \n",
      "Press 2 for Grayscale 1\n"
     ]
    }
   ],
   "source": [
    "h = int(input(\"Image Dimension(H or W): \"))\n",
    "w = h\n",
    "target_size = (h,w)\n",
    "color = int(input(\"Press 1 for RGB \\nPress 2 for Grayscale \"))\n",
    "if color == 1:\n",
    "    color_mode = 'rgb'\n",
    "    dim = (h,w,3)\n",
    "elif color == 2:\n",
    "    color_mode = 'grayscale'\n",
    "    dim = (h,w,1)"
   ]
  },
  {
   "cell_type": "markdown",
   "metadata": {
    "id": "_EUR7sE87_73"
   },
   "source": [
    "# Model Architecture"
   ]
  },
  {
   "cell_type": "code",
   "execution_count": 7,
   "metadata": {},
   "outputs": [
    {
     "name": "stdout",
     "output_type": "stream",
     "text": [
      "Dense with activation + Dropout for desnse layer = 1 dense layer \n",
      "How many of such dense layers you want to use ? 0\n",
      "Enter no.of neurons you want to use in 1st dense layer: 0\n",
      "Enter dropout rate for dense layer: 0\n"
     ]
    }
   ],
   "source": [
    "no_d_layers = int(input('Dense with activation + Dropout for desnse layer = 1 dense layer \\nHow many of such dense layers you want to use ? '))\n",
    "d_neurons = int(input('Enter no.of neurons you want to use in 1st dense layer: '))\n",
    "d_dropout = int(input('Enter dropout rate for dense layer: '))/100"
   ]
  },
  {
   "cell_type": "markdown",
   "metadata": {},
   "source": [
    "**Don't put user inputs inside the function below as it'll be called multiple times inside a loop**"
   ]
  },
  {
   "cell_type": "code",
   "execution_count": 8,
   "metadata": {
    "id": "n8uVqhyq7_nd"
   },
   "outputs": [],
   "source": [
    "def DenseNet121():\n",
    "    print(\"\\nTRAINING ON DenseNet121 MODEL:-\")\n",
    "    \n",
    "    base_model = tf.keras.applications.DenseNet121(input_shape = dim, weights = 'imagenet', include_top = False)\n",
    "\n",
    "    x = base_model.output\n",
    "    \n",
    "    x = GlobalAveragePooling2D()(x)\n",
    "    \n",
    "    m, n = 0, 0\n",
    "    for d in range(no_d_layers):\n",
    "        m = 2**d\n",
    "        n = d_neurons//m\n",
    "        x = Dense(n, kernel_regularizer=l2(lambd), bias_regularizer=l2(lambd))(x)\n",
    "        x = LeakyReLU()(x)\n",
    "        x = Dropout(d_dropout)(x)\n",
    "        x = BatchNormalization()(x)\n",
    "    \n",
    "    predictions = Dense(output_neurons, activation = output_activation)(x)  \n",
    "\n",
    "    model = Model(inputs = base_model.input, outputs=predictions)\n",
    "\n",
    "    train_base_model = str(input(\"Do you want to extract features using DenseNet121?(Y/N) \"))\n",
    "    if train_base_model.upper() == 'Y':\n",
    "        for layer in base_model.layers:\n",
    "            layer.trainable = True\n",
    "    elif train_base_model.upper() == 'N':\n",
    "        for layer in base_model.layers:\n",
    "            layer.trainable = False\n",
    "\n",
    "    return model"
   ]
  },
  {
   "cell_type": "markdown",
   "metadata": {},
   "source": [
    "# Research"
   ]
  },
  {
   "cell_type": "code",
   "execution_count": 9,
   "metadata": {},
   "outputs": [
    {
     "name": "stdout",
     "output_type": "stream",
     "text": [
      "Using how many lambdas you want to train with ? 1\n",
      "Enter 1 lambda value/values consecutively:\n",
      "Enter lambda value: 0.00001\n",
      "Enter how many batches you want to use: 1\n",
      "Enter 1 batch no. consecutively:\n",
      "Enter batch size: 8\n"
     ]
    }
   ],
   "source": [
    "epoch = 100\n",
    "\n",
    "lambd_list = []\n",
    "lambd_no = int(input('Using how many lambdas you want to train with ? '))\n",
    "print('Enter {} lambda value/values consecutively:'.format(lambd_no))\n",
    "for i in range(lambd_no): \n",
    "    lambd = float(input('Enter lambda value: '))\n",
    "    lambd_list.append(lambd)\n",
    "\n",
    "batch_list = []\n",
    "batch_no = int(input(\"Enter how many batches you want to use: \"))\n",
    "print('Enter {} batch no. consecutively:'.format(batch_no))\n",
    "for j in range(batch_no):\n",
    "    b_size = int(input('Enter batch size: '))\n",
    "    batch_list.append(b_size)"
   ]
  },
  {
   "cell_type": "code",
   "execution_count": 10,
   "metadata": {},
   "outputs": [
    {
     "name": "stdout",
     "output_type": "stream",
     "text": [
      "Found 8591 images belonging to 3 classes.\n",
      "Found 399 images belonging to 3 classes.\n",
      "Found 1995 images belonging to 3 classes.\n",
      "\n",
      "TRAINING ON DenseNet121 MODEL:-\n",
      "Do you want to extract features using DenseNet121?(Y/N) y\n",
      "\n",
      "************ for lambda = 1e-05************\n",
      "\n",
      "Epoch 1/100\n",
      "\n",
      "Epoch 00001: LearningRateScheduler reducing learning rate to 0.001.\n",
      "1074/1074 [==============================] - 91s 73ms/step - loss: 0.4479 - accuracy: 0.8538 - true_positives: 3766.5526 - true_negatives: 8113.0102 - false_positives: 494.6530 - false_negatives: 537.2791 - val_loss: 0.1680 - val_accuracy: 0.9398 - val_true_positives: 375.0000 - val_true_negatives: 774.0000 - val_false_positives: 24.0000 - val_false_negatives: 24.0000\n",
      "Epoch 2/100\n",
      "\n",
      "Epoch 00002: LearningRateScheduler reducing learning rate to 0.0001.\n",
      "1074/1074 [==============================] - 78s 73ms/step - loss: 0.1132 - accuracy: 0.9605 - true_positives: 4148.3823 - true_negatives: 8457.0912 - false_positives: 149.9023 - false_negatives: 155.1144 - val_loss: 0.0305 - val_accuracy: 0.9950 - val_true_positives: 396.0000 - val_true_negatives: 796.0000 - val_false_positives: 2.0000 - val_false_negatives: 3.0000\n",
      "Epoch 3/100\n",
      "\n",
      "Epoch 00003: LearningRateScheduler reducing learning rate to 1.0000000000000003e-05.\n",
      "1074/1074 [==============================] - 78s 73ms/step - loss: 0.0467 - accuracy: 0.9861 - true_positives: 4240.7330 - true_negatives: 8548.1060 - false_positives: 59.4977 - false_negatives: 63.0688 - val_loss: 0.0299 - val_accuracy: 0.9900 - val_true_positives: 395.0000 - val_true_negatives: 794.0000 - val_false_positives: 4.0000 - val_false_negatives: 4.0000\n",
      "Epoch 4/100\n",
      "\n",
      "Epoch 00004: LearningRateScheduler reducing learning rate to 1.0000000000000002e-06.\n",
      "1074/1074 [==============================] - 76s 71ms/step - loss: 0.0502 - accuracy: 0.9839 - true_positives: 4236.7433 - true_negatives: 8540.2977 - false_positives: 66.8112 - false_negatives: 66.8112 - val_loss: 0.0293 - val_accuracy: 0.9900 - val_true_positives: 395.0000 - val_true_negatives: 794.0000 - val_false_positives: 4.0000 - val_false_negatives: 4.0000\n",
      "Epoch 5/100\n",
      "\n",
      "Epoch 00005: LearningRateScheduler reducing learning rate to 1.0000000000000002e-07.\n",
      "1074/1074 [==============================] - 77s 71ms/step - loss: 0.0449 - accuracy: 0.9861 - true_positives: 4242.7888 - true_negatives: 8548.0419 - false_positives: 59.3219 - false_negatives: 60.8930 - val_loss: 0.0300 - val_accuracy: 0.9900 - val_true_positives: 395.0000 - val_true_negatives: 794.0000 - val_false_positives: 4.0000 - val_false_negatives: 4.0000\n",
      "Epoch 6/100\n",
      "\n",
      "Epoch 00006: LearningRateScheduler reducing learning rate to 1.0000000000000004e-08.\n",
      "1074/1074 [==============================] - 79s 73ms/step - loss: 0.0391 - accuracy: 0.9898 - true_positives: 4256.1135 - true_negatives: 8559.9460 - false_positives: 47.6577 - false_negatives: 47.6884 - val_loss: 0.0286 - val_accuracy: 0.9900 - val_true_positives: 395.0000 - val_true_negatives: 794.0000 - val_false_positives: 4.0000 - val_false_negatives: 4.0000\n",
      "Epoch 7/100\n",
      "\n",
      "Epoch 00007: LearningRateScheduler reducing learning rate to 1.0000000000000005e-09.\n",
      "1074/1074 [==============================] - 76s 70ms/step - loss: 0.0445 - accuracy: 0.9860 - true_positives: 4241.4577 - true_negatives: 8547.1172 - false_positives: 60.5088 - false_negatives: 62.3553 - val_loss: 0.0285 - val_accuracy: 0.9900 - val_true_positives: 395.0000 - val_true_negatives: 794.0000 - val_false_positives: 4.0000 - val_false_negatives: 4.0000\n",
      "Epoch 8/100\n",
      "\n",
      "Epoch 00008: LearningRateScheduler reducing learning rate to 1.0000000000000004e-10.\n",
      "1074/1074 [==============================] - 75s 70ms/step - loss: 0.0402 - accuracy: 0.9878 - true_positives: 4245.7451 - true_negatives: 8550.7581 - false_positives: 56.6726 - false_negatives: 57.9702 - val_loss: 0.0295 - val_accuracy: 0.9900 - val_true_positives: 395.0000 - val_true_negatives: 794.0000 - val_false_positives: 4.0000 - val_false_negatives: 4.0000\n",
      "Epoch 9/100\n",
      "\n",
      "Epoch 00009: LearningRateScheduler reducing learning rate to 1.0000000000000006e-11.\n",
      "1074/1074 [==============================] - 77s 72ms/step - loss: 0.0488 - accuracy: 0.9864 - true_positives: 4245.3209 - true_negatives: 8549.7870 - false_positives: 56.4456 - false_negatives: 57.7953 - val_loss: 0.0299 - val_accuracy: 0.9900 - val_true_positives: 395.0000 - val_true_negatives: 794.0000 - val_false_positives: 4.0000 - val_false_negatives: 4.0000\n",
      "Epoch 10/100\n",
      "\n",
      "Epoch 00010: LearningRateScheduler reducing learning rate to 1.0000000000000006e-12.\n",
      "1074/1074 [==============================] - 76s 71ms/step - loss: 0.0475 - accuracy: 0.9842 - true_positives: 4238.0028 - true_negatives: 8543.5572 - false_positives: 63.8195 - false_negatives: 65.6856 - val_loss: 0.0289 - val_accuracy: 0.9900 - val_true_positives: 395.0000 - val_true_negatives: 794.0000 - val_false_positives: 4.0000 - val_false_negatives: 4.0000\n",
      "Epoch 11/100\n",
      "\n",
      "Epoch 00011: LearningRateScheduler reducing learning rate to 1.0000000000000005e-13.\n",
      "1074/1074 [==============================] - 77s 71ms/step - loss: 0.0416 - accuracy: 0.9893 - true_positives: 4255.5405 - true_negatives: 8560.1395 - false_positives: 47.2074 - false_negatives: 48.1330 - val_loss: 0.0294 - val_accuracy: 0.9900 - val_true_positives: 395.0000 - val_true_negatives: 794.0000 - val_false_positives: 4.0000 - val_false_negatives: 4.0000\n",
      "Epoch 12/100\n",
      "\n",
      "Epoch 00012: LearningRateScheduler reducing learning rate to 1.0000000000000006e-14.\n",
      "1074/1074 [==============================] - 76s 70ms/step - loss: 0.0442 - accuracy: 0.9866 - true_positives: 4244.4567 - true_negatives: 8551.9898 - false_positives: 55.5860 - false_negatives: 59.3312 - val_loss: 0.0285 - val_accuracy: 0.9900 - val_true_positives: 395.0000 - val_true_negatives: 794.0000 - val_false_positives: 4.0000 - val_false_negatives: 4.0000\n",
      "Epoch 13/100\n",
      "\n",
      "Epoch 00013: LearningRateScheduler reducing learning rate to 1.0000000000000007e-15.\n",
      "1074/1074 [==============================] - 74s 69ms/step - loss: 0.0464 - accuracy: 0.9852 - true_positives: 4242.2056 - true_negatives: 8547.6140 - false_positives: 58.3898 - false_negatives: 60.7963 - val_loss: 0.0289 - val_accuracy: 0.9900 - val_true_positives: 395.0000 - val_true_negatives: 794.0000 - val_false_positives: 4.0000 - val_false_negatives: 4.0000\n",
      "Epoch 14/100\n",
      "\n",
      "Epoch 00014: LearningRateScheduler reducing learning rate to 1.0000000000000007e-16.\n",
      "1074/1074 [==============================] - 74s 69ms/step - loss: 0.0483 - accuracy: 0.9832 - true_positives: 4232.8837 - true_negatives: 8538.1879 - false_positives: 69.0474 - false_negatives: 70.7340 - val_loss: 0.0288 - val_accuracy: 0.9900 - val_true_positives: 395.0000 - val_true_negatives: 794.0000 - val_false_positives: 4.0000 - val_false_negatives: 4.0000\n",
      "Epoch 15/100\n",
      "\n",
      "Epoch 00015: LearningRateScheduler reducing learning rate to 1.0000000000000008e-17.\n",
      "1074/1074 [==============================] - 75s 70ms/step - loss: 0.0394 - accuracy: 0.9898 - true_positives: 4255.0093 - true_negatives: 8559.7014 - false_positives: 46.7209 - false_negatives: 48.2019 - val_loss: 0.0283 - val_accuracy: 0.9900 - val_true_positives: 395.0000 - val_true_negatives: 794.0000 - val_false_positives: 4.0000 - val_false_negatives: 4.0000\n",
      "Epoch 16/100\n",
      "\n",
      "Epoch 00016: LearningRateScheduler reducing learning rate to 1.0000000000000008e-18.\n",
      "1074/1074 [==============================] - 76s 71ms/step - loss: 0.0517 - accuracy: 0.9842 - true_positives: 4235.8307 - true_negatives: 8542.2056 - false_positives: 63.9470 - false_negatives: 67.2456 - val_loss: 0.0295 - val_accuracy: 0.9900 - val_true_positives: 395.0000 - val_true_negatives: 794.0000 - val_false_positives: 4.0000 - val_false_negatives: 4.0000\n",
      "Epoch 17/100\n",
      "\n",
      "Epoch 00017: LearningRateScheduler reducing learning rate to 1.0000000000000008e-19.\n",
      "1074/1074 [==============================] - 78s 72ms/step - loss: 0.0367 - accuracy: 0.9906 - true_positives: 4255.7740 - true_negatives: 8560.1684 - false_positives: 46.3972 - false_negatives: 47.5088 - val_loss: 0.0292 - val_accuracy: 0.9900 - val_true_positives: 395.0000 - val_true_negatives: 794.0000 - val_false_positives: 4.0000 - val_false_negatives: 4.0000\n",
      "Epoch 18/100\n",
      "\n",
      "Epoch 00018: LearningRateScheduler reducing learning rate to 1.000000000000001e-20.\n"
     ]
    },
    {
     "name": "stdout",
     "output_type": "stream",
     "text": [
      "1074/1074 [==============================] - 77s 71ms/step - loss: 0.0387 - accuracy: 0.9867 - true_positives: 4244.9712 - true_negatives: 8548.9609 - false_positives: 57.2437 - false_negatives: 58.1312 - val_loss: 0.0287 - val_accuracy: 0.9900 - val_true_positives: 395.0000 - val_true_negatives: 794.0000 - val_false_positives: 4.0000 - val_false_negatives: 4.0000\n",
      "Epoch 19/100\n",
      "\n",
      "Epoch 00019: LearningRateScheduler reducing learning rate to 1.000000000000001e-21.\n",
      "1074/1074 [==============================] - 76s 71ms/step - loss: 0.0375 - accuracy: 0.9896 - true_positives: 4256.3256 - true_negatives: 8560.9730 - false_positives: 46.7144 - false_negatives: 47.5181 - val_loss: 0.0294 - val_accuracy: 0.9900 - val_true_positives: 395.0000 - val_true_negatives: 794.0000 - val_false_positives: 4.0000 - val_false_negatives: 4.0000\n",
      "Epoch 20/100\n",
      "\n",
      "Epoch 00020: LearningRateScheduler reducing learning rate to 1.0000000000000011e-22.\n",
      "1074/1074 [==============================] - 76s 71ms/step - loss: 0.0407 - accuracy: 0.9857 - true_positives: 4242.5786 - true_negatives: 8546.0372 - false_positives: 60.8800 - false_negatives: 60.8800 - val_loss: 0.0293 - val_accuracy: 0.9900 - val_true_positives: 395.0000 - val_true_negatives: 794.0000 - val_false_positives: 4.0000 - val_false_negatives: 4.0000\n",
      "Epoch 21/100\n",
      "\n",
      "Epoch 00021: LearningRateScheduler reducing learning rate to 1.0000000000000011e-23.\n",
      "1074/1074 [==============================] - 77s 72ms/step - loss: 0.0398 - accuracy: 0.9881 - true_positives: 4250.2140 - true_negatives: 8554.7693 - false_positives: 52.8493 - false_negatives: 53.5953 - val_loss: 0.0290 - val_accuracy: 0.9900 - val_true_positives: 395.0000 - val_true_negatives: 794.0000 - val_false_positives: 4.0000 - val_false_negatives: 4.0000\n",
      "Epoch 22/100\n",
      "\n",
      "Epoch 00022: LearningRateScheduler reducing learning rate to 1.0000000000000012e-24.\n",
      "1074/1074 [==============================] - 78s 72ms/step - loss: 0.0451 - accuracy: 0.9851 - true_positives: 4239.0940 - true_negatives: 8542.8540 - false_positives: 63.3953 - false_negatives: 64.0307 - val_loss: 0.0289 - val_accuracy: 0.9900 - val_true_positives: 395.0000 - val_true_negatives: 794.0000 - val_false_positives: 4.0000 - val_false_negatives: 4.0000\n",
      "Epoch 23/100\n",
      "\n",
      "Epoch 00023: LearningRateScheduler reducing learning rate to 1.0000000000000013e-25.\n",
      "1074/1074 [==============================] - 76s 71ms/step - loss: 0.0382 - accuracy: 0.9882 - true_positives: 4250.3116 - true_negatives: 8557.7247 - false_positives: 48.6251 - false_negatives: 52.8633 - val_loss: 0.0291 - val_accuracy: 0.9900 - val_true_positives: 395.0000 - val_true_negatives: 794.0000 - val_false_positives: 4.0000 - val_false_negatives: 4.0000\n",
      "Epoch 24/100\n",
      "\n",
      "Epoch 00024: LearningRateScheduler reducing learning rate to 1.0000000000000013e-26.\n",
      "1074/1074 [==============================] - 76s 71ms/step - loss: 0.0437 - accuracy: 0.9855 - true_positives: 4244.3237 - true_negatives: 8552.4819 - false_positives: 54.3460 - false_negatives: 59.0902 - val_loss: 0.0288 - val_accuracy: 0.9900 - val_true_positives: 395.0000 - val_true_negatives: 794.0000 - val_false_positives: 4.0000 - val_false_negatives: 4.0000\n",
      "Epoch 25/100\n",
      "\n",
      "Epoch 00025: LearningRateScheduler reducing learning rate to 1.0000000000000015e-27.\n",
      "1074/1074 [==============================] - 76s 71ms/step - loss: 0.0550 - accuracy: 0.9857 - true_positives: 4239.3228 - true_negatives: 8544.4837 - false_positives: 62.5879 - false_negatives: 64.2130 - val_loss: 0.0286 - val_accuracy: 0.9900 - val_true_positives: 395.0000 - val_true_negatives: 794.0000 - val_false_positives: 4.0000 - val_false_negatives: 4.0000\n",
      "Epoch 00025: early stopping\n"
     ]
    },
    {
     "data": {
      "image/png": "[encoded data removed]",
      "text/plain": [
       "<Figure size 432x288 with 1 Axes>"
      ]
     },
     "metadata": {
      "needs_background": "light"
     },
     "output_type": "display_data"
    },
    {
     "data": {
      "image/png": "[encoded data removed]",
      "text/plain": [
       "<Figure size 432x288 with 1 Axes>"
      ]
     },
     "metadata": {
      "needs_background": "light"
     },
     "output_type": "display_data"
    },
    {
     "name": "stdout",
     "output_type": "stream",
     "text": [
      "Training accuracy: 0.9932487607002258\n",
      "Validation accuracy: 0.9899749159812927\n",
      "Blind test accuracy: 0.9754385948181152\n",
      "Sensitivity: 97.4937343358396\n",
      "Specificity: 98.7719298245614\n"
     ]
    }
   ],
   "source": [
    "# iterate over batch sizes\n",
    "for batch_size in batch_list: \n",
    "    train_datagen = ImageDataGenerator(rescale=1.0/255.0)\n",
    "    train_generator = train_datagen.flow_from_directory(train_directory,\n",
    "                                                        batch_size = batch_size,\n",
    "                                                        class_mode = class_mode,\n",
    "                                                        target_size = target_size)\n",
    "\n",
    "    val_datagen = ImageDataGenerator(rescale=1.0/255.0)\n",
    "    validation_generator = val_datagen.flow_from_directory(validation_directory,\n",
    "                                                        batch_size = batch_size,\n",
    "                                                        class_mode = class_mode,\n",
    "                                                        target_size = target_size)\n",
    "\n",
    "    test_datagen = ImageDataGenerator(rescale=1.0/255.0)\n",
    "    test_generator = test_datagen.flow_from_directory(test_directory,\n",
    "                                                        batch_size = batch_size,\n",
    "                                                        class_mode = class_mode,\n",
    "                                                        target_size = target_size)\n",
    "    \n",
    "    # iterate over lambdas\n",
    "    for lambd in lambd_list:\n",
    "        model = DenseNet121()\n",
    "        \n",
    "        # COMPILE\n",
    "        loss = 'categorical_crossentropy'\n",
    "        optimizer = tf.keras.optimizers.Adam(learning_rate = learning_rate, beta_1 = 0.9, beta_2 = 0.999, amsgrad = False)\n",
    "        model.compile(loss = loss,\n",
    "                    optimizer = optimizer,\n",
    "                    metrics=['accuracy',\n",
    "                    tf.keras.metrics.TruePositives(), \n",
    "                    tf.keras.metrics.TrueNegatives(), \n",
    "                    tf.keras.metrics.FalsePositives(),\n",
    "                    tf.keras.metrics.FalseNegatives()])\n",
    "\n",
    "        print ('\\n************ for lambda = {}************\\n'.format(lambd))\n",
    "\n",
    "        # FIT\n",
    "        history = model.fit(train_generator,\n",
    "                        epochs = epoch,\n",
    "                        verbose = 1,\n",
    "                        callbacks = callback,\n",
    "                        validation_data = validation_generator,\n",
    "                        shuffle = True)\n",
    "\n",
    "        # PLOT\n",
    "        acc = history.history['accuracy']\n",
    "        val_acc = history.history['val_accuracy']\n",
    "        loss = history.history['loss']\n",
    "        val_loss = history.history['val_loss']\n",
    "        epochs = range(len(acc))\n",
    "        import matplotlib.pyplot as plt\n",
    "        \n",
    "        # Accuracy vs Epochs\n",
    "        plt.plot(epochs, acc, 'r', label='Training Accuracy')\n",
    "        plt.plot(epochs, val_acc, 'b', label='Validation Accuracy')\n",
    "        plt.xlabel(\"Epochs\")\n",
    "        plt.ylabel(\"Accuracy\")\n",
    "        plt.title('Training and validation accuracy vs Epochs')\n",
    "        plt.legend()\n",
    "        plt.show()\n",
    "        \n",
    "        # Loss vs Epochs\n",
    "        plt.plot(epochs, loss, 'r', label=\"Training Loss\")\n",
    "        plt.plot(epochs, val_loss, 'b', label=\"Validation Loss\")\n",
    "        plt.xlabel(\"Epochs\")\n",
    "        plt.ylabel(\"Loss\")\n",
    "        plt.title('Training and validation loss vs Epochs')\n",
    "        plt.legend()\n",
    "        plt.show()\n",
    "\n",
    "        # ACCURACIES\n",
    "        print(\"Training accuracy: {}\".format(model.evaluate(train_generator, verbose=0)[1]))\n",
    "        print(\"Validation accuracy: {}\".format(model.evaluate(validation_generator, verbose=0)[1]))\n",
    "        print(\"Blind test accuracy: {}\".format(model.evaluate(test_generator, verbose=0)[1]))\n",
    "        tp = int(model.evaluate(test_generator, verbose=0)[2])\n",
    "        tn = int(model.evaluate(test_generator, verbose=0)[3])\n",
    "        fp = int(model.evaluate(test_generator, verbose=0)[4])\n",
    "        fn = int(model.evaluate(test_generator, verbose=0)[5])\n",
    "        sensitivity = (tp/(tp+fn))*100\n",
    "        specificity = (tn/(tn+fp))*100\n",
    "        print(\"Sensitivity: {}\".format(sensitivity))\n",
    "        print(\"Specificity: {}\".format(specificity))"
   ]
  },
  {
   "cell_type": "code",
   "execution_count": null,
   "metadata": {},
   "outputs": [],
   "source": []
  }
 ],
 "metadata": {
  "accelerator": "GPU",
  "colab": {
   "collapsed_sections": [],
   "name": "Respiratory.ipynb",
   "provenance": [],
   "toc_visible": true
  },
  "kernelspec": {
   "display_name": "Python 3",
   "language": "python",
   "name": "python3"
  },
  "language_info": {
   "codemirror_mode": {
    "name": "ipython",
    "version": 3
   },
   "file_extension": ".py",
   "mimetype": "text/x-python",
   "name": "python",
   "nbconvert_exporter": "python",
   "pygments_lexer": "ipython3",
   "version": "3.8.5"
  }
 },
 "nbformat": 4,
 "nbformat_minor": 1
}
